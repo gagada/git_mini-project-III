{
 "cells": [
  {
   "cell_type": "markdown",
   "metadata": {},
   "source": [
    "## Mini Project III"
   ]
  },
  {
   "cell_type": "code",
   "execution_count": 363,
   "metadata": {},
   "outputs": [],
   "source": [
    "import pandas as pd\n",
    "import numpy as np\n",
    "import matplotlib.pyplot as plt\n",
    "import plotly.express as px\n",
    "\n",
    "# set figure size\n",
    "plt.rcParams[\"figure.figsize\"] = (12,6)\n",
    "\n",
    "from sklearn.cluster import KMeans\n",
    "from sklearn.decomposition import PCA\n",
    "from sklearn.preprocessing import scale, normalize, StandardScaler, MinMaxScaler"
   ]
  },
  {
   "cell_type": "markdown",
   "metadata": {},
   "source": [
    "### Based on Banking Behavior ### "
   ]
  },
  {
   "cell_type": "raw",
   "metadata": {},
   "source": [
    "* Do they have savings account? How much do they save?\n",
    "* Do they have credit account? How much do they live in debt?\n",
    "* Are they making lot of small transactions or few huge ones?"
   ]
  },
  {
   "cell_type": "code",
   "execution_count": 364,
   "metadata": {},
   "outputs": [],
   "source": [
    "#Savings Data\n",
    "data_savings_acc = data = pd.read_csv(\"twm_savings_acct.csv\", delimiter=';')\n",
    "data_savings_tran = data = pd.read_csv(\"twm_savings_tran.csv\", delimiter=';')\n",
    "\n",
    "#Credit Data\n",
    "data_credit_acc = data = pd.read_csv(\"twm_credit_acct.csv\", delimiter=';')\n",
    "data_credit_tran = data = pd.read_csv(\"twm_credit_acct.csv\", delimiter=';')\n",
    "\n",
    "#Total Transaction Data\n",
    "transaction_data = data = pd.read_csv(\"twm_transactions.csv\", delimiter=';')\n",
    "\n",
    "#Accounts Data\n",
    "account_data = data = pd.read_csv(\"twm_accounts.csv\", delimiter=';')\n",
    "\n",
    "#Customer Data\n",
    "customer_data = pd.read_csv(\"twm_customer.csv\", delimiter=';')"
   ]
  },
  {
   "cell_type": "code",
   "execution_count": 365,
   "metadata": {},
   "outputs": [
    {
     "data": {
      "text/html": [
       "<div>\n",
       "<style scoped>\n",
       "    .dataframe tbody tr th:only-of-type {\n",
       "        vertical-align: middle;\n",
       "    }\n",
       "\n",
       "    .dataframe tbody tr th {\n",
       "        vertical-align: top;\n",
       "    }\n",
       "\n",
       "    .dataframe thead th {\n",
       "        text-align: right;\n",
       "    }\n",
       "</style>\n",
       "<table border=\"1\" class=\"dataframe\">\n",
       "  <thead>\n",
       "    <tr style=\"text-align: right;\">\n",
       "      <th></th>\n",
       "      <th>avg_tran_amt</th>\n",
       "    </tr>\n",
       "    <tr>\n",
       "      <th>acct_nbr</th>\n",
       "      <th></th>\n",
       "    </tr>\n",
       "  </thead>\n",
       "  <tbody>\n",
       "    <tr>\n",
       "      <th>13624802</th>\n",
       "      <td>-2.474646</td>\n",
       "    </tr>\n",
       "    <tr>\n",
       "      <th>13624803</th>\n",
       "      <td>18.550769</td>\n",
       "    </tr>\n",
       "  </tbody>\n",
       "</table>\n",
       "</div>"
      ],
      "text/plain": [
       "          avg_tran_amt\n",
       "acct_nbr              \n",
       "13624802     -2.474646\n",
       "13624803     18.550769"
      ]
     },
     "execution_count": 365,
     "metadata": {},
     "output_type": "execute_result"
    }
   ],
   "source": [
    "#Filter average number of transaction per account number.\n",
    "filter_tran_df = transaction_data.groupby('acct_nbr')['tran_amt'].mean().to_frame()\n",
    "filter_tran_df = filter_tran_df.rename(columns={\"tran_amt\": \"avg_tran_amt\"})\n",
    "filter_tran_df.head(2)"
   ]
  },
  {
   "cell_type": "code",
   "execution_count": 366,
   "metadata": {},
   "outputs": [
    {
     "data": {
      "text/plain": [
       "avg_tran_amt    0\n",
       "dtype: int64"
      ]
     },
     "execution_count": 366,
     "metadata": {},
     "output_type": "execute_result"
    }
   ],
   "source": [
    "#No Missing Values\n",
    "filter_tran_df.isnull().sum()"
   ]
  },
  {
   "cell_type": "code",
   "execution_count": 367,
   "metadata": {},
   "outputs": [],
   "source": [
    "#Merge Tables\n",
    "filter_main_df = pd.merge(data_savings_acc,data_credit_acc[[\"cust_id\", \"starting_balance\",\"ending_balance\"]], left_on='cust_id', right_on='cust_id', how='outer')\n",
    "filter_main_df = pd.merge(filter_main_df,filter_tran_df[[\"avg_tran_amt\"]], left_on='acct_nbr', right_on='acct_nbr', how='outer')\n",
    "#Adding Income\n",
    "filter_main_df = pd.merge(filter_main_df,customer_data[[\"cust_id\",\"income\"]], left_on='cust_id', right_on='cust_id', how='outer')"
   ]
  },
  {
   "cell_type": "code",
   "execution_count": 368,
   "metadata": {},
   "outputs": [
    {
     "data": {
      "text/html": [
       "<div>\n",
       "<style scoped>\n",
       "    .dataframe tbody tr th:only-of-type {\n",
       "        vertical-align: middle;\n",
       "    }\n",
       "\n",
       "    .dataframe tbody tr th {\n",
       "        vertical-align: top;\n",
       "    }\n",
       "\n",
       "    .dataframe thead th {\n",
       "        text-align: right;\n",
       "    }\n",
       "</style>\n",
       "<table border=\"1\" class=\"dataframe\">\n",
       "  <thead>\n",
       "    <tr style=\"text-align: right;\">\n",
       "      <th></th>\n",
       "      <th>cust_id</th>\n",
       "      <th>acct_nbr</th>\n",
       "      <th>minimum_balance</th>\n",
       "      <th>acct_type</th>\n",
       "      <th>account_active</th>\n",
       "      <th>acct_start_date</th>\n",
       "      <th>acct_end_date</th>\n",
       "      <th>starting_balance_x</th>\n",
       "      <th>ending_balance_x</th>\n",
       "      <th>starting_balance_y</th>\n",
       "      <th>ending_balance_y</th>\n",
       "      <th>avg_tran_amt</th>\n",
       "      <th>income</th>\n",
       "    </tr>\n",
       "  </thead>\n",
       "  <tbody>\n",
       "    <tr>\n",
       "      <th>0</th>\n",
       "      <td>1363160.0</td>\n",
       "      <td>13631603.0</td>\n",
       "      <td>100.0</td>\n",
       "      <td>BS</td>\n",
       "      <td>Y</td>\n",
       "      <td>9.5.1988</td>\n",
       "      <td>NaN</td>\n",
       "      <td>113.04</td>\n",
       "      <td>122.54</td>\n",
       "      <td>657.46</td>\n",
       "      <td>286.69</td>\n",
       "      <td>0.197917</td>\n",
       "      <td>18548.0</td>\n",
       "    </tr>\n",
       "    <tr>\n",
       "      <th>1</th>\n",
       "      <td>1362487.0</td>\n",
       "      <td>13624873.0</td>\n",
       "      <td>500.0</td>\n",
       "      <td>MM</td>\n",
       "      <td>N</td>\n",
       "      <td>27.6.1994</td>\n",
       "      <td>25.8.1995</td>\n",
       "      <td>651.73</td>\n",
       "      <td>12.89</td>\n",
       "      <td>0.00</td>\n",
       "      <td>1548.23</td>\n",
       "      <td>-33.623158</td>\n",
       "      <td>6605.0</td>\n",
       "    </tr>\n",
       "    <tr>\n",
       "      <th>2</th>\n",
       "      <td>1362548.0</td>\n",
       "      <td>13625483.0</td>\n",
       "      <td>100.0</td>\n",
       "      <td>BS</td>\n",
       "      <td>Y</td>\n",
       "      <td>11.11.1986</td>\n",
       "      <td>NaN</td>\n",
       "      <td>250.24</td>\n",
       "      <td>254.02</td>\n",
       "      <td>6965.25</td>\n",
       "      <td>68.68</td>\n",
       "      <td>0.315000</td>\n",
       "      <td>44554.0</td>\n",
       "    </tr>\n",
       "    <tr>\n",
       "      <th>3</th>\n",
       "      <td>1362752.0</td>\n",
       "      <td>13627523.0</td>\n",
       "      <td>100.0</td>\n",
       "      <td>BS</td>\n",
       "      <td>Y</td>\n",
       "      <td>20.2.1995</td>\n",
       "      <td>NaN</td>\n",
       "      <td>600.26</td>\n",
       "      <td>609.33</td>\n",
       "      <td>2302.14</td>\n",
       "      <td>0.00</td>\n",
       "      <td>0.755833</td>\n",
       "      <td>47668.0</td>\n",
       "    </tr>\n",
       "    <tr>\n",
       "      <th>4</th>\n",
       "      <td>1363017.0</td>\n",
       "      <td>13630173.0</td>\n",
       "      <td>100.0</td>\n",
       "      <td>BS</td>\n",
       "      <td>N</td>\n",
       "      <td>27.4.1994</td>\n",
       "      <td>31.10.1995</td>\n",
       "      <td>2011.02</td>\n",
       "      <td>2901.35</td>\n",
       "      <td>0.00</td>\n",
       "      <td>1000.00</td>\n",
       "      <td>37.097083</td>\n",
       "      <td>0.0</td>\n",
       "    </tr>\n",
       "    <tr>\n",
       "      <th>...</th>\n",
       "      <td>...</td>\n",
       "      <td>...</td>\n",
       "      <td>...</td>\n",
       "      <td>...</td>\n",
       "      <td>...</td>\n",
       "      <td>...</td>\n",
       "      <td>...</td>\n",
       "      <td>...</td>\n",
       "      <td>...</td>\n",
       "      <td>...</td>\n",
       "      <td>...</td>\n",
       "      <td>...</td>\n",
       "      <td>...</td>\n",
       "    </tr>\n",
       "    <tr>\n",
       "      <th>416</th>\n",
       "      <td>1363141.0</td>\n",
       "      <td>13631413.0</td>\n",
       "      <td>100.0</td>\n",
       "      <td>BS</td>\n",
       "      <td>Y</td>\n",
       "      <td>11.11.1994</td>\n",
       "      <td>NaN</td>\n",
       "      <td>177.33</td>\n",
       "      <td>528.57</td>\n",
       "      <td>NaN</td>\n",
       "      <td>NaN</td>\n",
       "      <td>11.330323</td>\n",
       "      <td>18920.0</td>\n",
       "    </tr>\n",
       "    <tr>\n",
       "      <th>417</th>\n",
       "      <td>1363038.0</td>\n",
       "      <td>13630383.0</td>\n",
       "      <td>100.0</td>\n",
       "      <td>BS</td>\n",
       "      <td>Y</td>\n",
       "      <td>20.2.1995</td>\n",
       "      <td>NaN</td>\n",
       "      <td>333.53</td>\n",
       "      <td>508.26</td>\n",
       "      <td>0.00</td>\n",
       "      <td>1800.00</td>\n",
       "      <td>5.300303</td>\n",
       "      <td>36605.0</td>\n",
       "    </tr>\n",
       "    <tr>\n",
       "      <th>418</th>\n",
       "      <td>1362529.0</td>\n",
       "      <td>13625293.0</td>\n",
       "      <td>100.0</td>\n",
       "      <td>BS</td>\n",
       "      <td>Y</td>\n",
       "      <td>15.11.1992</td>\n",
       "      <td>NaN</td>\n",
       "      <td>662.06</td>\n",
       "      <td>873.14</td>\n",
       "      <td>1481.64</td>\n",
       "      <td>433.43</td>\n",
       "      <td>10.128571</td>\n",
       "      <td>43829.0</td>\n",
       "    </tr>\n",
       "    <tr>\n",
       "      <th>419</th>\n",
       "      <td>1362895.0</td>\n",
       "      <td>13628953.0</td>\n",
       "      <td>100.0</td>\n",
       "      <td>BS</td>\n",
       "      <td>Y</td>\n",
       "      <td>27.6.1995</td>\n",
       "      <td>NaN</td>\n",
       "      <td>169.96</td>\n",
       "      <td>96.25</td>\n",
       "      <td>0.00</td>\n",
       "      <td>1300.00</td>\n",
       "      <td>-2.632500</td>\n",
       "      <td>26387.0</td>\n",
       "    </tr>\n",
       "    <tr>\n",
       "      <th>420</th>\n",
       "      <td>1362855.0</td>\n",
       "      <td>13628553.0</td>\n",
       "      <td>100.0</td>\n",
       "      <td>BS</td>\n",
       "      <td>Y</td>\n",
       "      <td>21.3.1995</td>\n",
       "      <td>NaN</td>\n",
       "      <td>167.71</td>\n",
       "      <td>161.04</td>\n",
       "      <td>NaN</td>\n",
       "      <td>NaN</td>\n",
       "      <td>-0.215161</td>\n",
       "      <td>2289.0</td>\n",
       "    </tr>\n",
       "  </tbody>\n",
       "</table>\n",
       "<p>421 rows × 13 columns</p>\n",
       "</div>"
      ],
      "text/plain": [
       "       cust_id    acct_nbr  minimum_balance acct_type account_active  \\\n",
       "0    1363160.0  13631603.0            100.0      BS               Y    \n",
       "1    1362487.0  13624873.0            500.0      MM               N    \n",
       "2    1362548.0  13625483.0            100.0      BS               Y    \n",
       "3    1362752.0  13627523.0            100.0      BS               Y    \n",
       "4    1363017.0  13630173.0            100.0      BS               N    \n",
       "..         ...         ...              ...       ...            ...   \n",
       "416  1363141.0  13631413.0            100.0      BS               Y    \n",
       "417  1363038.0  13630383.0            100.0      BS               Y    \n",
       "418  1362529.0  13625293.0            100.0      BS               Y    \n",
       "419  1362895.0  13628953.0            100.0      BS               Y    \n",
       "420  1362855.0  13628553.0            100.0      BS               Y    \n",
       "\n",
       "    acct_start_date acct_end_date  starting_balance_x  ending_balance_x  \\\n",
       "0          9.5.1988           NaN              113.04            122.54   \n",
       "1         27.6.1994     25.8.1995              651.73             12.89   \n",
       "2        11.11.1986           NaN              250.24            254.02   \n",
       "3         20.2.1995           NaN              600.26            609.33   \n",
       "4         27.4.1994    31.10.1995             2011.02           2901.35   \n",
       "..              ...           ...                 ...               ...   \n",
       "416      11.11.1994           NaN              177.33            528.57   \n",
       "417       20.2.1995           NaN              333.53            508.26   \n",
       "418      15.11.1992           NaN              662.06            873.14   \n",
       "419       27.6.1995           NaN              169.96             96.25   \n",
       "420       21.3.1995           NaN              167.71            161.04   \n",
       "\n",
       "     starting_balance_y  ending_balance_y  avg_tran_amt   income  \n",
       "0                657.46            286.69      0.197917  18548.0  \n",
       "1                  0.00           1548.23    -33.623158   6605.0  \n",
       "2               6965.25             68.68      0.315000  44554.0  \n",
       "3               2302.14              0.00      0.755833  47668.0  \n",
       "4                  0.00           1000.00     37.097083      0.0  \n",
       "..                  ...               ...           ...      ...  \n",
       "416                 NaN               NaN     11.330323  18920.0  \n",
       "417                0.00           1800.00      5.300303  36605.0  \n",
       "418             1481.64            433.43     10.128571  43829.0  \n",
       "419                0.00           1300.00     -2.632500  26387.0  \n",
       "420                 NaN               NaN     -0.215161   2289.0  \n",
       "\n",
       "[421 rows x 13 columns]"
      ]
     },
     "execution_count": 368,
     "metadata": {},
     "output_type": "execute_result"
    }
   ],
   "source": [
    "#Drop NA's\n",
    "filter_main_df = filter_main_df.dropna(thresh=5)\n",
    "filter_main_df"
   ]
  },
  {
   "cell_type": "code",
   "execution_count": 369,
   "metadata": {},
   "outputs": [],
   "source": [
    "filter_main_df['save_sum'] = filter_main_df['ending_balance_x'] - filter_main_df['starting_balance_x']"
   ]
  },
  {
   "cell_type": "code",
   "execution_count": 370,
   "metadata": {},
   "outputs": [
    {
     "data": {
      "text/html": [
       "<div>\n",
       "<style scoped>\n",
       "    .dataframe tbody tr th:only-of-type {\n",
       "        vertical-align: middle;\n",
       "    }\n",
       "\n",
       "    .dataframe tbody tr th {\n",
       "        vertical-align: top;\n",
       "    }\n",
       "\n",
       "    .dataframe thead th {\n",
       "        text-align: right;\n",
       "    }\n",
       "</style>\n",
       "<table border=\"1\" class=\"dataframe\">\n",
       "  <thead>\n",
       "    <tr style=\"text-align: right;\">\n",
       "      <th></th>\n",
       "      <th>cust_id</th>\n",
       "      <th>acct_nbr</th>\n",
       "      <th>minimum_balance</th>\n",
       "      <th>acct_type</th>\n",
       "      <th>account_active</th>\n",
       "      <th>acct_start_date</th>\n",
       "      <th>acct_end_date</th>\n",
       "      <th>starting_balance_x</th>\n",
       "      <th>ending_balance_x</th>\n",
       "      <th>starting_balance_y</th>\n",
       "      <th>ending_balance_y</th>\n",
       "      <th>avg_tran_amt</th>\n",
       "      <th>income</th>\n",
       "      <th>save_sum</th>\n",
       "    </tr>\n",
       "  </thead>\n",
       "  <tbody>\n",
       "    <tr>\n",
       "      <th>0</th>\n",
       "      <td>1363160.0</td>\n",
       "      <td>13631603.0</td>\n",
       "      <td>100.0</td>\n",
       "      <td>BS</td>\n",
       "      <td>Y</td>\n",
       "      <td>9.5.1988</td>\n",
       "      <td>NaN</td>\n",
       "      <td>113.04</td>\n",
       "      <td>122.54</td>\n",
       "      <td>657.46</td>\n",
       "      <td>286.69</td>\n",
       "      <td>0.197917</td>\n",
       "      <td>18548.0</td>\n",
       "      <td>9.50</td>\n",
       "    </tr>\n",
       "    <tr>\n",
       "      <th>1</th>\n",
       "      <td>1362487.0</td>\n",
       "      <td>13624873.0</td>\n",
       "      <td>500.0</td>\n",
       "      <td>MM</td>\n",
       "      <td>N</td>\n",
       "      <td>27.6.1994</td>\n",
       "      <td>25.8.1995</td>\n",
       "      <td>651.73</td>\n",
       "      <td>12.89</td>\n",
       "      <td>0.00</td>\n",
       "      <td>1548.23</td>\n",
       "      <td>-33.623158</td>\n",
       "      <td>6605.0</td>\n",
       "      <td>-638.84</td>\n",
       "    </tr>\n",
       "    <tr>\n",
       "      <th>2</th>\n",
       "      <td>1362548.0</td>\n",
       "      <td>13625483.0</td>\n",
       "      <td>100.0</td>\n",
       "      <td>BS</td>\n",
       "      <td>Y</td>\n",
       "      <td>11.11.1986</td>\n",
       "      <td>NaN</td>\n",
       "      <td>250.24</td>\n",
       "      <td>254.02</td>\n",
       "      <td>6965.25</td>\n",
       "      <td>68.68</td>\n",
       "      <td>0.315000</td>\n",
       "      <td>44554.0</td>\n",
       "      <td>3.78</td>\n",
       "    </tr>\n",
       "    <tr>\n",
       "      <th>3</th>\n",
       "      <td>1362752.0</td>\n",
       "      <td>13627523.0</td>\n",
       "      <td>100.0</td>\n",
       "      <td>BS</td>\n",
       "      <td>Y</td>\n",
       "      <td>20.2.1995</td>\n",
       "      <td>NaN</td>\n",
       "      <td>600.26</td>\n",
       "      <td>609.33</td>\n",
       "      <td>2302.14</td>\n",
       "      <td>0.00</td>\n",
       "      <td>0.755833</td>\n",
       "      <td>47668.0</td>\n",
       "      <td>9.07</td>\n",
       "    </tr>\n",
       "    <tr>\n",
       "      <th>4</th>\n",
       "      <td>1363017.0</td>\n",
       "      <td>13630173.0</td>\n",
       "      <td>100.0</td>\n",
       "      <td>BS</td>\n",
       "      <td>N</td>\n",
       "      <td>27.4.1994</td>\n",
       "      <td>31.10.1995</td>\n",
       "      <td>2011.02</td>\n",
       "      <td>2901.35</td>\n",
       "      <td>0.00</td>\n",
       "      <td>1000.00</td>\n",
       "      <td>37.097083</td>\n",
       "      <td>0.0</td>\n",
       "      <td>890.33</td>\n",
       "    </tr>\n",
       "    <tr>\n",
       "      <th>...</th>\n",
       "      <td>...</td>\n",
       "      <td>...</td>\n",
       "      <td>...</td>\n",
       "      <td>...</td>\n",
       "      <td>...</td>\n",
       "      <td>...</td>\n",
       "      <td>...</td>\n",
       "      <td>...</td>\n",
       "      <td>...</td>\n",
       "      <td>...</td>\n",
       "      <td>...</td>\n",
       "      <td>...</td>\n",
       "      <td>...</td>\n",
       "      <td>...</td>\n",
       "    </tr>\n",
       "    <tr>\n",
       "      <th>416</th>\n",
       "      <td>1363141.0</td>\n",
       "      <td>13631413.0</td>\n",
       "      <td>100.0</td>\n",
       "      <td>BS</td>\n",
       "      <td>Y</td>\n",
       "      <td>11.11.1994</td>\n",
       "      <td>NaN</td>\n",
       "      <td>177.33</td>\n",
       "      <td>528.57</td>\n",
       "      <td>NaN</td>\n",
       "      <td>NaN</td>\n",
       "      <td>11.330323</td>\n",
       "      <td>18920.0</td>\n",
       "      <td>351.24</td>\n",
       "    </tr>\n",
       "    <tr>\n",
       "      <th>417</th>\n",
       "      <td>1363038.0</td>\n",
       "      <td>13630383.0</td>\n",
       "      <td>100.0</td>\n",
       "      <td>BS</td>\n",
       "      <td>Y</td>\n",
       "      <td>20.2.1995</td>\n",
       "      <td>NaN</td>\n",
       "      <td>333.53</td>\n",
       "      <td>508.26</td>\n",
       "      <td>0.00</td>\n",
       "      <td>1800.00</td>\n",
       "      <td>5.300303</td>\n",
       "      <td>36605.0</td>\n",
       "      <td>174.73</td>\n",
       "    </tr>\n",
       "    <tr>\n",
       "      <th>418</th>\n",
       "      <td>1362529.0</td>\n",
       "      <td>13625293.0</td>\n",
       "      <td>100.0</td>\n",
       "      <td>BS</td>\n",
       "      <td>Y</td>\n",
       "      <td>15.11.1992</td>\n",
       "      <td>NaN</td>\n",
       "      <td>662.06</td>\n",
       "      <td>873.14</td>\n",
       "      <td>1481.64</td>\n",
       "      <td>433.43</td>\n",
       "      <td>10.128571</td>\n",
       "      <td>43829.0</td>\n",
       "      <td>211.08</td>\n",
       "    </tr>\n",
       "    <tr>\n",
       "      <th>419</th>\n",
       "      <td>1362895.0</td>\n",
       "      <td>13628953.0</td>\n",
       "      <td>100.0</td>\n",
       "      <td>BS</td>\n",
       "      <td>Y</td>\n",
       "      <td>27.6.1995</td>\n",
       "      <td>NaN</td>\n",
       "      <td>169.96</td>\n",
       "      <td>96.25</td>\n",
       "      <td>0.00</td>\n",
       "      <td>1300.00</td>\n",
       "      <td>-2.632500</td>\n",
       "      <td>26387.0</td>\n",
       "      <td>-73.71</td>\n",
       "    </tr>\n",
       "    <tr>\n",
       "      <th>420</th>\n",
       "      <td>1362855.0</td>\n",
       "      <td>13628553.0</td>\n",
       "      <td>100.0</td>\n",
       "      <td>BS</td>\n",
       "      <td>Y</td>\n",
       "      <td>21.3.1995</td>\n",
       "      <td>NaN</td>\n",
       "      <td>167.71</td>\n",
       "      <td>161.04</td>\n",
       "      <td>NaN</td>\n",
       "      <td>NaN</td>\n",
       "      <td>-0.215161</td>\n",
       "      <td>2289.0</td>\n",
       "      <td>-6.67</td>\n",
       "    </tr>\n",
       "  </tbody>\n",
       "</table>\n",
       "<p>421 rows × 14 columns</p>\n",
       "</div>"
      ],
      "text/plain": [
       "       cust_id    acct_nbr  minimum_balance acct_type account_active  \\\n",
       "0    1363160.0  13631603.0            100.0      BS               Y    \n",
       "1    1362487.0  13624873.0            500.0      MM               N    \n",
       "2    1362548.0  13625483.0            100.0      BS               Y    \n",
       "3    1362752.0  13627523.0            100.0      BS               Y    \n",
       "4    1363017.0  13630173.0            100.0      BS               N    \n",
       "..         ...         ...              ...       ...            ...   \n",
       "416  1363141.0  13631413.0            100.0      BS               Y    \n",
       "417  1363038.0  13630383.0            100.0      BS               Y    \n",
       "418  1362529.0  13625293.0            100.0      BS               Y    \n",
       "419  1362895.0  13628953.0            100.0      BS               Y    \n",
       "420  1362855.0  13628553.0            100.0      BS               Y    \n",
       "\n",
       "    acct_start_date acct_end_date  starting_balance_x  ending_balance_x  \\\n",
       "0          9.5.1988           NaN              113.04            122.54   \n",
       "1         27.6.1994     25.8.1995              651.73             12.89   \n",
       "2        11.11.1986           NaN              250.24            254.02   \n",
       "3         20.2.1995           NaN              600.26            609.33   \n",
       "4         27.4.1994    31.10.1995             2011.02           2901.35   \n",
       "..              ...           ...                 ...               ...   \n",
       "416      11.11.1994           NaN              177.33            528.57   \n",
       "417       20.2.1995           NaN              333.53            508.26   \n",
       "418      15.11.1992           NaN              662.06            873.14   \n",
       "419       27.6.1995           NaN              169.96             96.25   \n",
       "420       21.3.1995           NaN              167.71            161.04   \n",
       "\n",
       "     starting_balance_y  ending_balance_y  avg_tran_amt   income  save_sum  \n",
       "0                657.46            286.69      0.197917  18548.0      9.50  \n",
       "1                  0.00           1548.23    -33.623158   6605.0   -638.84  \n",
       "2               6965.25             68.68      0.315000  44554.0      3.78  \n",
       "3               2302.14              0.00      0.755833  47668.0      9.07  \n",
       "4                  0.00           1000.00     37.097083      0.0    890.33  \n",
       "..                  ...               ...           ...      ...       ...  \n",
       "416                 NaN               NaN     11.330323  18920.0    351.24  \n",
       "417                0.00           1800.00      5.300303  36605.0    174.73  \n",
       "418             1481.64            433.43     10.128571  43829.0    211.08  \n",
       "419                0.00           1300.00     -2.632500  26387.0    -73.71  \n",
       "420                 NaN               NaN     -0.215161   2289.0     -6.67  \n",
       "\n",
       "[421 rows x 14 columns]"
      ]
     },
     "execution_count": 370,
     "metadata": {},
     "output_type": "execute_result"
    }
   ],
   "source": [
    "filter_main_df"
   ]
  },
  {
   "cell_type": "code",
   "execution_count": 371,
   "metadata": {},
   "outputs": [],
   "source": [
    "filter_main_df.drop(columns=['cust_id','minimum_balance','acct_nbr','acct_type','account_active','acct_start_date',\n",
    "                             'acct_end_date','starting_balance_x','ending_balance_x',\n",
    "                            'starting_balance_y'], inplace=True)"
   ]
  },
  {
   "cell_type": "code",
   "execution_count": 372,
   "metadata": {},
   "outputs": [],
   "source": [
    "#Final Dropna \n",
    "filter_main_df = filter_main_df.dropna()\n",
    "filter_main_df = filter_main_df.rename(columns={\"ending_balance_y\": \"credit_bal\"})"
   ]
  },
  {
   "cell_type": "code",
   "execution_count": 373,
   "metadata": {},
   "outputs": [
    {
     "data": {
      "text/plain": [
       "credit_bal      0\n",
       "avg_tran_amt    0\n",
       "income          0\n",
       "save_sum        0\n",
       "dtype: int64"
      ]
     },
     "execution_count": 373,
     "metadata": {},
     "output_type": "execute_result"
    }
   ],
   "source": [
    "#No Missing Values\n",
    "filter_main_df.isnull().sum()"
   ]
  },
  {
   "cell_type": "code",
   "execution_count": 374,
   "metadata": {},
   "outputs": [
    {
     "data": {
      "text/html": [
       "<div>\n",
       "<style scoped>\n",
       "    .dataframe tbody tr th:only-of-type {\n",
       "        vertical-align: middle;\n",
       "    }\n",
       "\n",
       "    .dataframe tbody tr th {\n",
       "        vertical-align: top;\n",
       "    }\n",
       "\n",
       "    .dataframe thead th {\n",
       "        text-align: right;\n",
       "    }\n",
       "</style>\n",
       "<table border=\"1\" class=\"dataframe\">\n",
       "  <thead>\n",
       "    <tr style=\"text-align: right;\">\n",
       "      <th></th>\n",
       "      <th>credit_bal</th>\n",
       "      <th>avg_tran_amt</th>\n",
       "      <th>income</th>\n",
       "      <th>save_sum</th>\n",
       "    </tr>\n",
       "  </thead>\n",
       "  <tbody>\n",
       "    <tr>\n",
       "      <th>count</th>\n",
       "      <td>297.000000</td>\n",
       "      <td>297.000000</td>\n",
       "      <td>297.000000</td>\n",
       "      <td>297.000000</td>\n",
       "    </tr>\n",
       "    <tr>\n",
       "      <th>mean</th>\n",
       "      <td>1113.877879</td>\n",
       "      <td>11.975860</td>\n",
       "      <td>23202.511785</td>\n",
       "      <td>364.425152</td>\n",
       "    </tr>\n",
       "    <tr>\n",
       "      <th>std</th>\n",
       "      <td>1221.518634</td>\n",
       "      <td>28.836928</td>\n",
       "      <td>21442.078688</td>\n",
       "      <td>1039.865104</td>\n",
       "    </tr>\n",
       "    <tr>\n",
       "      <th>min</th>\n",
       "      <td>0.000000</td>\n",
       "      <td>-91.625385</td>\n",
       "      <td>0.000000</td>\n",
       "      <td>-2406.270000</td>\n",
       "    </tr>\n",
       "    <tr>\n",
       "      <th>25%</th>\n",
       "      <td>332.950000</td>\n",
       "      <td>-0.218148</td>\n",
       "      <td>7633.000000</td>\n",
       "      <td>-6.460000</td>\n",
       "    </tr>\n",
       "    <tr>\n",
       "      <th>50%</th>\n",
       "      <td>1000.000000</td>\n",
       "      <td>3.980000</td>\n",
       "      <td>17804.000000</td>\n",
       "      <td>102.330000</td>\n",
       "    </tr>\n",
       "    <tr>\n",
       "      <th>75%</th>\n",
       "      <td>1352.700000</td>\n",
       "      <td>23.032500</td>\n",
       "      <td>32739.000000</td>\n",
       "      <td>683.020000</td>\n",
       "    </tr>\n",
       "    <tr>\n",
       "      <th>max</th>\n",
       "      <td>9500.000000</td>\n",
       "      <td>201.453455</td>\n",
       "      <td>142274.000000</td>\n",
       "      <td>11079.850000</td>\n",
       "    </tr>\n",
       "  </tbody>\n",
       "</table>\n",
       "</div>"
      ],
      "text/plain": [
       "        credit_bal  avg_tran_amt         income      save_sum\n",
       "count   297.000000    297.000000     297.000000    297.000000\n",
       "mean   1113.877879     11.975860   23202.511785    364.425152\n",
       "std    1221.518634     28.836928   21442.078688   1039.865104\n",
       "min       0.000000    -91.625385       0.000000  -2406.270000\n",
       "25%     332.950000     -0.218148    7633.000000     -6.460000\n",
       "50%    1000.000000      3.980000   17804.000000    102.330000\n",
       "75%    1352.700000     23.032500   32739.000000    683.020000\n",
       "max    9500.000000    201.453455  142274.000000  11079.850000"
      ]
     },
     "execution_count": 374,
     "metadata": {},
     "output_type": "execute_result"
    }
   ],
   "source": [
    "#Basic Stats\n",
    "filter_main_df.describe()"
   ]
  },
  {
   "cell_type": "code",
   "execution_count": 375,
   "metadata": {},
   "outputs": [
    {
     "data": {
      "text/html": [
       "<div>\n",
       "<style scoped>\n",
       "    .dataframe tbody tr th:only-of-type {\n",
       "        vertical-align: middle;\n",
       "    }\n",
       "\n",
       "    .dataframe tbody tr th {\n",
       "        vertical-align: top;\n",
       "    }\n",
       "\n",
       "    .dataframe thead th {\n",
       "        text-align: right;\n",
       "    }\n",
       "</style>\n",
       "<table border=\"1\" class=\"dataframe\">\n",
       "  <thead>\n",
       "    <tr style=\"text-align: right;\">\n",
       "      <th></th>\n",
       "      <th>credit_bal</th>\n",
       "      <th>avg_tran_amt</th>\n",
       "      <th>income</th>\n",
       "      <th>save_sum</th>\n",
       "    </tr>\n",
       "  </thead>\n",
       "  <tbody>\n",
       "    <tr>\n",
       "      <th>0</th>\n",
       "      <td>286.69</td>\n",
       "      <td>0.197917</td>\n",
       "      <td>18548.0</td>\n",
       "      <td>9.50</td>\n",
       "    </tr>\n",
       "    <tr>\n",
       "      <th>1</th>\n",
       "      <td>1548.23</td>\n",
       "      <td>-33.623158</td>\n",
       "      <td>6605.0</td>\n",
       "      <td>-638.84</td>\n",
       "    </tr>\n",
       "    <tr>\n",
       "      <th>2</th>\n",
       "      <td>68.68</td>\n",
       "      <td>0.315000</td>\n",
       "      <td>44554.0</td>\n",
       "      <td>3.78</td>\n",
       "    </tr>\n",
       "    <tr>\n",
       "      <th>3</th>\n",
       "      <td>0.00</td>\n",
       "      <td>0.755833</td>\n",
       "      <td>47668.0</td>\n",
       "      <td>9.07</td>\n",
       "    </tr>\n",
       "    <tr>\n",
       "      <th>4</th>\n",
       "      <td>1000.00</td>\n",
       "      <td>37.097083</td>\n",
       "      <td>0.0</td>\n",
       "      <td>890.33</td>\n",
       "    </tr>\n",
       "    <tr>\n",
       "      <th>5</th>\n",
       "      <td>3000.00</td>\n",
       "      <td>-22.854194</td>\n",
       "      <td>1929.0</td>\n",
       "      <td>-709.02</td>\n",
       "    </tr>\n",
       "    <tr>\n",
       "      <th>7</th>\n",
       "      <td>1147.07</td>\n",
       "      <td>18.053077</td>\n",
       "      <td>9622.0</td>\n",
       "      <td>468.57</td>\n",
       "    </tr>\n",
       "    <tr>\n",
       "      <th>8</th>\n",
       "      <td>1000.00</td>\n",
       "      <td>-7.349394</td>\n",
       "      <td>6354.0</td>\n",
       "      <td>-242.53</td>\n",
       "    </tr>\n",
       "  </tbody>\n",
       "</table>\n",
       "</div>"
      ],
      "text/plain": [
       "   credit_bal  avg_tran_amt   income  save_sum\n",
       "0      286.69      0.197917  18548.0      9.50\n",
       "1     1548.23    -33.623158   6605.0   -638.84\n",
       "2       68.68      0.315000  44554.0      3.78\n",
       "3        0.00      0.755833  47668.0      9.07\n",
       "4     1000.00     37.097083      0.0    890.33\n",
       "5     3000.00    -22.854194   1929.0   -709.02\n",
       "7     1147.07     18.053077   9622.0    468.57\n",
       "8     1000.00     -7.349394   6354.0   -242.53"
      ]
     },
     "execution_count": 375,
     "metadata": {},
     "output_type": "execute_result"
    }
   ],
   "source": [
    "filter_main_df.head(8)"
   ]
  },
  {
   "cell_type": "code",
   "execution_count": 376,
   "metadata": {},
   "outputs": [],
   "source": [
    "#Scale Data\n",
    "ss = StandardScaler()\n",
    "scaled_df = ss.fit_transform(filter_main_df)"
   ]
  },
  {
   "cell_type": "code",
   "execution_count": 377,
   "metadata": {},
   "outputs": [],
   "source": [
    "#Scaling PCA Componenent\n",
    "pca = PCA(n_components=2)\n",
    "X_pca = pca.fit_transform(scaled_df)\n",
    "components = pca.components_"
   ]
  },
  {
   "cell_type": "code",
   "execution_count": 378,
   "metadata": {},
   "outputs": [
    {
     "data": {
      "image/png": "[encoded data removed]",
      "text/plain": [
       "<Figure size 864x432 with 1 Axes>"
      ]
     },
     "metadata": {
      "needs_background": "light"
     },
     "output_type": "display_data"
    }
   ],
   "source": [
    "#PCA Scatter Plot\n",
    "fig, ax = plt.subplots(1,1)\n",
    "ax.set_title(\"PCA\")\n",
    "ax.scatter(components[0], components[1])\n",
    "\n",
    "for i, txt in enumerate(filter_main_df.columns.to_list()):\n",
    "    ax.annotate(txt, (components[0][i], components[1][i]), xytext=(8,0), textcoords='offset points')\n",
    "    \n",
    "fig.savefig('PCA_components')"
   ]
  },
  {
   "cell_type": "code",
   "execution_count": 379,
   "metadata": {},
   "outputs": [],
   "source": [
    "#For each k value, initialise k-means athen use the inertia attribute \n",
    "#and identify the sum of squared distances of samples to the nearest cluster centre.\n",
    "Sum_of_squared_distances = []\n",
    "K = range(1,10)\n",
    "for k in K:\n",
    "    km = KMeans(n_clusters=k)\n",
    "    km = km.fit(scaled_df)\n",
    "    Sum_of_squared_distances.append(km.inertia_)"
   ]
  },
  {
   "cell_type": "code",
   "execution_count": 380,
   "metadata": {},
   "outputs": [
    {
     "data": {
      "image/png": "[encoded data removed]",
      "text/plain": [
       "<Figure size 864x432 with 1 Axes>"
      ]
     },
     "metadata": {
      "needs_background": "light"
     },
     "output_type": "display_data"
    }
   ],
   "source": [
    "#The elbow indicating the optimal K (clusters) for this dataset.\n",
    "plt.plot(K, Sum_of_squared_distances, 'bx-')\n",
    "plt.xlabel('k-value')\n",
    "plt.ylabel('Sum of Squared Distances')\n",
    "plt.title('Elbow Method For Optimal k clusters')\n",
    "plt.show()"
   ]
  },
  {
   "cell_type": "markdown",
   "metadata": {},
   "source": [
    "#### As per above method, the optimal number of clusters K is 4 ####"
   ]
  },
  {
   "cell_type": "code",
   "execution_count": 381,
   "metadata": {},
   "outputs": [
    {
     "name": "stdout",
     "output_type": "stream",
     "text": [
      "[[-0.20010036 -0.48709379 -0.07270145 -0.42241865]\n",
      " [-0.00743523  0.8409975  -0.19818992  0.65706901]\n",
      " [ 0.14577932  4.27215609  2.05590909  4.89315401]\n",
      " [ 3.87448731 -0.08723661  2.12652497 -0.03386255]]\n"
     ]
    }
   ],
   "source": [
    "kmeans = KMeans(n_clusters=4).fit(scaled_df)\n",
    "k_labels = kmeans.labels_\n",
    "centroids = kmeans.cluster_centers_\n",
    "print(centroids)"
   ]
  },
  {
   "cell_type": "code",
   "execution_count": 382,
   "metadata": {},
   "outputs": [],
   "source": [
    "new_columns = kmeans.predict(scaled_df)\n",
    "new_cols = pd.DataFrame(new_columns)"
   ]
  },
  {
   "cell_type": "code",
   "execution_count": 383,
   "metadata": {},
   "outputs": [],
   "source": [
    "def plot_clusters(X,y_res, plt_cluster_centers = False):\n",
    "    X_centroids = []\n",
    "    Y_centroids = []\n",
    "\n",
    "    for cluster in set(y_res):\n",
    "        x = X[y_res == cluster,0]\n",
    "        y = X[y_res == cluster,1]\n",
    "        X_centroids.append(np.mean(x))\n",
    "        Y_centroids.append(np.mean(y))\n",
    "\n",
    "        plt.scatter(x,\n",
    "                    y,\n",
    "                    s=50,\n",
    "                    marker='s',\n",
    "                    label=f'cluster {cluster}')\n",
    "\n",
    "    if plt_cluster_centers:\n",
    "        plt.scatter(X_centroids,\n",
    "                    Y_centroids,\n",
    "                    marker='*',\n",
    "                    c='black',\n",
    "                    s=250,\n",
    "                    label='centroids')\n",
    "    plt.legend()\n",
    "    plt.grid()\n",
    "    plt.show()"
   ]
  },
  {
   "cell_type": "code",
   "execution_count": 384,
   "metadata": {},
   "outputs": [
    {
     "data": {
      "image/png": "[encoded data removed]",
      "text/plain": [
       "<Figure size 864x432 with 1 Axes>"
      ]
     },
     "metadata": {
      "needs_background": "light"
     },
     "output_type": "display_data"
    }
   ],
   "source": [
    "plot_clusters(X_pca, k_labels,plt_cluster_centers = True)"
   ]
  },
  {
   "cell_type": "markdown",
   "metadata": {},
   "source": [
    "#### Plot Radar Chart using - Plotly ####"
   ]
  },
  {
   "cell_type": "code",
   "execution_count": 389,
   "metadata": {},
   "outputs": [],
   "source": [
    "minmax = MinMaxScaler(feature_range=(0,5))\n",
    "minmax_df = minmax.fit_transform(filter_main_df)\n",
    "new_df = pd.DataFrame(minmax_df, columns=filter_main_df.columns.to_list())"
   ]
  },
  {
   "cell_type": "code",
   "execution_count": 390,
   "metadata": {},
   "outputs": [],
   "source": [
    "final_df = pd.concat([new_df, new_cols], axis=1)\n",
    "final_df.rename(columns={0:'cluster'}, inplace=True)"
   ]
  },
  {
   "cell_type": "code",
   "execution_count": 395,
   "metadata": {},
   "outputs": [],
   "source": [
    "clusters = []\n",
    "cluster_list = final_df['cluster'].unique().tolist()\n",
    "cluster_list.sort()\n",
    "\n",
    "for i in cluster_list:\n",
    "    clusters.append(final_df[\n",
    "                        final_df['cluster'] == i\n",
    "                    ])"
   ]
  },
  {
   "cell_type": "code",
   "execution_count": 393,
   "metadata": {},
   "outputs": [
    {
     "data": {
      "application/vnd.plotly.v1+json": {
       "config": {
        "plotlyServerURL": "https://plot.ly"
       },
       "data": [
        {
         "fill": "toself",
         "name": "Cluster 0",
         "r": [
          0.4578228431904503,
          1.5282342411726906,
          0.7607246595033919,
          0.8646582025334579
         ],
         "theta": [
          "credit_bal",
          "avg_tran_amt",
          "income",
          "save_sum"
         ],
         "type": "scatterpolar"
        },
        {
         "fill": "toself",
         "name": "Cluster 1",
         "r": [
          0.5814794258373205,
          2.180508276791905,
          0.6663223140495868,
          1.2801335912236234
         ],
         "theta": [
          "credit_bal",
          "avg_tran_amt",
          "income",
          "save_sum"
         ],
         "type": "scatterpolar"
        },
        {
         "fill": "toself",
         "name": "Cluster 2",
         "r": [
          0.6798157894736843,
          3.865675312673099,
          2.3620338220616555,
          2.9105265265324647
         ],
         "theta": [
          "credit_bal",
          "avg_tran_amt",
          "income",
          "save_sum"
         ],
         "type": "scatterpolar"
        },
        {
         "fill": "toself",
         "name": "Cluster 3",
         "r": [
          3.0729800000000003,
          1.7246186755470034,
          2.4151566695250013,
          1.0142064581955377
         ],
         "theta": [
          "credit_bal",
          "avg_tran_amt",
          "income",
          "save_sum"
         ],
         "type": "scatterpolar"
        }
       ],
       "layout": {
        "autosize": true,
        "polar": {
         "angularaxis": {
          "type": "category"
         },
         "radialaxis": {
          "autorange": false,
          "range": [
           0,
           5
          ],
          "type": "linear",
          "visible": true
         }
        },
        "showlegend": true,
        "template": {
         "data": {
          "bar": [
           {
            "error_x": {
             "color": "#2a3f5f"
            },
            "error_y": {
             "color": "#2a3f5f"
            },
            "marker": {
             "line": {
              "color": "#E5ECF6",
              "width": 0.5
             },
             "pattern": {
              "fillmode": "overlay",
              "size": 10,
              "solidity": 0.2
             }
            },
            "type": "bar"
           }
          ],
          "barpolar": [
           {
            "marker": {
             "line": {
              "color": "#E5ECF6",
              "width": 0.5
             },
             "pattern": {
              "fillmode": "overlay",
              "size": 10,
              "solidity": 0.2
             }
            },
            "type": "barpolar"
           }
          ],
          "carpet": [
           {
            "aaxis": {
             "endlinecolor": "#2a3f5f",
             "gridcolor": "white",
             "linecolor": "white",
             "minorgridcolor": "white",
             "startlinecolor": "#2a3f5f"
            },
            "baxis": {
             "endlinecolor": "#2a3f5f",
             "gridcolor": "white",
             "linecolor": "white",
             "minorgridcolor": "white",
             "startlinecolor": "#2a3f5f"
            },
            "type": "carpet"
           }
          ],
          "choropleth": [
           {
            "colorbar": {
             "outlinewidth": 0,
             "ticks": ""
            },
            "type": "choropleth"
           }
          ],
          "contour": [
           {
            "colorbar": {
             "outlinewidth": 0,
             "ticks": ""
            },
            "colorscale": [
             [
              0,
              "#0d0887"
             ],
             [
              0.1111111111111111,
              "#46039f"
             ],
             [
              0.2222222222222222,
              "#7201a8"
             ],
             [
              0.3333333333333333,
              "#9c179e"
             ],
             [
              0.4444444444444444,
              "#bd3786"
             ],
             [
              0.5555555555555556,
              "#d8576b"
             ],
             [
              0.6666666666666666,
              "#ed7953"
             ],
             [
              0.7777777777777778,
              "#fb9f3a"
             ],
             [
              0.8888888888888888,
              "#fdca26"
             ],
             [
              1,
              "#f0f921"
             ]
            ],
            "type": "contour"
           }
          ],
          "contourcarpet": [
           {
            "colorbar": {
             "outlinewidth": 0,
             "ticks": ""
            },
            "type": "contourcarpet"
           }
          ],
          "heatmap": [
           {
            "colorbar": {
             "outlinewidth": 0,
             "ticks": ""
            },
            "colorscale": [
             [
              0,
              "#0d0887"
             ],
             [
              0.1111111111111111,
              "#46039f"
             ],
             [
              0.2222222222222222,
              "#7201a8"
             ],
             [
              0.3333333333333333,
              "#9c179e"
             ],
             [
              0.4444444444444444,
              "#bd3786"
             ],
             [
              0.5555555555555556,
              "#d8576b"
             ],
             [
              0.6666666666666666,
              "#ed7953"
             ],
             [
              0.7777777777777778,
              "#fb9f3a"
             ],
             [
              0.8888888888888888,
              "#fdca26"
             ],
             [
              1,
              "#f0f921"
             ]
            ],
            "type": "heatmap"
           }
          ],
          "heatmapgl": [
           {
            "colorbar": {
             "outlinewidth": 0,
             "ticks": ""
            },
            "colorscale": [
             [
              0,
              "#0d0887"
             ],
             [
              0.1111111111111111,
              "#46039f"
             ],
             [
              0.2222222222222222,
              "#7201a8"
             ],
             [
              0.3333333333333333,
              "#9c179e"
             ],
             [
              0.4444444444444444,
              "#bd3786"
             ],
             [
              0.5555555555555556,
              "#d8576b"
             ],
             [
              0.6666666666666666,
              "#ed7953"
             ],
             [
              0.7777777777777778,
              "#fb9f3a"
             ],
             [
              0.8888888888888888,
              "#fdca26"
             ],
             [
              1,
              "#f0f921"
             ]
            ],
            "type": "heatmapgl"
           }
          ],
          "histogram": [
           {
            "marker": {
             "pattern": {
              "fillmode": "overlay",
              "size": 10,
              "solidity": 0.2
             }
            },
            "type": "histogram"
           }
          ],
          "histogram2d": [
           {
            "colorbar": {
             "outlinewidth": 0,
             "ticks": ""
            },
            "colorscale": [
             [
              0,
              "#0d0887"
             ],
             [
              0.1111111111111111,
              "#46039f"
             ],
             [
              0.2222222222222222,
              "#7201a8"
             ],
             [
              0.3333333333333333,
              "#9c179e"
             ],
             [
              0.4444444444444444,
              "#bd3786"
             ],
             [
              0.5555555555555556,
              "#d8576b"
             ],
             [
              0.6666666666666666,
              "#ed7953"
             ],
             [
              0.7777777777777778,
              "#fb9f3a"
             ],
             [
              0.8888888888888888,
              "#fdca26"
             ],
             [
              1,
              "#f0f921"
             ]
            ],
            "type": "histogram2d"
           }
          ],
          "histogram2dcontour": [
           {
            "colorbar": {
             "outlinewidth": 0,
             "ticks": ""
            },
            "colorscale": [
             [
              0,
              "#0d0887"
             ],
             [
              0.1111111111111111,
              "#46039f"
             ],
             [
              0.2222222222222222,
              "#7201a8"
             ],
             [
              0.3333333333333333,
              "#9c179e"
             ],
             [
              0.4444444444444444,
              "#bd3786"
             ],
             [
              0.5555555555555556,
              "#d8576b"
             ],
             [
              0.6666666666666666,
              "#ed7953"
             ],
             [
              0.7777777777777778,
              "#fb9f3a"
             ],
             [
              0.8888888888888888,
              "#fdca26"
             ],
             [
              1,
              "#f0f921"
             ]
            ],
            "type": "histogram2dcontour"
           }
          ],
          "mesh3d": [
           {
            "colorbar": {
             "outlinewidth": 0,
             "ticks": ""
            },
            "type": "mesh3d"
           }
          ],
          "parcoords": [
           {
            "line": {
             "colorbar": {
              "outlinewidth": 0,
              "ticks": ""
             }
            },
            "type": "parcoords"
           }
          ],
          "pie": [
           {
            "automargin": true,
            "type": "pie"
           }
          ],
          "scatter": [
           {
            "marker": {
             "colorbar": {
              "outlinewidth": 0,
              "ticks": ""
             }
            },
            "type": "scatter"
           }
          ],
          "scatter3d": [
           {
            "line": {
             "colorbar": {
              "outlinewidth": 0,
              "ticks": ""
             }
            },
            "marker": {
             "colorbar": {
              "outlinewidth": 0,
              "ticks": ""
             }
            },
            "type": "scatter3d"
           }
          ],
          "scattercarpet": [
           {
            "marker": {
             "colorbar": {
              "outlinewidth": 0,
              "ticks": ""
             }
            },
            "type": "scattercarpet"
           }
          ],
          "scattergeo": [
           {
            "marker": {
             "colorbar": {
              "outlinewidth": 0,
              "ticks": ""
             }
            },
            "type": "scattergeo"
           }
          ],
          "scattergl": [
           {
            "marker": {
             "colorbar": {
              "outlinewidth": 0,
              "ticks": ""
             }
            },
            "type": "scattergl"
           }
          ],
          "scattermapbox": [
           {
            "marker": {
             "colorbar": {
              "outlinewidth": 0,
              "ticks": ""
             }
            },
            "type": "scattermapbox"
           }
          ],
          "scatterpolar": [
           {
            "marker": {
             "colorbar": {
              "outlinewidth": 0,
              "ticks": ""
             }
            },
            "type": "scatterpolar"
           }
          ],
          "scatterpolargl": [
           {
            "marker": {
             "colorbar": {
              "outlinewidth": 0,
              "ticks": ""
             }
            },
            "type": "scatterpolargl"
           }
          ],
          "scatterternary": [
           {
            "marker": {
             "colorbar": {
              "outlinewidth": 0,
              "ticks": ""
             }
            },
            "type": "scatterternary"
           }
          ],
          "surface": [
           {
            "colorbar": {
             "outlinewidth": 0,
             "ticks": ""
            },
            "colorscale": [
             [
              0,
              "#0d0887"
             ],
             [
              0.1111111111111111,
              "#46039f"
             ],
             [
              0.2222222222222222,
              "#7201a8"
             ],
             [
              0.3333333333333333,
              "#9c179e"
             ],
             [
              0.4444444444444444,
              "#bd3786"
             ],
             [
              0.5555555555555556,
              "#d8576b"
             ],
             [
              0.6666666666666666,
              "#ed7953"
             ],
             [
              0.7777777777777778,
              "#fb9f3a"
             ],
             [
              0.8888888888888888,
              "#fdca26"
             ],
             [
              1,
              "#f0f921"
             ]
            ],
            "type": "surface"
           }
          ],
          "table": [
           {
            "cells": {
             "fill": {
              "color": "#EBF0F8"
             },
             "line": {
              "color": "white"
             }
            },
            "header": {
             "fill": {
              "color": "#C8D4E3"
             },
             "line": {
              "color": "white"
             }
            },
            "type": "table"
           }
          ]
         },
         "layout": {
          "annotationdefaults": {
           "arrowcolor": "#2a3f5f",
           "arrowhead": 0,
           "arrowwidth": 1
          },
          "autotypenumbers": "strict",
          "coloraxis": {
           "colorbar": {
            "outlinewidth": 0,
            "ticks": ""
           }
          },
          "colorscale": {
           "diverging": [
            [
             0,
             "#8e0152"
            ],
            [
             0.1,
             "#c51b7d"
            ],
            [
             0.2,
             "#de77ae"
            ],
            [
             0.3,
             "#f1b6da"
            ],
            [
             0.4,
             "#fde0ef"
            ],
            [
             0.5,
             "#f7f7f7"
            ],
            [
             0.6,
             "#e6f5d0"
            ],
            [
             0.7,
             "#b8e186"
            ],
            [
             0.8,
             "#7fbc41"
            ],
            [
             0.9,
             "#4d9221"
            ],
            [
             1,
             "#276419"
            ]
           ],
           "sequential": [
            [
             0,
             "#0d0887"
            ],
            [
             0.1111111111111111,
             "#46039f"
            ],
            [
             0.2222222222222222,
             "#7201a8"
            ],
            [
             0.3333333333333333,
             "#9c179e"
            ],
            [
             0.4444444444444444,
             "#bd3786"
            ],
            [
             0.5555555555555556,
             "#d8576b"
            ],
            [
             0.6666666666666666,
             "#ed7953"
            ],
            [
             0.7777777777777778,
             "#fb9f3a"
            ],
            [
             0.8888888888888888,
             "#fdca26"
            ],
            [
             1,
             "#f0f921"
            ]
           ],
           "sequentialminus": [
            [
             0,
             "#0d0887"
            ],
            [
             0.1111111111111111,
             "#46039f"
            ],
            [
             0.2222222222222222,
             "#7201a8"
            ],
            [
             0.3333333333333333,
             "#9c179e"
            ],
            [
             0.4444444444444444,
             "#bd3786"
            ],
            [
             0.5555555555555556,
             "#d8576b"
            ],
            [
             0.6666666666666666,
             "#ed7953"
            ],
            [
             0.7777777777777778,
             "#fb9f3a"
            ],
            [
             0.8888888888888888,
             "#fdca26"
            ],
            [
             1,
             "#f0f921"
            ]
           ]
          },
          "colorway": [
           "#636efa",
           "#EF553B",
           "#00cc96",
           "#ab63fa",
           "#FFA15A",
           "#19d3f3",
           "#FF6692",
           "#B6E880",
           "#FF97FF",
           "#FECB52"
          ],
          "font": {
           "color": "#2a3f5f"
          },
          "geo": {
           "bgcolor": "white",
           "lakecolor": "white",
           "landcolor": "#E5ECF6",
           "showlakes": true,
           "showland": true,
           "subunitcolor": "white"
          },
          "hoverlabel": {
           "align": "left"
          },
          "hovermode": "closest",
          "mapbox": {
           "style": "light"
          },
          "paper_bgcolor": "white",
          "plot_bgcolor": "#E5ECF6",
          "polar": {
           "angularaxis": {
            "gridcolor": "white",
            "linecolor": "white",
            "ticks": ""
           },
           "bgcolor": "#E5ECF6",
           "radialaxis": {
            "gridcolor": "white",
            "linecolor": "white",
            "ticks": ""
           }
          },
          "scene": {
           "xaxis": {
            "backgroundcolor": "#E5ECF6",
            "gridcolor": "white",
            "gridwidth": 2,
            "linecolor": "white",
            "showbackground": true,
            "ticks": "",
            "zerolinecolor": "white"
           },
           "yaxis": {
            "backgroundcolor": "#E5ECF6",
            "gridcolor": "white",
            "gridwidth": 2,
            "linecolor": "white",
            "showbackground": true,
            "ticks": "",
            "zerolinecolor": "white"
           },
           "zaxis": {
            "backgroundcolor": "#E5ECF6",
            "gridcolor": "white",
            "gridwidth": 2,
            "linecolor": "white",
            "showbackground": true,
            "ticks": "",
            "zerolinecolor": "white"
           }
          },
          "shapedefaults": {
           "line": {
            "color": "#2a3f5f"
           }
          },
          "ternary": {
           "aaxis": {
            "gridcolor": "white",
            "linecolor": "white",
            "ticks": ""
           },
           "baxis": {
            "gridcolor": "white",
            "linecolor": "white",
            "ticks": ""
           },
           "bgcolor": "#E5ECF6",
           "caxis": {
            "gridcolor": "white",
            "linecolor": "white",
            "ticks": ""
           }
          },
          "title": {
           "x": 0.05
          },
          "xaxis": {
           "automargin": true,
           "gridcolor": "white",
           "linecolor": "white",
           "ticks": "",
           "title": {
            "standoff": 15
           },
           "zerolinecolor": "white",
           "zerolinewidth": 2
          },
          "yaxis": {
           "automargin": true,
           "gridcolor": "white",
           "linecolor": "white",
           "ticks": "",
           "title": {
            "standoff": 15
           },
           "zerolinecolor": "white",
           "zerolinewidth": 2
          }
         }
        }
       }
      },
      "image/png": "[encoded data removed]",
      "text/html": [
       "<div>                            <div id=\"5d36a5c6-ae1f-44cf-9d38-2ded8ceb94d8\" class=\"plotly-graph-div\" style=\"height:525px; width:100%;\"></div>            <script type=\"text/javascript\">                require([\"plotly\"], function(Plotly) {                    window.PLOTLYENV=window.PLOTLYENV || {};                                    if (document.getElementById(\"5d36a5c6-ae1f-44cf-9d38-2ded8ceb94d8\")) {                    Plotly.newPlot(                        \"5d36a5c6-ae1f-44cf-9d38-2ded8ceb94d8\",                        [{\"fill\":\"toself\",\"name\":\"Cluster 0\",\"r\":[0.4578228431904503,1.5282342411726906,0.7607246595033919,0.8646582025334579],\"theta\":[\"credit_bal\",\"avg_tran_amt\",\"income\",\"save_sum\"],\"type\":\"scatterpolar\"},{\"fill\":\"toself\",\"name\":\"Cluster 1\",\"r\":[0.5814794258373205,2.180508276791905,0.6663223140495868,1.2801335912236234],\"theta\":[\"credit_bal\",\"avg_tran_amt\",\"income\",\"save_sum\"],\"type\":\"scatterpolar\"},{\"fill\":\"toself\",\"name\":\"Cluster 2\",\"r\":[0.6798157894736843,3.865675312673099,2.3620338220616555,2.9105265265324647],\"theta\":[\"credit_bal\",\"avg_tran_amt\",\"income\",\"save_sum\"],\"type\":\"scatterpolar\"},{\"fill\":\"toself\",\"name\":\"Cluster 3\",\"r\":[3.0729800000000003,1.7246186755470034,2.4151566695250013,1.0142064581955377],\"theta\":[\"credit_bal\",\"avg_tran_amt\",\"income\",\"save_sum\"],\"type\":\"scatterpolar\"}],                        {\"template\":{\"data\":{\"bar\":[{\"error_x\":{\"color\":\"#2a3f5f\"},\"error_y\":{\"color\":\"#2a3f5f\"},\"marker\":{\"line\":{\"color\":\"#E5ECF6\",\"width\":0.5},\"pattern\":{\"fillmode\":\"overlay\",\"size\":10,\"solidity\":0.2}},\"type\":\"bar\"}],\"barpolar\":[{\"marker\":{\"line\":{\"color\":\"#E5ECF6\",\"width\":0.5},\"pattern\":{\"fillmode\":\"overlay\",\"size\":10,\"solidity\":0.2}},\"type\":\"barpolar\"}],\"carpet\":[{\"aaxis\":{\"endlinecolor\":\"#2a3f5f\",\"gridcolor\":\"white\",\"linecolor\":\"white\",\"minorgridcolor\":\"white\",\"startlinecolor\":\"#2a3f5f\"},\"baxis\":{\"endlinecolor\":\"#2a3f5f\",\"gridcolor\":\"white\",\"linecolor\":\"white\",\"minorgridcolor\":\"white\",\"startlinecolor\":\"#2a3f5f\"},\"type\":\"carpet\"}],\"choropleth\":[{\"colorbar\":{\"outlinewidth\":0,\"ticks\":\"\"},\"type\":\"choropleth\"}],\"contour\":[{\"colorbar\":{\"outlinewidth\":0,\"ticks\":\"\"},\"colorscale\":[[0.0,\"#0d0887\"],[0.1111111111111111,\"#46039f\"],[0.2222222222222222,\"#7201a8\"],[0.3333333333333333,\"#9c179e\"],[0.4444444444444444,\"#bd3786\"],[0.5555555555555556,\"#d8576b\"],[0.6666666666666666,\"#ed7953\"],[0.7777777777777778,\"#fb9f3a\"],[0.8888888888888888,\"#fdca26\"],[1.0,\"#f0f921\"]],\"type\":\"contour\"}],\"contourcarpet\":[{\"colorbar\":{\"outlinewidth\":0,\"ticks\":\"\"},\"type\":\"contourcarpet\"}],\"heatmap\":[{\"colorbar\":{\"outlinewidth\":0,\"ticks\":\"\"},\"colorscale\":[[0.0,\"#0d0887\"],[0.1111111111111111,\"#46039f\"],[0.2222222222222222,\"#7201a8\"],[0.3333333333333333,\"#9c179e\"],[0.4444444444444444,\"#bd3786\"],[0.5555555555555556,\"#d8576b\"],[0.6666666666666666,\"#ed7953\"],[0.7777777777777778,\"#fb9f3a\"],[0.8888888888888888,\"#fdca26\"],[1.0,\"#f0f921\"]],\"type\":\"heatmap\"}],\"heatmapgl\":[{\"colorbar\":{\"outlinewidth\":0,\"ticks\":\"\"},\"colorscale\":[[0.0,\"#0d0887\"],[0.1111111111111111,\"#46039f\"],[0.2222222222222222,\"#7201a8\"],[0.3333333333333333,\"#9c179e\"],[0.4444444444444444,\"#bd3786\"],[0.5555555555555556,\"#d8576b\"],[0.6666666666666666,\"#ed7953\"],[0.7777777777777778,\"#fb9f3a\"],[0.8888888888888888,\"#fdca26\"],[1.0,\"#f0f921\"]],\"type\":\"heatmapgl\"}],\"histogram\":[{\"marker\":{\"pattern\":{\"fillmode\":\"overlay\",\"size\":10,\"solidity\":0.2}},\"type\":\"histogram\"}],\"histogram2d\":[{\"colorbar\":{\"outlinewidth\":0,\"ticks\":\"\"},\"colorscale\":[[0.0,\"#0d0887\"],[0.1111111111111111,\"#46039f\"],[0.2222222222222222,\"#7201a8\"],[0.3333333333333333,\"#9c179e\"],[0.4444444444444444,\"#bd3786\"],[0.5555555555555556,\"#d8576b\"],[0.6666666666666666,\"#ed7953\"],[0.7777777777777778,\"#fb9f3a\"],[0.8888888888888888,\"#fdca26\"],[1.0,\"#f0f921\"]],\"type\":\"histogram2d\"}],\"histogram2dcontour\":[{\"colorbar\":{\"outlinewidth\":0,\"ticks\":\"\"},\"colorscale\":[[0.0,\"#0d0887\"],[0.1111111111111111,\"#46039f\"],[0.2222222222222222,\"#7201a8\"],[0.3333333333333333,\"#9c179e\"],[0.4444444444444444,\"#bd3786\"],[0.5555555555555556,\"#d8576b\"],[0.6666666666666666,\"#ed7953\"],[0.7777777777777778,\"#fb9f3a\"],[0.8888888888888888,\"#fdca26\"],[1.0,\"#f0f921\"]],\"type\":\"histogram2dcontour\"}],\"mesh3d\":[{\"colorbar\":{\"outlinewidth\":0,\"ticks\":\"\"},\"type\":\"mesh3d\"}],\"parcoords\":[{\"line\":{\"colorbar\":{\"outlinewidth\":0,\"ticks\":\"\"}},\"type\":\"parcoords\"}],\"pie\":[{\"automargin\":true,\"type\":\"pie\"}],\"scatter\":[{\"marker\":{\"colorbar\":{\"outlinewidth\":0,\"ticks\":\"\"}},\"type\":\"scatter\"}],\"scatter3d\":[{\"line\":{\"colorbar\":{\"outlinewidth\":0,\"ticks\":\"\"}},\"marker\":{\"colorbar\":{\"outlinewidth\":0,\"ticks\":\"\"}},\"type\":\"scatter3d\"}],\"scattercarpet\":[{\"marker\":{\"colorbar\":{\"outlinewidth\":0,\"ticks\":\"\"}},\"type\":\"scattercarpet\"}],\"scattergeo\":[{\"marker\":{\"colorbar\":{\"outlinewidth\":0,\"ticks\":\"\"}},\"type\":\"scattergeo\"}],\"scattergl\":[{\"marker\":{\"colorbar\":{\"outlinewidth\":0,\"ticks\":\"\"}},\"type\":\"scattergl\"}],\"scattermapbox\":[{\"marker\":{\"colorbar\":{\"outlinewidth\":0,\"ticks\":\"\"}},\"type\":\"scattermapbox\"}],\"scatterpolar\":[{\"marker\":{\"colorbar\":{\"outlinewidth\":0,\"ticks\":\"\"}},\"type\":\"scatterpolar\"}],\"scatterpolargl\":[{\"marker\":{\"colorbar\":{\"outlinewidth\":0,\"ticks\":\"\"}},\"type\":\"scatterpolargl\"}],\"scatterternary\":[{\"marker\":{\"colorbar\":{\"outlinewidth\":0,\"ticks\":\"\"}},\"type\":\"scatterternary\"}],\"surface\":[{\"colorbar\":{\"outlinewidth\":0,\"ticks\":\"\"},\"colorscale\":[[0.0,\"#0d0887\"],[0.1111111111111111,\"#46039f\"],[0.2222222222222222,\"#7201a8\"],[0.3333333333333333,\"#9c179e\"],[0.4444444444444444,\"#bd3786\"],[0.5555555555555556,\"#d8576b\"],[0.6666666666666666,\"#ed7953\"],[0.7777777777777778,\"#fb9f3a\"],[0.8888888888888888,\"#fdca26\"],[1.0,\"#f0f921\"]],\"type\":\"surface\"}],\"table\":[{\"cells\":{\"fill\":{\"color\":\"#EBF0F8\"},\"line\":{\"color\":\"white\"}},\"header\":{\"fill\":{\"color\":\"#C8D4E3\"},\"line\":{\"color\":\"white\"}},\"type\":\"table\"}]},\"layout\":{\"annotationdefaults\":{\"arrowcolor\":\"#2a3f5f\",\"arrowhead\":0,\"arrowwidth\":1},\"autotypenumbers\":\"strict\",\"coloraxis\":{\"colorbar\":{\"outlinewidth\":0,\"ticks\":\"\"}},\"colorscale\":{\"diverging\":[[0,\"#8e0152\"],[0.1,\"#c51b7d\"],[0.2,\"#de77ae\"],[0.3,\"#f1b6da\"],[0.4,\"#fde0ef\"],[0.5,\"#f7f7f7\"],[0.6,\"#e6f5d0\"],[0.7,\"#b8e186\"],[0.8,\"#7fbc41\"],[0.9,\"#4d9221\"],[1,\"#276419\"]],\"sequential\":[[0.0,\"#0d0887\"],[0.1111111111111111,\"#46039f\"],[0.2222222222222222,\"#7201a8\"],[0.3333333333333333,\"#9c179e\"],[0.4444444444444444,\"#bd3786\"],[0.5555555555555556,\"#d8576b\"],[0.6666666666666666,\"#ed7953\"],[0.7777777777777778,\"#fb9f3a\"],[0.8888888888888888,\"#fdca26\"],[1.0,\"#f0f921\"]],\"sequentialminus\":[[0.0,\"#0d0887\"],[0.1111111111111111,\"#46039f\"],[0.2222222222222222,\"#7201a8\"],[0.3333333333333333,\"#9c179e\"],[0.4444444444444444,\"#bd3786\"],[0.5555555555555556,\"#d8576b\"],[0.6666666666666666,\"#ed7953\"],[0.7777777777777778,\"#fb9f3a\"],[0.8888888888888888,\"#fdca26\"],[1.0,\"#f0f921\"]]},\"colorway\":[\"#636efa\",\"#EF553B\",\"#00cc96\",\"#ab63fa\",\"#FFA15A\",\"#19d3f3\",\"#FF6692\",\"#B6E880\",\"#FF97FF\",\"#FECB52\"],\"font\":{\"color\":\"#2a3f5f\"},\"geo\":{\"bgcolor\":\"white\",\"lakecolor\":\"white\",\"landcolor\":\"#E5ECF6\",\"showlakes\":true,\"showland\":true,\"subunitcolor\":\"white\"},\"hoverlabel\":{\"align\":\"left\"},\"hovermode\":\"closest\",\"mapbox\":{\"style\":\"light\"},\"paper_bgcolor\":\"white\",\"plot_bgcolor\":\"#E5ECF6\",\"polar\":{\"angularaxis\":{\"gridcolor\":\"white\",\"linecolor\":\"white\",\"ticks\":\"\"},\"bgcolor\":\"#E5ECF6\",\"radialaxis\":{\"gridcolor\":\"white\",\"linecolor\":\"white\",\"ticks\":\"\"}},\"scene\":{\"xaxis\":{\"backgroundcolor\":\"#E5ECF6\",\"gridcolor\":\"white\",\"gridwidth\":2,\"linecolor\":\"white\",\"showbackground\":true,\"ticks\":\"\",\"zerolinecolor\":\"white\"},\"yaxis\":{\"backgroundcolor\":\"#E5ECF6\",\"gridcolor\":\"white\",\"gridwidth\":2,\"linecolor\":\"white\",\"showbackground\":true,\"ticks\":\"\",\"zerolinecolor\":\"white\"},\"zaxis\":{\"backgroundcolor\":\"#E5ECF6\",\"gridcolor\":\"white\",\"gridwidth\":2,\"linecolor\":\"white\",\"showbackground\":true,\"ticks\":\"\",\"zerolinecolor\":\"white\"}},\"shapedefaults\":{\"line\":{\"color\":\"#2a3f5f\"}},\"ternary\":{\"aaxis\":{\"gridcolor\":\"white\",\"linecolor\":\"white\",\"ticks\":\"\"},\"baxis\":{\"gridcolor\":\"white\",\"linecolor\":\"white\",\"ticks\":\"\"},\"bgcolor\":\"#E5ECF6\",\"caxis\":{\"gridcolor\":\"white\",\"linecolor\":\"white\",\"ticks\":\"\"}},\"title\":{\"x\":0.05},\"xaxis\":{\"automargin\":true,\"gridcolor\":\"white\",\"linecolor\":\"white\",\"ticks\":\"\",\"title\":{\"standoff\":15},\"zerolinecolor\":\"white\",\"zerolinewidth\":2},\"yaxis\":{\"automargin\":true,\"gridcolor\":\"white\",\"linecolor\":\"white\",\"ticks\":\"\",\"title\":{\"standoff\":15},\"zerolinecolor\":\"white\",\"zerolinewidth\":2}}},\"polar\":{\"radialaxis\":{\"visible\":true,\"range\":[0,5]}},\"showlegend\":true},                        {\"responsive\": true}                    ).then(function(){\n",
       "                            \n",
       "var gd = document.getElementById('5d36a5c6-ae1f-44cf-9d38-2ded8ceb94d8');\n",
       "var x = new MutationObserver(function (mutations, observer) {{\n",
       "        var display = window.getComputedStyle(gd).display;\n",
       "        if (!display || display === 'none') {{\n",
       "            console.log([gd, 'removed!']);\n",
       "            Plotly.purge(gd);\n",
       "            observer.disconnect();\n",
       "        }}\n",
       "}});\n",
       "\n",
       "// Listen for the removal of the full notebook cells\n",
       "var notebookContainer = gd.closest('#notebook-container');\n",
       "if (notebookContainer) {{\n",
       "    x.observe(notebookContainer, {childList: true});\n",
       "}}\n",
       "\n",
       "// Listen for the clearing of the current output cell\n",
       "var outputEl = gd.closest('.output');\n",
       "if (outputEl) {{\n",
       "    x.observe(outputEl, {childList: true});\n",
       "}}\n",
       "\n",
       "                        })                };                });            </script>        </div>"
      ]
     },
     "metadata": {},
     "output_type": "display_data"
    }
   ],
   "source": [
    "import plotly.graph_objects as go\n",
    "\n",
    "categories = final_df.columns.to_list()\n",
    "categories.remove('cluster')\n",
    "\n",
    "fig = go.Figure()\n",
    "\n",
    "for cluster in clusters:\n",
    "    #R computation\n",
    "    r = []\n",
    "    for i in categories:\n",
    "        r.append(cluster[i].mean())\n",
    "        \n",
    "    fig.add_trace(go.Scatterpolar(\n",
    "        r=r,\n",
    "        theta=categories,\n",
    "        fill='toself', name=f'Cluster {cluster.iloc[0,-1]}'))\n",
    "\n",
    "fig.update_layout(\n",
    "  polar=dict(\n",
    "    radialaxis=dict(\n",
    "      visible=True,\n",
    "      range=[0, 5]\n",
    "    )),\n",
    "  showlegend=True\n",
    ")\n",
    "\n",
    "fig.write_html(\"radar.html\")\n",
    "\n",
    "fig.show()"
   ]
  },
  {
   "cell_type": "code",
   "execution_count": 403,
   "metadata": {},
   "outputs": [
    {
     "data": {
      "application/vnd.plotly.v1+json": {
       "config": {
        "plotlyServerURL": "https://plot.ly"
       },
       "data": [
        {
         "hovertemplate": "income=%{r}<br>avg_tran_amt=%{theta}<extra></extra>",
         "legendgroup": "",
         "line": {
          "color": "#636efa",
          "dash": "solid"
         },
         "marker": {
          "symbol": "circle"
         },
         "mode": "lines",
         "name": "",
         "r": [
          18548,
          6605,
          44554,
          47668,
          0,
          1929,
          9622,
          6354,
          26505,
          21015,
          19494,
          6493,
          13148,
          24344,
          10025,
          21663,
          7571,
          15246,
          19823,
          27492,
          6300,
          17242,
          9129,
          16957,
          10933,
          81509,
          7431,
          12885,
          7633,
          0,
          1982,
          28867,
          25180,
          8810,
          57723,
          18350,
          90248,
          49258,
          83295,
          31910,
          68933,
          24275,
          23206,
          6356,
          1039,
          5488,
          34080,
          27649,
          11935,
          2769,
          43900,
          12202,
          34797,
          12823,
          0,
          18144,
          12258,
          3618,
          75121,
          38010,
          2644,
          5808,
          39291,
          4391,
          3419,
          4626,
          86744,
          12621,
          29363,
          18785,
          15077,
          12722,
          29579,
          22758,
          17612,
          27814,
          7777,
          18891,
          41650,
          37471,
          13515,
          0,
          13750,
          5772,
          6195,
          32739,
          13113,
          45629,
          19282,
          0,
          0,
          34855,
          23973,
          12403,
          2715,
          3339,
          35508,
          31054,
          17584,
          18760,
          12973,
          49623,
          27258,
          19686,
          43315,
          30068,
          22680,
          12690,
          10608,
          0,
          60242,
          0,
          20840,
          2517,
          27155,
          8201,
          15301,
          22322,
          26364,
          15576,
          40671,
          39250,
          36923,
          36259,
          0,
          20358,
          0,
          12310,
          3093,
          33060,
          17750,
          17052,
          0,
          10818,
          9099,
          41876,
          0,
          9480,
          46884,
          22995,
          8681,
          22783,
          48479,
          20684,
          101177,
          6618,
          16579,
          0,
          34394,
          13124,
          8575,
          8038,
          29120,
          17804,
          0,
          54647,
          8257,
          30217,
          59542,
          24131,
          19863,
          32700,
          37364,
          13137,
          43872,
          0,
          7914,
          45195,
          38736,
          8799,
          13497,
          33113,
          5981,
          26008,
          8262,
          10053,
          17412,
          42532,
          0,
          19088,
          9495,
          8961,
          59047,
          13241,
          7169,
          57224,
          49553,
          19019,
          0,
          21657,
          0,
          18176,
          3371,
          98566,
          30163,
          102286,
          27635,
          50890,
          63532,
          31496,
          1565,
          7302,
          30989,
          0,
          4424,
          6909,
          39382,
          22025,
          13317,
          26886,
          3303,
          10234,
          13087,
          29536,
          11946,
          68039,
          35117,
          16238,
          19649,
          44196,
          6479,
          0,
          14011,
          38917,
          43381,
          0,
          3726,
          4366,
          11613,
          4187,
          6132,
          18806,
          11485,
          11041,
          8120,
          32152,
          28975,
          54734,
          39832,
          29570,
          13901,
          25869,
          56088,
          19891,
          7467,
          20870,
          4804,
          19319,
          5779,
          7701,
          50980,
          13781,
          46712,
          0,
          58749,
          5848,
          6700,
          142274,
          41064,
          30015,
          69205,
          28518,
          18466,
          84184,
          5781,
          21746,
          15432,
          24300,
          2684,
          57642,
          7005,
          13058,
          8259,
          47267,
          16986,
          36603,
          75890,
          17174,
          24843,
          4247,
          8088,
          38803,
          27239,
          6108,
          55888,
          5920,
          12158,
          52903,
          24368,
          2620,
          0,
          2314,
          36614,
          9802,
          36605,
          43829,
          26387,
          18548
         ],
         "showlegend": false,
         "subplot": "polar",
         "theta": [
          0.1979166666666676,
          -33.62315789473684,
          0.315,
          0.7558333333333334,
          37.09708333333334,
          -22.854193548387098,
          18.053076923076922,
          -7.3493939393939405,
          5.105714285714287,
          40.08903225806452,
          -10.744166666666667,
          -29.850645161290323,
          51.98818181818183,
          53.66025,
          33.48153846153846,
          -10.185882352941176,
          43.98222222222222,
          -29.634249999999998,
          -11.975714285714286,
          28.249090909090906,
          0.743333333333334,
          11.8552,
          11.0469696969697,
          1.505,
          -10.110000000000001,
          11.323333333333332,
          18.155000000000005,
          -1.27423076923077,
          0.29,
          31.602692307692305,
          0.18935483870967798,
          25.520769230769233,
          0.34,
          20.722727272727273,
          67.92115384615384,
          1.34,
          -2.1366666666666734,
          -8.066603773584909,
          9.289696969696964,
          18.01576923076923,
          -54.905454545454546,
          18.85923076923077,
          14.697735849056603,
          21.12117647058823,
          -6.696071428571428,
          46.8784,
          56.0012,
          -28.631428571428575,
          42.23619047619048,
          48.404399999999995,
          40.28807692307692,
          32.43541666666667,
          134.86516129032256,
          43.268095238095235,
          20.258936170212767,
          14.810476190476189,
          -4.5796666666666646,
          34.075102040816326,
          98.52604166666667,
          0.36000000000000004,
          -1.9077419354838712,
          2.6008333333333336,
          19.167916666666667,
          3.8133333333333312,
          0.17909090909090908,
          2.7057499999999974,
          76.82238095238095,
          24.195,
          -14.544285714285715,
          34.35476190476191,
          32.768611111111106,
          1.203846153846152,
          5.584761904761905,
          13.6495,
          0.22,
          6.365454545454546,
          -4.4114814814814824,
          0.25,
          -30.263333333333335,
          0.23692307692307693,
          -11.86625,
          24.382399999999997,
          6.712962962962963,
          36.4332,
          0.38999999999999996,
          46.951212121212116,
          0.19000000000000003,
          0.29666666666666663,
          -20.29225806451613,
          0.15,
          5.5225,
          14.575384615384618,
          -15.940526315789475,
          -21.251153846153848,
          0.15,
          -22.481428571428573,
          -12.25230769230769,
          -5.223548387096776,
          6.516052631578947,
          52.70576923076923,
          11.889999999999999,
          63.66682926829269,
          -3.38425,
          1.5615384615384609,
          -20.093541666666667,
          11.706842105263158,
          16.008064516129032,
          -10.021666666666667,
          3.518571428571429,
          23.607307692307693,
          -24.1625,
          0.23,
          23.795,
          11.659250000000002,
          52.65652173913044,
          1.9579999999999997,
          -9.845,
          15.063200000000002,
          0.17,
          15.945161290322583,
          0.5008333333333334,
          12.718076923076922,
          10.536935483870968,
          25.965434782608696,
          -43.148250000000004,
          2.7016666666666667,
          44.90599999999999,
          3.9799999999999995,
          4.418139534883721,
          -5.231249999999998,
          3.6934782608695653,
          18.663076923076922,
          7.482580645161289,
          -1.74842105263158,
          2.555,
          21.034761904761904,
          16.19622222222222,
          9.62757575757576,
          -50.108125,
          -8.595263157894736,
          15.273809523809524,
          -1.8064102564102547,
          36.47095238095238,
          30.384230769230765,
          -91.6253846153846,
          0.23806451612902982,
          26.519411764705882,
          0.25,
          0.6608333333333334,
          6.066249999999999,
          1.8911999999999989,
          -1.1173913043478267,
          -21.599230769230765,
          -0.17000000000000134,
          3.401333333333333,
          117.99,
          69.7804,
          29.294680851063834,
          -59.035000000000004,
          -8.217777777777776,
          0.19666666666666668,
          -4.3605882352941165,
          20.24285714285714,
          46.597727272727276,
          24.784166666666668,
          6.330476190476195,
          8.349,
          49.11588235294117,
          0.36999999999999994,
          29.317878787878783,
          6.819166666666668,
          23.247500000000002,
          19.576249999999998,
          -1.4920000000000035,
          1.8616666666666666,
          58.474545454545456,
          -0.693749999999999,
          -19.48428571428571,
          22.844583333333333,
          11.728095238095241,
          72.33,
          0.15,
          7.792083333333331,
          -0.7744999999999991,
          17.13925925925926,
          0.9375,
          59.37580645161292,
          0.6027999999999994,
          27.09181818181818,
          8.96875,
          21.509545454545457,
          0.23,
          0.16166666666666665,
          1.4249999999999998,
          3.475,
          201.45345454545455,
          37.31375,
          18.550769230769234,
          86.82025,
          35.74634146341463,
          -40.12148148148148,
          7.13806451612903,
          12.632399999999995,
          7.544736842105261,
          29.87818181818182,
          -2.871290322580645,
          -28.641,
          -1.7806451612903218,
          2.511428571428571,
          0.006666666666665538,
          36.69095238095238,
          -3.456944444444444,
          7.290000000000001,
          1.8791666666666667,
          28.360000000000003,
          0.2742857142857168,
          23.0325,
          -1.736774193548387,
          35.361,
          0.3225,
          35.453548387096774,
          37.51833333333334,
          0.17,
          61.5476923076923,
          3.050952380952379,
          0.22666666666666668,
          32.163428571428575,
          0.30416666666666664,
          7.2708695652173905,
          2.7416666666666667,
          1.4791666666666667,
          21.122500000000002,
          32.70777777777778,
          -2.0144000000000006,
          20.365384615384617,
          2.7874999999999996,
          30.17060606060606,
          -12.483333333333333,
          53.81192307692307,
          14.900769230769232,
          61.817499999999995,
          19.975714285714293,
          -3.5999999999999983,
          -2.726818181818182,
          11.966060606060609,
          -28.489722222222227,
          13.135,
          0.21,
          0.15,
          -0.21814814814814765,
          4.718333333333333,
          0.17,
          0.4166666666666667,
          43.662608695652175,
          68.3640625,
          0.00333333333333285,
          0.18499999999999997,
          6.563200000000006,
          -25.931935483870962,
          68.95772727272727,
          121.98605263157893,
          2.2025,
          57.44238095238095,
          34.5672,
          1.8208333333333335,
          -5.411636363636363,
          59.15222222222222,
          2.401621621621622,
          -1.17878787878788,
          1.518787878787875,
          3.654642857142856,
          0.21,
          20.372333333333337,
          -11.555499999999997,
          5.697333333333334,
          21.344375,
          0.6038461538461538,
          -1.9987499999999994,
          30.737826086956524,
          -1.4123684210526313,
          -19.282083333333336,
          -16.224230769230765,
          22.596249999999998,
          -14.871428571428575,
          -17.572272727272725,
          17.14288888888889,
          -2.8438095238095222,
          5.41,
          5.597619047619048,
          -6.5375000000000005,
          -9.43653846153846,
          39.21741935483871,
          -19.116129032258073,
          4.044545454545452,
          5.300303030303027,
          10.12857142857143,
          -2.6325,
          0.1979166666666676
         ],
         "type": "scatterpolar"
        }
       ],
       "layout": {
        "autosize": true,
        "legend": {
         "tracegroupgap": 0
        },
        "margin": {
         "t": 60
        },
        "polar": {
         "angularaxis": {
          "direction": "clockwise",
          "rotation": 90,
          "type": "linear"
         },
         "domain": {
          "x": [
           0,
           1
          ],
          "y": [
           0,
           1
          ]
         },
         "radialaxis": {
          "autorange": true,
          "range": [
           0,
           142274
          ],
          "type": "linear"
         }
        },
        "template": {
         "data": {
          "bar": [
           {
            "error_x": {
             "color": "#2a3f5f"
            },
            "error_y": {
             "color": "#2a3f5f"
            },
            "marker": {
             "line": {
              "color": "#E5ECF6",
              "width": 0.5
             },
             "pattern": {
              "fillmode": "overlay",
              "size": 10,
              "solidity": 0.2
             }
            },
            "type": "bar"
           }
          ],
          "barpolar": [
           {
            "marker": {
             "line": {
              "color": "#E5ECF6",
              "width": 0.5
             },
             "pattern": {
              "fillmode": "overlay",
              "size": 10,
              "solidity": 0.2
             }
            },
            "type": "barpolar"
           }
          ],
          "carpet": [
           {
            "aaxis": {
             "endlinecolor": "#2a3f5f",
             "gridcolor": "white",
             "linecolor": "white",
             "minorgridcolor": "white",
             "startlinecolor": "#2a3f5f"
            },
            "baxis": {
             "endlinecolor": "#2a3f5f",
             "gridcolor": "white",
             "linecolor": "white",
             "minorgridcolor": "white",
             "startlinecolor": "#2a3f5f"
            },
            "type": "carpet"
           }
          ],
          "choropleth": [
           {
            "colorbar": {
             "outlinewidth": 0,
             "ticks": ""
            },
            "type": "choropleth"
           }
          ],
          "contour": [
           {
            "colorbar": {
             "outlinewidth": 0,
             "ticks": ""
            },
            "colorscale": [
             [
              0,
              "#0d0887"
             ],
             [
              0.1111111111111111,
              "#46039f"
             ],
             [
              0.2222222222222222,
              "#7201a8"
             ],
             [
              0.3333333333333333,
              "#9c179e"
             ],
             [
              0.4444444444444444,
              "#bd3786"
             ],
             [
              0.5555555555555556,
              "#d8576b"
             ],
             [
              0.6666666666666666,
              "#ed7953"
             ],
             [
              0.7777777777777778,
              "#fb9f3a"
             ],
             [
              0.8888888888888888,
              "#fdca26"
             ],
             [
              1,
              "#f0f921"
             ]
            ],
            "type": "contour"
           }
          ],
          "contourcarpet": [
           {
            "colorbar": {
             "outlinewidth": 0,
             "ticks": ""
            },
            "type": "contourcarpet"
           }
          ],
          "heatmap": [
           {
            "colorbar": {
             "outlinewidth": 0,
             "ticks": ""
            },
            "colorscale": [
             [
              0,
              "#0d0887"
             ],
             [
              0.1111111111111111,
              "#46039f"
             ],
             [
              0.2222222222222222,
              "#7201a8"
             ],
             [
              0.3333333333333333,
              "#9c179e"
             ],
             [
              0.4444444444444444,
              "#bd3786"
             ],
             [
              0.5555555555555556,
              "#d8576b"
             ],
             [
              0.6666666666666666,
              "#ed7953"
             ],
             [
              0.7777777777777778,
              "#fb9f3a"
             ],
             [
              0.8888888888888888,
              "#fdca26"
             ],
             [
              1,
              "#f0f921"
             ]
            ],
            "type": "heatmap"
           }
          ],
          "heatmapgl": [
           {
            "colorbar": {
             "outlinewidth": 0,
             "ticks": ""
            },
            "colorscale": [
             [
              0,
              "#0d0887"
             ],
             [
              0.1111111111111111,
              "#46039f"
             ],
             [
              0.2222222222222222,
              "#7201a8"
             ],
             [
              0.3333333333333333,
              "#9c179e"
             ],
             [
              0.4444444444444444,
              "#bd3786"
             ],
             [
              0.5555555555555556,
              "#d8576b"
             ],
             [
              0.6666666666666666,
              "#ed7953"
             ],
             [
              0.7777777777777778,
              "#fb9f3a"
             ],
             [
              0.8888888888888888,
              "#fdca26"
             ],
             [
              1,
              "#f0f921"
             ]
            ],
            "type": "heatmapgl"
           }
          ],
          "histogram": [
           {
            "marker": {
             "pattern": {
              "fillmode": "overlay",
              "size": 10,
              "solidity": 0.2
             }
            },
            "type": "histogram"
           }
          ],
          "histogram2d": [
           {
            "colorbar": {
             "outlinewidth": 0,
             "ticks": ""
            },
            "colorscale": [
             [
              0,
              "#0d0887"
             ],
             [
              0.1111111111111111,
              "#46039f"
             ],
             [
              0.2222222222222222,
              "#7201a8"
             ],
             [
              0.3333333333333333,
              "#9c179e"
             ],
             [
              0.4444444444444444,
              "#bd3786"
             ],
             [
              0.5555555555555556,
              "#d8576b"
             ],
             [
              0.6666666666666666,
              "#ed7953"
             ],
             [
              0.7777777777777778,
              "#fb9f3a"
             ],
             [
              0.8888888888888888,
              "#fdca26"
             ],
             [
              1,
              "#f0f921"
             ]
            ],
            "type": "histogram2d"
           }
          ],
          "histogram2dcontour": [
           {
            "colorbar": {
             "outlinewidth": 0,
             "ticks": ""
            },
            "colorscale": [
             [
              0,
              "#0d0887"
             ],
             [
              0.1111111111111111,
              "#46039f"
             ],
             [
              0.2222222222222222,
              "#7201a8"
             ],
             [
              0.3333333333333333,
              "#9c179e"
             ],
             [
              0.4444444444444444,
              "#bd3786"
             ],
             [
              0.5555555555555556,
              "#d8576b"
             ],
             [
              0.6666666666666666,
              "#ed7953"
             ],
             [
              0.7777777777777778,
              "#fb9f3a"
             ],
             [
              0.8888888888888888,
              "#fdca26"
             ],
             [
              1,
              "#f0f921"
             ]
            ],
            "type": "histogram2dcontour"
           }
          ],
          "mesh3d": [
           {
            "colorbar": {
             "outlinewidth": 0,
             "ticks": ""
            },
            "type": "mesh3d"
           }
          ],
          "parcoords": [
           {
            "line": {
             "colorbar": {
              "outlinewidth": 0,
              "ticks": ""
             }
            },
            "type": "parcoords"
           }
          ],
          "pie": [
           {
            "automargin": true,
            "type": "pie"
           }
          ],
          "scatter": [
           {
            "marker": {
             "colorbar": {
              "outlinewidth": 0,
              "ticks": ""
             }
            },
            "type": "scatter"
           }
          ],
          "scatter3d": [
           {
            "line": {
             "colorbar": {
              "outlinewidth": 0,
              "ticks": ""
             }
            },
            "marker": {
             "colorbar": {
              "outlinewidth": 0,
              "ticks": ""
             }
            },
            "type": "scatter3d"
           }
          ],
          "scattercarpet": [
           {
            "marker": {
             "colorbar": {
              "outlinewidth": 0,
              "ticks": ""
             }
            },
            "type": "scattercarpet"
           }
          ],
          "scattergeo": [
           {
            "marker": {
             "colorbar": {
              "outlinewidth": 0,
              "ticks": ""
             }
            },
            "type": "scattergeo"
           }
          ],
          "scattergl": [
           {
            "marker": {
             "colorbar": {
              "outlinewidth": 0,
              "ticks": ""
             }
            },
            "type": "scattergl"
           }
          ],
          "scattermapbox": [
           {
            "marker": {
             "colorbar": {
              "outlinewidth": 0,
              "ticks": ""
             }
            },
            "type": "scattermapbox"
           }
          ],
          "scatterpolar": [
           {
            "marker": {
             "colorbar": {
              "outlinewidth": 0,
              "ticks": ""
             }
            },
            "type": "scatterpolar"
           }
          ],
          "scatterpolargl": [
           {
            "marker": {
             "colorbar": {
              "outlinewidth": 0,
              "ticks": ""
             }
            },
            "type": "scatterpolargl"
           }
          ],
          "scatterternary": [
           {
            "marker": {
             "colorbar": {
              "outlinewidth": 0,
              "ticks": ""
             }
            },
            "type": "scatterternary"
           }
          ],
          "surface": [
           {
            "colorbar": {
             "outlinewidth": 0,
             "ticks": ""
            },
            "colorscale": [
             [
              0,
              "#0d0887"
             ],
             [
              0.1111111111111111,
              "#46039f"
             ],
             [
              0.2222222222222222,
              "#7201a8"
             ],
             [
              0.3333333333333333,
              "#9c179e"
             ],
             [
              0.4444444444444444,
              "#bd3786"
             ],
             [
              0.5555555555555556,
              "#d8576b"
             ],
             [
              0.6666666666666666,
              "#ed7953"
             ],
             [
              0.7777777777777778,
              "#fb9f3a"
             ],
             [
              0.8888888888888888,
              "#fdca26"
             ],
             [
              1,
              "#f0f921"
             ]
            ],
            "type": "surface"
           }
          ],
          "table": [
           {
            "cells": {
             "fill": {
              "color": "#EBF0F8"
             },
             "line": {
              "color": "white"
             }
            },
            "header": {
             "fill": {
              "color": "#C8D4E3"
             },
             "line": {
              "color": "white"
             }
            },
            "type": "table"
           }
          ]
         },
         "layout": {
          "annotationdefaults": {
           "arrowcolor": "#2a3f5f",
           "arrowhead": 0,
           "arrowwidth": 1
          },
          "autotypenumbers": "strict",
          "coloraxis": {
           "colorbar": {
            "outlinewidth": 0,
            "ticks": ""
           }
          },
          "colorscale": {
           "diverging": [
            [
             0,
             "#8e0152"
            ],
            [
             0.1,
             "#c51b7d"
            ],
            [
             0.2,
             "#de77ae"
            ],
            [
             0.3,
             "#f1b6da"
            ],
            [
             0.4,
             "#fde0ef"
            ],
            [
             0.5,
             "#f7f7f7"
            ],
            [
             0.6,
             "#e6f5d0"
            ],
            [
             0.7,
             "#b8e186"
            ],
            [
             0.8,
             "#7fbc41"
            ],
            [
             0.9,
             "#4d9221"
            ],
            [
             1,
             "#276419"
            ]
           ],
           "sequential": [
            [
             0,
             "#0d0887"
            ],
            [
             0.1111111111111111,
             "#46039f"
            ],
            [
             0.2222222222222222,
             "#7201a8"
            ],
            [
             0.3333333333333333,
             "#9c179e"
            ],
            [
             0.4444444444444444,
             "#bd3786"
            ],
            [
             0.5555555555555556,
             "#d8576b"
            ],
            [
             0.6666666666666666,
             "#ed7953"
            ],
            [
             0.7777777777777778,
             "#fb9f3a"
            ],
            [
             0.8888888888888888,
             "#fdca26"
            ],
            [
             1,
             "#f0f921"
            ]
           ],
           "sequentialminus": [
            [
             0,
             "#0d0887"
            ],
            [
             0.1111111111111111,
             "#46039f"
            ],
            [
             0.2222222222222222,
             "#7201a8"
            ],
            [
             0.3333333333333333,
             "#9c179e"
            ],
            [
             0.4444444444444444,
             "#bd3786"
            ],
            [
             0.5555555555555556,
             "#d8576b"
            ],
            [
             0.6666666666666666,
             "#ed7953"
            ],
            [
             0.7777777777777778,
             "#fb9f3a"
            ],
            [
             0.8888888888888888,
             "#fdca26"
            ],
            [
             1,
             "#f0f921"
            ]
           ]
          },
          "colorway": [
           "#636efa",
           "#EF553B",
           "#00cc96",
           "#ab63fa",
           "#FFA15A",
           "#19d3f3",
           "#FF6692",
           "#B6E880",
           "#FF97FF",
           "#FECB52"
          ],
          "font": {
           "color": "#2a3f5f"
          },
          "geo": {
           "bgcolor": "white",
           "lakecolor": "white",
           "landcolor": "#E5ECF6",
           "showlakes": true,
           "showland": true,
           "subunitcolor": "white"
          },
          "hoverlabel": {
           "align": "left"
          },
          "hovermode": "closest",
          "mapbox": {
           "style": "light"
          },
          "paper_bgcolor": "white",
          "plot_bgcolor": "#E5ECF6",
          "polar": {
           "angularaxis": {
            "gridcolor": "white",
            "linecolor": "white",
            "ticks": ""
           },
           "bgcolor": "#E5ECF6",
           "radialaxis": {
            "gridcolor": "white",
            "linecolor": "white",
            "ticks": ""
           }
          },
          "scene": {
           "xaxis": {
            "backgroundcolor": "#E5ECF6",
            "gridcolor": "white",
            "gridwidth": 2,
            "linecolor": "white",
            "showbackground": true,
            "ticks": "",
            "zerolinecolor": "white"
           },
           "yaxis": {
            "backgroundcolor": "#E5ECF6",
            "gridcolor": "white",
            "gridwidth": 2,
            "linecolor": "white",
            "showbackground": true,
            "ticks": "",
            "zerolinecolor": "white"
           },
           "zaxis": {
            "backgroundcolor": "#E5ECF6",
            "gridcolor": "white",
            "gridwidth": 2,
            "linecolor": "white",
            "showbackground": true,
            "ticks": "",
            "zerolinecolor": "white"
           }
          },
          "shapedefaults": {
           "line": {
            "color": "#2a3f5f"
           }
          },
          "ternary": {
           "aaxis": {
            "gridcolor": "white",
            "linecolor": "white",
            "ticks": ""
           },
           "baxis": {
            "gridcolor": "white",
            "linecolor": "white",
            "ticks": ""
           },
           "bgcolor": "#E5ECF6",
           "caxis": {
            "gridcolor": "white",
            "linecolor": "white",
            "ticks": ""
           }
          },
          "title": {
           "x": 0.05
          },
          "xaxis": {
           "automargin": true,
           "gridcolor": "white",
           "linecolor": "white",
           "ticks": "",
           "title": {
            "standoff": 15
           },
           "zerolinecolor": "white",
           "zerolinewidth": 2
          },
          "yaxis": {
           "automargin": true,
           "gridcolor": "white",
           "linecolor": "white",
           "ticks": "",
           "title": {
            "standoff": 15
           },
           "zerolinecolor": "white",
           "zerolinewidth": 2
          }
         }
        }
       }
      },
      "image/png": "[encoded data removed]",
      "text/html": [
       "<div>                            <div id=\"c908cc3a-e411-41aa-ba78-52932a56e44c\" class=\"plotly-graph-div\" style=\"height:525px; width:100%;\"></div>            <script type=\"text/javascript\">                require([\"plotly\"], function(Plotly) {                    window.PLOTLYENV=window.PLOTLYENV || {};                                    if (document.getElementById(\"c908cc3a-e411-41aa-ba78-52932a56e44c\")) {                    Plotly.newPlot(                        \"c908cc3a-e411-41aa-ba78-52932a56e44c\",                        [{\"hovertemplate\":\"income=%{r}<br>avg_tran_amt=%{theta}<extra></extra>\",\"legendgroup\":\"\",\"line\":{\"color\":\"#636efa\",\"dash\":\"solid\"},\"marker\":{\"symbol\":\"circle\"},\"mode\":\"lines\",\"name\":\"\",\"r\":[18548.0,6605.0,44554.0,47668.0,0.0,1929.0,9622.0,6354.0,26505.0,21015.0,19494.0,6493.0,13148.0,24344.0,10025.0,21663.0,7571.0,15246.0,19823.0,27492.0,6300.0,17242.0,9129.0,16957.0,10933.0,81509.0,7431.0,12885.0,7633.0,0.0,1982.0,28867.0,25180.0,8810.0,57723.0,18350.0,90248.0,49258.0,83295.0,31910.0,68933.0,24275.0,23206.0,6356.0,1039.0,5488.0,34080.0,27649.0,11935.0,2769.0,43900.0,12202.0,34797.0,12823.0,0.0,18144.0,12258.0,3618.0,75121.0,38010.0,2644.0,5808.0,39291.0,4391.0,3419.0,4626.0,86744.0,12621.0,29363.0,18785.0,15077.0,12722.0,29579.0,22758.0,17612.0,27814.0,7777.0,18891.0,41650.0,37471.0,13515.0,0.0,13750.0,5772.0,6195.0,32739.0,13113.0,45629.0,19282.0,0.0,0.0,34855.0,23973.0,12403.0,2715.0,3339.0,35508.0,31054.0,17584.0,18760.0,12973.0,49623.0,27258.0,19686.0,43315.0,30068.0,22680.0,12690.0,10608.0,0.0,60242.0,0.0,20840.0,2517.0,27155.0,8201.0,15301.0,22322.0,26364.0,15576.0,40671.0,39250.0,36923.0,36259.0,0.0,20358.0,0.0,12310.0,3093.0,33060.0,17750.0,17052.0,0.0,10818.0,9099.0,41876.0,0.0,9480.0,46884.0,22995.0,8681.0,22783.0,48479.0,20684.0,101177.0,6618.0,16579.0,0.0,34394.0,13124.0,8575.0,8038.0,29120.0,17804.0,0.0,54647.0,8257.0,30217.0,59542.0,24131.0,19863.0,32700.0,37364.0,13137.0,43872.0,0.0,7914.0,45195.0,38736.0,8799.0,13497.0,33113.0,5981.0,26008.0,8262.0,10053.0,17412.0,42532.0,0.0,19088.0,9495.0,8961.0,59047.0,13241.0,7169.0,57224.0,49553.0,19019.0,0.0,21657.0,0.0,18176.0,3371.0,98566.0,30163.0,102286.0,27635.0,50890.0,63532.0,31496.0,1565.0,7302.0,30989.0,0.0,4424.0,6909.0,39382.0,22025.0,13317.0,26886.0,3303.0,10234.0,13087.0,29536.0,11946.0,68039.0,35117.0,16238.0,19649.0,44196.0,6479.0,0.0,14011.0,38917.0,43381.0,0.0,3726.0,4366.0,11613.0,4187.0,6132.0,18806.0,11485.0,11041.0,8120.0,32152.0,28975.0,54734.0,39832.0,29570.0,13901.0,25869.0,56088.0,19891.0,7467.0,20870.0,4804.0,19319.0,5779.0,7701.0,50980.0,13781.0,46712.0,0.0,58749.0,5848.0,6700.0,142274.0,41064.0,30015.0,69205.0,28518.0,18466.0,84184.0,5781.0,21746.0,15432.0,24300.0,2684.0,57642.0,7005.0,13058.0,8259.0,47267.0,16986.0,36603.0,75890.0,17174.0,24843.0,4247.0,8088.0,38803.0,27239.0,6108.0,55888.0,5920.0,12158.0,52903.0,24368.0,2620.0,0.0,2314.0,36614.0,9802.0,36605.0,43829.0,26387.0,18548.0],\"showlegend\":false,\"subplot\":\"polar\",\"theta\":[0.1979166666666676,-33.62315789473684,0.315,0.7558333333333334,37.09708333333334,-22.854193548387098,18.053076923076922,-7.3493939393939405,5.105714285714287,40.08903225806452,-10.744166666666667,-29.850645161290323,51.98818181818183,53.66025,33.48153846153846,-10.185882352941176,43.98222222222222,-29.634249999999998,-11.975714285714286,28.249090909090906,0.743333333333334,11.8552,11.0469696969697,1.505,-10.110000000000001,11.323333333333332,18.155000000000005,-1.27423076923077,0.29,31.602692307692305,0.18935483870967798,25.520769230769233,0.34,20.722727272727273,67.92115384615384,1.34,-2.1366666666666734,-8.066603773584909,9.289696969696964,18.01576923076923,-54.905454545454546,18.85923076923077,14.697735849056603,21.12117647058823,-6.696071428571428,46.8784,56.0012,-28.631428571428575,42.23619047619048,48.404399999999995,40.28807692307692,32.43541666666667,134.86516129032256,43.268095238095235,20.258936170212767,14.810476190476189,-4.5796666666666646,34.075102040816326,98.52604166666667,0.36000000000000004,-1.9077419354838712,2.6008333333333336,19.167916666666667,3.8133333333333312,0.17909090909090908,2.7057499999999974,76.82238095238095,24.195,-14.544285714285715,34.35476190476191,32.768611111111106,1.203846153846152,5.584761904761905,13.6495,0.22,6.365454545454546,-4.4114814814814824,0.25,-30.263333333333335,0.23692307692307693,-11.86625,24.382399999999997,6.712962962962963,36.4332,0.38999999999999996,46.951212121212116,0.19000000000000003,0.29666666666666663,-20.29225806451613,0.15,5.5225,14.575384615384618,-15.940526315789475,-21.251153846153848,0.15,-22.481428571428573,-12.25230769230769,-5.223548387096776,6.516052631578947,52.70576923076923,11.889999999999999,63.66682926829269,-3.38425,1.5615384615384609,-20.093541666666667,11.706842105263158,16.008064516129032,-10.021666666666667,3.518571428571429,23.607307692307693,-24.1625,0.23,23.795,11.659250000000002,52.65652173913044,1.9579999999999997,-9.845,15.063200000000002,0.17,15.945161290322583,0.5008333333333334,12.718076923076922,10.536935483870968,25.965434782608696,-43.148250000000004,2.7016666666666667,44.90599999999999,3.9799999999999995,4.418139534883721,-5.231249999999998,3.6934782608695653,18.663076923076922,7.482580645161289,-1.74842105263158,2.555,21.034761904761904,16.19622222222222,9.62757575757576,-50.108125,-8.595263157894736,15.273809523809524,-1.8064102564102547,36.47095238095238,30.384230769230765,-91.6253846153846,0.23806451612902982,26.519411764705882,0.25,0.6608333333333334,6.066249999999999,1.8911999999999989,-1.1173913043478267,-21.599230769230765,-0.17000000000000134,3.401333333333333,117.99,69.7804,29.294680851063834,-59.035000000000004,-8.217777777777776,0.19666666666666668,-4.3605882352941165,20.24285714285714,46.597727272727276,24.784166666666668,6.330476190476195,8.349,49.11588235294117,0.36999999999999994,29.317878787878783,6.819166666666668,23.247500000000002,19.576249999999998,-1.4920000000000035,1.8616666666666666,58.474545454545456,-0.693749999999999,-19.48428571428571,22.844583333333333,11.728095238095241,72.33,0.15,7.792083333333331,-0.7744999999999991,17.13925925925926,0.9375,59.37580645161292,0.6027999999999994,27.09181818181818,8.96875,21.509545454545457,0.23,0.16166666666666665,1.4249999999999998,3.475,201.45345454545455,37.31375,18.550769230769234,86.82025,35.74634146341463,-40.12148148148148,7.13806451612903,12.632399999999995,7.544736842105261,29.87818181818182,-2.871290322580645,-28.641,-1.7806451612903218,2.511428571428571,0.006666666666665538,36.69095238095238,-3.456944444444444,7.290000000000001,1.8791666666666667,28.360000000000003,0.2742857142857168,23.0325,-1.736774193548387,35.361,0.3225,35.453548387096774,37.51833333333334,0.17,61.5476923076923,3.050952380952379,0.22666666666666668,32.163428571428575,0.30416666666666664,7.2708695652173905,2.7416666666666667,1.4791666666666667,21.122500000000002,32.70777777777778,-2.0144000000000006,20.365384615384617,2.7874999999999996,30.17060606060606,-12.483333333333333,53.81192307692307,14.900769230769232,61.817499999999995,19.975714285714293,-3.5999999999999983,-2.726818181818182,11.966060606060609,-28.489722222222227,13.135,0.21,0.15,-0.21814814814814765,4.718333333333333,0.17,0.4166666666666667,43.662608695652175,68.3640625,0.00333333333333285,0.18499999999999997,6.563200000000006,-25.931935483870962,68.95772727272727,121.98605263157893,2.2025,57.44238095238095,34.5672,1.8208333333333335,-5.411636363636363,59.15222222222222,2.401621621621622,-1.17878787878788,1.518787878787875,3.654642857142856,0.21,20.372333333333337,-11.555499999999997,5.697333333333334,21.344375,0.6038461538461538,-1.9987499999999994,30.737826086956524,-1.4123684210526313,-19.282083333333336,-16.224230769230765,22.596249999999998,-14.871428571428575,-17.572272727272725,17.14288888888889,-2.8438095238095222,5.41,5.597619047619048,-6.5375000000000005,-9.43653846153846,39.21741935483871,-19.116129032258073,4.044545454545452,5.300303030303027,10.12857142857143,-2.6325,0.1979166666666676],\"type\":\"scatterpolar\"}],                        {\"template\":{\"data\":{\"bar\":[{\"error_x\":{\"color\":\"#2a3f5f\"},\"error_y\":{\"color\":\"#2a3f5f\"},\"marker\":{\"line\":{\"color\":\"#E5ECF6\",\"width\":0.5},\"pattern\":{\"fillmode\":\"overlay\",\"size\":10,\"solidity\":0.2}},\"type\":\"bar\"}],\"barpolar\":[{\"marker\":{\"line\":{\"color\":\"#E5ECF6\",\"width\":0.5},\"pattern\":{\"fillmode\":\"overlay\",\"size\":10,\"solidity\":0.2}},\"type\":\"barpolar\"}],\"carpet\":[{\"aaxis\":{\"endlinecolor\":\"#2a3f5f\",\"gridcolor\":\"white\",\"linecolor\":\"white\",\"minorgridcolor\":\"white\",\"startlinecolor\":\"#2a3f5f\"},\"baxis\":{\"endlinecolor\":\"#2a3f5f\",\"gridcolor\":\"white\",\"linecolor\":\"white\",\"minorgridcolor\":\"white\",\"startlinecolor\":\"#2a3f5f\"},\"type\":\"carpet\"}],\"choropleth\":[{\"colorbar\":{\"outlinewidth\":0,\"ticks\":\"\"},\"type\":\"choropleth\"}],\"contour\":[{\"colorbar\":{\"outlinewidth\":0,\"ticks\":\"\"},\"colorscale\":[[0.0,\"#0d0887\"],[0.1111111111111111,\"#46039f\"],[0.2222222222222222,\"#7201a8\"],[0.3333333333333333,\"#9c179e\"],[0.4444444444444444,\"#bd3786\"],[0.5555555555555556,\"#d8576b\"],[0.6666666666666666,\"#ed7953\"],[0.7777777777777778,\"#fb9f3a\"],[0.8888888888888888,\"#fdca26\"],[1.0,\"#f0f921\"]],\"type\":\"contour\"}],\"contourcarpet\":[{\"colorbar\":{\"outlinewidth\":0,\"ticks\":\"\"},\"type\":\"contourcarpet\"}],\"heatmap\":[{\"colorbar\":{\"outlinewidth\":0,\"ticks\":\"\"},\"colorscale\":[[0.0,\"#0d0887\"],[0.1111111111111111,\"#46039f\"],[0.2222222222222222,\"#7201a8\"],[0.3333333333333333,\"#9c179e\"],[0.4444444444444444,\"#bd3786\"],[0.5555555555555556,\"#d8576b\"],[0.6666666666666666,\"#ed7953\"],[0.7777777777777778,\"#fb9f3a\"],[0.8888888888888888,\"#fdca26\"],[1.0,\"#f0f921\"]],\"type\":\"heatmap\"}],\"heatmapgl\":[{\"colorbar\":{\"outlinewidth\":0,\"ticks\":\"\"},\"colorscale\":[[0.0,\"#0d0887\"],[0.1111111111111111,\"#46039f\"],[0.2222222222222222,\"#7201a8\"],[0.3333333333333333,\"#9c179e\"],[0.4444444444444444,\"#bd3786\"],[0.5555555555555556,\"#d8576b\"],[0.6666666666666666,\"#ed7953\"],[0.7777777777777778,\"#fb9f3a\"],[0.8888888888888888,\"#fdca26\"],[1.0,\"#f0f921\"]],\"type\":\"heatmapgl\"}],\"histogram\":[{\"marker\":{\"pattern\":{\"fillmode\":\"overlay\",\"size\":10,\"solidity\":0.2}},\"type\":\"histogram\"}],\"histogram2d\":[{\"colorbar\":{\"outlinewidth\":0,\"ticks\":\"\"},\"colorscale\":[[0.0,\"#0d0887\"],[0.1111111111111111,\"#46039f\"],[0.2222222222222222,\"#7201a8\"],[0.3333333333333333,\"#9c179e\"],[0.4444444444444444,\"#bd3786\"],[0.5555555555555556,\"#d8576b\"],[0.6666666666666666,\"#ed7953\"],[0.7777777777777778,\"#fb9f3a\"],[0.8888888888888888,\"#fdca26\"],[1.0,\"#f0f921\"]],\"type\":\"histogram2d\"}],\"histogram2dcontour\":[{\"colorbar\":{\"outlinewidth\":0,\"ticks\":\"\"},\"colorscale\":[[0.0,\"#0d0887\"],[0.1111111111111111,\"#46039f\"],[0.2222222222222222,\"#7201a8\"],[0.3333333333333333,\"#9c179e\"],[0.4444444444444444,\"#bd3786\"],[0.5555555555555556,\"#d8576b\"],[0.6666666666666666,\"#ed7953\"],[0.7777777777777778,\"#fb9f3a\"],[0.8888888888888888,\"#fdca26\"],[1.0,\"#f0f921\"]],\"type\":\"histogram2dcontour\"}],\"mesh3d\":[{\"colorbar\":{\"outlinewidth\":0,\"ticks\":\"\"},\"type\":\"mesh3d\"}],\"parcoords\":[{\"line\":{\"colorbar\":{\"outlinewidth\":0,\"ticks\":\"\"}},\"type\":\"parcoords\"}],\"pie\":[{\"automargin\":true,\"type\":\"pie\"}],\"scatter\":[{\"marker\":{\"colorbar\":{\"outlinewidth\":0,\"ticks\":\"\"}},\"type\":\"scatter\"}],\"scatter3d\":[{\"line\":{\"colorbar\":{\"outlinewidth\":0,\"ticks\":\"\"}},\"marker\":{\"colorbar\":{\"outlinewidth\":0,\"ticks\":\"\"}},\"type\":\"scatter3d\"}],\"scattercarpet\":[{\"marker\":{\"colorbar\":{\"outlinewidth\":0,\"ticks\":\"\"}},\"type\":\"scattercarpet\"}],\"scattergeo\":[{\"marker\":{\"colorbar\":{\"outlinewidth\":0,\"ticks\":\"\"}},\"type\":\"scattergeo\"}],\"scattergl\":[{\"marker\":{\"colorbar\":{\"outlinewidth\":0,\"ticks\":\"\"}},\"type\":\"scattergl\"}],\"scattermapbox\":[{\"marker\":{\"colorbar\":{\"outlinewidth\":0,\"ticks\":\"\"}},\"type\":\"scattermapbox\"}],\"scatterpolar\":[{\"marker\":{\"colorbar\":{\"outlinewidth\":0,\"ticks\":\"\"}},\"type\":\"scatterpolar\"}],\"scatterpolargl\":[{\"marker\":{\"colorbar\":{\"outlinewidth\":0,\"ticks\":\"\"}},\"type\":\"scatterpolargl\"}],\"scatterternary\":[{\"marker\":{\"colorbar\":{\"outlinewidth\":0,\"ticks\":\"\"}},\"type\":\"scatterternary\"}],\"surface\":[{\"colorbar\":{\"outlinewidth\":0,\"ticks\":\"\"},\"colorscale\":[[0.0,\"#0d0887\"],[0.1111111111111111,\"#46039f\"],[0.2222222222222222,\"#7201a8\"],[0.3333333333333333,\"#9c179e\"],[0.4444444444444444,\"#bd3786\"],[0.5555555555555556,\"#d8576b\"],[0.6666666666666666,\"#ed7953\"],[0.7777777777777778,\"#fb9f3a\"],[0.8888888888888888,\"#fdca26\"],[1.0,\"#f0f921\"]],\"type\":\"surface\"}],\"table\":[{\"cells\":{\"fill\":{\"color\":\"#EBF0F8\"},\"line\":{\"color\":\"white\"}},\"header\":{\"fill\":{\"color\":\"#C8D4E3\"},\"line\":{\"color\":\"white\"}},\"type\":\"table\"}]},\"layout\":{\"annotationdefaults\":{\"arrowcolor\":\"#2a3f5f\",\"arrowhead\":0,\"arrowwidth\":1},\"autotypenumbers\":\"strict\",\"coloraxis\":{\"colorbar\":{\"outlinewidth\":0,\"ticks\":\"\"}},\"colorscale\":{\"diverging\":[[0,\"#8e0152\"],[0.1,\"#c51b7d\"],[0.2,\"#de77ae\"],[0.3,\"#f1b6da\"],[0.4,\"#fde0ef\"],[0.5,\"#f7f7f7\"],[0.6,\"#e6f5d0\"],[0.7,\"#b8e186\"],[0.8,\"#7fbc41\"],[0.9,\"#4d9221\"],[1,\"#276419\"]],\"sequential\":[[0.0,\"#0d0887\"],[0.1111111111111111,\"#46039f\"],[0.2222222222222222,\"#7201a8\"],[0.3333333333333333,\"#9c179e\"],[0.4444444444444444,\"#bd3786\"],[0.5555555555555556,\"#d8576b\"],[0.6666666666666666,\"#ed7953\"],[0.7777777777777778,\"#fb9f3a\"],[0.8888888888888888,\"#fdca26\"],[1.0,\"#f0f921\"]],\"sequentialminus\":[[0.0,\"#0d0887\"],[0.1111111111111111,\"#46039f\"],[0.2222222222222222,\"#7201a8\"],[0.3333333333333333,\"#9c179e\"],[0.4444444444444444,\"#bd3786\"],[0.5555555555555556,\"#d8576b\"],[0.6666666666666666,\"#ed7953\"],[0.7777777777777778,\"#fb9f3a\"],[0.8888888888888888,\"#fdca26\"],[1.0,\"#f0f921\"]]},\"colorway\":[\"#636efa\",\"#EF553B\",\"#00cc96\",\"#ab63fa\",\"#FFA15A\",\"#19d3f3\",\"#FF6692\",\"#B6E880\",\"#FF97FF\",\"#FECB52\"],\"font\":{\"color\":\"#2a3f5f\"},\"geo\":{\"bgcolor\":\"white\",\"lakecolor\":\"white\",\"landcolor\":\"#E5ECF6\",\"showlakes\":true,\"showland\":true,\"subunitcolor\":\"white\"},\"hoverlabel\":{\"align\":\"left\"},\"hovermode\":\"closest\",\"mapbox\":{\"style\":\"light\"},\"paper_bgcolor\":\"white\",\"plot_bgcolor\":\"#E5ECF6\",\"polar\":{\"angularaxis\":{\"gridcolor\":\"white\",\"linecolor\":\"white\",\"ticks\":\"\"},\"bgcolor\":\"#E5ECF6\",\"radialaxis\":{\"gridcolor\":\"white\",\"linecolor\":\"white\",\"ticks\":\"\"}},\"scene\":{\"xaxis\":{\"backgroundcolor\":\"#E5ECF6\",\"gridcolor\":\"white\",\"gridwidth\":2,\"linecolor\":\"white\",\"showbackground\":true,\"ticks\":\"\",\"zerolinecolor\":\"white\"},\"yaxis\":{\"backgroundcolor\":\"#E5ECF6\",\"gridcolor\":\"white\",\"gridwidth\":2,\"linecolor\":\"white\",\"showbackground\":true,\"ticks\":\"\",\"zerolinecolor\":\"white\"},\"zaxis\":{\"backgroundcolor\":\"#E5ECF6\",\"gridcolor\":\"white\",\"gridwidth\":2,\"linecolor\":\"white\",\"showbackground\":true,\"ticks\":\"\",\"zerolinecolor\":\"white\"}},\"shapedefaults\":{\"line\":{\"color\":\"#2a3f5f\"}},\"ternary\":{\"aaxis\":{\"gridcolor\":\"white\",\"linecolor\":\"white\",\"ticks\":\"\"},\"baxis\":{\"gridcolor\":\"white\",\"linecolor\":\"white\",\"ticks\":\"\"},\"bgcolor\":\"#E5ECF6\",\"caxis\":{\"gridcolor\":\"white\",\"linecolor\":\"white\",\"ticks\":\"\"}},\"title\":{\"x\":0.05},\"xaxis\":{\"automargin\":true,\"gridcolor\":\"white\",\"linecolor\":\"white\",\"ticks\":\"\",\"title\":{\"standoff\":15},\"zerolinecolor\":\"white\",\"zerolinewidth\":2},\"yaxis\":{\"automargin\":true,\"gridcolor\":\"white\",\"linecolor\":\"white\",\"ticks\":\"\",\"title\":{\"standoff\":15},\"zerolinecolor\":\"white\",\"zerolinewidth\":2}}},\"polar\":{\"domain\":{\"x\":[0.0,1.0],\"y\":[0.0,1.0]},\"angularaxis\":{\"direction\":\"clockwise\",\"rotation\":90}},\"legend\":{\"tracegroupgap\":0},\"margin\":{\"t\":60}},                        {\"responsive\": true}                    ).then(function(){\n",
       "                            \n",
       "var gd = document.getElementById('c908cc3a-e411-41aa-ba78-52932a56e44c');\n",
       "var x = new MutationObserver(function (mutations, observer) {{\n",
       "        var display = window.getComputedStyle(gd).display;\n",
       "        if (!display || display === 'none') {{\n",
       "            console.log([gd, 'removed!']);\n",
       "            Plotly.purge(gd);\n",
       "            observer.disconnect();\n",
       "        }}\n",
       "}});\n",
       "\n",
       "// Listen for the removal of the full notebook cells\n",
       "var notebookContainer = gd.closest('#notebook-container');\n",
       "if (notebookContainer) {{\n",
       "    x.observe(notebookContainer, {childList: true});\n",
       "}}\n",
       "\n",
       "// Listen for the clearing of the current output cell\n",
       "var outputEl = gd.closest('.output');\n",
       "if (outputEl) {{\n",
       "    x.observe(outputEl, {childList: true});\n",
       "}}\n",
       "\n",
       "                        })                };                });            </script>        </div>"
      ]
     },
     "metadata": {},
     "output_type": "display_data"
    }
   ],
   "source": [
    "#Income Vs Avg transaction amount.\n",
    "fig = px.line_polar(filter_main_df, r='income', theta='avg_tran_amt', line_close=True)\n",
    "fig.show()"
   ]
  },
  {
   "cell_type": "code",
   "execution_count": 400,
   "metadata": {},
   "outputs": [
    {
     "data": {
      "application/vnd.plotly.v1+json": {
       "config": {
        "plotlyServerURL": "https://plot.ly"
       },
       "data": [
        {
         "hovertemplate": "income=%{r}<br>save_sum=%{theta}<extra></extra>",
         "legendgroup": "",
         "line": {
          "color": "#636efa",
          "dash": "solid"
         },
         "marker": {
          "symbol": "circle"
         },
         "mode": "lines",
         "name": "",
         "r": [
          18548,
          6605,
          44554,
          47668,
          0,
          1929,
          9622,
          6354,
          26505,
          21015,
          19494,
          6493,
          13148,
          24344,
          10025,
          21663,
          7571,
          15246,
          19823,
          27492,
          6300,
          17242,
          9129,
          16957,
          10933,
          81509,
          7431,
          12885,
          7633,
          0,
          1982,
          28867,
          25180,
          8810,
          57723,
          18350,
          90248,
          49258,
          83295,
          31910,
          68933,
          24275,
          23206,
          6356,
          1039,
          5488,
          34080,
          27649,
          11935,
          2769,
          43900,
          12202,
          34797,
          12823,
          0,
          18144,
          12258,
          3618,
          75121,
          38010,
          2644,
          5808,
          39291,
          4391,
          3419,
          4626,
          86744,
          12621,
          29363,
          18785,
          15077,
          12722,
          29579,
          22758,
          17612,
          27814,
          7777,
          18891,
          41650,
          37471,
          13515,
          0,
          13750,
          5772,
          6195,
          32739,
          13113,
          45629,
          19282,
          0,
          0,
          34855,
          23973,
          12403,
          2715,
          3339,
          35508,
          31054,
          17584,
          18760,
          12973,
          49623,
          27258,
          19686,
          43315,
          30068,
          22680,
          12690,
          10608,
          0,
          60242,
          0,
          20840,
          2517,
          27155,
          8201,
          15301,
          22322,
          26364,
          15576,
          40671,
          39250,
          36923,
          36259,
          0,
          20358,
          0,
          12310,
          3093,
          33060,
          17750,
          17052,
          0,
          10818,
          9099,
          41876,
          0,
          9480,
          46884,
          22995,
          8681,
          22783,
          48479,
          20684,
          101177,
          6618,
          16579,
          0,
          34394,
          13124,
          8575,
          8038,
          29120,
          17804,
          0,
          54647,
          8257,
          30217,
          59542,
          24131,
          19863,
          32700,
          37364,
          13137,
          43872,
          0,
          7914,
          45195,
          38736,
          8799,
          13497,
          33113,
          5981,
          26008,
          8262,
          10053,
          17412,
          42532,
          0,
          19088,
          9495,
          8961,
          59047,
          13241,
          7169,
          57224,
          49553,
          19019,
          0,
          21657,
          0,
          18176,
          3371,
          98566,
          30163,
          102286,
          27635,
          50890,
          63532,
          31496,
          1565,
          7302,
          30989,
          0,
          4424,
          6909,
          39382,
          22025,
          13317,
          26886,
          3303,
          10234,
          13087,
          29536,
          11946,
          68039,
          35117,
          16238,
          19649,
          44196,
          6479,
          0,
          14011,
          38917,
          43381,
          0,
          3726,
          4366,
          11613,
          4187,
          6132,
          18806,
          11485,
          11041,
          8120,
          32152,
          28975,
          54734,
          39832,
          29570,
          13901,
          25869,
          56088,
          19891,
          7467,
          20870,
          4804,
          19319,
          5779,
          7701,
          50980,
          13781,
          46712,
          0,
          58749,
          5848,
          6700,
          142274,
          41064,
          30015,
          69205,
          28518,
          18466,
          84184,
          5781,
          21746,
          15432,
          24300,
          2684,
          57642,
          7005,
          13058,
          8259,
          47267,
          16986,
          36603,
          75890,
          17174,
          24843,
          4247,
          8088,
          38803,
          27239,
          6108,
          55888,
          5920,
          12158,
          52903,
          24368,
          2620,
          0,
          2314,
          36614,
          9802,
          36605,
          43829,
          26387,
          18548
         ],
         "showlegend": false,
         "subplot": "polar",
         "theta": [
          9.5,
          -638.84,
          3.780000000000001,
          9.07000000000005,
          890.3299999999999,
          -709.02,
          468.57,
          -242.53,
          106.59000000000003,
          1242.76,
          -386.78999999999996,
          -926.6299999999999,
          1143.74,
          2146.41,
          870.52,
          -173.16,
          1582.9099999999999,
          -1185.7300000000005,
          -251.49,
          621.48,
          28.810000000000002,
          296.3800000000001,
          364.54999999999995,
          18.06000000000006,
          -202.2,
          135.88000000000102,
          544.6500000000001,
          -33.13000000000011,
          0.8700000000000045,
          821.6700000000001,
          5.869999999999976,
          663.54,
          4.079999999999984,
          683.8499999999999,
          1765.9499999999998,
          6.7000000000000455,
          -83.33000000000015,
          -427.53,
          306.55999999999995,
          936.46,
          -1207.9199999999983,
          245.17000000000002,
          778.98,
          359.05999999999995,
          -187.49,
          1171.15,
          1400.0300000000002,
          -601.26,
          886.96,
          1210.11,
          1046.8600000000001,
          778.45,
          4180.82,
          908.6299999999999,
          952.17,
          311.0199999999999,
          -137.39,
          1669.68,
          4729.25,
          4.32000000000005,
          -59.14,
          24.909999999999968,
          459.76,
          91.52000000000001,
          1.9699999999999989,
          108.05000000000001,
          1613.2699999999998,
          967.8000000000001,
          -305.43,
          720.8199999999999,
          1178.1399999999999,
          31.300000000000182,
          117.28,
          545.9799999999999,
          2.640000000000015,
          140.04,
          -119.11000000000001,
          3,
          -727.04,
          3.0800000000000125,
          -284.87999999999994,
          608.8399999999999,
          362.49999999999994,
          910.8299999999999,
          4.680000000000007,
          1549.21,
          2.280000000000001,
          3.5600000000000023,
          -629.06,
          1.8000000000000114,
          132.54000000000002,
          378.96000000000004,
          -302.87,
          -552.53,
          1.0500000000000114,
          -472.9200000000001,
          -318.55999999999995,
          -162.11,
          246.8,
          1369.81,
          487.49,
          2610.34,
          -135.37,
          60.89999999999998,
          -966.2899999999995,
          222.43,
          495.7999999999993,
          -240.51999999999998,
          73.88999999999999,
          613.1600000000001,
          -968.57,
          2.759999999999991,
          856.6200000000001,
          465.83000000000004,
          1211.1,
          78.32,
          -216.59000000000003,
          375.86,
          2.039999999999992,
          494.29999999999995,
          6.009999999999991,
          330.66999999999996,
          653.29,
          1194.1399999999999,
          -1725.9299999999998,
          32.42000000000007,
          1121.03,
          123.38,
          189.98,
          -209.25,
          84.94999999999999,
          485.24,
          230.34000000000003,
          -66.44,
          30.660000000000082,
          441.73,
          727.57,
          317.71000000000004,
          -2406.2700000000004,
          -163.31,
          320.75,
          -70.44999999999999,
          765.8900000000001,
          789.99,
          -2382.7999999999997,
          7.3799999999999955,
          449.48,
          3,
          7.92999999999995,
          145.58999999999997,
          45.57000000000005,
          -25.69999999999999,
          -561.76,
          -6.460000000000008,
          102.03999999999996,
          2595.78,
          1744.51,
          1376.31,
          -1652.98,
          -147.92,
          2.359999999999985,
          -222.39000000000001,
          425.10000000000014,
          1025.15,
          593.92,
          132.94,
          333.96000000000004,
          2504.91,
          4.439999999999998,
          967.4900000000001,
          163.66000000000003,
          836.9100000000001,
          783.0500000000001,
          -22.379999999999995,
          22.340000000000032,
          1927.41,
          -11.099999999999994,
          -409.17,
          547.91,
          246.29,
          1735.92,
          1.7999999999999972,
          187.01000000000005,
          -30.980000000000004,
          462.76,
          11.25,
          1840.6499999999999,
          15.069999999999993,
          596.02,
          215.16,
          473.21,
          2.759999999999991,
          1.9399999999999977,
          17.100000000000136,
          36.66000000000008,
          11079.849999999999,
          1194.04,
          480.88,
          3472.81,
          1465.6000000000001,
          -1083.2800000000002,
          219.39000000000033,
          315.81000000000006,
          286.61,
          657.05,
          -89.01,
          -1145.64,
          -55.20000000000002,
          17.579999999999927,
          -0.02999999999974534,
          770.4200000000001,
          -124.44999999999999,
          167.67000000000007,
          22.549999999999955,
          680.0100000000002,
          5.220000000000027,
          275.7600000000002,
          -53.84,
          1408.1399999999999,
          3.8700000000000045,
          1099.06,
          1350.66,
          2.0400000000000205,
          1600.24,
          63.70999999999998,
          2.719999999999999,
          1125.54,
          3.6500000000000057,
          166.69000000000005,
          32.90000000000009,
          17.75,
          843.9099999999999,
          1176.94,
          -50.360000000000014,
          528.96,
          33.44999999999982,
          995.6299999999999,
          -337.05,
          1399.1100000000001,
          387.4200000000001,
          1236.3500000000001,
          419.49,
          -80.00999999999993,
          -59.99,
          394.88000000000005,
          -1025.63,
          156.09000000000015,
          2.5200000000000102,
          0.9000000000000057,
          -5.889999999999986,
          56.62000000000012,
          2.0400000000000205,
          5,
          1004.24,
          2187.29,
          -1.5499999999999545,
          2.219999999999999,
          163.7199999999999,
          -804.9699999999999,
          1517.07,
          4634.66,
          26.42999999999995,
          1206.29,
          858.6000000000001,
          21.850000000000023,
          -297.64000000000004,
          1064.7399999999998,
          88.86000000000001,
          -38.89999999999998,
          50.1200000000008,
          102.33000000000001,
          2.5200000000000102,
          611.17,
          -463.29999999999995,
          170.92000000000002,
          683.02,
          7.850000000000023,
          -47.97000000000003,
          706.97,
          -53.67,
          -462.77,
          -421.83000000000004,
          903.13,
          -312.48000000000025,
          -386.59000000000003,
          771.4300000000001,
          -59.72000000000003,
          86.55999999999949,
          117.46000000000004,
          -156.9,
          -245.35000000000002,
          1215.7399999999998,
          -593.2300000000001,
          133.47000000000003,
          174.73000000000002,
          211.08000000000004,
          -73.71000000000001,
          9.5
         ],
         "type": "scatterpolar"
        }
       ],
       "layout": {
        "autosize": true,
        "legend": {
         "tracegroupgap": 0
        },
        "margin": {
         "t": 60
        },
        "polar": {
         "angularaxis": {
          "direction": "clockwise",
          "rotation": 90,
          "type": "linear"
         },
         "domain": {
          "x": [
           0,
           1
          ],
          "y": [
           0,
           1
          ]
         },
         "radialaxis": {
          "autorange": true,
          "range": [
           0,
           142274
          ],
          "type": "linear"
         }
        },
        "template": {
         "data": {
          "bar": [
           {
            "error_x": {
             "color": "#2a3f5f"
            },
            "error_y": {
             "color": "#2a3f5f"
            },
            "marker": {
             "line": {
              "color": "#E5ECF6",
              "width": 0.5
             },
             "pattern": {
              "fillmode": "overlay",
              "size": 10,
              "solidity": 0.2
             }
            },
            "type": "bar"
           }
          ],
          "barpolar": [
           {
            "marker": {
             "line": {
              "color": "#E5ECF6",
              "width": 0.5
             },
             "pattern": {
              "fillmode": "overlay",
              "size": 10,
              "solidity": 0.2
             }
            },
            "type": "barpolar"
           }
          ],
          "carpet": [
           {
            "aaxis": {
             "endlinecolor": "#2a3f5f",
             "gridcolor": "white",
             "linecolor": "white",
             "minorgridcolor": "white",
             "startlinecolor": "#2a3f5f"
            },
            "baxis": {
             "endlinecolor": "#2a3f5f",
             "gridcolor": "white",
             "linecolor": "white",
             "minorgridcolor": "white",
             "startlinecolor": "#2a3f5f"
            },
            "type": "carpet"
           }
          ],
          "choropleth": [
           {
            "colorbar": {
             "outlinewidth": 0,
             "ticks": ""
            },
            "type": "choropleth"
           }
          ],
          "contour": [
           {
            "colorbar": {
             "outlinewidth": 0,
             "ticks": ""
            },
            "colorscale": [
             [
              0,
              "#0d0887"
             ],
             [
              0.1111111111111111,
              "#46039f"
             ],
             [
              0.2222222222222222,
              "#7201a8"
             ],
             [
              0.3333333333333333,
              "#9c179e"
             ],
             [
              0.4444444444444444,
              "#bd3786"
             ],
             [
              0.5555555555555556,
              "#d8576b"
             ],
             [
              0.6666666666666666,
              "#ed7953"
             ],
             [
              0.7777777777777778,
              "#fb9f3a"
             ],
             [
              0.8888888888888888,
              "#fdca26"
             ],
             [
              1,
              "#f0f921"
             ]
            ],
            "type": "contour"
           }
          ],
          "contourcarpet": [
           {
            "colorbar": {
             "outlinewidth": 0,
             "ticks": ""
            },
            "type": "contourcarpet"
           }
          ],
          "heatmap": [
           {
            "colorbar": {
             "outlinewidth": 0,
             "ticks": ""
            },
            "colorscale": [
             [
              0,
              "#0d0887"
             ],
             [
              0.1111111111111111,
              "#46039f"
             ],
             [
              0.2222222222222222,
              "#7201a8"
             ],
             [
              0.3333333333333333,
              "#9c179e"
             ],
             [
              0.4444444444444444,
              "#bd3786"
             ],
             [
              0.5555555555555556,
              "#d8576b"
             ],
             [
              0.6666666666666666,
              "#ed7953"
             ],
             [
              0.7777777777777778,
              "#fb9f3a"
             ],
             [
              0.8888888888888888,
              "#fdca26"
             ],
             [
              1,
              "#f0f921"
             ]
            ],
            "type": "heatmap"
           }
          ],
          "heatmapgl": [
           {
            "colorbar": {
             "outlinewidth": 0,
             "ticks": ""
            },
            "colorscale": [
             [
              0,
              "#0d0887"
             ],
             [
              0.1111111111111111,
              "#46039f"
             ],
             [
              0.2222222222222222,
              "#7201a8"
             ],
             [
              0.3333333333333333,
              "#9c179e"
             ],
             [
              0.4444444444444444,
              "#bd3786"
             ],
             [
              0.5555555555555556,
              "#d8576b"
             ],
             [
              0.6666666666666666,
              "#ed7953"
             ],
             [
              0.7777777777777778,
              "#fb9f3a"
             ],
             [
              0.8888888888888888,
              "#fdca26"
             ],
             [
              1,
              "#f0f921"
             ]
            ],
            "type": "heatmapgl"
           }
          ],
          "histogram": [
           {
            "marker": {
             "pattern": {
              "fillmode": "overlay",
              "size": 10,
              "solidity": 0.2
             }
            },
            "type": "histogram"
           }
          ],
          "histogram2d": [
           {
            "colorbar": {
             "outlinewidth": 0,
             "ticks": ""
            },
            "colorscale": [
             [
              0,
              "#0d0887"
             ],
             [
              0.1111111111111111,
              "#46039f"
             ],
             [
              0.2222222222222222,
              "#7201a8"
             ],
             [
              0.3333333333333333,
              "#9c179e"
             ],
             [
              0.4444444444444444,
              "#bd3786"
             ],
             [
              0.5555555555555556,
              "#d8576b"
             ],
             [
              0.6666666666666666,
              "#ed7953"
             ],
             [
              0.7777777777777778,
              "#fb9f3a"
             ],
             [
              0.8888888888888888,
              "#fdca26"
             ],
             [
              1,
              "#f0f921"
             ]
            ],
            "type": "histogram2d"
           }
          ],
          "histogram2dcontour": [
           {
            "colorbar": {
             "outlinewidth": 0,
             "ticks": ""
            },
            "colorscale": [
             [
              0,
              "#0d0887"
             ],
             [
              0.1111111111111111,
              "#46039f"
             ],
             [
              0.2222222222222222,
              "#7201a8"
             ],
             [
              0.3333333333333333,
              "#9c179e"
             ],
             [
              0.4444444444444444,
              "#bd3786"
             ],
             [
              0.5555555555555556,
              "#d8576b"
             ],
             [
              0.6666666666666666,
              "#ed7953"
             ],
             [
              0.7777777777777778,
              "#fb9f3a"
             ],
             [
              0.8888888888888888,
              "#fdca26"
             ],
             [
              1,
              "#f0f921"
             ]
            ],
            "type": "histogram2dcontour"
           }
          ],
          "mesh3d": [
           {
            "colorbar": {
             "outlinewidth": 0,
             "ticks": ""
            },
            "type": "mesh3d"
           }
          ],
          "parcoords": [
           {
            "line": {
             "colorbar": {
              "outlinewidth": 0,
              "ticks": ""
             }
            },
            "type": "parcoords"
           }
          ],
          "pie": [
           {
            "automargin": true,
            "type": "pie"
           }
          ],
          "scatter": [
           {
            "marker": {
             "colorbar": {
              "outlinewidth": 0,
              "ticks": ""
             }
            },
            "type": "scatter"
           }
          ],
          "scatter3d": [
           {
            "line": {
             "colorbar": {
              "outlinewidth": 0,
              "ticks": ""
             }
            },
            "marker": {
             "colorbar": {
              "outlinewidth": 0,
              "ticks": ""
             }
            },
            "type": "scatter3d"
           }
          ],
          "scattercarpet": [
           {
            "marker": {
             "colorbar": {
              "outlinewidth": 0,
              "ticks": ""
             }
            },
            "type": "scattercarpet"
           }
          ],
          "scattergeo": [
           {
            "marker": {
             "colorbar": {
              "outlinewidth": 0,
              "ticks": ""
             }
            },
            "type": "scattergeo"
           }
          ],
          "scattergl": [
           {
            "marker": {
             "colorbar": {
              "outlinewidth": 0,
              "ticks": ""
             }
            },
            "type": "scattergl"
           }
          ],
          "scattermapbox": [
           {
            "marker": {
             "colorbar": {
              "outlinewidth": 0,
              "ticks": ""
             }
            },
            "type": "scattermapbox"
           }
          ],
          "scatterpolar": [
           {
            "marker": {
             "colorbar": {
              "outlinewidth": 0,
              "ticks": ""
             }
            },
            "type": "scatterpolar"
           }
          ],
          "scatterpolargl": [
           {
            "marker": {
             "colorbar": {
              "outlinewidth": 0,
              "ticks": ""
             }
            },
            "type": "scatterpolargl"
           }
          ],
          "scatterternary": [
           {
            "marker": {
             "colorbar": {
              "outlinewidth": 0,
              "ticks": ""
             }
            },
            "type": "scatterternary"
           }
          ],
          "surface": [
           {
            "colorbar": {
             "outlinewidth": 0,
             "ticks": ""
            },
            "colorscale": [
             [
              0,
              "#0d0887"
             ],
             [
              0.1111111111111111,
              "#46039f"
             ],
             [
              0.2222222222222222,
              "#7201a8"
             ],
             [
              0.3333333333333333,
              "#9c179e"
             ],
             [
              0.4444444444444444,
              "#bd3786"
             ],
             [
              0.5555555555555556,
              "#d8576b"
             ],
             [
              0.6666666666666666,
              "#ed7953"
             ],
             [
              0.7777777777777778,
              "#fb9f3a"
             ],
             [
              0.8888888888888888,
              "#fdca26"
             ],
             [
              1,
              "#f0f921"
             ]
            ],
            "type": "surface"
           }
          ],
          "table": [
           {
            "cells": {
             "fill": {
              "color": "#EBF0F8"
             },
             "line": {
              "color": "white"
             }
            },
            "header": {
             "fill": {
              "color": "#C8D4E3"
             },
             "line": {
              "color": "white"
             }
            },
            "type": "table"
           }
          ]
         },
         "layout": {
          "annotationdefaults": {
           "arrowcolor": "#2a3f5f",
           "arrowhead": 0,
           "arrowwidth": 1
          },
          "autotypenumbers": "strict",
          "coloraxis": {
           "colorbar": {
            "outlinewidth": 0,
            "ticks": ""
           }
          },
          "colorscale": {
           "diverging": [
            [
             0,
             "#8e0152"
            ],
            [
             0.1,
             "#c51b7d"
            ],
            [
             0.2,
             "#de77ae"
            ],
            [
             0.3,
             "#f1b6da"
            ],
            [
             0.4,
             "#fde0ef"
            ],
            [
             0.5,
             "#f7f7f7"
            ],
            [
             0.6,
             "#e6f5d0"
            ],
            [
             0.7,
             "#b8e186"
            ],
            [
             0.8,
             "#7fbc41"
            ],
            [
             0.9,
             "#4d9221"
            ],
            [
             1,
             "#276419"
            ]
           ],
           "sequential": [
            [
             0,
             "#0d0887"
            ],
            [
             0.1111111111111111,
             "#46039f"
            ],
            [
             0.2222222222222222,
             "#7201a8"
            ],
            [
             0.3333333333333333,
             "#9c179e"
            ],
            [
             0.4444444444444444,
             "#bd3786"
            ],
            [
             0.5555555555555556,
             "#d8576b"
            ],
            [
             0.6666666666666666,
             "#ed7953"
            ],
            [
             0.7777777777777778,
             "#fb9f3a"
            ],
            [
             0.8888888888888888,
             "#fdca26"
            ],
            [
             1,
             "#f0f921"
            ]
           ],
           "sequentialminus": [
            [
             0,
             "#0d0887"
            ],
            [
             0.1111111111111111,
             "#46039f"
            ],
            [
             0.2222222222222222,
             "#7201a8"
            ],
            [
             0.3333333333333333,
             "#9c179e"
            ],
            [
             0.4444444444444444,
             "#bd3786"
            ],
            [
             0.5555555555555556,
             "#d8576b"
            ],
            [
             0.6666666666666666,
             "#ed7953"
            ],
            [
             0.7777777777777778,
             "#fb9f3a"
            ],
            [
             0.8888888888888888,
             "#fdca26"
            ],
            [
             1,
             "#f0f921"
            ]
           ]
          },
          "colorway": [
           "#636efa",
           "#EF553B",
           "#00cc96",
           "#ab63fa",
           "#FFA15A",
           "#19d3f3",
           "#FF6692",
           "#B6E880",
           "#FF97FF",
           "#FECB52"
          ],
          "font": {
           "color": "#2a3f5f"
          },
          "geo": {
           "bgcolor": "white",
           "lakecolor": "white",
           "landcolor": "#E5ECF6",
           "showlakes": true,
           "showland": true,
           "subunitcolor": "white"
          },
          "hoverlabel": {
           "align": "left"
          },
          "hovermode": "closest",
          "mapbox": {
           "style": "light"
          },
          "paper_bgcolor": "white",
          "plot_bgcolor": "#E5ECF6",
          "polar": {
           "angularaxis": {
            "gridcolor": "white",
            "linecolor": "white",
            "ticks": ""
           },
           "bgcolor": "#E5ECF6",
           "radialaxis": {
            "gridcolor": "white",
            "linecolor": "white",
            "ticks": ""
           }
          },
          "scene": {
           "xaxis": {
            "backgroundcolor": "#E5ECF6",
            "gridcolor": "white",
            "gridwidth": 2,
            "linecolor": "white",
            "showbackground": true,
            "ticks": "",
            "zerolinecolor": "white"
           },
           "yaxis": {
            "backgroundcolor": "#E5ECF6",
            "gridcolor": "white",
            "gridwidth": 2,
            "linecolor": "white",
            "showbackground": true,
            "ticks": "",
            "zerolinecolor": "white"
           },
           "zaxis": {
            "backgroundcolor": "#E5ECF6",
            "gridcolor": "white",
            "gridwidth": 2,
            "linecolor": "white",
            "showbackground": true,
            "ticks": "",
            "zerolinecolor": "white"
           }
          },
          "shapedefaults": {
           "line": {
            "color": "#2a3f5f"
           }
          },
          "ternary": {
           "aaxis": {
            "gridcolor": "white",
            "linecolor": "white",
            "ticks": ""
           },
           "baxis": {
            "gridcolor": "white",
            "linecolor": "white",
            "ticks": ""
           },
           "bgcolor": "#E5ECF6",
           "caxis": {
            "gridcolor": "white",
            "linecolor": "white",
            "ticks": ""
           }
          },
          "title": {
           "x": 0.05
          },
          "xaxis": {
           "automargin": true,
           "gridcolor": "white",
           "linecolor": "white",
           "ticks": "",
           "title": {
            "standoff": 15
           },
           "zerolinecolor": "white",
           "zerolinewidth": 2
          },
          "yaxis": {
           "automargin": true,
           "gridcolor": "white",
           "linecolor": "white",
           "ticks": "",
           "title": {
            "standoff": 15
           },
           "zerolinecolor": "white",
           "zerolinewidth": 2
          }
         }
        }
       }
      },
      "image/png": "[encoded data removed]",
      "text/html": [
       "<div>                            <div id=\"cdf39c6e-fa6e-466b-ae5d-7771ec6ca1a7\" class=\"plotly-graph-div\" style=\"height:525px; width:100%;\"></div>            <script type=\"text/javascript\">                require([\"plotly\"], function(Plotly) {                    window.PLOTLYENV=window.PLOTLYENV || {};                                    if (document.getElementById(\"cdf39c6e-fa6e-466b-ae5d-7771ec6ca1a7\")) {                    Plotly.newPlot(                        \"cdf39c6e-fa6e-466b-ae5d-7771ec6ca1a7\",                        [{\"hovertemplate\":\"income=%{r}<br>save_sum=%{theta}<extra></extra>\",\"legendgroup\":\"\",\"line\":{\"color\":\"#636efa\",\"dash\":\"solid\"},\"marker\":{\"symbol\":\"circle\"},\"mode\":\"lines\",\"name\":\"\",\"r\":[18548.0,6605.0,44554.0,47668.0,0.0,1929.0,9622.0,6354.0,26505.0,21015.0,19494.0,6493.0,13148.0,24344.0,10025.0,21663.0,7571.0,15246.0,19823.0,27492.0,6300.0,17242.0,9129.0,16957.0,10933.0,81509.0,7431.0,12885.0,7633.0,0.0,1982.0,28867.0,25180.0,8810.0,57723.0,18350.0,90248.0,49258.0,83295.0,31910.0,68933.0,24275.0,23206.0,6356.0,1039.0,5488.0,34080.0,27649.0,11935.0,2769.0,43900.0,12202.0,34797.0,12823.0,0.0,18144.0,12258.0,3618.0,75121.0,38010.0,2644.0,5808.0,39291.0,4391.0,3419.0,4626.0,86744.0,12621.0,29363.0,18785.0,15077.0,12722.0,29579.0,22758.0,17612.0,27814.0,7777.0,18891.0,41650.0,37471.0,13515.0,0.0,13750.0,5772.0,6195.0,32739.0,13113.0,45629.0,19282.0,0.0,0.0,34855.0,23973.0,12403.0,2715.0,3339.0,35508.0,31054.0,17584.0,18760.0,12973.0,49623.0,27258.0,19686.0,43315.0,30068.0,22680.0,12690.0,10608.0,0.0,60242.0,0.0,20840.0,2517.0,27155.0,8201.0,15301.0,22322.0,26364.0,15576.0,40671.0,39250.0,36923.0,36259.0,0.0,20358.0,0.0,12310.0,3093.0,33060.0,17750.0,17052.0,0.0,10818.0,9099.0,41876.0,0.0,9480.0,46884.0,22995.0,8681.0,22783.0,48479.0,20684.0,101177.0,6618.0,16579.0,0.0,34394.0,13124.0,8575.0,8038.0,29120.0,17804.0,0.0,54647.0,8257.0,30217.0,59542.0,24131.0,19863.0,32700.0,37364.0,13137.0,43872.0,0.0,7914.0,45195.0,38736.0,8799.0,13497.0,33113.0,5981.0,26008.0,8262.0,10053.0,17412.0,42532.0,0.0,19088.0,9495.0,8961.0,59047.0,13241.0,7169.0,57224.0,49553.0,19019.0,0.0,21657.0,0.0,18176.0,3371.0,98566.0,30163.0,102286.0,27635.0,50890.0,63532.0,31496.0,1565.0,7302.0,30989.0,0.0,4424.0,6909.0,39382.0,22025.0,13317.0,26886.0,3303.0,10234.0,13087.0,29536.0,11946.0,68039.0,35117.0,16238.0,19649.0,44196.0,6479.0,0.0,14011.0,38917.0,43381.0,0.0,3726.0,4366.0,11613.0,4187.0,6132.0,18806.0,11485.0,11041.0,8120.0,32152.0,28975.0,54734.0,39832.0,29570.0,13901.0,25869.0,56088.0,19891.0,7467.0,20870.0,4804.0,19319.0,5779.0,7701.0,50980.0,13781.0,46712.0,0.0,58749.0,5848.0,6700.0,142274.0,41064.0,30015.0,69205.0,28518.0,18466.0,84184.0,5781.0,21746.0,15432.0,24300.0,2684.0,57642.0,7005.0,13058.0,8259.0,47267.0,16986.0,36603.0,75890.0,17174.0,24843.0,4247.0,8088.0,38803.0,27239.0,6108.0,55888.0,5920.0,12158.0,52903.0,24368.0,2620.0,0.0,2314.0,36614.0,9802.0,36605.0,43829.0,26387.0,18548.0],\"showlegend\":false,\"subplot\":\"polar\",\"theta\":[9.5,-638.84,3.780000000000001,9.07000000000005,890.3299999999999,-709.02,468.57,-242.53,106.59000000000003,1242.76,-386.78999999999996,-926.6299999999999,1143.74,2146.41,870.52,-173.16,1582.9099999999999,-1185.7300000000005,-251.49,621.48,28.810000000000002,296.3800000000001,364.54999999999995,18.06000000000006,-202.2,135.88000000000102,544.6500000000001,-33.13000000000011,0.8700000000000045,821.6700000000001,5.869999999999976,663.54,4.079999999999984,683.8499999999999,1765.9499999999998,6.7000000000000455,-83.33000000000015,-427.53,306.55999999999995,936.46,-1207.9199999999983,245.17000000000002,778.98,359.05999999999995,-187.49,1171.15,1400.0300000000002,-601.26,886.96,1210.11,1046.8600000000001,778.45,4180.82,908.6299999999999,952.17,311.0199999999999,-137.39,1669.68,4729.25,4.32000000000005,-59.14,24.909999999999968,459.76,91.52000000000001,1.9699999999999989,108.05000000000001,1613.2699999999998,967.8000000000001,-305.43,720.8199999999999,1178.1399999999999,31.300000000000182,117.28,545.9799999999999,2.640000000000015,140.04,-119.11000000000001,3.0,-727.04,3.0800000000000125,-284.87999999999994,608.8399999999999,362.49999999999994,910.8299999999999,4.680000000000007,1549.21,2.280000000000001,3.5600000000000023,-629.06,1.8000000000000114,132.54000000000002,378.96000000000004,-302.87,-552.53,1.0500000000000114,-472.9200000000001,-318.55999999999995,-162.11,246.8,1369.81,487.49,2610.34,-135.37,60.89999999999998,-966.2899999999995,222.43,495.7999999999993,-240.51999999999998,73.88999999999999,613.1600000000001,-968.57,2.759999999999991,856.6200000000001,465.83000000000004,1211.1,78.32,-216.59000000000003,375.86,2.039999999999992,494.29999999999995,6.009999999999991,330.66999999999996,653.29,1194.1399999999999,-1725.9299999999998,32.42000000000007,1121.03,123.38,189.98,-209.25,84.94999999999999,485.24,230.34000000000003,-66.44,30.660000000000082,441.73,727.57,317.71000000000004,-2406.2700000000004,-163.31,320.75,-70.44999999999999,765.8900000000001,789.99,-2382.7999999999997,7.3799999999999955,449.48,3.0,7.92999999999995,145.58999999999997,45.57000000000005,-25.69999999999999,-561.76,-6.460000000000008,102.03999999999996,2595.78,1744.51,1376.31,-1652.98,-147.92,2.359999999999985,-222.39000000000001,425.10000000000014,1025.15,593.92,132.94,333.96000000000004,2504.91,4.439999999999998,967.4900000000001,163.66000000000003,836.9100000000001,783.0500000000001,-22.379999999999995,22.340000000000032,1927.41,-11.099999999999994,-409.17,547.91,246.29,1735.92,1.7999999999999972,187.01000000000005,-30.980000000000004,462.76,11.25,1840.6499999999999,15.069999999999993,596.02,215.16,473.21,2.759999999999991,1.9399999999999977,17.100000000000136,36.66000000000008,11079.849999999999,1194.04,480.88,3472.81,1465.6000000000001,-1083.2800000000002,219.39000000000033,315.81000000000006,286.61,657.05,-89.01,-1145.64,-55.20000000000002,17.579999999999927,-0.02999999999974534,770.4200000000001,-124.44999999999999,167.67000000000007,22.549999999999955,680.0100000000002,5.220000000000027,275.7600000000002,-53.84,1408.1399999999999,3.8700000000000045,1099.06,1350.66,2.0400000000000205,1600.24,63.70999999999998,2.719999999999999,1125.54,3.6500000000000057,166.69000000000005,32.90000000000009,17.75,843.9099999999999,1176.94,-50.360000000000014,528.96,33.44999999999982,995.6299999999999,-337.05,1399.1100000000001,387.4200000000001,1236.3500000000001,419.49,-80.00999999999993,-59.99,394.88000000000005,-1025.63,156.09000000000015,2.5200000000000102,0.9000000000000057,-5.889999999999986,56.62000000000012,2.0400000000000205,5.0,1004.24,2187.29,-1.5499999999999545,2.219999999999999,163.7199999999999,-804.9699999999999,1517.07,4634.66,26.42999999999995,1206.29,858.6000000000001,21.850000000000023,-297.64000000000004,1064.7399999999998,88.86000000000001,-38.89999999999998,50.1200000000008,102.33000000000001,2.5200000000000102,611.17,-463.29999999999995,170.92000000000002,683.02,7.850000000000023,-47.97000000000003,706.97,-53.67,-462.77,-421.83000000000004,903.13,-312.48000000000025,-386.59000000000003,771.4300000000001,-59.72000000000003,86.55999999999949,117.46000000000004,-156.9,-245.35000000000002,1215.7399999999998,-593.2300000000001,133.47000000000003,174.73000000000002,211.08000000000004,-73.71000000000001,9.5],\"type\":\"scatterpolar\"}],                        {\"template\":{\"data\":{\"bar\":[{\"error_x\":{\"color\":\"#2a3f5f\"},\"error_y\":{\"color\":\"#2a3f5f\"},\"marker\":{\"line\":{\"color\":\"#E5ECF6\",\"width\":0.5},\"pattern\":{\"fillmode\":\"overlay\",\"size\":10,\"solidity\":0.2}},\"type\":\"bar\"}],\"barpolar\":[{\"marker\":{\"line\":{\"color\":\"#E5ECF6\",\"width\":0.5},\"pattern\":{\"fillmode\":\"overlay\",\"size\":10,\"solidity\":0.2}},\"type\":\"barpolar\"}],\"carpet\":[{\"aaxis\":{\"endlinecolor\":\"#2a3f5f\",\"gridcolor\":\"white\",\"linecolor\":\"white\",\"minorgridcolor\":\"white\",\"startlinecolor\":\"#2a3f5f\"},\"baxis\":{\"endlinecolor\":\"#2a3f5f\",\"gridcolor\":\"white\",\"linecolor\":\"white\",\"minorgridcolor\":\"white\",\"startlinecolor\":\"#2a3f5f\"},\"type\":\"carpet\"}],\"choropleth\":[{\"colorbar\":{\"outlinewidth\":0,\"ticks\":\"\"},\"type\":\"choropleth\"}],\"contour\":[{\"colorbar\":{\"outlinewidth\":0,\"ticks\":\"\"},\"colorscale\":[[0.0,\"#0d0887\"],[0.1111111111111111,\"#46039f\"],[0.2222222222222222,\"#7201a8\"],[0.3333333333333333,\"#9c179e\"],[0.4444444444444444,\"#bd3786\"],[0.5555555555555556,\"#d8576b\"],[0.6666666666666666,\"#ed7953\"],[0.7777777777777778,\"#fb9f3a\"],[0.8888888888888888,\"#fdca26\"],[1.0,\"#f0f921\"]],\"type\":\"contour\"}],\"contourcarpet\":[{\"colorbar\":{\"outlinewidth\":0,\"ticks\":\"\"},\"type\":\"contourcarpet\"}],\"heatmap\":[{\"colorbar\":{\"outlinewidth\":0,\"ticks\":\"\"},\"colorscale\":[[0.0,\"#0d0887\"],[0.1111111111111111,\"#46039f\"],[0.2222222222222222,\"#7201a8\"],[0.3333333333333333,\"#9c179e\"],[0.4444444444444444,\"#bd3786\"],[0.5555555555555556,\"#d8576b\"],[0.6666666666666666,\"#ed7953\"],[0.7777777777777778,\"#fb9f3a\"],[0.8888888888888888,\"#fdca26\"],[1.0,\"#f0f921\"]],\"type\":\"heatmap\"}],\"heatmapgl\":[{\"colorbar\":{\"outlinewidth\":0,\"ticks\":\"\"},\"colorscale\":[[0.0,\"#0d0887\"],[0.1111111111111111,\"#46039f\"],[0.2222222222222222,\"#7201a8\"],[0.3333333333333333,\"#9c179e\"],[0.4444444444444444,\"#bd3786\"],[0.5555555555555556,\"#d8576b\"],[0.6666666666666666,\"#ed7953\"],[0.7777777777777778,\"#fb9f3a\"],[0.8888888888888888,\"#fdca26\"],[1.0,\"#f0f921\"]],\"type\":\"heatmapgl\"}],\"histogram\":[{\"marker\":{\"pattern\":{\"fillmode\":\"overlay\",\"size\":10,\"solidity\":0.2}},\"type\":\"histogram\"}],\"histogram2d\":[{\"colorbar\":{\"outlinewidth\":0,\"ticks\":\"\"},\"colorscale\":[[0.0,\"#0d0887\"],[0.1111111111111111,\"#46039f\"],[0.2222222222222222,\"#7201a8\"],[0.3333333333333333,\"#9c179e\"],[0.4444444444444444,\"#bd3786\"],[0.5555555555555556,\"#d8576b\"],[0.6666666666666666,\"#ed7953\"],[0.7777777777777778,\"#fb9f3a\"],[0.8888888888888888,\"#fdca26\"],[1.0,\"#f0f921\"]],\"type\":\"histogram2d\"}],\"histogram2dcontour\":[{\"colorbar\":{\"outlinewidth\":0,\"ticks\":\"\"},\"colorscale\":[[0.0,\"#0d0887\"],[0.1111111111111111,\"#46039f\"],[0.2222222222222222,\"#7201a8\"],[0.3333333333333333,\"#9c179e\"],[0.4444444444444444,\"#bd3786\"],[0.5555555555555556,\"#d8576b\"],[0.6666666666666666,\"#ed7953\"],[0.7777777777777778,\"#fb9f3a\"],[0.8888888888888888,\"#fdca26\"],[1.0,\"#f0f921\"]],\"type\":\"histogram2dcontour\"}],\"mesh3d\":[{\"colorbar\":{\"outlinewidth\":0,\"ticks\":\"\"},\"type\":\"mesh3d\"}],\"parcoords\":[{\"line\":{\"colorbar\":{\"outlinewidth\":0,\"ticks\":\"\"}},\"type\":\"parcoords\"}],\"pie\":[{\"automargin\":true,\"type\":\"pie\"}],\"scatter\":[{\"marker\":{\"colorbar\":{\"outlinewidth\":0,\"ticks\":\"\"}},\"type\":\"scatter\"}],\"scatter3d\":[{\"line\":{\"colorbar\":{\"outlinewidth\":0,\"ticks\":\"\"}},\"marker\":{\"colorbar\":{\"outlinewidth\":0,\"ticks\":\"\"}},\"type\":\"scatter3d\"}],\"scattercarpet\":[{\"marker\":{\"colorbar\":{\"outlinewidth\":0,\"ticks\":\"\"}},\"type\":\"scattercarpet\"}],\"scattergeo\":[{\"marker\":{\"colorbar\":{\"outlinewidth\":0,\"ticks\":\"\"}},\"type\":\"scattergeo\"}],\"scattergl\":[{\"marker\":{\"colorbar\":{\"outlinewidth\":0,\"ticks\":\"\"}},\"type\":\"scattergl\"}],\"scattermapbox\":[{\"marker\":{\"colorbar\":{\"outlinewidth\":0,\"ticks\":\"\"}},\"type\":\"scattermapbox\"}],\"scatterpolar\":[{\"marker\":{\"colorbar\":{\"outlinewidth\":0,\"ticks\":\"\"}},\"type\":\"scatterpolar\"}],\"scatterpolargl\":[{\"marker\":{\"colorbar\":{\"outlinewidth\":0,\"ticks\":\"\"}},\"type\":\"scatterpolargl\"}],\"scatterternary\":[{\"marker\":{\"colorbar\":{\"outlinewidth\":0,\"ticks\":\"\"}},\"type\":\"scatterternary\"}],\"surface\":[{\"colorbar\":{\"outlinewidth\":0,\"ticks\":\"\"},\"colorscale\":[[0.0,\"#0d0887\"],[0.1111111111111111,\"#46039f\"],[0.2222222222222222,\"#7201a8\"],[0.3333333333333333,\"#9c179e\"],[0.4444444444444444,\"#bd3786\"],[0.5555555555555556,\"#d8576b\"],[0.6666666666666666,\"#ed7953\"],[0.7777777777777778,\"#fb9f3a\"],[0.8888888888888888,\"#fdca26\"],[1.0,\"#f0f921\"]],\"type\":\"surface\"}],\"table\":[{\"cells\":{\"fill\":{\"color\":\"#EBF0F8\"},\"line\":{\"color\":\"white\"}},\"header\":{\"fill\":{\"color\":\"#C8D4E3\"},\"line\":{\"color\":\"white\"}},\"type\":\"table\"}]},\"layout\":{\"annotationdefaults\":{\"arrowcolor\":\"#2a3f5f\",\"arrowhead\":0,\"arrowwidth\":1},\"autotypenumbers\":\"strict\",\"coloraxis\":{\"colorbar\":{\"outlinewidth\":0,\"ticks\":\"\"}},\"colorscale\":{\"diverging\":[[0,\"#8e0152\"],[0.1,\"#c51b7d\"],[0.2,\"#de77ae\"],[0.3,\"#f1b6da\"],[0.4,\"#fde0ef\"],[0.5,\"#f7f7f7\"],[0.6,\"#e6f5d0\"],[0.7,\"#b8e186\"],[0.8,\"#7fbc41\"],[0.9,\"#4d9221\"],[1,\"#276419\"]],\"sequential\":[[0.0,\"#0d0887\"],[0.1111111111111111,\"#46039f\"],[0.2222222222222222,\"#7201a8\"],[0.3333333333333333,\"#9c179e\"],[0.4444444444444444,\"#bd3786\"],[0.5555555555555556,\"#d8576b\"],[0.6666666666666666,\"#ed7953\"],[0.7777777777777778,\"#fb9f3a\"],[0.8888888888888888,\"#fdca26\"],[1.0,\"#f0f921\"]],\"sequentialminus\":[[0.0,\"#0d0887\"],[0.1111111111111111,\"#46039f\"],[0.2222222222222222,\"#7201a8\"],[0.3333333333333333,\"#9c179e\"],[0.4444444444444444,\"#bd3786\"],[0.5555555555555556,\"#d8576b\"],[0.6666666666666666,\"#ed7953\"],[0.7777777777777778,\"#fb9f3a\"],[0.8888888888888888,\"#fdca26\"],[1.0,\"#f0f921\"]]},\"colorway\":[\"#636efa\",\"#EF553B\",\"#00cc96\",\"#ab63fa\",\"#FFA15A\",\"#19d3f3\",\"#FF6692\",\"#B6E880\",\"#FF97FF\",\"#FECB52\"],\"font\":{\"color\":\"#2a3f5f\"},\"geo\":{\"bgcolor\":\"white\",\"lakecolor\":\"white\",\"landcolor\":\"#E5ECF6\",\"showlakes\":true,\"showland\":true,\"subunitcolor\":\"white\"},\"hoverlabel\":{\"align\":\"left\"},\"hovermode\":\"closest\",\"mapbox\":{\"style\":\"light\"},\"paper_bgcolor\":\"white\",\"plot_bgcolor\":\"#E5ECF6\",\"polar\":{\"angularaxis\":{\"gridcolor\":\"white\",\"linecolor\":\"white\",\"ticks\":\"\"},\"bgcolor\":\"#E5ECF6\",\"radialaxis\":{\"gridcolor\":\"white\",\"linecolor\":\"white\",\"ticks\":\"\"}},\"scene\":{\"xaxis\":{\"backgroundcolor\":\"#E5ECF6\",\"gridcolor\":\"white\",\"gridwidth\":2,\"linecolor\":\"white\",\"showbackground\":true,\"ticks\":\"\",\"zerolinecolor\":\"white\"},\"yaxis\":{\"backgroundcolor\":\"#E5ECF6\",\"gridcolor\":\"white\",\"gridwidth\":2,\"linecolor\":\"white\",\"showbackground\":true,\"ticks\":\"\",\"zerolinecolor\":\"white\"},\"zaxis\":{\"backgroundcolor\":\"#E5ECF6\",\"gridcolor\":\"white\",\"gridwidth\":2,\"linecolor\":\"white\",\"showbackground\":true,\"ticks\":\"\",\"zerolinecolor\":\"white\"}},\"shapedefaults\":{\"line\":{\"color\":\"#2a3f5f\"}},\"ternary\":{\"aaxis\":{\"gridcolor\":\"white\",\"linecolor\":\"white\",\"ticks\":\"\"},\"baxis\":{\"gridcolor\":\"white\",\"linecolor\":\"white\",\"ticks\":\"\"},\"bgcolor\":\"#E5ECF6\",\"caxis\":{\"gridcolor\":\"white\",\"linecolor\":\"white\",\"ticks\":\"\"}},\"title\":{\"x\":0.05},\"xaxis\":{\"automargin\":true,\"gridcolor\":\"white\",\"linecolor\":\"white\",\"ticks\":\"\",\"title\":{\"standoff\":15},\"zerolinecolor\":\"white\",\"zerolinewidth\":2},\"yaxis\":{\"automargin\":true,\"gridcolor\":\"white\",\"linecolor\":\"white\",\"ticks\":\"\",\"title\":{\"standoff\":15},\"zerolinecolor\":\"white\",\"zerolinewidth\":2}}},\"polar\":{\"domain\":{\"x\":[0.0,1.0],\"y\":[0.0,1.0]},\"angularaxis\":{\"direction\":\"clockwise\",\"rotation\":90}},\"legend\":{\"tracegroupgap\":0},\"margin\":{\"t\":60}},                        {\"responsive\": true}                    ).then(function(){\n",
       "                            \n",
       "var gd = document.getElementById('cdf39c6e-fa6e-466b-ae5d-7771ec6ca1a7');\n",
       "var x = new MutationObserver(function (mutations, observer) {{\n",
       "        var display = window.getComputedStyle(gd).display;\n",
       "        if (!display || display === 'none') {{\n",
       "            console.log([gd, 'removed!']);\n",
       "            Plotly.purge(gd);\n",
       "            observer.disconnect();\n",
       "        }}\n",
       "}});\n",
       "\n",
       "// Listen for the removal of the full notebook cells\n",
       "var notebookContainer = gd.closest('#notebook-container');\n",
       "if (notebookContainer) {{\n",
       "    x.observe(notebookContainer, {childList: true});\n",
       "}}\n",
       "\n",
       "// Listen for the clearing of the current output cell\n",
       "var outputEl = gd.closest('.output');\n",
       "if (outputEl) {{\n",
       "    x.observe(outputEl, {childList: true});\n",
       "}}\n",
       "\n",
       "                        })                };                });            </script>        </div>"
      ]
     },
     "metadata": {},
     "output_type": "display_data"
    }
   ],
   "source": [
    "#Income Vs Saving Sum\n",
    "fig = px.line_polar(filter_main_df, r='income', theta='save_sum', line_close=True)\n",
    "fig.show()"
   ]
  },
  {
   "cell_type": "markdown",
   "metadata": {},
   "source": [
    "#### Income and Credit Balance Example ####"
   ]
  },
  {
   "cell_type": "code",
   "execution_count": 348,
   "metadata": {},
   "outputs": [],
   "source": [
    "def plot_clusters_simple(df_column):\n",
    "    plt.scatter(df_column.iloc[:,0], df_column.iloc[:,1], c= kmeans.labels_.astype(float), s=50, alpha=0.5)\n",
    "    plt.scatter(centroids[:, 0], centroids[:, 1], c='red', s=50, marker='*')\n",
    "    plt.xlabel('Income($)')\n",
    "    plt.ylabel('Credit Bal')\n",
    "    plt.show()"
   ]
  },
  {
   "cell_type": "code",
   "execution_count": 355,
   "metadata": {},
   "outputs": [],
   "source": [
    "#Income and Age Example\n",
    "demo_kmean = filter_main_df[['income','credit_bal']]\n",
    "#Scale Data\n",
    "ss = StandardScaler()\n",
    "scaled_df = ss.fit_transform(demo_kmean)\n",
    "#Scaling PCA Componenent\n",
    "pca = PCA(n_components=2)\n",
    "X_pca = pca.fit_transform(demo_kmean)\n",
    "components = pca.components_\n",
    "kmeans = KMeans(n_clusters=4).fit(demo_kmean)\n",
    "k_labels = kmeans.labels_\n",
    "centroids = kmeans.cluster_centers_"
   ]
  },
  {
   "cell_type": "code",
   "execution_count": 356,
   "metadata": {},
   "outputs": [
    {
     "data": {
      "image/png": "[encoded data removed]",
      "text/plain": [
       "<Figure size 864x432 with 1 Axes>"
      ]
     },
     "metadata": {
      "needs_background": "light"
     },
     "output_type": "display_data"
    }
   ],
   "source": [
    "#Income and Credit Balance Plot\n",
    "plot_clusters(X_pca, k_labels, plt_cluster_centers=True)"
   ]
  },
  {
   "cell_type": "code",
   "execution_count": 351,
   "metadata": {},
   "outputs": [
    {
     "data": {
      "image/png": "[encoded data removed]",
      "text/plain": [
       "<Figure size 864x432 with 1 Axes>"
      ]
     },
     "metadata": {
      "needs_background": "light"
     },
     "output_type": "display_data"
    }
   ],
   "source": [
    "#Income and Credit Balance Example\n",
    "kmeans = KMeans(n_clusters=4).fit(demo_kmean)\n",
    "centroids = kmeans.cluster_centers_\n",
    "plot_clusters_simple(demo_kmean)"
   ]
  },
  {
   "cell_type": "code",
   "execution_count": 352,
   "metadata": {},
   "outputs": [
    {
     "data": {
      "text/plain": [
       "count       297.000000\n",
       "mean      23202.511785\n",
       "std       21442.078688\n",
       "min           0.000000\n",
       "25%        7633.000000\n",
       "50%       17804.000000\n",
       "75%       32739.000000\n",
       "max      142274.000000\n",
       "Name: income, dtype: float64"
      ]
     },
     "execution_count": 352,
     "metadata": {},
     "output_type": "execute_result"
    }
   ],
   "source": [
    "filter_main_df['income'].describe()"
   ]
  },
  {
   "cell_type": "code",
   "execution_count": 353,
   "metadata": {},
   "outputs": [
    {
     "data": {
      "text/plain": [
       "count     297.000000\n",
       "mean     1113.877879\n",
       "std      1221.518634\n",
       "min         0.000000\n",
       "25%       332.950000\n",
       "50%      1000.000000\n",
       "75%      1352.700000\n",
       "max      9500.000000\n",
       "Name: credit_bal, dtype: float64"
      ]
     },
     "execution_count": 353,
     "metadata": {},
     "output_type": "execute_result"
    }
   ],
   "source": [
    "filter_main_df['credit_bal'].describe()"
   ]
  },
  {
   "cell_type": "code",
   "execution_count": 354,
   "metadata": {},
   "outputs": [
    {
     "data": {
      "application/vnd.plotly.v1+json": {
       "config": {
        "plotlyServerURL": "https://plot.ly"
       },
       "data": [
        {
         "hovertemplate": "income=%{r}<br>credit_bal=%{theta}<extra></extra>",
         "legendgroup": "",
         "line": {
          "color": "#636efa",
          "dash": "solid"
         },
         "marker": {
          "symbol": "circle"
         },
         "mode": "lines",
         "name": "",
         "r": [
          18548,
          6605,
          44554,
          47668,
          0,
          1929,
          9622,
          6354,
          26505,
          21015,
          19494,
          6493,
          13148,
          24344,
          10025,
          21663,
          7571,
          15246,
          19823,
          27492,
          6300,
          17242,
          9129,
          16957,
          10933,
          81509,
          7431,
          12885,
          7633,
          0,
          1982,
          28867,
          25180,
          8810,
          57723,
          18350,
          90248,
          49258,
          83295,
          31910,
          68933,
          24275,
          23206,
          6356,
          1039,
          5488,
          34080,
          27649,
          11935,
          2769,
          43900,
          12202,
          34797,
          12823,
          0,
          18144,
          12258,
          3618,
          75121,
          38010,
          2644,
          5808,
          39291,
          4391,
          3419,
          4626,
          86744,
          12621,
          29363,
          18785,
          15077,
          12722,
          29579,
          22758,
          17612,
          27814,
          7777,
          18891,
          41650,
          37471,
          13515,
          0,
          13750,
          5772,
          6195,
          32739,
          13113,
          45629,
          19282,
          0,
          0,
          34855,
          23973,
          12403,
          2715,
          3339,
          35508,
          31054,
          17584,
          18760,
          12973,
          49623,
          27258,
          19686,
          43315,
          30068,
          22680,
          12690,
          10608,
          0,
          60242,
          0,
          20840,
          2517,
          27155,
          8201,
          15301,
          22322,
          26364,
          15576,
          40671,
          39250,
          36923,
          36259,
          0,
          20358,
          0,
          12310,
          3093,
          33060,
          17750,
          17052,
          0,
          10818,
          9099,
          41876,
          0,
          9480,
          46884,
          22995,
          8681,
          22783,
          48479,
          20684,
          101177,
          6618,
          16579,
          0,
          34394,
          13124,
          8575,
          8038,
          29120,
          17804,
          0,
          54647,
          8257,
          30217,
          59542,
          24131,
          19863,
          32700,
          37364,
          13137,
          43872,
          0,
          7914,
          45195,
          38736,
          8799,
          13497,
          33113,
          5981,
          26008,
          8262,
          10053,
          17412,
          42532,
          0,
          19088,
          9495,
          8961,
          59047,
          13241,
          7169,
          57224,
          49553,
          19019,
          0,
          21657,
          0,
          18176,
          3371,
          98566,
          30163,
          102286,
          27635,
          50890,
          63532,
          31496,
          1565,
          7302,
          30989,
          0,
          4424,
          6909,
          39382,
          22025,
          13317,
          26886,
          3303,
          10234,
          13087,
          29536,
          11946,
          68039,
          35117,
          16238,
          19649,
          44196,
          6479,
          0,
          14011,
          38917,
          43381,
          0,
          3726,
          4366,
          11613,
          4187,
          6132,
          18806,
          11485,
          11041,
          8120,
          32152,
          28975,
          54734,
          39832,
          29570,
          13901,
          25869,
          56088,
          19891,
          7467,
          20870,
          4804,
          19319,
          5779,
          7701,
          50980,
          13781,
          46712,
          0,
          58749,
          5848,
          6700,
          142274,
          41064,
          30015,
          69205,
          28518,
          18466,
          84184,
          5781,
          21746,
          15432,
          24300,
          2684,
          57642,
          7005,
          13058,
          8259,
          47267,
          16986,
          36603,
          75890,
          17174,
          24843,
          4247,
          8088,
          38803,
          27239,
          6108,
          55888,
          5920,
          12158,
          52903,
          24368,
          2620,
          0,
          2314,
          36614,
          9802,
          36605,
          43829,
          26387,
          18548
         ],
         "showlegend": false,
         "subplot": "polar",
         "theta": [
          286.69,
          1548.23,
          68.68,
          0,
          1000,
          3000,
          1147.07,
          1000,
          1073.95,
          254.56,
          1000,
          938.43,
          121.67,
          1200,
          1292.63,
          1100,
          1000,
          1000,
          899.08,
          1358.19,
          1051.01,
          734.81,
          355.26,
          1000,
          88.21,
          0,
          481.97,
          1000,
          782.77,
          290.54,
          814.67,
          1400,
          0,
          1000,
          2089.45,
          247.32,
          20,
          2186.72,
          4200,
          2275.24,
          1939.63,
          82.15,
          1555.34,
          559.57,
          1000,
          844.08,
          1208.1,
          1400,
          162.95,
          999.18,
          20,
          3000,
          406.96,
          0,
          1426.93,
          1000,
          1000,
          682.28,
          3800,
          1046.11,
          684.3,
          774.22,
          2000,
          1000,
          172.99,
          300,
          4626.88,
          3000,
          1500,
          15.74,
          602.03,
          1000,
          1136.06,
          1016.12,
          0,
          458.67,
          1000,
          679.69,
          1932.1,
          5192.98,
          0,
          731.2,
          1000,
          906.54,
          107.4,
          1600,
          0,
          0,
          1000,
          305.79,
          1000,
          5014.14,
          1200,
          983.06,
          1121.88,
          702.74,
          1800,
          2264.61,
          445.22,
          346.97,
          1860.67,
          2500,
          835.19,
          3000,
          3783.62,
          0,
          969.94,
          440.26,
          911.38,
          41.22,
          708.2,
          1000,
          1000,
          904.93,
          498.06,
          512.73,
          429.34,
          1100,
          604.65,
          137.4,
          1953.78,
          2000,
          5500,
          1800,
          1000,
          328.79,
          684.12,
          3000,
          10,
          2103.69,
          933.22,
          1000,
          369.97,
          1000,
          9.51,
          84.59,
          1000,
          80,
          2300,
          1100,
          3000,
          1100,
          2192.95,
          1000,
          5100,
          540.09,
          110.03,
          420,
          575,
          1000,
          244.47,
          1000,
          407.08,
          1000,
          0,
          2231.29,
          1000,
          1352.7,
          1840,
          1200,
          1000,
          1600,
          1900,
          914.08,
          1982.36,
          127.09,
          157.42,
          21.66,
          1112.8,
          859.44,
          1000,
          1133.39,
          496.15,
          462.28,
          0,
          369.72,
          3000,
          20,
          332.95,
          645.09,
          3000,
          37.88,
          711.32,
          1000,
          32.33,
          0,
          2033.41,
          99.9,
          0,
          1343.81,
          1000,
          307.6,
          463.65,
          54.09,
          660.4,
          20,
          413.11,
          20,
          9500,
          1661.44,
          298.42,
          1001.67,
          1442,
          3000,
          648.51,
          1000,
          1541.64,
          596.63,
          31.04,
          947.81,
          1000,
          1000,
          291.58,
          3157.9,
          3000,
          682.34,
          10,
          80.56,
          1000,
          1469.22,
          1000,
          584.13,
          730,
          0,
          98.04,
          1000,
          751.28,
          1628.72,
          915.75,
          140,
          0,
          1000,
          1000,
          1586.27,
          1336.4,
          0,
          739.86,
          2700,
          1504.14,
          1500,
          505.56,
          202.13,
          20,
          889.68,
          1179.95,
          202.99,
          1000,
          505.43,
          1000,
          1143.13,
          78.8,
          306.84,
          2300,
          130.9,
          2900,
          0,
          746.6,
          6869,
          1980.9,
          3229.66,
          0,
          0,
          538.93,
          1271.39,
          0,
          1868.87,
          1880.46,
          1200,
          1199.3,
          8600,
          1000,
          1739.74,
          1000,
          772.03,
          3000,
          1800,
          0,
          1000,
          133.12,
          1000,
          357,
          1900,
          1400,
          959.28,
          20,
          1000,
          0,
          2054.32,
          586.29,
          1000,
          1000,
          0,
          965.92,
          1072.17,
          1800,
          433.43,
          1300,
          286.69
         ],
         "type": "scatterpolar"
        }
       ],
       "layout": {
        "autosize": true,
        "legend": {
         "tracegroupgap": 0
        },
        "margin": {
         "t": 60
        },
        "polar": {
         "angularaxis": {
          "direction": "clockwise",
          "rotation": 90,
          "type": "linear"
         },
         "domain": {
          "x": [
           0,
           1
          ],
          "y": [
           0,
           1
          ]
         },
         "radialaxis": {
          "autorange": true,
          "range": [
           0,
           142274
          ],
          "type": "linear"
         }
        },
        "template": {
         "data": {
          "bar": [
           {
            "error_x": {
             "color": "#2a3f5f"
            },
            "error_y": {
             "color": "#2a3f5f"
            },
            "marker": {
             "line": {
              "color": "#E5ECF6",
              "width": 0.5
             },
             "pattern": {
              "fillmode": "overlay",
              "size": 10,
              "solidity": 0.2
             }
            },
            "type": "bar"
           }
          ],
          "barpolar": [
           {
            "marker": {
             "line": {
              "color": "#E5ECF6",
              "width": 0.5
             },
             "pattern": {
              "fillmode": "overlay",
              "size": 10,
              "solidity": 0.2
             }
            },
            "type": "barpolar"
           }
          ],
          "carpet": [
           {
            "aaxis": {
             "endlinecolor": "#2a3f5f",
             "gridcolor": "white",
             "linecolor": "white",
             "minorgridcolor": "white",
             "startlinecolor": "#2a3f5f"
            },
            "baxis": {
             "endlinecolor": "#2a3f5f",
             "gridcolor": "white",
             "linecolor": "white",
             "minorgridcolor": "white",
             "startlinecolor": "#2a3f5f"
            },
            "type": "carpet"
           }
          ],
          "choropleth": [
           {
            "colorbar": {
             "outlinewidth": 0,
             "ticks": ""
            },
            "type": "choropleth"
           }
          ],
          "contour": [
           {
            "colorbar": {
             "outlinewidth": 0,
             "ticks": ""
            },
            "colorscale": [
             [
              0,
              "#0d0887"
             ],
             [
              0.1111111111111111,
              "#46039f"
             ],
             [
              0.2222222222222222,
              "#7201a8"
             ],
             [
              0.3333333333333333,
              "#9c179e"
             ],
             [
              0.4444444444444444,
              "#bd3786"
             ],
             [
              0.5555555555555556,
              "#d8576b"
             ],
             [
              0.6666666666666666,
              "#ed7953"
             ],
             [
              0.7777777777777778,
              "#fb9f3a"
             ],
             [
              0.8888888888888888,
              "#fdca26"
             ],
             [
              1,
              "#f0f921"
             ]
            ],
            "type": "contour"
           }
          ],
          "contourcarpet": [
           {
            "colorbar": {
             "outlinewidth": 0,
             "ticks": ""
            },
            "type": "contourcarpet"
           }
          ],
          "heatmap": [
           {
            "colorbar": {
             "outlinewidth": 0,
             "ticks": ""
            },
            "colorscale": [
             [
              0,
              "#0d0887"
             ],
             [
              0.1111111111111111,
              "#46039f"
             ],
             [
              0.2222222222222222,
              "#7201a8"
             ],
             [
              0.3333333333333333,
              "#9c179e"
             ],
             [
              0.4444444444444444,
              "#bd3786"
             ],
             [
              0.5555555555555556,
              "#d8576b"
             ],
             [
              0.6666666666666666,
              "#ed7953"
             ],
             [
              0.7777777777777778,
              "#fb9f3a"
             ],
             [
              0.8888888888888888,
              "#fdca26"
             ],
             [
              1,
              "#f0f921"
             ]
            ],
            "type": "heatmap"
           }
          ],
          "heatmapgl": [
           {
            "colorbar": {
             "outlinewidth": 0,
             "ticks": ""
            },
            "colorscale": [
             [
              0,
              "#0d0887"
             ],
             [
              0.1111111111111111,
              "#46039f"
             ],
             [
              0.2222222222222222,
              "#7201a8"
             ],
             [
              0.3333333333333333,
              "#9c179e"
             ],
             [
              0.4444444444444444,
              "#bd3786"
             ],
             [
              0.5555555555555556,
              "#d8576b"
             ],
             [
              0.6666666666666666,
              "#ed7953"
             ],
             [
              0.7777777777777778,
              "#fb9f3a"
             ],
             [
              0.8888888888888888,
              "#fdca26"
             ],
             [
              1,
              "#f0f921"
             ]
            ],
            "type": "heatmapgl"
           }
          ],
          "histogram": [
           {
            "marker": {
             "pattern": {
              "fillmode": "overlay",
              "size": 10,
              "solidity": 0.2
             }
            },
            "type": "histogram"
           }
          ],
          "histogram2d": [
           {
            "colorbar": {
             "outlinewidth": 0,
             "ticks": ""
            },
            "colorscale": [
             [
              0,
              "#0d0887"
             ],
             [
              0.1111111111111111,
              "#46039f"
             ],
             [
              0.2222222222222222,
              "#7201a8"
             ],
             [
              0.3333333333333333,
              "#9c179e"
             ],
             [
              0.4444444444444444,
              "#bd3786"
             ],
             [
              0.5555555555555556,
              "#d8576b"
             ],
             [
              0.6666666666666666,
              "#ed7953"
             ],
             [
              0.7777777777777778,
              "#fb9f3a"
             ],
             [
              0.8888888888888888,
              "#fdca26"
             ],
             [
              1,
              "#f0f921"
             ]
            ],
            "type": "histogram2d"
           }
          ],
          "histogram2dcontour": [
           {
            "colorbar": {
             "outlinewidth": 0,
             "ticks": ""
            },
            "colorscale": [
             [
              0,
              "#0d0887"
             ],
             [
              0.1111111111111111,
              "#46039f"
             ],
             [
              0.2222222222222222,
              "#7201a8"
             ],
             [
              0.3333333333333333,
              "#9c179e"
             ],
             [
              0.4444444444444444,
              "#bd3786"
             ],
             [
              0.5555555555555556,
              "#d8576b"
             ],
             [
              0.6666666666666666,
              "#ed7953"
             ],
             [
              0.7777777777777778,
              "#fb9f3a"
             ],
             [
              0.8888888888888888,
              "#fdca26"
             ],
             [
              1,
              "#f0f921"
             ]
            ],
            "type": "histogram2dcontour"
           }
          ],
          "mesh3d": [
           {
            "colorbar": {
             "outlinewidth": 0,
             "ticks": ""
            },
            "type": "mesh3d"
           }
          ],
          "parcoords": [
           {
            "line": {
             "colorbar": {
              "outlinewidth": 0,
              "ticks": ""
             }
            },
            "type": "parcoords"
           }
          ],
          "pie": [
           {
            "automargin": true,
            "type": "pie"
           }
          ],
          "scatter": [
           {
            "marker": {
             "colorbar": {
              "outlinewidth": 0,
              "ticks": ""
             }
            },
            "type": "scatter"
           }
          ],
          "scatter3d": [
           {
            "line": {
             "colorbar": {
              "outlinewidth": 0,
              "ticks": ""
             }
            },
            "marker": {
             "colorbar": {
              "outlinewidth": 0,
              "ticks": ""
             }
            },
            "type": "scatter3d"
           }
          ],
          "scattercarpet": [
           {
            "marker": {
             "colorbar": {
              "outlinewidth": 0,
              "ticks": ""
             }
            },
            "type": "scattercarpet"
           }
          ],
          "scattergeo": [
           {
            "marker": {
             "colorbar": {
              "outlinewidth": 0,
              "ticks": ""
             }
            },
            "type": "scattergeo"
           }
          ],
          "scattergl": [
           {
            "marker": {
             "colorbar": {
              "outlinewidth": 0,
              "ticks": ""
             }
            },
            "type": "scattergl"
           }
          ],
          "scattermapbox": [
           {
            "marker": {
             "colorbar": {
              "outlinewidth": 0,
              "ticks": ""
             }
            },
            "type": "scattermapbox"
           }
          ],
          "scatterpolar": [
           {
            "marker": {
             "colorbar": {
              "outlinewidth": 0,
              "ticks": ""
             }
            },
            "type": "scatterpolar"
           }
          ],
          "scatterpolargl": [
           {
            "marker": {
             "colorbar": {
              "outlinewidth": 0,
              "ticks": ""
             }
            },
            "type": "scatterpolargl"
           }
          ],
          "scatterternary": [
           {
            "marker": {
             "colorbar": {
              "outlinewidth": 0,
              "ticks": ""
             }
            },
            "type": "scatterternary"
           }
          ],
          "surface": [
           {
            "colorbar": {
             "outlinewidth": 0,
             "ticks": ""
            },
            "colorscale": [
             [
              0,
              "#0d0887"
             ],
             [
              0.1111111111111111,
              "#46039f"
             ],
             [
              0.2222222222222222,
              "#7201a8"
             ],
             [
              0.3333333333333333,
              "#9c179e"
             ],
             [
              0.4444444444444444,
              "#bd3786"
             ],
             [
              0.5555555555555556,
              "#d8576b"
             ],
             [
              0.6666666666666666,
              "#ed7953"
             ],
             [
              0.7777777777777778,
              "#fb9f3a"
             ],
             [
              0.8888888888888888,
              "#fdca26"
             ],
             [
              1,
              "#f0f921"
             ]
            ],
            "type": "surface"
           }
          ],
          "table": [
           {
            "cells": {
             "fill": {
              "color": "#EBF0F8"
             },
             "line": {
              "color": "white"
             }
            },
            "header": {
             "fill": {
              "color": "#C8D4E3"
             },
             "line": {
              "color": "white"
             }
            },
            "type": "table"
           }
          ]
         },
         "layout": {
          "annotationdefaults": {
           "arrowcolor": "#2a3f5f",
           "arrowhead": 0,
           "arrowwidth": 1
          },
          "autotypenumbers": "strict",
          "coloraxis": {
           "colorbar": {
            "outlinewidth": 0,
            "ticks": ""
           }
          },
          "colorscale": {
           "diverging": [
            [
             0,
             "#8e0152"
            ],
            [
             0.1,
             "#c51b7d"
            ],
            [
             0.2,
             "#de77ae"
            ],
            [
             0.3,
             "#f1b6da"
            ],
            [
             0.4,
             "#fde0ef"
            ],
            [
             0.5,
             "#f7f7f7"
            ],
            [
             0.6,
             "#e6f5d0"
            ],
            [
             0.7,
             "#b8e186"
            ],
            [
             0.8,
             "#7fbc41"
            ],
            [
             0.9,
             "#4d9221"
            ],
            [
             1,
             "#276419"
            ]
           ],
           "sequential": [
            [
             0,
             "#0d0887"
            ],
            [
             0.1111111111111111,
             "#46039f"
            ],
            [
             0.2222222222222222,
             "#7201a8"
            ],
            [
             0.3333333333333333,
             "#9c179e"
            ],
            [
             0.4444444444444444,
             "#bd3786"
            ],
            [
             0.5555555555555556,
             "#d8576b"
            ],
            [
             0.6666666666666666,
             "#ed7953"
            ],
            [
             0.7777777777777778,
             "#fb9f3a"
            ],
            [
             0.8888888888888888,
             "#fdca26"
            ],
            [
             1,
             "#f0f921"
            ]
           ],
           "sequentialminus": [
            [
             0,
             "#0d0887"
            ],
            [
             0.1111111111111111,
             "#46039f"
            ],
            [
             0.2222222222222222,
             "#7201a8"
            ],
            [
             0.3333333333333333,
             "#9c179e"
            ],
            [
             0.4444444444444444,
             "#bd3786"
            ],
            [
             0.5555555555555556,
             "#d8576b"
            ],
            [
             0.6666666666666666,
             "#ed7953"
            ],
            [
             0.7777777777777778,
             "#fb9f3a"
            ],
            [
             0.8888888888888888,
             "#fdca26"
            ],
            [
             1,
             "#f0f921"
            ]
           ]
          },
          "colorway": [
           "#636efa",
           "#EF553B",
           "#00cc96",
           "#ab63fa",
           "#FFA15A",
           "#19d3f3",
           "#FF6692",
           "#B6E880",
           "#FF97FF",
           "#FECB52"
          ],
          "font": {
           "color": "#2a3f5f"
          },
          "geo": {
           "bgcolor": "white",
           "lakecolor": "white",
           "landcolor": "#E5ECF6",
           "showlakes": true,
           "showland": true,
           "subunitcolor": "white"
          },
          "hoverlabel": {
           "align": "left"
          },
          "hovermode": "closest",
          "mapbox": {
           "style": "light"
          },
          "paper_bgcolor": "white",
          "plot_bgcolor": "#E5ECF6",
          "polar": {
           "angularaxis": {
            "gridcolor": "white",
            "linecolor": "white",
            "ticks": ""
           },
           "bgcolor": "#E5ECF6",
           "radialaxis": {
            "gridcolor": "white",
            "linecolor": "white",
            "ticks": ""
           }
          },
          "scene": {
           "xaxis": {
            "backgroundcolor": "#E5ECF6",
            "gridcolor": "white",
            "gridwidth": 2,
            "linecolor": "white",
            "showbackground": true,
            "ticks": "",
            "zerolinecolor": "white"
           },
           "yaxis": {
            "backgroundcolor": "#E5ECF6",
            "gridcolor": "white",
            "gridwidth": 2,
            "linecolor": "white",
            "showbackground": true,
            "ticks": "",
            "zerolinecolor": "white"
           },
           "zaxis": {
            "backgroundcolor": "#E5ECF6",
            "gridcolor": "white",
            "gridwidth": 2,
            "linecolor": "white",
            "showbackground": true,
            "ticks": "",
            "zerolinecolor": "white"
           }
          },
          "shapedefaults": {
           "line": {
            "color": "#2a3f5f"
           }
          },
          "ternary": {
           "aaxis": {
            "gridcolor": "white",
            "linecolor": "white",
            "ticks": ""
           },
           "baxis": {
            "gridcolor": "white",
            "linecolor": "white",
            "ticks": ""
           },
           "bgcolor": "#E5ECF6",
           "caxis": {
            "gridcolor": "white",
            "linecolor": "white",
            "ticks": ""
           }
          },
          "title": {
           "x": 0.05
          },
          "xaxis": {
           "automargin": true,
           "gridcolor": "white",
           "linecolor": "white",
           "ticks": "",
           "title": {
            "standoff": 15
           },
           "zerolinecolor": "white",
           "zerolinewidth": 2
          },
          "yaxis": {
           "automargin": true,
           "gridcolor": "white",
           "linecolor": "white",
           "ticks": "",
           "title": {
            "standoff": 15
           },
           "zerolinecolor": "white",
           "zerolinewidth": 2
          }
         }
        }
       }
      },
      "image/png": "[encoded data removed]",
      "text/html": [
       "<div>                            <div id=\"059d0bac-330a-4d67-8084-1cb1d64921e5\" class=\"plotly-graph-div\" style=\"height:525px; width:100%;\"></div>            <script type=\"text/javascript\">                require([\"plotly\"], function(Plotly) {                    window.PLOTLYENV=window.PLOTLYENV || {};                                    if (document.getElementById(\"059d0bac-330a-4d67-8084-1cb1d64921e5\")) {                    Plotly.newPlot(                        \"059d0bac-330a-4d67-8084-1cb1d64921e5\",                        [{\"hovertemplate\":\"income=%{r}<br>credit_bal=%{theta}<extra></extra>\",\"legendgroup\":\"\",\"line\":{\"color\":\"#636efa\",\"dash\":\"solid\"},\"marker\":{\"symbol\":\"circle\"},\"mode\":\"lines\",\"name\":\"\",\"r\":[18548.0,6605.0,44554.0,47668.0,0.0,1929.0,9622.0,6354.0,26505.0,21015.0,19494.0,6493.0,13148.0,24344.0,10025.0,21663.0,7571.0,15246.0,19823.0,27492.0,6300.0,17242.0,9129.0,16957.0,10933.0,81509.0,7431.0,12885.0,7633.0,0.0,1982.0,28867.0,25180.0,8810.0,57723.0,18350.0,90248.0,49258.0,83295.0,31910.0,68933.0,24275.0,23206.0,6356.0,1039.0,5488.0,34080.0,27649.0,11935.0,2769.0,43900.0,12202.0,34797.0,12823.0,0.0,18144.0,12258.0,3618.0,75121.0,38010.0,2644.0,5808.0,39291.0,4391.0,3419.0,4626.0,86744.0,12621.0,29363.0,18785.0,15077.0,12722.0,29579.0,22758.0,17612.0,27814.0,7777.0,18891.0,41650.0,37471.0,13515.0,0.0,13750.0,5772.0,6195.0,32739.0,13113.0,45629.0,19282.0,0.0,0.0,34855.0,23973.0,12403.0,2715.0,3339.0,35508.0,31054.0,17584.0,18760.0,12973.0,49623.0,27258.0,19686.0,43315.0,30068.0,22680.0,12690.0,10608.0,0.0,60242.0,0.0,20840.0,2517.0,27155.0,8201.0,15301.0,22322.0,26364.0,15576.0,40671.0,39250.0,36923.0,36259.0,0.0,20358.0,0.0,12310.0,3093.0,33060.0,17750.0,17052.0,0.0,10818.0,9099.0,41876.0,0.0,9480.0,46884.0,22995.0,8681.0,22783.0,48479.0,20684.0,101177.0,6618.0,16579.0,0.0,34394.0,13124.0,8575.0,8038.0,29120.0,17804.0,0.0,54647.0,8257.0,30217.0,59542.0,24131.0,19863.0,32700.0,37364.0,13137.0,43872.0,0.0,7914.0,45195.0,38736.0,8799.0,13497.0,33113.0,5981.0,26008.0,8262.0,10053.0,17412.0,42532.0,0.0,19088.0,9495.0,8961.0,59047.0,13241.0,7169.0,57224.0,49553.0,19019.0,0.0,21657.0,0.0,18176.0,3371.0,98566.0,30163.0,102286.0,27635.0,50890.0,63532.0,31496.0,1565.0,7302.0,30989.0,0.0,4424.0,6909.0,39382.0,22025.0,13317.0,26886.0,3303.0,10234.0,13087.0,29536.0,11946.0,68039.0,35117.0,16238.0,19649.0,44196.0,6479.0,0.0,14011.0,38917.0,43381.0,0.0,3726.0,4366.0,11613.0,4187.0,6132.0,18806.0,11485.0,11041.0,8120.0,32152.0,28975.0,54734.0,39832.0,29570.0,13901.0,25869.0,56088.0,19891.0,7467.0,20870.0,4804.0,19319.0,5779.0,7701.0,50980.0,13781.0,46712.0,0.0,58749.0,5848.0,6700.0,142274.0,41064.0,30015.0,69205.0,28518.0,18466.0,84184.0,5781.0,21746.0,15432.0,24300.0,2684.0,57642.0,7005.0,13058.0,8259.0,47267.0,16986.0,36603.0,75890.0,17174.0,24843.0,4247.0,8088.0,38803.0,27239.0,6108.0,55888.0,5920.0,12158.0,52903.0,24368.0,2620.0,0.0,2314.0,36614.0,9802.0,36605.0,43829.0,26387.0,18548.0],\"showlegend\":false,\"subplot\":\"polar\",\"theta\":[286.69,1548.23,68.68,0.0,1000.0,3000.0,1147.07,1000.0,1073.95,254.56,1000.0,938.43,121.67,1200.0,1292.63,1100.0,1000.0,1000.0,899.08,1358.19,1051.01,734.81,355.26,1000.0,88.21,0.0,481.97,1000.0,782.77,290.54,814.67,1400.0,0.0,1000.0,2089.45,247.32,20.0,2186.72,4200.0,2275.24,1939.63,82.15,1555.34,559.57,1000.0,844.08,1208.1,1400.0,162.95,999.18,20.0,3000.0,406.96,0.0,1426.93,1000.0,1000.0,682.28,3800.0,1046.11,684.3,774.22,2000.0,1000.0,172.99,300.0,4626.88,3000.0,1500.0,15.74,602.03,1000.0,1136.06,1016.12,0.0,458.67,1000.0,679.69,1932.1,5192.98,0.0,731.2,1000.0,906.54,107.4,1600.0,0.0,0.0,1000.0,305.79,1000.0,5014.14,1200.0,983.06,1121.88,702.74,1800.0,2264.61,445.22,346.97,1860.67,2500.0,835.19,3000.0,3783.62,0.0,969.94,440.26,911.38,41.22,708.2,1000.0,1000.0,904.93,498.06,512.73,429.34,1100.0,604.65,137.4,1953.78,2000.0,5500.0,1800.0,1000.0,328.79,684.12,3000.0,10.0,2103.69,933.22,1000.0,369.97,1000.0,9.51,84.59,1000.0,80.0,2300.0,1100.0,3000.0,1100.0,2192.95,1000.0,5100.0,540.09,110.03,420.0,575.0,1000.0,244.47,1000.0,407.08,1000.0,0.0,2231.29,1000.0,1352.7,1840.0,1200.0,1000.0,1600.0,1900.0,914.08,1982.36,127.09,157.42,21.66,1112.8,859.44,1000.0,1133.39,496.15,462.28,0.0,369.72,3000.0,20.0,332.95,645.09,3000.0,37.88,711.32,1000.0,32.33,0.0,2033.41,99.9,0.0,1343.81,1000.0,307.6,463.65,54.09,660.4,20.0,413.11,20.0,9500.0,1661.44,298.42,1001.67,1442.0,3000.0,648.51,1000.0,1541.64,596.63,31.04,947.81,1000.0,1000.0,291.58,3157.9,3000.0,682.34,10.0,80.56,1000.0,1469.22,1000.0,584.13,730.0,0.0,98.04,1000.0,751.28,1628.72,915.75,140.0,0.0,1000.0,1000.0,1586.27,1336.4,0.0,739.86,2700.0,1504.14,1500.0,505.56,202.13,20.0,889.68,1179.95,202.99,1000.0,505.43,1000.0,1143.13,78.8,306.84,2300.0,130.9,2900.0,0.0,746.6,6869.0,1980.9,3229.66,0.0,0.0,538.93,1271.39,0.0,1868.87,1880.46,1200.0,1199.3,8600.0,1000.0,1739.74,1000.0,772.03,3000.0,1800.0,0.0,1000.0,133.12,1000.0,357.0,1900.0,1400.0,959.28,20.0,1000.0,0.0,2054.32,586.29,1000.0,1000.0,0.0,965.92,1072.17,1800.0,433.43,1300.0,286.69],\"type\":\"scatterpolar\"}],                        {\"template\":{\"data\":{\"bar\":[{\"error_x\":{\"color\":\"#2a3f5f\"},\"error_y\":{\"color\":\"#2a3f5f\"},\"marker\":{\"line\":{\"color\":\"#E5ECF6\",\"width\":0.5},\"pattern\":{\"fillmode\":\"overlay\",\"size\":10,\"solidity\":0.2}},\"type\":\"bar\"}],\"barpolar\":[{\"marker\":{\"line\":{\"color\":\"#E5ECF6\",\"width\":0.5},\"pattern\":{\"fillmode\":\"overlay\",\"size\":10,\"solidity\":0.2}},\"type\":\"barpolar\"}],\"carpet\":[{\"aaxis\":{\"endlinecolor\":\"#2a3f5f\",\"gridcolor\":\"white\",\"linecolor\":\"white\",\"minorgridcolor\":\"white\",\"startlinecolor\":\"#2a3f5f\"},\"baxis\":{\"endlinecolor\":\"#2a3f5f\",\"gridcolor\":\"white\",\"linecolor\":\"white\",\"minorgridcolor\":\"white\",\"startlinecolor\":\"#2a3f5f\"},\"type\":\"carpet\"}],\"choropleth\":[{\"colorbar\":{\"outlinewidth\":0,\"ticks\":\"\"},\"type\":\"choropleth\"}],\"contour\":[{\"colorbar\":{\"outlinewidth\":0,\"ticks\":\"\"},\"colorscale\":[[0.0,\"#0d0887\"],[0.1111111111111111,\"#46039f\"],[0.2222222222222222,\"#7201a8\"],[0.3333333333333333,\"#9c179e\"],[0.4444444444444444,\"#bd3786\"],[0.5555555555555556,\"#d8576b\"],[0.6666666666666666,\"#ed7953\"],[0.7777777777777778,\"#fb9f3a\"],[0.8888888888888888,\"#fdca26\"],[1.0,\"#f0f921\"]],\"type\":\"contour\"}],\"contourcarpet\":[{\"colorbar\":{\"outlinewidth\":0,\"ticks\":\"\"},\"type\":\"contourcarpet\"}],\"heatmap\":[{\"colorbar\":{\"outlinewidth\":0,\"ticks\":\"\"},\"colorscale\":[[0.0,\"#0d0887\"],[0.1111111111111111,\"#46039f\"],[0.2222222222222222,\"#7201a8\"],[0.3333333333333333,\"#9c179e\"],[0.4444444444444444,\"#bd3786\"],[0.5555555555555556,\"#d8576b\"],[0.6666666666666666,\"#ed7953\"],[0.7777777777777778,\"#fb9f3a\"],[0.8888888888888888,\"#fdca26\"],[1.0,\"#f0f921\"]],\"type\":\"heatmap\"}],\"heatmapgl\":[{\"colorbar\":{\"outlinewidth\":0,\"ticks\":\"\"},\"colorscale\":[[0.0,\"#0d0887\"],[0.1111111111111111,\"#46039f\"],[0.2222222222222222,\"#7201a8\"],[0.3333333333333333,\"#9c179e\"],[0.4444444444444444,\"#bd3786\"],[0.5555555555555556,\"#d8576b\"],[0.6666666666666666,\"#ed7953\"],[0.7777777777777778,\"#fb9f3a\"],[0.8888888888888888,\"#fdca26\"],[1.0,\"#f0f921\"]],\"type\":\"heatmapgl\"}],\"histogram\":[{\"marker\":{\"pattern\":{\"fillmode\":\"overlay\",\"size\":10,\"solidity\":0.2}},\"type\":\"histogram\"}],\"histogram2d\":[{\"colorbar\":{\"outlinewidth\":0,\"ticks\":\"\"},\"colorscale\":[[0.0,\"#0d0887\"],[0.1111111111111111,\"#46039f\"],[0.2222222222222222,\"#7201a8\"],[0.3333333333333333,\"#9c179e\"],[0.4444444444444444,\"#bd3786\"],[0.5555555555555556,\"#d8576b\"],[0.6666666666666666,\"#ed7953\"],[0.7777777777777778,\"#fb9f3a\"],[0.8888888888888888,\"#fdca26\"],[1.0,\"#f0f921\"]],\"type\":\"histogram2d\"}],\"histogram2dcontour\":[{\"colorbar\":{\"outlinewidth\":0,\"ticks\":\"\"},\"colorscale\":[[0.0,\"#0d0887\"],[0.1111111111111111,\"#46039f\"],[0.2222222222222222,\"#7201a8\"],[0.3333333333333333,\"#9c179e\"],[0.4444444444444444,\"#bd3786\"],[0.5555555555555556,\"#d8576b\"],[0.6666666666666666,\"#ed7953\"],[0.7777777777777778,\"#fb9f3a\"],[0.8888888888888888,\"#fdca26\"],[1.0,\"#f0f921\"]],\"type\":\"histogram2dcontour\"}],\"mesh3d\":[{\"colorbar\":{\"outlinewidth\":0,\"ticks\":\"\"},\"type\":\"mesh3d\"}],\"parcoords\":[{\"line\":{\"colorbar\":{\"outlinewidth\":0,\"ticks\":\"\"}},\"type\":\"parcoords\"}],\"pie\":[{\"automargin\":true,\"type\":\"pie\"}],\"scatter\":[{\"marker\":{\"colorbar\":{\"outlinewidth\":0,\"ticks\":\"\"}},\"type\":\"scatter\"}],\"scatter3d\":[{\"line\":{\"colorbar\":{\"outlinewidth\":0,\"ticks\":\"\"}},\"marker\":{\"colorbar\":{\"outlinewidth\":0,\"ticks\":\"\"}},\"type\":\"scatter3d\"}],\"scattercarpet\":[{\"marker\":{\"colorbar\":{\"outlinewidth\":0,\"ticks\":\"\"}},\"type\":\"scattercarpet\"}],\"scattergeo\":[{\"marker\":{\"colorbar\":{\"outlinewidth\":0,\"ticks\":\"\"}},\"type\":\"scattergeo\"}],\"scattergl\":[{\"marker\":{\"colorbar\":{\"outlinewidth\":0,\"ticks\":\"\"}},\"type\":\"scattergl\"}],\"scattermapbox\":[{\"marker\":{\"colorbar\":{\"outlinewidth\":0,\"ticks\":\"\"}},\"type\":\"scattermapbox\"}],\"scatterpolar\":[{\"marker\":{\"colorbar\":{\"outlinewidth\":0,\"ticks\":\"\"}},\"type\":\"scatterpolar\"}],\"scatterpolargl\":[{\"marker\":{\"colorbar\":{\"outlinewidth\":0,\"ticks\":\"\"}},\"type\":\"scatterpolargl\"}],\"scatterternary\":[{\"marker\":{\"colorbar\":{\"outlinewidth\":0,\"ticks\":\"\"}},\"type\":\"scatterternary\"}],\"surface\":[{\"colorbar\":{\"outlinewidth\":0,\"ticks\":\"\"},\"colorscale\":[[0.0,\"#0d0887\"],[0.1111111111111111,\"#46039f\"],[0.2222222222222222,\"#7201a8\"],[0.3333333333333333,\"#9c179e\"],[0.4444444444444444,\"#bd3786\"],[0.5555555555555556,\"#d8576b\"],[0.6666666666666666,\"#ed7953\"],[0.7777777777777778,\"#fb9f3a\"],[0.8888888888888888,\"#fdca26\"],[1.0,\"#f0f921\"]],\"type\":\"surface\"}],\"table\":[{\"cells\":{\"fill\":{\"color\":\"#EBF0F8\"},\"line\":{\"color\":\"white\"}},\"header\":{\"fill\":{\"color\":\"#C8D4E3\"},\"line\":{\"color\":\"white\"}},\"type\":\"table\"}]},\"layout\":{\"annotationdefaults\":{\"arrowcolor\":\"#2a3f5f\",\"arrowhead\":0,\"arrowwidth\":1},\"autotypenumbers\":\"strict\",\"coloraxis\":{\"colorbar\":{\"outlinewidth\":0,\"ticks\":\"\"}},\"colorscale\":{\"diverging\":[[0,\"#8e0152\"],[0.1,\"#c51b7d\"],[0.2,\"#de77ae\"],[0.3,\"#f1b6da\"],[0.4,\"#fde0ef\"],[0.5,\"#f7f7f7\"],[0.6,\"#e6f5d0\"],[0.7,\"#b8e186\"],[0.8,\"#7fbc41\"],[0.9,\"#4d9221\"],[1,\"#276419\"]],\"sequential\":[[0.0,\"#0d0887\"],[0.1111111111111111,\"#46039f\"],[0.2222222222222222,\"#7201a8\"],[0.3333333333333333,\"#9c179e\"],[0.4444444444444444,\"#bd3786\"],[0.5555555555555556,\"#d8576b\"],[0.6666666666666666,\"#ed7953\"],[0.7777777777777778,\"#fb9f3a\"],[0.8888888888888888,\"#fdca26\"],[1.0,\"#f0f921\"]],\"sequentialminus\":[[0.0,\"#0d0887\"],[0.1111111111111111,\"#46039f\"],[0.2222222222222222,\"#7201a8\"],[0.3333333333333333,\"#9c179e\"],[0.4444444444444444,\"#bd3786\"],[0.5555555555555556,\"#d8576b\"],[0.6666666666666666,\"#ed7953\"],[0.7777777777777778,\"#fb9f3a\"],[0.8888888888888888,\"#fdca26\"],[1.0,\"#f0f921\"]]},\"colorway\":[\"#636efa\",\"#EF553B\",\"#00cc96\",\"#ab63fa\",\"#FFA15A\",\"#19d3f3\",\"#FF6692\",\"#B6E880\",\"#FF97FF\",\"#FECB52\"],\"font\":{\"color\":\"#2a3f5f\"},\"geo\":{\"bgcolor\":\"white\",\"lakecolor\":\"white\",\"landcolor\":\"#E5ECF6\",\"showlakes\":true,\"showland\":true,\"subunitcolor\":\"white\"},\"hoverlabel\":{\"align\":\"left\"},\"hovermode\":\"closest\",\"mapbox\":{\"style\":\"light\"},\"paper_bgcolor\":\"white\",\"plot_bgcolor\":\"#E5ECF6\",\"polar\":{\"angularaxis\":{\"gridcolor\":\"white\",\"linecolor\":\"white\",\"ticks\":\"\"},\"bgcolor\":\"#E5ECF6\",\"radialaxis\":{\"gridcolor\":\"white\",\"linecolor\":\"white\",\"ticks\":\"\"}},\"scene\":{\"xaxis\":{\"backgroundcolor\":\"#E5ECF6\",\"gridcolor\":\"white\",\"gridwidth\":2,\"linecolor\":\"white\",\"showbackground\":true,\"ticks\":\"\",\"zerolinecolor\":\"white\"},\"yaxis\":{\"backgroundcolor\":\"#E5ECF6\",\"gridcolor\":\"white\",\"gridwidth\":2,\"linecolor\":\"white\",\"showbackground\":true,\"ticks\":\"\",\"zerolinecolor\":\"white\"},\"zaxis\":{\"backgroundcolor\":\"#E5ECF6\",\"gridcolor\":\"white\",\"gridwidth\":2,\"linecolor\":\"white\",\"showbackground\":true,\"ticks\":\"\",\"zerolinecolor\":\"white\"}},\"shapedefaults\":{\"line\":{\"color\":\"#2a3f5f\"}},\"ternary\":{\"aaxis\":{\"gridcolor\":\"white\",\"linecolor\":\"white\",\"ticks\":\"\"},\"baxis\":{\"gridcolor\":\"white\",\"linecolor\":\"white\",\"ticks\":\"\"},\"bgcolor\":\"#E5ECF6\",\"caxis\":{\"gridcolor\":\"white\",\"linecolor\":\"white\",\"ticks\":\"\"}},\"title\":{\"x\":0.05},\"xaxis\":{\"automargin\":true,\"gridcolor\":\"white\",\"linecolor\":\"white\",\"ticks\":\"\",\"title\":{\"standoff\":15},\"zerolinecolor\":\"white\",\"zerolinewidth\":2},\"yaxis\":{\"automargin\":true,\"gridcolor\":\"white\",\"linecolor\":\"white\",\"ticks\":\"\",\"title\":{\"standoff\":15},\"zerolinecolor\":\"white\",\"zerolinewidth\":2}}},\"polar\":{\"domain\":{\"x\":[0.0,1.0],\"y\":[0.0,1.0]},\"angularaxis\":{\"direction\":\"clockwise\",\"rotation\":90}},\"legend\":{\"tracegroupgap\":0},\"margin\":{\"t\":60}},                        {\"responsive\": true}                    ).then(function(){\n",
       "                            \n",
       "var gd = document.getElementById('059d0bac-330a-4d67-8084-1cb1d64921e5');\n",
       "var x = new MutationObserver(function (mutations, observer) {{\n",
       "        var display = window.getComputedStyle(gd).display;\n",
       "        if (!display || display === 'none') {{\n",
       "            console.log([gd, 'removed!']);\n",
       "            Plotly.purge(gd);\n",
       "            observer.disconnect();\n",
       "        }}\n",
       "}});\n",
       "\n",
       "// Listen for the removal of the full notebook cells\n",
       "var notebookContainer = gd.closest('#notebook-container');\n",
       "if (notebookContainer) {{\n",
       "    x.observe(notebookContainer, {childList: true});\n",
       "}}\n",
       "\n",
       "// Listen for the clearing of the current output cell\n",
       "var outputEl = gd.closest('.output');\n",
       "if (outputEl) {{\n",
       "    x.observe(outputEl, {childList: true});\n",
       "}}\n",
       "\n",
       "                        })                };                });            </script>        </div>"
      ]
     },
     "metadata": {},
     "output_type": "display_data"
    }
   ],
   "source": [
    "#Income Vs Credit Balance\n",
    "fig = px.line_polar(demo_kmean, r='income', theta='credit_bal', line_close=True)\n",
    "fig.show()"
   ]
  }
 ],
 "metadata": {
  "kernelspec": {
   "display_name": "Python 3 (ipykernel)",
   "language": "python",
   "name": "python3"
  },
  "language_info": {
   "codemirror_mode": {
    "name": "ipython",
    "version": 3
   },
   "file_extension": ".py",
   "mimetype": "text/x-python",
   "name": "python",
   "nbconvert_exporter": "python",
   "pygments_lexer": "ipython3",
   "version": "3.8.12"
  }
 },
 "nbformat": 4,
 "nbformat_minor": 4
}

{
 "cells": [
  {
   "cell_type": "markdown",
   "metadata": {},
   "source": [
    "## Mini Project III"
   ]
  },
  {
   "cell_type": "code",
   "execution_count": 615,
   "metadata": {},
   "outputs": [],
   "source": [
    "import pandas as pd\n",
    "import numpy as np\n",
    "import matplotlib.pyplot as plt\n",
    "import plotly.express as px\n",
    "\n",
    "# set figure size\n",
    "plt.rcParams[\"figure.figsize\"] = (12,6)\n",
    "\n",
    "from sklearn.cluster import KMeans\n",
    "from sklearn.decomposition import PCA\n",
    "from sklearn.preprocessing import scale, normalize, StandardScaler, MinMaxScaler"
   ]
  },
  {
   "cell_type": "markdown",
   "metadata": {},
   "source": [
    "### Based on demographics (only on the information from twm_customer) ### "
   ]
  },
  {
   "cell_type": "code",
   "execution_count": 584,
   "metadata": {},
   "outputs": [],
   "source": [
    "data = pd.read_csv(\"twm_customer.csv\", delimiter=';')"
   ]
  },
  {
   "cell_type": "code",
   "execution_count": 585,
   "metadata": {},
   "outputs": [
    {
     "data": {
      "text/html": [
       "<div>\n",
       "<style scoped>\n",
       "    .dataframe tbody tr th:only-of-type {\n",
       "        vertical-align: middle;\n",
       "    }\n",
       "\n",
       "    .dataframe tbody tr th {\n",
       "        vertical-align: top;\n",
       "    }\n",
       "\n",
       "    .dataframe thead th {\n",
       "        text-align: right;\n",
       "    }\n",
       "</style>\n",
       "<table border=\"1\" class=\"dataframe\">\n",
       "  <thead>\n",
       "    <tr style=\"text-align: right;\">\n",
       "      <th></th>\n",
       "      <th>cust_id</th>\n",
       "      <th>income</th>\n",
       "      <th>age</th>\n",
       "      <th>years_with_bank</th>\n",
       "      <th>nbr_children</th>\n",
       "      <th>gender</th>\n",
       "      <th>marital_status</th>\n",
       "      <th>name_prefix</th>\n",
       "      <th>first_name</th>\n",
       "      <th>last_name</th>\n",
       "      <th>street_nbr</th>\n",
       "      <th>street_name</th>\n",
       "      <th>postal_code</th>\n",
       "      <th>city_name</th>\n",
       "      <th>state_code</th>\n",
       "    </tr>\n",
       "  </thead>\n",
       "  <tbody>\n",
       "    <tr>\n",
       "      <th>0</th>\n",
       "      <td>1362691</td>\n",
       "      <td>26150</td>\n",
       "      <td>46</td>\n",
       "      <td>5</td>\n",
       "      <td>1</td>\n",
       "      <td>M</td>\n",
       "      <td>2</td>\n",
       "      <td></td>\n",
       "      <td>Donald                                        ...</td>\n",
       "      <td>Marek                                         ...</td>\n",
       "      <td>8298</td>\n",
       "      <td>Second                                        ...</td>\n",
       "      <td>89194</td>\n",
       "      <td>Las Vegas</td>\n",
       "      <td>NV</td>\n",
       "    </tr>\n",
       "    <tr>\n",
       "      <th>1</th>\n",
       "      <td>1362487</td>\n",
       "      <td>6605</td>\n",
       "      <td>71</td>\n",
       "      <td>1</td>\n",
       "      <td>0</td>\n",
       "      <td>M</td>\n",
       "      <td>2</td>\n",
       "      <td></td>\n",
       "      <td>ChingDyi                                      ...</td>\n",
       "      <td>Moussavi                                      ...</td>\n",
       "      <td>10603</td>\n",
       "      <td>Daffodil                                      ...</td>\n",
       "      <td>90159</td>\n",
       "      <td>Los Angeles</td>\n",
       "      <td>CA</td>\n",
       "    </tr>\n",
       "    <tr>\n",
       "      <th>2</th>\n",
       "      <td>1363160</td>\n",
       "      <td>18548</td>\n",
       "      <td>38</td>\n",
       "      <td>8</td>\n",
       "      <td>0</td>\n",
       "      <td>F</td>\n",
       "      <td>1</td>\n",
       "      <td></td>\n",
       "      <td>Rosa                                          ...</td>\n",
       "      <td>Johnston                                      ...</td>\n",
       "      <td>8817</td>\n",
       "      <td>Figueroa                                      ...</td>\n",
       "      <td>90024</td>\n",
       "      <td>Los Angeles</td>\n",
       "      <td>CA</td>\n",
       "    </tr>\n",
       "    <tr>\n",
       "      <th>3</th>\n",
       "      <td>1362752</td>\n",
       "      <td>47668</td>\n",
       "      <td>54</td>\n",
       "      <td>3</td>\n",
       "      <td>0</td>\n",
       "      <td>F</td>\n",
       "      <td>1</td>\n",
       "      <td></td>\n",
       "      <td>Lisa                                          ...</td>\n",
       "      <td>Martin                                        ...</td>\n",
       "      <td>676</td>\n",
       "      <td>Humble                                        ...</td>\n",
       "      <td>90172</td>\n",
       "      <td>Los Angeles</td>\n",
       "      <td>CA</td>\n",
       "    </tr>\n",
       "    <tr>\n",
       "      <th>4</th>\n",
       "      <td>1362548</td>\n",
       "      <td>44554</td>\n",
       "      <td>59</td>\n",
       "      <td>9</td>\n",
       "      <td>2</td>\n",
       "      <td>F</td>\n",
       "      <td>4</td>\n",
       "      <td></td>\n",
       "      <td>Barbara                                       ...</td>\n",
       "      <td>O'Malley                                      ...</td>\n",
       "      <td>6578</td>\n",
       "      <td>C                                             ...</td>\n",
       "      <td>10138</td>\n",
       "      <td>New York City</td>\n",
       "      <td>NY</td>\n",
       "    </tr>\n",
       "  </tbody>\n",
       "</table>\n",
       "</div>"
      ],
      "text/plain": [
       "   cust_id  income  age  years_with_bank  nbr_children gender  marital_status  \\\n",
       "0  1362691   26150   46                5             1     M                2   \n",
       "1  1362487    6605   71                1             0     M                2   \n",
       "2  1363160   18548   38                8             0     F                1   \n",
       "3  1362752   47668   54                3             0     F                1   \n",
       "4  1362548   44554   59                9             2     F                4   \n",
       "\n",
       "  name_prefix                                         first_name  \\\n",
       "0              Donald                                        ...   \n",
       "1              ChingDyi                                      ...   \n",
       "2              Rosa                                          ...   \n",
       "3              Lisa                                          ...   \n",
       "4              Barbara                                       ...   \n",
       "\n",
       "                                           last_name  street_nbr  \\\n",
       "0  Marek                                         ...        8298   \n",
       "1  Moussavi                                      ...       10603   \n",
       "2  Johnston                                      ...        8817   \n",
       "3  Martin                                        ...         676   \n",
       "4  O'Malley                                      ...        6578   \n",
       "\n",
       "                                         street_name  postal_code  \\\n",
       "0  Second                                        ...        89194   \n",
       "1  Daffodil                                      ...        90159   \n",
       "2  Figueroa                                      ...        90024   \n",
       "3  Humble                                        ...        90172   \n",
       "4  C                                             ...        10138   \n",
       "\n",
       "                                  city_name state_code  \n",
       "0  Las Vegas                                      NV    \n",
       "1  Los Angeles                                    CA    \n",
       "2  Los Angeles                                    CA    \n",
       "3  Los Angeles                                    CA    \n",
       "4  New York City                                  NY    "
      ]
     },
     "execution_count": 585,
     "metadata": {},
     "output_type": "execute_result"
    }
   ],
   "source": [
    "data.head()"
   ]
  },
  {
   "cell_type": "code",
   "execution_count": 586,
   "metadata": {},
   "outputs": [
    {
     "data": {
      "text/plain": [
       "cust_id            0\n",
       "income             0\n",
       "age                0\n",
       "years_with_bank    0\n",
       "nbr_children       0\n",
       "gender             0\n",
       "marital_status     0\n",
       "name_prefix        0\n",
       "first_name         0\n",
       "last_name          0\n",
       "street_nbr         0\n",
       "street_name        0\n",
       "postal_code        0\n",
       "city_name          0\n",
       "state_code         0\n",
       "dtype: int64"
      ]
     },
     "execution_count": 586,
     "metadata": {},
     "output_type": "execute_result"
    }
   ],
   "source": [
    "#No Missing Values\n",
    "data.isnull().sum()"
   ]
  },
  {
   "cell_type": "code",
   "execution_count": 587,
   "metadata": {},
   "outputs": [
    {
     "data": {
      "text/html": [
       "<div>\n",
       "<style scoped>\n",
       "    .dataframe tbody tr th:only-of-type {\n",
       "        vertical-align: middle;\n",
       "    }\n",
       "\n",
       "    .dataframe tbody tr th {\n",
       "        vertical-align: top;\n",
       "    }\n",
       "\n",
       "    .dataframe thead th {\n",
       "        text-align: right;\n",
       "    }\n",
       "</style>\n",
       "<table border=\"1\" class=\"dataframe\">\n",
       "  <thead>\n",
       "    <tr style=\"text-align: right;\">\n",
       "      <th></th>\n",
       "      <th>cust_id</th>\n",
       "      <th>income</th>\n",
       "      <th>age</th>\n",
       "      <th>years_with_bank</th>\n",
       "      <th>nbr_children</th>\n",
       "      <th>marital_status</th>\n",
       "      <th>street_nbr</th>\n",
       "      <th>postal_code</th>\n",
       "    </tr>\n",
       "  </thead>\n",
       "  <tbody>\n",
       "    <tr>\n",
       "      <th>count</th>\n",
       "      <td>7.470000e+02</td>\n",
       "      <td>747.000000</td>\n",
       "      <td>747.000000</td>\n",
       "      <td>747.000000</td>\n",
       "      <td>747.000000</td>\n",
       "      <td>747.000000</td>\n",
       "      <td>747.000000</td>\n",
       "      <td>747.000000</td>\n",
       "    </tr>\n",
       "    <tr>\n",
       "      <th>mean</th>\n",
       "      <td>1.362991e+06</td>\n",
       "      <td>22728.281124</td>\n",
       "      <td>42.479250</td>\n",
       "      <td>3.907631</td>\n",
       "      <td>0.714859</td>\n",
       "      <td>1.882195</td>\n",
       "      <td>8523.109772</td>\n",
       "      <td>59502.690763</td>\n",
       "    </tr>\n",
       "    <tr>\n",
       "      <th>std</th>\n",
       "      <td>2.925255e+02</td>\n",
       "      <td>22207.221405</td>\n",
       "      <td>19.114879</td>\n",
       "      <td>2.675634</td>\n",
       "      <td>1.103410</td>\n",
       "      <td>0.892051</td>\n",
       "      <td>5219.488263</td>\n",
       "      <td>31205.926508</td>\n",
       "    </tr>\n",
       "    <tr>\n",
       "      <th>min</th>\n",
       "      <td>1.362480e+06</td>\n",
       "      <td>0.000000</td>\n",
       "      <td>13.000000</td>\n",
       "      <td>0.000000</td>\n",
       "      <td>0.000000</td>\n",
       "      <td>1.000000</td>\n",
       "      <td>196.000000</td>\n",
       "      <td>2149.000000</td>\n",
       "    </tr>\n",
       "    <tr>\n",
       "      <th>25%</th>\n",
       "      <td>1.362732e+06</td>\n",
       "      <td>7118.500000</td>\n",
       "      <td>28.000000</td>\n",
       "      <td>2.000000</td>\n",
       "      <td>0.000000</td>\n",
       "      <td>1.000000</td>\n",
       "      <td>4295.500000</td>\n",
       "      <td>33145.000000</td>\n",
       "    </tr>\n",
       "    <tr>\n",
       "      <th>50%</th>\n",
       "      <td>1.362993e+06</td>\n",
       "      <td>17242.000000</td>\n",
       "      <td>42.000000</td>\n",
       "      <td>4.000000</td>\n",
       "      <td>0.000000</td>\n",
       "      <td>2.000000</td>\n",
       "      <td>8001.000000</td>\n",
       "      <td>64132.000000</td>\n",
       "    </tr>\n",
       "    <tr>\n",
       "      <th>75%</th>\n",
       "      <td>1.363244e+06</td>\n",
       "      <td>31338.000000</td>\n",
       "      <td>56.000000</td>\n",
       "      <td>6.000000</td>\n",
       "      <td>1.000000</td>\n",
       "      <td>2.000000</td>\n",
       "      <td>12039.000000</td>\n",
       "      <td>90082.000000</td>\n",
       "    </tr>\n",
       "    <tr>\n",
       "      <th>max</th>\n",
       "      <td>1.363495e+06</td>\n",
       "      <td>144157.000000</td>\n",
       "      <td>89.000000</td>\n",
       "      <td>9.000000</td>\n",
       "      <td>5.000000</td>\n",
       "      <td>4.000000</td>\n",
       "      <td>19940.000000</td>\n",
       "      <td>98186.000000</td>\n",
       "    </tr>\n",
       "  </tbody>\n",
       "</table>\n",
       "</div>"
      ],
      "text/plain": [
       "            cust_id         income         age  years_with_bank  nbr_children  \\\n",
       "count  7.470000e+02     747.000000  747.000000       747.000000    747.000000   \n",
       "mean   1.362991e+06   22728.281124   42.479250         3.907631      0.714859   \n",
       "std    2.925255e+02   22207.221405   19.114879         2.675634      1.103410   \n",
       "min    1.362480e+06       0.000000   13.000000         0.000000      0.000000   \n",
       "25%    1.362732e+06    7118.500000   28.000000         2.000000      0.000000   \n",
       "50%    1.362993e+06   17242.000000   42.000000         4.000000      0.000000   \n",
       "75%    1.363244e+06   31338.000000   56.000000         6.000000      1.000000   \n",
       "max    1.363495e+06  144157.000000   89.000000         9.000000      5.000000   \n",
       "\n",
       "       marital_status    street_nbr   postal_code  \n",
       "count      747.000000    747.000000    747.000000  \n",
       "mean         1.882195   8523.109772  59502.690763  \n",
       "std          0.892051   5219.488263  31205.926508  \n",
       "min          1.000000    196.000000   2149.000000  \n",
       "25%          1.000000   4295.500000  33145.000000  \n",
       "50%          2.000000   8001.000000  64132.000000  \n",
       "75%          2.000000  12039.000000  90082.000000  \n",
       "max          4.000000  19940.000000  98186.000000  "
      ]
     },
     "execution_count": 587,
     "metadata": {},
     "output_type": "execute_result"
    }
   ],
   "source": [
    "data.describe()"
   ]
  },
  {
   "cell_type": "code",
   "execution_count": 588,
   "metadata": {},
   "outputs": [
    {
     "data": {
      "text/plain": [
       "(747, 15)"
      ]
     },
     "execution_count": 588,
     "metadata": {},
     "output_type": "execute_result"
    }
   ],
   "source": [
    "data.shape"
   ]
  },
  {
   "cell_type": "code",
   "execution_count": 589,
   "metadata": {},
   "outputs": [],
   "source": [
    "#Convert from Categorical to Numerical using One-Hot Encoding - GENDER\n",
    "gender_val = {\"M \": 1, \"F \":2}\n",
    "data['gender_val'] = data[\"gender\"].replace(gender_val)"
   ]
  },
  {
   "cell_type": "code",
   "execution_count": 590,
   "metadata": {},
   "outputs": [],
   "source": [
    "#Convert from Categorical to Numerical using One-Hot Encoding - STATE CODE\n",
    "state_code_val = {\"AL  \":1, \"AZ  \":2, \"CA  \":3, \"CO  \":4, \"DC  \":5, \"FL  \":6, \"GA  \":7, \"HI  \":8,\n",
    "                 \"IL  \":9, \"IN  \":10, \"KS  \":11, \"KY  \":12, \"LA  \":13, \"MA  \":14, \"MD  \":15, \"MI  \":16,\n",
    "                 \"MN  \":17, \"MO  \":18, \"NB  \":19, \"NC  \":20, \"NJ  \":21, \"NM  \":22, \"NV  \":23, \"NY  \":24,\n",
    "                 \"OH  \":25, \"OK  \":26, \"OR  \":27, \"PA  \":28, \"TN  \":29, \"TX  \":30, \"VA  \":31, \"WA  \":32, \"WI  \":33}\n",
    "data['state_code_val'] = data[\"state_code\"].replace(state_code_val)"
   ]
  },
  {
   "cell_type": "code",
   "execution_count": 591,
   "metadata": {},
   "outputs": [
    {
     "data": {
      "text/html": [
       "<div>\n",
       "<style scoped>\n",
       "    .dataframe tbody tr th:only-of-type {\n",
       "        vertical-align: middle;\n",
       "    }\n",
       "\n",
       "    .dataframe tbody tr th {\n",
       "        vertical-align: top;\n",
       "    }\n",
       "\n",
       "    .dataframe thead th {\n",
       "        text-align: right;\n",
       "    }\n",
       "</style>\n",
       "<table border=\"1\" class=\"dataframe\">\n",
       "  <thead>\n",
       "    <tr style=\"text-align: right;\">\n",
       "      <th></th>\n",
       "      <th>cust_id</th>\n",
       "      <th>income</th>\n",
       "      <th>age</th>\n",
       "      <th>years_with_bank</th>\n",
       "      <th>nbr_children</th>\n",
       "      <th>gender</th>\n",
       "      <th>marital_status</th>\n",
       "      <th>name_prefix</th>\n",
       "      <th>first_name</th>\n",
       "      <th>last_name</th>\n",
       "      <th>street_nbr</th>\n",
       "      <th>street_name</th>\n",
       "      <th>postal_code</th>\n",
       "      <th>city_name</th>\n",
       "      <th>state_code</th>\n",
       "      <th>gender_val</th>\n",
       "      <th>state_code_val</th>\n",
       "    </tr>\n",
       "  </thead>\n",
       "  <tbody>\n",
       "    <tr>\n",
       "      <th>0</th>\n",
       "      <td>1362691</td>\n",
       "      <td>26150</td>\n",
       "      <td>46</td>\n",
       "      <td>5</td>\n",
       "      <td>1</td>\n",
       "      <td>M</td>\n",
       "      <td>2</td>\n",
       "      <td></td>\n",
       "      <td>Donald                                        ...</td>\n",
       "      <td>Marek                                         ...</td>\n",
       "      <td>8298</td>\n",
       "      <td>Second                                        ...</td>\n",
       "      <td>89194</td>\n",
       "      <td>Las Vegas</td>\n",
       "      <td>NV</td>\n",
       "      <td>1</td>\n",
       "      <td>23</td>\n",
       "    </tr>\n",
       "    <tr>\n",
       "      <th>1</th>\n",
       "      <td>1362487</td>\n",
       "      <td>6605</td>\n",
       "      <td>71</td>\n",
       "      <td>1</td>\n",
       "      <td>0</td>\n",
       "      <td>M</td>\n",
       "      <td>2</td>\n",
       "      <td></td>\n",
       "      <td>ChingDyi                                      ...</td>\n",
       "      <td>Moussavi                                      ...</td>\n",
       "      <td>10603</td>\n",
       "      <td>Daffodil                                      ...</td>\n",
       "      <td>90159</td>\n",
       "      <td>Los Angeles</td>\n",
       "      <td>CA</td>\n",
       "      <td>1</td>\n",
       "      <td>3</td>\n",
       "    </tr>\n",
       "    <tr>\n",
       "      <th>2</th>\n",
       "      <td>1363160</td>\n",
       "      <td>18548</td>\n",
       "      <td>38</td>\n",
       "      <td>8</td>\n",
       "      <td>0</td>\n",
       "      <td>F</td>\n",
       "      <td>1</td>\n",
       "      <td></td>\n",
       "      <td>Rosa                                          ...</td>\n",
       "      <td>Johnston                                      ...</td>\n",
       "      <td>8817</td>\n",
       "      <td>Figueroa                                      ...</td>\n",
       "      <td>90024</td>\n",
       "      <td>Los Angeles</td>\n",
       "      <td>CA</td>\n",
       "      <td>2</td>\n",
       "      <td>3</td>\n",
       "    </tr>\n",
       "    <tr>\n",
       "      <th>3</th>\n",
       "      <td>1362752</td>\n",
       "      <td>47668</td>\n",
       "      <td>54</td>\n",
       "      <td>3</td>\n",
       "      <td>0</td>\n",
       "      <td>F</td>\n",
       "      <td>1</td>\n",
       "      <td></td>\n",
       "      <td>Lisa                                          ...</td>\n",
       "      <td>Martin                                        ...</td>\n",
       "      <td>676</td>\n",
       "      <td>Humble                                        ...</td>\n",
       "      <td>90172</td>\n",
       "      <td>Los Angeles</td>\n",
       "      <td>CA</td>\n",
       "      <td>2</td>\n",
       "      <td>3</td>\n",
       "    </tr>\n",
       "    <tr>\n",
       "      <th>4</th>\n",
       "      <td>1362548</td>\n",
       "      <td>44554</td>\n",
       "      <td>59</td>\n",
       "      <td>9</td>\n",
       "      <td>2</td>\n",
       "      <td>F</td>\n",
       "      <td>4</td>\n",
       "      <td></td>\n",
       "      <td>Barbara                                       ...</td>\n",
       "      <td>O'Malley                                      ...</td>\n",
       "      <td>6578</td>\n",
       "      <td>C                                             ...</td>\n",
       "      <td>10138</td>\n",
       "      <td>New York City</td>\n",
       "      <td>NY</td>\n",
       "      <td>2</td>\n",
       "      <td>24</td>\n",
       "    </tr>\n",
       "  </tbody>\n",
       "</table>\n",
       "</div>"
      ],
      "text/plain": [
       "   cust_id  income  age  years_with_bank  nbr_children gender  marital_status  \\\n",
       "0  1362691   26150   46                5             1     M                2   \n",
       "1  1362487    6605   71                1             0     M                2   \n",
       "2  1363160   18548   38                8             0     F                1   \n",
       "3  1362752   47668   54                3             0     F                1   \n",
       "4  1362548   44554   59                9             2     F                4   \n",
       "\n",
       "  name_prefix                                         first_name  \\\n",
       "0              Donald                                        ...   \n",
       "1              ChingDyi                                      ...   \n",
       "2              Rosa                                          ...   \n",
       "3              Lisa                                          ...   \n",
       "4              Barbara                                       ...   \n",
       "\n",
       "                                           last_name  street_nbr  \\\n",
       "0  Marek                                         ...        8298   \n",
       "1  Moussavi                                      ...       10603   \n",
       "2  Johnston                                      ...        8817   \n",
       "3  Martin                                        ...         676   \n",
       "4  O'Malley                                      ...        6578   \n",
       "\n",
       "                                         street_name  postal_code  \\\n",
       "0  Second                                        ...        89194   \n",
       "1  Daffodil                                      ...        90159   \n",
       "2  Figueroa                                      ...        90024   \n",
       "3  Humble                                        ...        90172   \n",
       "4  C                                             ...        10138   \n",
       "\n",
       "                                  city_name state_code  gender_val  \\\n",
       "0  Las Vegas                                      NV             1   \n",
       "1  Los Angeles                                    CA             1   \n",
       "2  Los Angeles                                    CA             2   \n",
       "3  Los Angeles                                    CA             2   \n",
       "4  New York City                                  NY             2   \n",
       "\n",
       "   state_code_val  \n",
       "0              23  \n",
       "1               3  \n",
       "2               3  \n",
       "3               3  \n",
       "4              24  "
      ]
     },
     "execution_count": 591,
     "metadata": {},
     "output_type": "execute_result"
    }
   ],
   "source": [
    "data.head()"
   ]
  },
  {
   "cell_type": "code",
   "execution_count": 592,
   "metadata": {},
   "outputs": [],
   "source": [
    "demo_data = data.drop(columns=['cust_id','years_with_bank','gender','name_prefix','first_name','last_name','street_nbr','street_name','postal_code','city_name','state_code'])"
   ]
  },
  {
   "cell_type": "code",
   "execution_count": 593,
   "metadata": {},
   "outputs": [
    {
     "data": {
      "text/html": [
       "<div>\n",
       "<style scoped>\n",
       "    .dataframe tbody tr th:only-of-type {\n",
       "        vertical-align: middle;\n",
       "    }\n",
       "\n",
       "    .dataframe tbody tr th {\n",
       "        vertical-align: top;\n",
       "    }\n",
       "\n",
       "    .dataframe thead th {\n",
       "        text-align: right;\n",
       "    }\n",
       "</style>\n",
       "<table border=\"1\" class=\"dataframe\">\n",
       "  <thead>\n",
       "    <tr style=\"text-align: right;\">\n",
       "      <th></th>\n",
       "      <th>income</th>\n",
       "      <th>age</th>\n",
       "      <th>nbr_children</th>\n",
       "      <th>marital_status</th>\n",
       "      <th>gender_val</th>\n",
       "      <th>state_code_val</th>\n",
       "    </tr>\n",
       "  </thead>\n",
       "  <tbody>\n",
       "    <tr>\n",
       "      <th>0</th>\n",
       "      <td>26150</td>\n",
       "      <td>46</td>\n",
       "      <td>1</td>\n",
       "      <td>2</td>\n",
       "      <td>1</td>\n",
       "      <td>23</td>\n",
       "    </tr>\n",
       "    <tr>\n",
       "      <th>1</th>\n",
       "      <td>6605</td>\n",
       "      <td>71</td>\n",
       "      <td>0</td>\n",
       "      <td>2</td>\n",
       "      <td>1</td>\n",
       "      <td>3</td>\n",
       "    </tr>\n",
       "    <tr>\n",
       "      <th>2</th>\n",
       "      <td>18548</td>\n",
       "      <td>38</td>\n",
       "      <td>0</td>\n",
       "      <td>1</td>\n",
       "      <td>2</td>\n",
       "      <td>3</td>\n",
       "    </tr>\n",
       "    <tr>\n",
       "      <th>3</th>\n",
       "      <td>47668</td>\n",
       "      <td>54</td>\n",
       "      <td>0</td>\n",
       "      <td>1</td>\n",
       "      <td>2</td>\n",
       "      <td>3</td>\n",
       "    </tr>\n",
       "    <tr>\n",
       "      <th>4</th>\n",
       "      <td>44554</td>\n",
       "      <td>59</td>\n",
       "      <td>2</td>\n",
       "      <td>4</td>\n",
       "      <td>2</td>\n",
       "      <td>24</td>\n",
       "    </tr>\n",
       "  </tbody>\n",
       "</table>\n",
       "</div>"
      ],
      "text/plain": [
       "   income  age  nbr_children  marital_status  gender_val  state_code_val\n",
       "0   26150   46             1               2           1              23\n",
       "1    6605   71             0               2           1               3\n",
       "2   18548   38             0               1           2               3\n",
       "3   47668   54             0               1           2               3\n",
       "4   44554   59             2               4           2              24"
      ]
     },
     "execution_count": 593,
     "metadata": {},
     "output_type": "execute_result"
    }
   ],
   "source": [
    "demo_data.head()"
   ]
  },
  {
   "cell_type": "code",
   "execution_count": 594,
   "metadata": {},
   "outputs": [
    {
     "data": {
      "text/html": [
       "<div>\n",
       "<style scoped>\n",
       "    .dataframe tbody tr th:only-of-type {\n",
       "        vertical-align: middle;\n",
       "    }\n",
       "\n",
       "    .dataframe tbody tr th {\n",
       "        vertical-align: top;\n",
       "    }\n",
       "\n",
       "    .dataframe thead th {\n",
       "        text-align: right;\n",
       "    }\n",
       "</style>\n",
       "<table border=\"1\" class=\"dataframe\">\n",
       "  <thead>\n",
       "    <tr style=\"text-align: right;\">\n",
       "      <th></th>\n",
       "      <th>income</th>\n",
       "      <th>age</th>\n",
       "      <th>nbr_children</th>\n",
       "      <th>marital_status</th>\n",
       "      <th>gender_val</th>\n",
       "      <th>state_code_val</th>\n",
       "    </tr>\n",
       "  </thead>\n",
       "  <tbody>\n",
       "    <tr>\n",
       "      <th>count</th>\n",
       "      <td>747.000000</td>\n",
       "      <td>747.000000</td>\n",
       "      <td>747.000000</td>\n",
       "      <td>747.000000</td>\n",
       "      <td>747.000000</td>\n",
       "      <td>747.000000</td>\n",
       "    </tr>\n",
       "    <tr>\n",
       "      <th>mean</th>\n",
       "      <td>22728.281124</td>\n",
       "      <td>42.479250</td>\n",
       "      <td>0.714859</td>\n",
       "      <td>1.882195</td>\n",
       "      <td>1.559572</td>\n",
       "      <td>15.970549</td>\n",
       "    </tr>\n",
       "    <tr>\n",
       "      <th>std</th>\n",
       "      <td>22207.221405</td>\n",
       "      <td>19.114879</td>\n",
       "      <td>1.103410</td>\n",
       "      <td>0.892051</td>\n",
       "      <td>0.496771</td>\n",
       "      <td>10.826152</td>\n",
       "    </tr>\n",
       "    <tr>\n",
       "      <th>min</th>\n",
       "      <td>0.000000</td>\n",
       "      <td>13.000000</td>\n",
       "      <td>0.000000</td>\n",
       "      <td>1.000000</td>\n",
       "      <td>1.000000</td>\n",
       "      <td>1.000000</td>\n",
       "    </tr>\n",
       "    <tr>\n",
       "      <th>25%</th>\n",
       "      <td>7118.500000</td>\n",
       "      <td>28.000000</td>\n",
       "      <td>0.000000</td>\n",
       "      <td>1.000000</td>\n",
       "      <td>1.000000</td>\n",
       "      <td>3.000000</td>\n",
       "    </tr>\n",
       "    <tr>\n",
       "      <th>50%</th>\n",
       "      <td>17242.000000</td>\n",
       "      <td>42.000000</td>\n",
       "      <td>0.000000</td>\n",
       "      <td>2.000000</td>\n",
       "      <td>2.000000</td>\n",
       "      <td>17.000000</td>\n",
       "    </tr>\n",
       "    <tr>\n",
       "      <th>75%</th>\n",
       "      <td>31338.000000</td>\n",
       "      <td>56.000000</td>\n",
       "      <td>1.000000</td>\n",
       "      <td>2.000000</td>\n",
       "      <td>2.000000</td>\n",
       "      <td>25.000000</td>\n",
       "    </tr>\n",
       "    <tr>\n",
       "      <th>max</th>\n",
       "      <td>144157.000000</td>\n",
       "      <td>89.000000</td>\n",
       "      <td>5.000000</td>\n",
       "      <td>4.000000</td>\n",
       "      <td>2.000000</td>\n",
       "      <td>33.000000</td>\n",
       "    </tr>\n",
       "  </tbody>\n",
       "</table>\n",
       "</div>"
      ],
      "text/plain": [
       "              income         age  nbr_children  marital_status  gender_val  \\\n",
       "count     747.000000  747.000000    747.000000      747.000000  747.000000   \n",
       "mean    22728.281124   42.479250      0.714859        1.882195    1.559572   \n",
       "std     22207.221405   19.114879      1.103410        0.892051    0.496771   \n",
       "min         0.000000   13.000000      0.000000        1.000000    1.000000   \n",
       "25%      7118.500000   28.000000      0.000000        1.000000    1.000000   \n",
       "50%     17242.000000   42.000000      0.000000        2.000000    2.000000   \n",
       "75%     31338.000000   56.000000      1.000000        2.000000    2.000000   \n",
       "max    144157.000000   89.000000      5.000000        4.000000    2.000000   \n",
       "\n",
       "       state_code_val  \n",
       "count      747.000000  \n",
       "mean        15.970549  \n",
       "std         10.826152  \n",
       "min          1.000000  \n",
       "25%          3.000000  \n",
       "50%         17.000000  \n",
       "75%         25.000000  \n",
       "max         33.000000  "
      ]
     },
     "execution_count": 594,
     "metadata": {},
     "output_type": "execute_result"
    }
   ],
   "source": [
    "demo_data.describe()"
   ]
  },
  {
   "cell_type": "code",
   "execution_count": 595,
   "metadata": {},
   "outputs": [],
   "source": [
    "#Scale Data\n",
    "ss = StandardScaler()\n",
    "scaled_df = ss.fit_transform(demo_data)"
   ]
  },
  {
   "cell_type": "code",
   "execution_count": 596,
   "metadata": {},
   "outputs": [],
   "source": [
    "#Scaling PCA Componenent\n",
    "pca = PCA(n_components=2)\n",
    "X_pca = pca.fit_transform(scaled_df)\n",
    "components = pca.components_"
   ]
  },
  {
   "cell_type": "code",
   "execution_count": 597,
   "metadata": {},
   "outputs": [
    {
     "data": {
      "image/png": "[encoded data removed]",
      "text/plain": [
       "<Figure size 864x432 with 1 Axes>"
      ]
     },
     "metadata": {
      "needs_background": "light"
     },
     "output_type": "display_data"
    }
   ],
   "source": [
    "#PCA Scatter Plot\n",
    "fig, ax = plt.subplots(1,1)\n",
    "ax.set_title(\"PCA Demographic Plot\")\n",
    "ax.scatter(components[0], components[1])\n",
    "\n",
    "for i, txt in enumerate(demo_data.columns.to_list()):\n",
    "    ax.annotate(txt, (components[0][i], components[1][i]), xytext=(8,0), textcoords='offset points')\n",
    "    \n",
    "fig.savefig('PCA_components')"
   ]
  },
  {
   "cell_type": "code",
   "execution_count": 598,
   "metadata": {},
   "outputs": [],
   "source": [
    "#For each k value, initialise k-means athen use the inertia attribute \n",
    "#and identify the sum of squared distances of samples to the nearest cluster centre.\n",
    "Sum_of_squared_distances = []\n",
    "K = range(1,10)\n",
    "for k in K:\n",
    "    km = KMeans(n_clusters=k)\n",
    "    km = km.fit(scaled_df)\n",
    "    Sum_of_squared_distances.append(km.inertia_)"
   ]
  },
  {
   "cell_type": "code",
   "execution_count": 599,
   "metadata": {},
   "outputs": [
    {
     "data": {
      "image/png": "[encoded data removed]",
      "text/plain": [
       "<Figure size 864x432 with 1 Axes>"
      ]
     },
     "metadata": {
      "needs_background": "light"
     },
     "output_type": "display_data"
    }
   ],
   "source": [
    "#The elbow indicating the optimal K (clusters) for this dataset.\n",
    "plt.plot(K, Sum_of_squared_distances, 'bx-')\n",
    "plt.xlabel('k-value')\n",
    "plt.ylabel('Sum of Squared Distances')\n",
    "plt.title('Elbow Method For Optimal k clusters')\n",
    "plt.show()"
   ]
  },
  {
   "cell_type": "markdown",
   "metadata": {
    "tags": []
   },
   "source": [
    "#### As per above method, the optimal number of clusters K is 3 ####"
   ]
  },
  {
   "cell_type": "code",
   "execution_count": 610,
   "metadata": {},
   "outputs": [
    {
     "name": "stdout",
     "output_type": "stream",
     "text": [
      "[[ 0.51607368 -0.11581252  1.35918386  0.88906674  0.01689946 -0.14714136]\n",
      " [ 0.14655899  0.88828641 -0.46334039  0.0583486  -0.04711038  0.21738059]\n",
      " [-0.63656164 -1.0387413  -0.5870734  -0.84761909  0.04573952 -0.15093916]]\n"
     ]
    }
   ],
   "source": [
    "kmeans = KMeans(n_clusters=3).fit(scaled_df)\n",
    "k_labels = kmeans.labels_\n",
    "centroids = kmeans.cluster_centers_\n",
    "print(centroids)"
   ]
  },
  {
   "cell_type": "code",
   "execution_count": 611,
   "metadata": {},
   "outputs": [],
   "source": [
    "new_columns = kmeans.predict(scaled_df)\n",
    "new_cols = pd.DataFrame(new_columns)"
   ]
  },
  {
   "cell_type": "code",
   "execution_count": 601,
   "metadata": {},
   "outputs": [],
   "source": [
    "def plot_clusters(X,y_res, plt_cluster_centers = False):\n",
    "    X_centroids = []\n",
    "    Y_centroids = []\n",
    "\n",
    "    for cluster in set(y_res):\n",
    "        x = X[y_res == cluster,0]\n",
    "        y = X[y_res == cluster,1]\n",
    "        X_centroids.append(np.mean(x))\n",
    "        Y_centroids.append(np.mean(y))\n",
    "\n",
    "        plt.scatter(x,\n",
    "                    y,\n",
    "                    s=50,\n",
    "                    marker='s',\n",
    "                    label=f'cluster {cluster}')\n",
    "\n",
    "    if plt_cluster_centers:\n",
    "        plt.scatter(X_centroids,\n",
    "                    Y_centroids,\n",
    "                    marker='*',\n",
    "                    c='black',\n",
    "                    s=250,\n",
    "                    label='centroids')\n",
    "    plt.legend()\n",
    "    plt.grid()\n",
    "    plt.show()"
   ]
  },
  {
   "cell_type": "code",
   "execution_count": 602,
   "metadata": {},
   "outputs": [
    {
     "data": {
      "image/png": "[encoded data removed]",
      "text/plain": [
       "<Figure size 864x432 with 1 Axes>"
      ]
     },
     "metadata": {
      "needs_background": "light"
     },
     "output_type": "display_data"
    }
   ],
   "source": [
    "plot_clusters(X_pca, k_labels,plt_cluster_centers = True)"
   ]
  },
  {
   "cell_type": "markdown",
   "metadata": {},
   "source": [
    "#### Plot Radar Chart using - Plotly ####"
   ]
  },
  {
   "cell_type": "code",
   "execution_count": 620,
   "metadata": {},
   "outputs": [],
   "source": [
    "minmax = MinMaxScaler(feature_range=(0,5))\n",
    "minmax_df = minmax.fit_transform(demo_data)\n",
    "new_df = pd.DataFrame(minmax_df, columns=demo_data.columns.to_list())"
   ]
  },
  {
   "cell_type": "code",
   "execution_count": 617,
   "metadata": {},
   "outputs": [],
   "source": [
    "final_df = pd.concat([new_df, new_cols], axis=1)\n",
    "final_df.rename(columns={0:'cluster'}, inplace=True)"
   ]
  },
  {
   "cell_type": "code",
   "execution_count": 618,
   "metadata": {},
   "outputs": [],
   "source": [
    "clusters = []\n",
    "cluster_list = final_df['cluster'].unique().tolist()\n",
    "cluster_list.sort()\n",
    "\n",
    "for i in cluster_list:\n",
    "    clusters.append(final_df[\n",
    "                        final_df['cluster'] == i\n",
    "                    ])"
   ]
  },
  {
   "cell_type": "code",
   "execution_count": 623,
   "metadata": {},
   "outputs": [
    {
     "data": {
      "application/vnd.plotly.v1+json": {
       "config": {
        "plotlyServerURL": "https://plot.ly"
       },
       "data": [
        {
         "fill": "toself",
         "name": "Cluster 0",
         "r": [
          1.1855535944460769,
          1.793880940214614,
          2.2135922330097086,
          2.79126213592233,
          2.8398058252427183,
          2.0904126213592233
         ],
         "theta": [
          "income",
          "age",
          "nbr_children",
          "marital_status",
          "gender_val",
          "state_code_val"
         ],
         "type": "scatterpolar"
        },
        {
         "fill": "toself",
         "name": "Cluster 1",
         "r": [
          0.9026880642541708,
          3.0511216566005177,
          0.20327868852459016,
          1.551912568306011,
          2.6885245901639343,
          2.7079918032786887
         ],
         "theta": [
          "income",
          "age",
          "nbr_children",
          "marital_status",
          "gender_val",
          "state_code_val"
         ],
         "type": "scatterpolar"
        },
        {
         "fill": "toself",
         "name": "Cluster 2",
         "r": [
          0.2937663420872465,
          0.6297390722569135,
          0.06779661016949153,
          0.211864406779661,
          2.902542372881356,
          2.0795815677966103
         ],
         "theta": [
          "income",
          "age",
          "nbr_children",
          "marital_status",
          "gender_val",
          "state_code_val"
         ],
         "type": "scatterpolar"
        }
       ],
       "layout": {
        "autosize": true,
        "polar": {
         "angularaxis": {
          "type": "category"
         },
         "radialaxis": {
          "autorange": false,
          "range": [
           0,
           5
          ],
          "type": "linear",
          "visible": true
         }
        },
        "showlegend": true,
        "template": {
         "data": {
          "bar": [
           {
            "error_x": {
             "color": "#2a3f5f"
            },
            "error_y": {
             "color": "#2a3f5f"
            },
            "marker": {
             "line": {
              "color": "#E5ECF6",
              "width": 0.5
             },
             "pattern": {
              "fillmode": "overlay",
              "size": 10,
              "solidity": 0.2
             }
            },
            "type": "bar"
           }
          ],
          "barpolar": [
           {
            "marker": {
             "line": {
              "color": "#E5ECF6",
              "width": 0.5
             },
             "pattern": {
              "fillmode": "overlay",
              "size": 10,
              "solidity": 0.2
             }
            },
            "type": "barpolar"
           }
          ],
          "carpet": [
           {
            "aaxis": {
             "endlinecolor": "#2a3f5f",
             "gridcolor": "white",
             "linecolor": "white",
             "minorgridcolor": "white",
             "startlinecolor": "#2a3f5f"
            },
            "baxis": {
             "endlinecolor": "#2a3f5f",
             "gridcolor": "white",
             "linecolor": "white",
             "minorgridcolor": "white",
             "startlinecolor": "#2a3f5f"
            },
            "type": "carpet"
           }
          ],
          "choropleth": [
           {
            "colorbar": {
             "outlinewidth": 0,
             "ticks": ""
            },
            "type": "choropleth"
           }
          ],
          "contour": [
           {
            "colorbar": {
             "outlinewidth": 0,
             "ticks": ""
            },
            "colorscale": [
             [
              0,
              "#0d0887"
             ],
             [
              0.1111111111111111,
              "#46039f"
             ],
             [
              0.2222222222222222,
              "#7201a8"
             ],
             [
              0.3333333333333333,
              "#9c179e"
             ],
             [
              0.4444444444444444,
              "#bd3786"
             ],
             [
              0.5555555555555556,
              "#d8576b"
             ],
             [
              0.6666666666666666,
              "#ed7953"
             ],
             [
              0.7777777777777778,
              "#fb9f3a"
             ],
             [
              0.8888888888888888,
              "#fdca26"
             ],
             [
              1,
              "#f0f921"
             ]
            ],
            "type": "contour"
           }
          ],
          "contourcarpet": [
           {
            "colorbar": {
             "outlinewidth": 0,
             "ticks": ""
            },
            "type": "contourcarpet"
           }
          ],
          "heatmap": [
           {
            "colorbar": {
             "outlinewidth": 0,
             "ticks": ""
            },
            "colorscale": [
             [
              0,
              "#0d0887"
             ],
             [
              0.1111111111111111,
              "#46039f"
             ],
             [
              0.2222222222222222,
              "#7201a8"
             ],
             [
              0.3333333333333333,
              "#9c179e"
             ],
             [
              0.4444444444444444,
              "#bd3786"
             ],
             [
              0.5555555555555556,
              "#d8576b"
             ],
             [
              0.6666666666666666,
              "#ed7953"
             ],
             [
              0.7777777777777778,
              "#fb9f3a"
             ],
             [
              0.8888888888888888,
              "#fdca26"
             ],
             [
              1,
              "#f0f921"
             ]
            ],
            "type": "heatmap"
           }
          ],
          "heatmapgl": [
           {
            "colorbar": {
             "outlinewidth": 0,
             "ticks": ""
            },
            "colorscale": [
             [
              0,
              "#0d0887"
             ],
             [
              0.1111111111111111,
              "#46039f"
             ],
             [
              0.2222222222222222,
              "#7201a8"
             ],
             [
              0.3333333333333333,
              "#9c179e"
             ],
             [
              0.4444444444444444,
              "#bd3786"
             ],
             [
              0.5555555555555556,
              "#d8576b"
             ],
             [
              0.6666666666666666,
              "#ed7953"
             ],
             [
              0.7777777777777778,
              "#fb9f3a"
             ],
             [
              0.8888888888888888,
              "#fdca26"
             ],
             [
              1,
              "#f0f921"
             ]
            ],
            "type": "heatmapgl"
           }
          ],
          "histogram": [
           {
            "marker": {
             "pattern": {
              "fillmode": "overlay",
              "size": 10,
              "solidity": 0.2
             }
            },
            "type": "histogram"
           }
          ],
          "histogram2d": [
           {
            "colorbar": {
             "outlinewidth": 0,
             "ticks": ""
            },
            "colorscale": [
             [
              0,
              "#0d0887"
             ],
             [
              0.1111111111111111,
              "#46039f"
             ],
             [
              0.2222222222222222,
              "#7201a8"
             ],
             [
              0.3333333333333333,
              "#9c179e"
             ],
             [
              0.4444444444444444,
              "#bd3786"
             ],
             [
              0.5555555555555556,
              "#d8576b"
             ],
             [
              0.6666666666666666,
              "#ed7953"
             ],
             [
              0.7777777777777778,
              "#fb9f3a"
             ],
             [
              0.8888888888888888,
              "#fdca26"
             ],
             [
              1,
              "#f0f921"
             ]
            ],
            "type": "histogram2d"
           }
          ],
          "histogram2dcontour": [
           {
            "colorbar": {
             "outlinewidth": 0,
             "ticks": ""
            },
            "colorscale": [
             [
              0,
              "#0d0887"
             ],
             [
              0.1111111111111111,
              "#46039f"
             ],
             [
              0.2222222222222222,
              "#7201a8"
             ],
             [
              0.3333333333333333,
              "#9c179e"
             ],
             [
              0.4444444444444444,
              "#bd3786"
             ],
             [
              0.5555555555555556,
              "#d8576b"
             ],
             [
              0.6666666666666666,
              "#ed7953"
             ],
             [
              0.7777777777777778,
              "#fb9f3a"
             ],
             [
              0.8888888888888888,
              "#fdca26"
             ],
             [
              1,
              "#f0f921"
             ]
            ],
            "type": "histogram2dcontour"
           }
          ],
          "mesh3d": [
           {
            "colorbar": {
             "outlinewidth": 0,
             "ticks": ""
            },
            "type": "mesh3d"
           }
          ],
          "parcoords": [
           {
            "line": {
             "colorbar": {
              "outlinewidth": 0,
              "ticks": ""
             }
            },
            "type": "parcoords"
           }
          ],
          "pie": [
           {
            "automargin": true,
            "type": "pie"
           }
          ],
          "scatter": [
           {
            "marker": {
             "colorbar": {
              "outlinewidth": 0,
              "ticks": ""
             }
            },
            "type": "scatter"
           }
          ],
          "scatter3d": [
           {
            "line": {
             "colorbar": {
              "outlinewidth": 0,
              "ticks": ""
             }
            },
            "marker": {
             "colorbar": {
              "outlinewidth": 0,
              "ticks": ""
             }
            },
            "type": "scatter3d"
           }
          ],
          "scattercarpet": [
           {
            "marker": {
             "colorbar": {
              "outlinewidth": 0,
              "ticks": ""
             }
            },
            "type": "scattercarpet"
           }
          ],
          "scattergeo": [
           {
            "marker": {
             "colorbar": {
              "outlinewidth": 0,
              "ticks": ""
             }
            },
            "type": "scattergeo"
           }
          ],
          "scattergl": [
           {
            "marker": {
             "colorbar": {
              "outlinewidth": 0,
              "ticks": ""
             }
            },
            "type": "scattergl"
           }
          ],
          "scattermapbox": [
           {
            "marker": {
             "colorbar": {
              "outlinewidth": 0,
              "ticks": ""
             }
            },
            "type": "scattermapbox"
           }
          ],
          "scatterpolar": [
           {
            "marker": {
             "colorbar": {
              "outlinewidth": 0,
              "ticks": ""
             }
            },
            "type": "scatterpolar"
           }
          ],
          "scatterpolargl": [
           {
            "marker": {
             "colorbar": {
              "outlinewidth": 0,
              "ticks": ""
             }
            },
            "type": "scatterpolargl"
           }
          ],
          "scatterternary": [
           {
            "marker": {
             "colorbar": {
              "outlinewidth": 0,
              "ticks": ""
             }
            },
            "type": "scatterternary"
           }
          ],
          "surface": [
           {
            "colorbar": {
             "outlinewidth": 0,
             "ticks": ""
            },
            "colorscale": [
             [
              0,
              "#0d0887"
             ],
             [
              0.1111111111111111,
              "#46039f"
             ],
             [
              0.2222222222222222,
              "#7201a8"
             ],
             [
              0.3333333333333333,
              "#9c179e"
             ],
             [
              0.4444444444444444,
              "#bd3786"
             ],
             [
              0.5555555555555556,
              "#d8576b"
             ],
             [
              0.6666666666666666,
              "#ed7953"
             ],
             [
              0.7777777777777778,
              "#fb9f3a"
             ],
             [
              0.8888888888888888,
              "#fdca26"
             ],
             [
              1,
              "#f0f921"
             ]
            ],
            "type": "surface"
           }
          ],
          "table": [
           {
            "cells": {
             "fill": {
              "color": "#EBF0F8"
             },
             "line": {
              "color": "white"
             }
            },
            "header": {
             "fill": {
              "color": "#C8D4E3"
             },
             "line": {
              "color": "white"
             }
            },
            "type": "table"
           }
          ]
         },
         "layout": {
          "annotationdefaults": {
           "arrowcolor": "#2a3f5f",
           "arrowhead": 0,
           "arrowwidth": 1
          },
          "autotypenumbers": "strict",
          "coloraxis": {
           "colorbar": {
            "outlinewidth": 0,
            "ticks": ""
           }
          },
          "colorscale": {
           "diverging": [
            [
             0,
             "#8e0152"
            ],
            [
             0.1,
             "#c51b7d"
            ],
            [
             0.2,
             "#de77ae"
            ],
            [
             0.3,
             "#f1b6da"
            ],
            [
             0.4,
             "#fde0ef"
            ],
            [
             0.5,
             "#f7f7f7"
            ],
            [
             0.6,
             "#e6f5d0"
            ],
            [
             0.7,
             "#b8e186"
            ],
            [
             0.8,
             "#7fbc41"
            ],
            [
             0.9,
             "#4d9221"
            ],
            [
             1,
             "#276419"
            ]
           ],
           "sequential": [
            [
             0,
             "#0d0887"
            ],
            [
             0.1111111111111111,
             "#46039f"
            ],
            [
             0.2222222222222222,
             "#7201a8"
            ],
            [
             0.3333333333333333,
             "#9c179e"
            ],
            [
             0.4444444444444444,
             "#bd3786"
            ],
            [
             0.5555555555555556,
             "#d8576b"
            ],
            [
             0.6666666666666666,
             "#ed7953"
            ],
            [
             0.7777777777777778,
             "#fb9f3a"
            ],
            [
             0.8888888888888888,
             "#fdca26"
            ],
            [
             1,
             "#f0f921"
            ]
           ],
           "sequentialminus": [
            [
             0,
             "#0d0887"
            ],
            [
             0.1111111111111111,
             "#46039f"
            ],
            [
             0.2222222222222222,
             "#7201a8"
            ],
            [
             0.3333333333333333,
             "#9c179e"
            ],
            [
             0.4444444444444444,
             "#bd3786"
            ],
            [
             0.5555555555555556,
             "#d8576b"
            ],
            [
             0.6666666666666666,
             "#ed7953"
            ],
            [
             0.7777777777777778,
             "#fb9f3a"
            ],
            [
             0.8888888888888888,
             "#fdca26"
            ],
            [
             1,
             "#f0f921"
            ]
           ]
          },
          "colorway": [
           "#636efa",
           "#EF553B",
           "#00cc96",
           "#ab63fa",
           "#FFA15A",
           "#19d3f3",
           "#FF6692",
           "#B6E880",
           "#FF97FF",
           "#FECB52"
          ],
          "font": {
           "color": "#2a3f5f"
          },
          "geo": {
           "bgcolor": "white",
           "lakecolor": "white",
           "landcolor": "#E5ECF6",
           "showlakes": true,
           "showland": true,
           "subunitcolor": "white"
          },
          "hoverlabel": {
           "align": "left"
          },
          "hovermode": "closest",
          "mapbox": {
           "style": "light"
          },
          "paper_bgcolor": "white",
          "plot_bgcolor": "#E5ECF6",
          "polar": {
           "angularaxis": {
            "gridcolor": "white",
            "linecolor": "white",
            "ticks": ""
           },
           "bgcolor": "#E5ECF6",
           "radialaxis": {
            "gridcolor": "white",
            "linecolor": "white",
            "ticks": ""
           }
          },
          "scene": {
           "xaxis": {
            "backgroundcolor": "#E5ECF6",
            "gridcolor": "white",
            "gridwidth": 2,
            "linecolor": "white",
            "showbackground": true,
            "ticks": "",
            "zerolinecolor": "white"
           },
           "yaxis": {
            "backgroundcolor": "#E5ECF6",
            "gridcolor": "white",
            "gridwidth": 2,
            "linecolor": "white",
            "showbackground": true,
            "ticks": "",
            "zerolinecolor": "white"
           },
           "zaxis": {
            "backgroundcolor": "#E5ECF6",
            "gridcolor": "white",
            "gridwidth": 2,
            "linecolor": "white",
            "showbackground": true,
            "ticks": "",
            "zerolinecolor": "white"
           }
          },
          "shapedefaults": {
           "line": {
            "color": "#2a3f5f"
           }
          },
          "ternary": {
           "aaxis": {
            "gridcolor": "white",
            "linecolor": "white",
            "ticks": ""
           },
           "baxis": {
            "gridcolor": "white",
            "linecolor": "white",
            "ticks": ""
           },
           "bgcolor": "#E5ECF6",
           "caxis": {
            "gridcolor": "white",
            "linecolor": "white",
            "ticks": ""
           }
          },
          "title": {
           "x": 0.05
          },
          "xaxis": {
           "automargin": true,
           "gridcolor": "white",
           "linecolor": "white",
           "ticks": "",
           "title": {
            "standoff": 15
           },
           "zerolinecolor": "white",
           "zerolinewidth": 2
          },
          "yaxis": {
           "automargin": true,
           "gridcolor": "white",
           "linecolor": "white",
           "ticks": "",
           "title": {
            "standoff": 15
           },
           "zerolinecolor": "white",
           "zerolinewidth": 2
          }
         }
        }
       }
      },
      "image/png": "[encoded data removed]",
      "text/html": [
       "<div>                            <div id=\"71c8e9aa-f812-4b87-8b87-3cabf9f8b749\" class=\"plotly-graph-div\" style=\"height:525px; width:100%;\"></div>            <script type=\"text/javascript\">                require([\"plotly\"], function(Plotly) {                    window.PLOTLYENV=window.PLOTLYENV || {};                                    if (document.getElementById(\"71c8e9aa-f812-4b87-8b87-3cabf9f8b749\")) {                    Plotly.newPlot(                        \"71c8e9aa-f812-4b87-8b87-3cabf9f8b749\",                        [{\"fill\":\"toself\",\"name\":\"Cluster 0\",\"r\":[1.1855535944460769,1.793880940214614,2.2135922330097086,2.79126213592233,2.8398058252427183,2.0904126213592233],\"theta\":[\"income\",\"age\",\"nbr_children\",\"marital_status\",\"gender_val\",\"state_code_val\"],\"type\":\"scatterpolar\"},{\"fill\":\"toself\",\"name\":\"Cluster 1\",\"r\":[0.9026880642541708,3.0511216566005177,0.20327868852459016,1.551912568306011,2.6885245901639343,2.7079918032786887],\"theta\":[\"income\",\"age\",\"nbr_children\",\"marital_status\",\"gender_val\",\"state_code_val\"],\"type\":\"scatterpolar\"},{\"fill\":\"toself\",\"name\":\"Cluster 2\",\"r\":[0.2937663420872465,0.6297390722569135,0.06779661016949153,0.211864406779661,2.902542372881356,2.0795815677966103],\"theta\":[\"income\",\"age\",\"nbr_children\",\"marital_status\",\"gender_val\",\"state_code_val\"],\"type\":\"scatterpolar\"}],                        {\"template\":{\"data\":{\"bar\":[{\"error_x\":{\"color\":\"#2a3f5f\"},\"error_y\":{\"color\":\"#2a3f5f\"},\"marker\":{\"line\":{\"color\":\"#E5ECF6\",\"width\":0.5},\"pattern\":{\"fillmode\":\"overlay\",\"size\":10,\"solidity\":0.2}},\"type\":\"bar\"}],\"barpolar\":[{\"marker\":{\"line\":{\"color\":\"#E5ECF6\",\"width\":0.5},\"pattern\":{\"fillmode\":\"overlay\",\"size\":10,\"solidity\":0.2}},\"type\":\"barpolar\"}],\"carpet\":[{\"aaxis\":{\"endlinecolor\":\"#2a3f5f\",\"gridcolor\":\"white\",\"linecolor\":\"white\",\"minorgridcolor\":\"white\",\"startlinecolor\":\"#2a3f5f\"},\"baxis\":{\"endlinecolor\":\"#2a3f5f\",\"gridcolor\":\"white\",\"linecolor\":\"white\",\"minorgridcolor\":\"white\",\"startlinecolor\":\"#2a3f5f\"},\"type\":\"carpet\"}],\"choropleth\":[{\"colorbar\":{\"outlinewidth\":0,\"ticks\":\"\"},\"type\":\"choropleth\"}],\"contour\":[{\"colorbar\":{\"outlinewidth\":0,\"ticks\":\"\"},\"colorscale\":[[0.0,\"#0d0887\"],[0.1111111111111111,\"#46039f\"],[0.2222222222222222,\"#7201a8\"],[0.3333333333333333,\"#9c179e\"],[0.4444444444444444,\"#bd3786\"],[0.5555555555555556,\"#d8576b\"],[0.6666666666666666,\"#ed7953\"],[0.7777777777777778,\"#fb9f3a\"],[0.8888888888888888,\"#fdca26\"],[1.0,\"#f0f921\"]],\"type\":\"contour\"}],\"contourcarpet\":[{\"colorbar\":{\"outlinewidth\":0,\"ticks\":\"\"},\"type\":\"contourcarpet\"}],\"heatmap\":[{\"colorbar\":{\"outlinewidth\":0,\"ticks\":\"\"},\"colorscale\":[[0.0,\"#0d0887\"],[0.1111111111111111,\"#46039f\"],[0.2222222222222222,\"#7201a8\"],[0.3333333333333333,\"#9c179e\"],[0.4444444444444444,\"#bd3786\"],[0.5555555555555556,\"#d8576b\"],[0.6666666666666666,\"#ed7953\"],[0.7777777777777778,\"#fb9f3a\"],[0.8888888888888888,\"#fdca26\"],[1.0,\"#f0f921\"]],\"type\":\"heatmap\"}],\"heatmapgl\":[{\"colorbar\":{\"outlinewidth\":0,\"ticks\":\"\"},\"colorscale\":[[0.0,\"#0d0887\"],[0.1111111111111111,\"#46039f\"],[0.2222222222222222,\"#7201a8\"],[0.3333333333333333,\"#9c179e\"],[0.4444444444444444,\"#bd3786\"],[0.5555555555555556,\"#d8576b\"],[0.6666666666666666,\"#ed7953\"],[0.7777777777777778,\"#fb9f3a\"],[0.8888888888888888,\"#fdca26\"],[1.0,\"#f0f921\"]],\"type\":\"heatmapgl\"}],\"histogram\":[{\"marker\":{\"pattern\":{\"fillmode\":\"overlay\",\"size\":10,\"solidity\":0.2}},\"type\":\"histogram\"}],\"histogram2d\":[{\"colorbar\":{\"outlinewidth\":0,\"ticks\":\"\"},\"colorscale\":[[0.0,\"#0d0887\"],[0.1111111111111111,\"#46039f\"],[0.2222222222222222,\"#7201a8\"],[0.3333333333333333,\"#9c179e\"],[0.4444444444444444,\"#bd3786\"],[0.5555555555555556,\"#d8576b\"],[0.6666666666666666,\"#ed7953\"],[0.7777777777777778,\"#fb9f3a\"],[0.8888888888888888,\"#fdca26\"],[1.0,\"#f0f921\"]],\"type\":\"histogram2d\"}],\"histogram2dcontour\":[{\"colorbar\":{\"outlinewidth\":0,\"ticks\":\"\"},\"colorscale\":[[0.0,\"#0d0887\"],[0.1111111111111111,\"#46039f\"],[0.2222222222222222,\"#7201a8\"],[0.3333333333333333,\"#9c179e\"],[0.4444444444444444,\"#bd3786\"],[0.5555555555555556,\"#d8576b\"],[0.6666666666666666,\"#ed7953\"],[0.7777777777777778,\"#fb9f3a\"],[0.8888888888888888,\"#fdca26\"],[1.0,\"#f0f921\"]],\"type\":\"histogram2dcontour\"}],\"mesh3d\":[{\"colorbar\":{\"outlinewidth\":0,\"ticks\":\"\"},\"type\":\"mesh3d\"}],\"parcoords\":[{\"line\":{\"colorbar\":{\"outlinewidth\":0,\"ticks\":\"\"}},\"type\":\"parcoords\"}],\"pie\":[{\"automargin\":true,\"type\":\"pie\"}],\"scatter\":[{\"marker\":{\"colorbar\":{\"outlinewidth\":0,\"ticks\":\"\"}},\"type\":\"scatter\"}],\"scatter3d\":[{\"line\":{\"colorbar\":{\"outlinewidth\":0,\"ticks\":\"\"}},\"marker\":{\"colorbar\":{\"outlinewidth\":0,\"ticks\":\"\"}},\"type\":\"scatter3d\"}],\"scattercarpet\":[{\"marker\":{\"colorbar\":{\"outlinewidth\":0,\"ticks\":\"\"}},\"type\":\"scattercarpet\"}],\"scattergeo\":[{\"marker\":{\"colorbar\":{\"outlinewidth\":0,\"ticks\":\"\"}},\"type\":\"scattergeo\"}],\"scattergl\":[{\"marker\":{\"colorbar\":{\"outlinewidth\":0,\"ticks\":\"\"}},\"type\":\"scattergl\"}],\"scattermapbox\":[{\"marker\":{\"colorbar\":{\"outlinewidth\":0,\"ticks\":\"\"}},\"type\":\"scattermapbox\"}],\"scatterpolar\":[{\"marker\":{\"colorbar\":{\"outlinewidth\":0,\"ticks\":\"\"}},\"type\":\"scatterpolar\"}],\"scatterpolargl\":[{\"marker\":{\"colorbar\":{\"outlinewidth\":0,\"ticks\":\"\"}},\"type\":\"scatterpolargl\"}],\"scatterternary\":[{\"marker\":{\"colorbar\":{\"outlinewidth\":0,\"ticks\":\"\"}},\"type\":\"scatterternary\"}],\"surface\":[{\"colorbar\":{\"outlinewidth\":0,\"ticks\":\"\"},\"colorscale\":[[0.0,\"#0d0887\"],[0.1111111111111111,\"#46039f\"],[0.2222222222222222,\"#7201a8\"],[0.3333333333333333,\"#9c179e\"],[0.4444444444444444,\"#bd3786\"],[0.5555555555555556,\"#d8576b\"],[0.6666666666666666,\"#ed7953\"],[0.7777777777777778,\"#fb9f3a\"],[0.8888888888888888,\"#fdca26\"],[1.0,\"#f0f921\"]],\"type\":\"surface\"}],\"table\":[{\"cells\":{\"fill\":{\"color\":\"#EBF0F8\"},\"line\":{\"color\":\"white\"}},\"header\":{\"fill\":{\"color\":\"#C8D4E3\"},\"line\":{\"color\":\"white\"}},\"type\":\"table\"}]},\"layout\":{\"annotationdefaults\":{\"arrowcolor\":\"#2a3f5f\",\"arrowhead\":0,\"arrowwidth\":1},\"autotypenumbers\":\"strict\",\"coloraxis\":{\"colorbar\":{\"outlinewidth\":0,\"ticks\":\"\"}},\"colorscale\":{\"diverging\":[[0,\"#8e0152\"],[0.1,\"#c51b7d\"],[0.2,\"#de77ae\"],[0.3,\"#f1b6da\"],[0.4,\"#fde0ef\"],[0.5,\"#f7f7f7\"],[0.6,\"#e6f5d0\"],[0.7,\"#b8e186\"],[0.8,\"#7fbc41\"],[0.9,\"#4d9221\"],[1,\"#276419\"]],\"sequential\":[[0.0,\"#0d0887\"],[0.1111111111111111,\"#46039f\"],[0.2222222222222222,\"#7201a8\"],[0.3333333333333333,\"#9c179e\"],[0.4444444444444444,\"#bd3786\"],[0.5555555555555556,\"#d8576b\"],[0.6666666666666666,\"#ed7953\"],[0.7777777777777778,\"#fb9f3a\"],[0.8888888888888888,\"#fdca26\"],[1.0,\"#f0f921\"]],\"sequentialminus\":[[0.0,\"#0d0887\"],[0.1111111111111111,\"#46039f\"],[0.2222222222222222,\"#7201a8\"],[0.3333333333333333,\"#9c179e\"],[0.4444444444444444,\"#bd3786\"],[0.5555555555555556,\"#d8576b\"],[0.6666666666666666,\"#ed7953\"],[0.7777777777777778,\"#fb9f3a\"],[0.8888888888888888,\"#fdca26\"],[1.0,\"#f0f921\"]]},\"colorway\":[\"#636efa\",\"#EF553B\",\"#00cc96\",\"#ab63fa\",\"#FFA15A\",\"#19d3f3\",\"#FF6692\",\"#B6E880\",\"#FF97FF\",\"#FECB52\"],\"font\":{\"color\":\"#2a3f5f\"},\"geo\":{\"bgcolor\":\"white\",\"lakecolor\":\"white\",\"landcolor\":\"#E5ECF6\",\"showlakes\":true,\"showland\":true,\"subunitcolor\":\"white\"},\"hoverlabel\":{\"align\":\"left\"},\"hovermode\":\"closest\",\"mapbox\":{\"style\":\"light\"},\"paper_bgcolor\":\"white\",\"plot_bgcolor\":\"#E5ECF6\",\"polar\":{\"angularaxis\":{\"gridcolor\":\"white\",\"linecolor\":\"white\",\"ticks\":\"\"},\"bgcolor\":\"#E5ECF6\",\"radialaxis\":{\"gridcolor\":\"white\",\"linecolor\":\"white\",\"ticks\":\"\"}},\"scene\":{\"xaxis\":{\"backgroundcolor\":\"#E5ECF6\",\"gridcolor\":\"white\",\"gridwidth\":2,\"linecolor\":\"white\",\"showbackground\":true,\"ticks\":\"\",\"zerolinecolor\":\"white\"},\"yaxis\":{\"backgroundcolor\":\"#E5ECF6\",\"gridcolor\":\"white\",\"gridwidth\":2,\"linecolor\":\"white\",\"showbackground\":true,\"ticks\":\"\",\"zerolinecolor\":\"white\"},\"zaxis\":{\"backgroundcolor\":\"#E5ECF6\",\"gridcolor\":\"white\",\"gridwidth\":2,\"linecolor\":\"white\",\"showbackground\":true,\"ticks\":\"\",\"zerolinecolor\":\"white\"}},\"shapedefaults\":{\"line\":{\"color\":\"#2a3f5f\"}},\"ternary\":{\"aaxis\":{\"gridcolor\":\"white\",\"linecolor\":\"white\",\"ticks\":\"\"},\"baxis\":{\"gridcolor\":\"white\",\"linecolor\":\"white\",\"ticks\":\"\"},\"bgcolor\":\"#E5ECF6\",\"caxis\":{\"gridcolor\":\"white\",\"linecolor\":\"white\",\"ticks\":\"\"}},\"title\":{\"x\":0.05},\"xaxis\":{\"automargin\":true,\"gridcolor\":\"white\",\"linecolor\":\"white\",\"ticks\":\"\",\"title\":{\"standoff\":15},\"zerolinecolor\":\"white\",\"zerolinewidth\":2},\"yaxis\":{\"automargin\":true,\"gridcolor\":\"white\",\"linecolor\":\"white\",\"ticks\":\"\",\"title\":{\"standoff\":15},\"zerolinecolor\":\"white\",\"zerolinewidth\":2}}},\"polar\":{\"radialaxis\":{\"visible\":true,\"range\":[0,5]}},\"showlegend\":true},                        {\"responsive\": true}                    ).then(function(){\n",
       "                            \n",
       "var gd = document.getElementById('71c8e9aa-f812-4b87-8b87-3cabf9f8b749');\n",
       "var x = new MutationObserver(function (mutations, observer) {{\n",
       "        var display = window.getComputedStyle(gd).display;\n",
       "        if (!display || display === 'none') {{\n",
       "            console.log([gd, 'removed!']);\n",
       "            Plotly.purge(gd);\n",
       "            observer.disconnect();\n",
       "        }}\n",
       "}});\n",
       "\n",
       "// Listen for the removal of the full notebook cells\n",
       "var notebookContainer = gd.closest('#notebook-container');\n",
       "if (notebookContainer) {{\n",
       "    x.observe(notebookContainer, {childList: true});\n",
       "}}\n",
       "\n",
       "// Listen for the clearing of the current output cell\n",
       "var outputEl = gd.closest('.output');\n",
       "if (outputEl) {{\n",
       "    x.observe(outputEl, {childList: true});\n",
       "}}\n",
       "\n",
       "                        })                };                });            </script>        </div>"
      ]
     },
     "metadata": {},
     "output_type": "display_data"
    }
   ],
   "source": [
    "import plotly.graph_objects as go\n",
    "\n",
    "categories = final_df.columns.to_list()\n",
    "categories.remove('cluster')\n",
    "\n",
    "fig = go.Figure()\n",
    "\n",
    "for cluster in clusters:\n",
    "    #R computation\n",
    "    r = []\n",
    "    for i in categories:\n",
    "        r.append(cluster[i].mean())\n",
    "        \n",
    "    fig.add_trace(go.Scatterpolar(\n",
    "        r=r,\n",
    "        theta=categories,\n",
    "        fill='toself', name=f'Cluster {cluster.iloc[0,-1]}'))\n",
    "\n",
    "fig.update_layout(\n",
    "  polar=dict(\n",
    "    radialaxis=dict(\n",
    "      visible=True,\n",
    "      range=[0, 5]\n",
    "    )),\n",
    "  showlegend=True\n",
    ")\n",
    "\n",
    "fig.write_html(\"radar.html\")\n",
    "\n",
    "fig.show()"
   ]
  },
  {
   "cell_type": "code",
   "execution_count": 622,
   "metadata": {},
   "outputs": [
    {
     "data": {
      "application/vnd.plotly.v1+json": {
       "config": {
        "plotlyServerURL": "https://plot.ly"
       },
       "data": [
        {
         "hovertemplate": "income=%{r}<br>nbr_children=%{theta}<extra></extra>",
         "legendgroup": "",
         "line": {
          "color": "#636efa",
          "dash": "solid"
         },
         "marker": {
          "symbol": "circle"
         },
         "mode": "lines",
         "name": "",
         "r": [
          26150,
          6605,
          18548,
          47668,
          44554,
          15684,
          0,
          1929,
          39942,
          9622,
          25829,
          0,
          17622,
          8877,
          23351,
          0,
          10516,
          0,
          6354,
          21015,
          26505,
          3158,
          66930,
          19494,
          19334,
          6493,
          3171,
          8976,
          30664,
          21751,
          24326,
          76087,
          56597,
          36330,
          39991,
          24344,
          0,
          21663,
          13148,
          22690,
          10025,
          43317,
          24545,
          18036,
          10244,
          8011,
          24450,
          7571,
          17099,
          47083,
          0,
          0,
          60104,
          19823,
          24476,
          24368,
          34473,
          6300,
          51608,
          7335,
          29064,
          0,
          15246,
          17242,
          144157,
          27885,
          27492,
          5788,
          0,
          10933,
          15724,
          15993,
          4435,
          12396,
          9129,
          7431,
          16957,
          7633,
          0,
          1982,
          81509,
          25180,
          35502,
          0,
          23108,
          18350,
          12885,
          39704,
          55061,
          49258,
          7751,
          0,
          0,
          24534,
          0,
          31910,
          0,
          22001,
          14711,
          57194,
          28867,
          15530,
          20855,
          31040,
          8810,
          23206,
          57723,
          3994,
          90248,
          9351,
          8038,
          1039,
          7495,
          34080,
          14877,
          2925,
          84335,
          11935,
          83295,
          43900,
          68933,
          16422,
          24275,
          30676,
          0,
          12823,
          6356,
          13811,
          5488,
          0,
          27649,
          11944,
          2769,
          17559,
          12202,
          18144,
          34797,
          13295,
          0,
          56708,
          79057,
          75121,
          12258,
          2644,
          28864,
          0,
          3618,
          4391,
          38010,
          44288,
          5808,
          49731,
          2807,
          95585,
          15795,
          4626,
          10151,
          4604,
          55678,
          40898,
          39291,
          86744,
          3419,
          29363,
          36675,
          73785,
          11004,
          11375,
          9849,
          19789,
          21198,
          36873,
          9614,
          5022,
          29995,
          6105,
          30500,
          69432,
          12621,
          30224,
          18785,
          0,
          44472,
          0,
          57612,
          22437,
          15077,
          9916,
          12722,
          22758,
          29579,
          17612,
          18597,
          16865,
          14891,
          10430,
          0,
          7777,
          27814,
          41650,
          18891,
          37471,
          0,
          0,
          28402,
          27303,
          13515,
          29335,
          5940,
          6195,
          13750,
          13113,
          84120,
          41069,
          3400,
          19282,
          5772,
          49435,
          9146,
          19639,
          32739,
          34855,
          12485,
          12403,
          0,
          32551,
          3240,
          2715,
          45629,
          6144,
          0,
          3339,
          0,
          12106,
          0,
          0,
          61885,
          31054,
          23973,
          23843,
          3551,
          12728,
          4508,
          18760,
          36237,
          49623,
          129196,
          39703,
          19300,
          27258,
          25681,
          26598,
          11812,
          30068,
          17165,
          12690,
          35508,
          8381,
          17584,
          10919,
          12973,
          7968,
          28058,
          29241,
          0,
          0,
          19686,
          0,
          43315,
          19987,
          40252,
          0,
          5505,
          0,
          18449,
          26763,
          22680,
          20840,
          10608,
          27155,
          0,
          15301,
          9379,
          26364,
          17912,
          0,
          20889,
          18040,
          60242,
          0,
          0,
          36259,
          56384,
          20358,
          76376,
          0,
          2517,
          18390,
          8201,
          11725,
          30265,
          12310,
          22322,
          4300,
          15576,
          17750,
          18183,
          19840,
          29838,
          27269,
          77727,
          0,
          8301,
          10818,
          23085,
          12449,
          11918,
          41876,
          40671,
          9480,
          39250,
          35237,
          29403,
          0,
          36923,
          33010,
          0,
          82612,
          0,
          26936,
          31297,
          48479,
          3093,
          20745,
          33060,
          45464,
          17052,
          12033,
          20562,
          101177,
          9099,
          16579,
          14780,
          0,
          0,
          34394,
          12560,
          12599,
          37186,
          44758,
          0,
          41261,
          46884,
          7083,
          0,
          13352,
          22995,
          5456,
          8681,
          0,
          22783,
          9602,
          20684,
          25426,
          6618,
          13124,
          0,
          8575,
          0,
          26583,
          30674,
          8038,
          0,
          29120,
          57882,
          49631,
          12994,
          6355,
          0,
          17804,
          20179,
          54647,
          5918,
          0,
          0,
          12456,
          8257,
          30217,
          50704,
          21909,
          59542,
          10701,
          24131,
          15746,
          11029,
          0,
          30413,
          0,
          41317,
          11074,
          19863,
          37364,
          32700,
          43872,
          13137,
          7914,
          12988,
          2442,
          0,
          38736,
          45195,
          13497,
          8799,
          7735,
          33706,
          12436,
          33113,
          76891,
          5981,
          111004,
          31220,
          12072,
          127848,
          26008,
          8262,
          10053,
          23896,
          42532,
          72194,
          21646,
          17412,
          0,
          15399,
          12560,
          9271,
          18387,
          36586,
          9999,
          0,
          0,
          32065,
          20702,
          19088,
          9005,
          9495,
          5787,
          28093,
          59047,
          9738,
          7169,
          8961,
          57224,
          43737,
          49553,
          2772,
          56296,
          0,
          11244,
          14357,
          19019,
          30165,
          24090,
          0,
          22369,
          13241,
          77322,
          77893,
          31387,
          7642,
          0,
          28204,
          19645,
          11821,
          1591,
          0,
          21657,
          0,
          0,
          14141,
          90592,
          0,
          0,
          18176,
          3371,
          98566,
          30163,
          31732,
          27635,
          21384,
          65347,
          102286,
          30276,
          25827,
          4184,
          52542,
          63532,
          15554,
          6228,
          56266,
          7302,
          19041,
          6809,
          50890,
          0,
          11410,
          0,
          8345,
          22362,
          32728,
          4424,
          31496,
          39382,
          1565,
          17773,
          33905,
          29030,
          20691,
          58377,
          30989,
          22025,
          43582,
          13317,
          6909,
          26886,
          23883,
          93060,
          37180,
          17110,
          25973,
          10234,
          37438,
          29536,
          0,
          29040,
          3303,
          14769,
          0,
          35117,
          13087,
          16238,
          8048,
          44196,
          11946,
          0,
          9050,
          17401,
          68039,
          0,
          11600,
          19639,
          0,
          38917,
          19649,
          0,
          6479,
          12307,
          14011,
          0,
          26112,
          43381,
          16168,
          8282,
          0,
          7534,
          43408,
          0,
          3726,
          4366,
          8997,
          24815,
          11613,
          49437,
          6132,
          0,
          0,
          58217,
          11041,
          4187,
          32152,
          18806,
          28975,
          11485,
          39832,
          8120,
          13901,
          86055,
          25869,
          9307,
          19891,
          54734,
          7467,
          29570,
          22721,
          23476,
          0,
          94123,
          4804,
          6576,
          0,
          56088,
          29417,
          0,
          31013,
          26848,
          39754,
          0,
          7008,
          44071,
          20184,
          0,
          5779,
          20870,
          43691,
          2701,
          7701,
          19319,
          7826,
          0,
          13781,
          0,
          0,
          50980,
          26548,
          46712,
          44307,
          20926,
          27946,
          15895,
          58749,
          16718,
          15744,
          5848,
          0,
          26138,
          7154,
          11982,
          10250,
          31379,
          6700,
          142274,
          2858,
          0,
          14959,
          7617,
          41064,
          43710,
          34791,
          42031,
          7230,
          30015,
          6390,
          69205,
          18377,
          44592,
          28518,
          18466,
          40795,
          5781,
          84184,
          36761,
          1814,
          7353,
          15432,
          21746,
          16276,
          40798,
          4859,
          0,
          21460,
          43715,
          2684,
          24300,
          44307,
          0,
          57642,
          7005,
          13058,
          36464,
          8005,
          9848,
          8259,
          0,
          8423,
          47267,
          0,
          16986,
          36603,
          23294,
          44742,
          0,
          18663,
          65024,
          24843,
          75890,
          8088,
          17174,
          31641,
          4247,
          14458,
          46870,
          10800,
          12072,
          12664,
          20218,
          27239,
          38803,
          6108,
          49863,
          5920,
          0,
          23731,
          62234,
          52903,
          55888,
          2620,
          12158,
          83366,
          24368,
          0,
          24115,
          32581,
          0,
          0,
          54713,
          36614,
          46461,
          15139,
          2466,
          16319,
          24744,
          18920,
          2314,
          43829,
          9802,
          0,
          4431,
          29521,
          36605,
          13269,
          15864,
          2289,
          0,
          14795,
          26387,
          61300,
          15100,
          17875,
          26150
         ],
         "showlegend": false,
         "subplot": "polar",
         "theta": [
          1,
          0,
          0,
          0,
          2,
          2,
          0,
          0,
          5,
          1,
          0,
          0,
          0,
          0,
          2,
          0,
          1,
          0,
          0,
          0,
          1,
          0,
          0,
          0,
          2,
          0,
          1,
          1,
          1,
          0,
          0,
          1,
          2,
          1,
          0,
          2,
          0,
          1,
          0,
          0,
          0,
          3,
          1,
          2,
          0,
          0,
          1,
          1,
          2,
          1,
          0,
          0,
          2,
          1,
          0,
          0,
          1,
          0,
          0,
          1,
          3,
          0,
          0,
          0,
          0,
          0,
          0,
          2,
          0,
          0,
          0,
          3,
          0,
          0,
          0,
          1,
          0,
          0,
          0,
          0,
          1,
          1,
          0,
          0,
          0,
          2,
          0,
          1,
          0,
          0,
          2,
          0,
          0,
          0,
          0,
          0,
          0,
          0,
          0,
          3,
          0,
          2,
          2,
          0,
          2,
          0,
          1,
          0,
          0,
          0,
          0,
          0,
          0,
          0,
          3,
          2,
          4,
          0,
          1,
          2,
          1,
          3,
          1,
          5,
          0,
          0,
          0,
          0,
          3,
          0,
          1,
          1,
          0,
          0,
          0,
          0,
          0,
          3,
          0,
          0,
          0,
          0,
          3,
          1,
          1,
          0,
          0,
          0,
          0,
          1,
          0,
          0,
          0,
          1,
          0,
          0,
          0,
          0,
          5,
          1,
          1,
          0,
          0,
          3,
          2,
          3,
          0,
          1,
          0,
          0,
          1,
          0,
          0,
          0,
          0,
          1,
          2,
          2,
          0,
          0,
          0,
          0,
          0,
          0,
          2,
          0,
          0,
          2,
          0,
          2,
          0,
          3,
          0,
          0,
          4,
          0,
          0,
          0,
          2,
          3,
          0,
          1,
          0,
          0,
          0,
          1,
          1,
          0,
          1,
          0,
          0,
          0,
          0,
          0,
          0,
          4,
          0,
          4,
          0,
          3,
          0,
          2,
          2,
          3,
          0,
          5,
          0,
          0,
          2,
          0,
          0,
          0,
          0,
          0,
          0,
          0,
          2,
          2,
          0,
          1,
          2,
          0,
          0,
          0,
          0,
          1,
          2,
          0,
          1,
          0,
          2,
          0,
          2,
          0,
          2,
          0,
          1,
          0,
          0,
          0,
          2,
          0,
          2,
          2,
          0,
          0,
          0,
          0,
          3,
          2,
          5,
          0,
          0,
          0,
          0,
          2,
          0,
          1,
          0,
          1,
          0,
          0,
          0,
          2,
          3,
          0,
          0,
          2,
          4,
          0,
          0,
          2,
          2,
          0,
          1,
          0,
          0,
          2,
          0,
          0,
          0,
          0,
          0,
          0,
          0,
          1,
          3,
          2,
          2,
          0,
          1,
          0,
          0,
          2,
          0,
          2,
          0,
          0,
          2,
          2,
          0,
          1,
          2,
          0,
          1,
          0,
          0,
          1,
          0,
          0,
          0,
          5,
          0,
          2,
          0,
          0,
          0,
          0,
          2,
          0,
          0,
          2,
          0,
          0,
          0,
          0,
          2,
          0,
          0,
          1,
          0,
          3,
          2,
          0,
          0,
          0,
          0,
          0,
          0,
          0,
          0,
          0,
          0,
          1,
          0,
          0,
          0,
          1,
          0,
          2,
          0,
          0,
          0,
          2,
          0,
          1,
          1,
          0,
          0,
          1,
          1,
          0,
          1,
          0,
          0,
          2,
          0,
          0,
          1,
          1,
          0,
          0,
          1,
          3,
          0,
          0,
          0,
          0,
          1,
          1,
          0,
          1,
          1,
          0,
          0,
          0,
          3,
          0,
          0,
          5,
          2,
          0,
          0,
          1,
          1,
          0,
          0,
          0,
          0,
          0,
          0,
          0,
          1,
          2,
          0,
          0,
          1,
          2,
          0,
          0,
          2,
          0,
          0,
          1,
          0,
          0,
          0,
          0,
          0,
          0,
          1,
          1,
          2,
          1,
          2,
          0,
          0,
          0,
          1,
          0,
          0,
          2,
          0,
          1,
          1,
          2,
          0,
          0,
          0,
          0,
          3,
          0,
          0,
          0,
          0,
          2,
          0,
          0,
          0,
          0,
          0,
          2,
          0,
          0,
          0,
          0,
          0,
          0,
          0,
          0,
          0,
          0,
          0,
          0,
          1,
          3,
          3,
          2,
          1,
          2,
          2,
          0,
          0,
          1,
          3,
          0,
          0,
          0,
          5,
          0,
          3,
          0,
          2,
          0,
          0,
          0,
          0,
          0,
          0,
          0,
          1,
          1,
          0,
          3,
          0,
          0,
          0,
          4,
          0,
          1,
          5,
          0,
          2,
          0,
          0,
          0,
          0,
          0,
          1,
          0,
          0,
          0,
          0,
          1,
          0,
          3,
          0,
          1,
          0,
          2,
          0,
          1,
          0,
          0,
          0,
          0,
          0,
          0,
          0,
          1,
          0,
          0,
          0,
          0,
          0,
          1,
          2,
          0,
          0,
          0,
          0,
          0,
          0,
          0,
          4,
          0,
          0,
          0,
          2,
          2,
          2,
          2,
          0,
          0,
          0,
          2,
          0,
          0,
          0,
          0,
          2,
          0,
          0,
          0,
          0,
          2,
          1,
          0,
          0,
          0,
          0,
          0,
          2,
          0,
          0,
          2,
          0,
          0,
          0,
          0,
          3,
          0,
          0,
          0,
          2,
          0,
          1,
          3,
          0,
          0,
          0,
          5,
          0,
          0,
          1,
          0,
          0,
          0,
          0,
          0,
          0,
          1,
          4,
          3,
          1,
          0,
          0,
          1,
          2,
          1,
          2,
          0,
          0,
          0,
          0,
          0,
          0,
          2,
          0,
          0,
          0,
          0,
          0,
          2,
          1,
          2,
          2,
          0,
          0,
          2,
          0,
          2,
          2,
          4,
          2,
          2,
          0,
          0,
          0,
          1,
          0,
          0,
          0,
          3,
          3,
          2,
          1,
          0,
          0,
          2,
          0,
          0,
          3,
          0,
          1,
          0,
          2,
          0,
          2,
          2,
          2,
          0,
          0,
          1,
          0,
          0,
          0,
          1,
          2,
          0,
          3,
          0,
          0,
          0,
          0,
          0,
          2,
          1,
          0,
          0,
          0,
          0,
          1,
          2,
          0,
          2,
          0,
          0,
          0,
          0,
          0,
          3,
          0,
          2,
          0,
          3,
          0,
          3,
          0,
          1,
          2,
          0,
          0,
          1,
          1,
          1,
          0,
          0,
          1,
          0,
          0,
          0,
          0,
          0,
          0,
          0,
          0,
          1,
          1,
          0,
          0,
          0,
          1,
          1,
          2,
          0,
          0,
          1
         ],
         "type": "scatterpolar"
        }
       ],
       "layout": {
        "autosize": true,
        "legend": {
         "tracegroupgap": 0
        },
        "margin": {
         "t": 60
        },
        "polar": {
         "angularaxis": {
          "direction": "clockwise",
          "rotation": 90,
          "type": "linear"
         },
         "domain": {
          "x": [
           0,
           1
          ],
          "y": [
           0,
           1
          ]
         },
         "radialaxis": {
          "autorange": true,
          "range": [
           0,
           144157
          ],
          "type": "linear"
         }
        },
        "template": {
         "data": {
          "bar": [
           {
            "error_x": {
             "color": "#2a3f5f"
            },
            "error_y": {
             "color": "#2a3f5f"
            },
            "marker": {
             "line": {
              "color": "#E5ECF6",
              "width": 0.5
             },
             "pattern": {
              "fillmode": "overlay",
              "size": 10,
              "solidity": 0.2
             }
            },
            "type": "bar"
           }
          ],
          "barpolar": [
           {
            "marker": {
             "line": {
              "color": "#E5ECF6",
              "width": 0.5
             },
             "pattern": {
              "fillmode": "overlay",
              "size": 10,
              "solidity": 0.2
             }
            },
            "type": "barpolar"
           }
          ],
          "carpet": [
           {
            "aaxis": {
             "endlinecolor": "#2a3f5f",
             "gridcolor": "white",
             "linecolor": "white",
             "minorgridcolor": "white",
             "startlinecolor": "#2a3f5f"
            },
            "baxis": {
             "endlinecolor": "#2a3f5f",
             "gridcolor": "white",
             "linecolor": "white",
             "minorgridcolor": "white",
             "startlinecolor": "#2a3f5f"
            },
            "type": "carpet"
           }
          ],
          "choropleth": [
           {
            "colorbar": {
             "outlinewidth": 0,
             "ticks": ""
            },
            "type": "choropleth"
           }
          ],
          "contour": [
           {
            "colorbar": {
             "outlinewidth": 0,
             "ticks": ""
            },
            "colorscale": [
             [
              0,
              "#0d0887"
             ],
             [
              0.1111111111111111,
              "#46039f"
             ],
             [
              0.2222222222222222,
              "#7201a8"
             ],
             [
              0.3333333333333333,
              "#9c179e"
             ],
             [
              0.4444444444444444,
              "#bd3786"
             ],
             [
              0.5555555555555556,
              "#d8576b"
             ],
             [
              0.6666666666666666,
              "#ed7953"
             ],
             [
              0.7777777777777778,
              "#fb9f3a"
             ],
             [
              0.8888888888888888,
              "#fdca26"
             ],
             [
              1,
              "#f0f921"
             ]
            ],
            "type": "contour"
           }
          ],
          "contourcarpet": [
           {
            "colorbar": {
             "outlinewidth": 0,
             "ticks": ""
            },
            "type": "contourcarpet"
           }
          ],
          "heatmap": [
           {
            "colorbar": {
             "outlinewidth": 0,
             "ticks": ""
            },
            "colorscale": [
             [
              0,
              "#0d0887"
             ],
             [
              0.1111111111111111,
              "#46039f"
             ],
             [
              0.2222222222222222,
              "#7201a8"
             ],
             [
              0.3333333333333333,
              "#9c179e"
             ],
             [
              0.4444444444444444,
              "#bd3786"
             ],
             [
              0.5555555555555556,
              "#d8576b"
             ],
             [
              0.6666666666666666,
              "#ed7953"
             ],
             [
              0.7777777777777778,
              "#fb9f3a"
             ],
             [
              0.8888888888888888,
              "#fdca26"
             ],
             [
              1,
              "#f0f921"
             ]
            ],
            "type": "heatmap"
           }
          ],
          "heatmapgl": [
           {
            "colorbar": {
             "outlinewidth": 0,
             "ticks": ""
            },
            "colorscale": [
             [
              0,
              "#0d0887"
             ],
             [
              0.1111111111111111,
              "#46039f"
             ],
             [
              0.2222222222222222,
              "#7201a8"
             ],
             [
              0.3333333333333333,
              "#9c179e"
             ],
             [
              0.4444444444444444,
              "#bd3786"
             ],
             [
              0.5555555555555556,
              "#d8576b"
             ],
             [
              0.6666666666666666,
              "#ed7953"
             ],
             [
              0.7777777777777778,
              "#fb9f3a"
             ],
             [
              0.8888888888888888,
              "#fdca26"
             ],
             [
              1,
              "#f0f921"
             ]
            ],
            "type": "heatmapgl"
           }
          ],
          "histogram": [
           {
            "marker": {
             "pattern": {
              "fillmode": "overlay",
              "size": 10,
              "solidity": 0.2
             }
            },
            "type": "histogram"
           }
          ],
          "histogram2d": [
           {
            "colorbar": {
             "outlinewidth": 0,
             "ticks": ""
            },
            "colorscale": [
             [
              0,
              "#0d0887"
             ],
             [
              0.1111111111111111,
              "#46039f"
             ],
             [
              0.2222222222222222,
              "#7201a8"
             ],
             [
              0.3333333333333333,
              "#9c179e"
             ],
             [
              0.4444444444444444,
              "#bd3786"
             ],
             [
              0.5555555555555556,
              "#d8576b"
             ],
             [
              0.6666666666666666,
              "#ed7953"
             ],
             [
              0.7777777777777778,
              "#fb9f3a"
             ],
             [
              0.8888888888888888,
              "#fdca26"
             ],
             [
              1,
              "#f0f921"
             ]
            ],
            "type": "histogram2d"
           }
          ],
          "histogram2dcontour": [
           {
            "colorbar": {
             "outlinewidth": 0,
             "ticks": ""
            },
            "colorscale": [
             [
              0,
              "#0d0887"
             ],
             [
              0.1111111111111111,
              "#46039f"
             ],
             [
              0.2222222222222222,
              "#7201a8"
             ],
             [
              0.3333333333333333,
              "#9c179e"
             ],
             [
              0.4444444444444444,
              "#bd3786"
             ],
             [
              0.5555555555555556,
              "#d8576b"
             ],
             [
              0.6666666666666666,
              "#ed7953"
             ],
             [
              0.7777777777777778,
              "#fb9f3a"
             ],
             [
              0.8888888888888888,
              "#fdca26"
             ],
             [
              1,
              "#f0f921"
             ]
            ],
            "type": "histogram2dcontour"
           }
          ],
          "mesh3d": [
           {
            "colorbar": {
             "outlinewidth": 0,
             "ticks": ""
            },
            "type": "mesh3d"
           }
          ],
          "parcoords": [
           {
            "line": {
             "colorbar": {
              "outlinewidth": 0,
              "ticks": ""
             }
            },
            "type": "parcoords"
           }
          ],
          "pie": [
           {
            "automargin": true,
            "type": "pie"
           }
          ],
          "scatter": [
           {
            "marker": {
             "colorbar": {
              "outlinewidth": 0,
              "ticks": ""
             }
            },
            "type": "scatter"
           }
          ],
          "scatter3d": [
           {
            "line": {
             "colorbar": {
              "outlinewidth": 0,
              "ticks": ""
             }
            },
            "marker": {
             "colorbar": {
              "outlinewidth": 0,
              "ticks": ""
             }
            },
            "type": "scatter3d"
           }
          ],
          "scattercarpet": [
           {
            "marker": {
             "colorbar": {
              "outlinewidth": 0,
              "ticks": ""
             }
            },
            "type": "scattercarpet"
           }
          ],
          "scattergeo": [
           {
            "marker": {
             "colorbar": {
              "outlinewidth": 0,
              "ticks": ""
             }
            },
            "type": "scattergeo"
           }
          ],
          "scattergl": [
           {
            "marker": {
             "colorbar": {
              "outlinewidth": 0,
              "ticks": ""
             }
            },
            "type": "scattergl"
           }
          ],
          "scattermapbox": [
           {
            "marker": {
             "colorbar": {
              "outlinewidth": 0,
              "ticks": ""
             }
            },
            "type": "scattermapbox"
           }
          ],
          "scatterpolar": [
           {
            "marker": {
             "colorbar": {
              "outlinewidth": 0,
              "ticks": ""
             }
            },
            "type": "scatterpolar"
           }
          ],
          "scatterpolargl": [
           {
            "marker": {
             "colorbar": {
              "outlinewidth": 0,
              "ticks": ""
             }
            },
            "type": "scatterpolargl"
           }
          ],
          "scatterternary": [
           {
            "marker": {
             "colorbar": {
              "outlinewidth": 0,
              "ticks": ""
             }
            },
            "type": "scatterternary"
           }
          ],
          "surface": [
           {
            "colorbar": {
             "outlinewidth": 0,
             "ticks": ""
            },
            "colorscale": [
             [
              0,
              "#0d0887"
             ],
             [
              0.1111111111111111,
              "#46039f"
             ],
             [
              0.2222222222222222,
              "#7201a8"
             ],
             [
              0.3333333333333333,
              "#9c179e"
             ],
             [
              0.4444444444444444,
              "#bd3786"
             ],
             [
              0.5555555555555556,
              "#d8576b"
             ],
             [
              0.6666666666666666,
              "#ed7953"
             ],
             [
              0.7777777777777778,
              "#fb9f3a"
             ],
             [
              0.8888888888888888,
              "#fdca26"
             ],
             [
              1,
              "#f0f921"
             ]
            ],
            "type": "surface"
           }
          ],
          "table": [
           {
            "cells": {
             "fill": {
              "color": "#EBF0F8"
             },
             "line": {
              "color": "white"
             }
            },
            "header": {
             "fill": {
              "color": "#C8D4E3"
             },
             "line": {
              "color": "white"
             }
            },
            "type": "table"
           }
          ]
         },
         "layout": {
          "annotationdefaults": {
           "arrowcolor": "#2a3f5f",
           "arrowhead": 0,
           "arrowwidth": 1
          },
          "autotypenumbers": "strict",
          "coloraxis": {
           "colorbar": {
            "outlinewidth": 0,
            "ticks": ""
           }
          },
          "colorscale": {
           "diverging": [
            [
             0,
             "#8e0152"
            ],
            [
             0.1,
             "#c51b7d"
            ],
            [
             0.2,
             "#de77ae"
            ],
            [
             0.3,
             "#f1b6da"
            ],
            [
             0.4,
             "#fde0ef"
            ],
            [
             0.5,
             "#f7f7f7"
            ],
            [
             0.6,
             "#e6f5d0"
            ],
            [
             0.7,
             "#b8e186"
            ],
            [
             0.8,
             "#7fbc41"
            ],
            [
             0.9,
             "#4d9221"
            ],
            [
             1,
             "#276419"
            ]
           ],
           "sequential": [
            [
             0,
             "#0d0887"
            ],
            [
             0.1111111111111111,
             "#46039f"
            ],
            [
             0.2222222222222222,
             "#7201a8"
            ],
            [
             0.3333333333333333,
             "#9c179e"
            ],
            [
             0.4444444444444444,
             "#bd3786"
            ],
            [
             0.5555555555555556,
             "#d8576b"
            ],
            [
             0.6666666666666666,
             "#ed7953"
            ],
            [
             0.7777777777777778,
             "#fb9f3a"
            ],
            [
             0.8888888888888888,
             "#fdca26"
            ],
            [
             1,
             "#f0f921"
            ]
           ],
           "sequentialminus": [
            [
             0,
             "#0d0887"
            ],
            [
             0.1111111111111111,
             "#46039f"
            ],
            [
             0.2222222222222222,
             "#7201a8"
            ],
            [
             0.3333333333333333,
             "#9c179e"
            ],
            [
             0.4444444444444444,
             "#bd3786"
            ],
            [
             0.5555555555555556,
             "#d8576b"
            ],
            [
             0.6666666666666666,
             "#ed7953"
            ],
            [
             0.7777777777777778,
             "#fb9f3a"
            ],
            [
             0.8888888888888888,
             "#fdca26"
            ],
            [
             1,
             "#f0f921"
            ]
           ]
          },
          "colorway": [
           "#636efa",
           "#EF553B",
           "#00cc96",
           "#ab63fa",
           "#FFA15A",
           "#19d3f3",
           "#FF6692",
           "#B6E880",
           "#FF97FF",
           "#FECB52"
          ],
          "font": {
           "color": "#2a3f5f"
          },
          "geo": {
           "bgcolor": "white",
           "lakecolor": "white",
           "landcolor": "#E5ECF6",
           "showlakes": true,
           "showland": true,
           "subunitcolor": "white"
          },
          "hoverlabel": {
           "align": "left"
          },
          "hovermode": "closest",
          "mapbox": {
           "style": "light"
          },
          "paper_bgcolor": "white",
          "plot_bgcolor": "#E5ECF6",
          "polar": {
           "angularaxis": {
            "gridcolor": "white",
            "linecolor": "white",
            "ticks": ""
           },
           "bgcolor": "#E5ECF6",
           "radialaxis": {
            "gridcolor": "white",
            "linecolor": "white",
            "ticks": ""
           }
          },
          "scene": {
           "xaxis": {
            "backgroundcolor": "#E5ECF6",
            "gridcolor": "white",
            "gridwidth": 2,
            "linecolor": "white",
            "showbackground": true,
            "ticks": "",
            "zerolinecolor": "white"
           },
           "yaxis": {
            "backgroundcolor": "#E5ECF6",
            "gridcolor": "white",
            "gridwidth": 2,
            "linecolor": "white",
            "showbackground": true,
            "ticks": "",
            "zerolinecolor": "white"
           },
           "zaxis": {
            "backgroundcolor": "#E5ECF6",
            "gridcolor": "white",
            "gridwidth": 2,
            "linecolor": "white",
            "showbackground": true,
            "ticks": "",
            "zerolinecolor": "white"
           }
          },
          "shapedefaults": {
           "line": {
            "color": "#2a3f5f"
           }
          },
          "ternary": {
           "aaxis": {
            "gridcolor": "white",
            "linecolor": "white",
            "ticks": ""
           },
           "baxis": {
            "gridcolor": "white",
            "linecolor": "white",
            "ticks": ""
           },
           "bgcolor": "#E5ECF6",
           "caxis": {
            "gridcolor": "white",
            "linecolor": "white",
            "ticks": ""
           }
          },
          "title": {
           "x": 0.05
          },
          "xaxis": {
           "automargin": true,
           "gridcolor": "white",
           "linecolor": "white",
           "ticks": "",
           "title": {
            "standoff": 15
           },
           "zerolinecolor": "white",
           "zerolinewidth": 2
          },
          "yaxis": {
           "automargin": true,
           "gridcolor": "white",
           "linecolor": "white",
           "ticks": "",
           "title": {
            "standoff": 15
           },
           "zerolinecolor": "white",
           "zerolinewidth": 2
          }
         }
        }
       }
      },
      "image/png": "[encoded data removed]",
      "text/html": [
       "<div>                            <div id=\"43c21892-4ebb-4dcf-b69f-d4280dac94e4\" class=\"plotly-graph-div\" style=\"height:525px; width:100%;\"></div>            <script type=\"text/javascript\">                require([\"plotly\"], function(Plotly) {                    window.PLOTLYENV=window.PLOTLYENV || {};                                    if (document.getElementById(\"43c21892-4ebb-4dcf-b69f-d4280dac94e4\")) {                    Plotly.newPlot(                        \"43c21892-4ebb-4dcf-b69f-d4280dac94e4\",                        [{\"hovertemplate\":\"income=%{r}<br>nbr_children=%{theta}<extra></extra>\",\"legendgroup\":\"\",\"line\":{\"color\":\"#636efa\",\"dash\":\"solid\"},\"marker\":{\"symbol\":\"circle\"},\"mode\":\"lines\",\"name\":\"\",\"r\":[26150,6605,18548,47668,44554,15684,0,1929,39942,9622,25829,0,17622,8877,23351,0,10516,0,6354,21015,26505,3158,66930,19494,19334,6493,3171,8976,30664,21751,24326,76087,56597,36330,39991,24344,0,21663,13148,22690,10025,43317,24545,18036,10244,8011,24450,7571,17099,47083,0,0,60104,19823,24476,24368,34473,6300,51608,7335,29064,0,15246,17242,144157,27885,27492,5788,0,10933,15724,15993,4435,12396,9129,7431,16957,7633,0,1982,81509,25180,35502,0,23108,18350,12885,39704,55061,49258,7751,0,0,24534,0,31910,0,22001,14711,57194,28867,15530,20855,31040,8810,23206,57723,3994,90248,9351,8038,1039,7495,34080,14877,2925,84335,11935,83295,43900,68933,16422,24275,30676,0,12823,6356,13811,5488,0,27649,11944,2769,17559,12202,18144,34797,13295,0,56708,79057,75121,12258,2644,28864,0,3618,4391,38010,44288,5808,49731,2807,95585,15795,4626,10151,4604,55678,40898,39291,86744,3419,29363,36675,73785,11004,11375,9849,19789,21198,36873,9614,5022,29995,6105,30500,69432,12621,30224,18785,0,44472,0,57612,22437,15077,9916,12722,22758,29579,17612,18597,16865,14891,10430,0,7777,27814,41650,18891,37471,0,0,28402,27303,13515,29335,5940,6195,13750,13113,84120,41069,3400,19282,5772,49435,9146,19639,32739,34855,12485,12403,0,32551,3240,2715,45629,6144,0,3339,0,12106,0,0,61885,31054,23973,23843,3551,12728,4508,18760,36237,49623,129196,39703,19300,27258,25681,26598,11812,30068,17165,12690,35508,8381,17584,10919,12973,7968,28058,29241,0,0,19686,0,43315,19987,40252,0,5505,0,18449,26763,22680,20840,10608,27155,0,15301,9379,26364,17912,0,20889,18040,60242,0,0,36259,56384,20358,76376,0,2517,18390,8201,11725,30265,12310,22322,4300,15576,17750,18183,19840,29838,27269,77727,0,8301,10818,23085,12449,11918,41876,40671,9480,39250,35237,29403,0,36923,33010,0,82612,0,26936,31297,48479,3093,20745,33060,45464,17052,12033,20562,101177,9099,16579,14780,0,0,34394,12560,12599,37186,44758,0,41261,46884,7083,0,13352,22995,5456,8681,0,22783,9602,20684,25426,6618,13124,0,8575,0,26583,30674,8038,0,29120,57882,49631,12994,6355,0,17804,20179,54647,5918,0,0,12456,8257,30217,50704,21909,59542,10701,24131,15746,11029,0,30413,0,41317,11074,19863,37364,32700,43872,13137,7914,12988,2442,0,38736,45195,13497,8799,7735,33706,12436,33113,76891,5981,111004,31220,12072,127848,26008,8262,10053,23896,42532,72194,21646,17412,0,15399,12560,9271,18387,36586,9999,0,0,32065,20702,19088,9005,9495,5787,28093,59047,9738,7169,8961,57224,43737,49553,2772,56296,0,11244,14357,19019,30165,24090,0,22369,13241,77322,77893,31387,7642,0,28204,19645,11821,1591,0,21657,0,0,14141,90592,0,0,18176,3371,98566,30163,31732,27635,21384,65347,102286,30276,25827,4184,52542,63532,15554,6228,56266,7302,19041,6809,50890,0,11410,0,8345,22362,32728,4424,31496,39382,1565,17773,33905,29030,20691,58377,30989,22025,43582,13317,6909,26886,23883,93060,37180,17110,25973,10234,37438,29536,0,29040,3303,14769,0,35117,13087,16238,8048,44196,11946,0,9050,17401,68039,0,11600,19639,0,38917,19649,0,6479,12307,14011,0,26112,43381,16168,8282,0,7534,43408,0,3726,4366,8997,24815,11613,49437,6132,0,0,58217,11041,4187,32152,18806,28975,11485,39832,8120,13901,86055,25869,9307,19891,54734,7467,29570,22721,23476,0,94123,4804,6576,0,56088,29417,0,31013,26848,39754,0,7008,44071,20184,0,5779,20870,43691,2701,7701,19319,7826,0,13781,0,0,50980,26548,46712,44307,20926,27946,15895,58749,16718,15744,5848,0,26138,7154,11982,10250,31379,6700,142274,2858,0,14959,7617,41064,43710,34791,42031,7230,30015,6390,69205,18377,44592,28518,18466,40795,5781,84184,36761,1814,7353,15432,21746,16276,40798,4859,0,21460,43715,2684,24300,44307,0,57642,7005,13058,36464,8005,9848,8259,0,8423,47267,0,16986,36603,23294,44742,0,18663,65024,24843,75890,8088,17174,31641,4247,14458,46870,10800,12072,12664,20218,27239,38803,6108,49863,5920,0,23731,62234,52903,55888,2620,12158,83366,24368,0,24115,32581,0,0,54713,36614,46461,15139,2466,16319,24744,18920,2314,43829,9802,0,4431,29521,36605,13269,15864,2289,0,14795,26387,61300,15100,17875,26150],\"showlegend\":false,\"subplot\":\"polar\",\"theta\":[1,0,0,0,2,2,0,0,5,1,0,0,0,0,2,0,1,0,0,0,1,0,0,0,2,0,1,1,1,0,0,1,2,1,0,2,0,1,0,0,0,3,1,2,0,0,1,1,2,1,0,0,2,1,0,0,1,0,0,1,3,0,0,0,0,0,0,2,0,0,0,3,0,0,0,1,0,0,0,0,1,1,0,0,0,2,0,1,0,0,2,0,0,0,0,0,0,0,0,3,0,2,2,0,2,0,1,0,0,0,0,0,0,0,3,2,4,0,1,2,1,3,1,5,0,0,0,0,3,0,1,1,0,0,0,0,0,3,0,0,0,0,3,1,1,0,0,0,0,1,0,0,0,1,0,0,0,0,5,1,1,0,0,3,2,3,0,1,0,0,1,0,0,0,0,1,2,2,0,0,0,0,0,0,2,0,0,2,0,2,0,3,0,0,4,0,0,0,2,3,0,1,0,0,0,1,1,0,1,0,0,0,0,0,0,4,0,4,0,3,0,2,2,3,0,5,0,0,2,0,0,0,0,0,0,0,2,2,0,1,2,0,0,0,0,1,2,0,1,0,2,0,2,0,2,0,1,0,0,0,2,0,2,2,0,0,0,0,3,2,5,0,0,0,0,2,0,1,0,1,0,0,0,2,3,0,0,2,4,0,0,2,2,0,1,0,0,2,0,0,0,0,0,0,0,1,3,2,2,0,1,0,0,2,0,2,0,0,2,2,0,1,2,0,1,0,0,1,0,0,0,5,0,2,0,0,0,0,2,0,0,2,0,0,0,0,2,0,0,1,0,3,2,0,0,0,0,0,0,0,0,0,0,1,0,0,0,1,0,2,0,0,0,2,0,1,1,0,0,1,1,0,1,0,0,2,0,0,1,1,0,0,1,3,0,0,0,0,1,1,0,1,1,0,0,0,3,0,0,5,2,0,0,1,1,0,0,0,0,0,0,0,1,2,0,0,1,2,0,0,2,0,0,1,0,0,0,0,0,0,1,1,2,1,2,0,0,0,1,0,0,2,0,1,1,2,0,0,0,0,3,0,0,0,0,2,0,0,0,0,0,2,0,0,0,0,0,0,0,0,0,0,0,0,1,3,3,2,1,2,2,0,0,1,3,0,0,0,5,0,3,0,2,0,0,0,0,0,0,0,1,1,0,3,0,0,0,4,0,1,5,0,2,0,0,0,0,0,1,0,0,0,0,1,0,3,0,1,0,2,0,1,0,0,0,0,0,0,0,1,0,0,0,0,0,1,2,0,0,0,0,0,0,0,4,0,0,0,2,2,2,2,0,0,0,2,0,0,0,0,2,0,0,0,0,2,1,0,0,0,0,0,2,0,0,2,0,0,0,0,3,0,0,0,2,0,1,3,0,0,0,5,0,0,1,0,0,0,0,0,0,1,4,3,1,0,0,1,2,1,2,0,0,0,0,0,0,2,0,0,0,0,0,2,1,2,2,0,0,2,0,2,2,4,2,2,0,0,0,1,0,0,0,3,3,2,1,0,0,2,0,0,3,0,1,0,2,0,2,2,2,0,0,1,0,0,0,1,2,0,3,0,0,0,0,0,2,1,0,0,0,0,1,2,0,2,0,0,0,0,0,3,0,2,0,3,0,3,0,1,2,0,0,1,1,1,0,0,1,0,0,0,0,0,0,0,0,1,1,0,0,0,1,1,2,0,0,1],\"type\":\"scatterpolar\"}],                        {\"template\":{\"data\":{\"bar\":[{\"error_x\":{\"color\":\"#2a3f5f\"},\"error_y\":{\"color\":\"#2a3f5f\"},\"marker\":{\"line\":{\"color\":\"#E5ECF6\",\"width\":0.5},\"pattern\":{\"fillmode\":\"overlay\",\"size\":10,\"solidity\":0.2}},\"type\":\"bar\"}],\"barpolar\":[{\"marker\":{\"line\":{\"color\":\"#E5ECF6\",\"width\":0.5},\"pattern\":{\"fillmode\":\"overlay\",\"size\":10,\"solidity\":0.2}},\"type\":\"barpolar\"}],\"carpet\":[{\"aaxis\":{\"endlinecolor\":\"#2a3f5f\",\"gridcolor\":\"white\",\"linecolor\":\"white\",\"minorgridcolor\":\"white\",\"startlinecolor\":\"#2a3f5f\"},\"baxis\":{\"endlinecolor\":\"#2a3f5f\",\"gridcolor\":\"white\",\"linecolor\":\"white\",\"minorgridcolor\":\"white\",\"startlinecolor\":\"#2a3f5f\"},\"type\":\"carpet\"}],\"choropleth\":[{\"colorbar\":{\"outlinewidth\":0,\"ticks\":\"\"},\"type\":\"choropleth\"}],\"contour\":[{\"colorbar\":{\"outlinewidth\":0,\"ticks\":\"\"},\"colorscale\":[[0.0,\"#0d0887\"],[0.1111111111111111,\"#46039f\"],[0.2222222222222222,\"#7201a8\"],[0.3333333333333333,\"#9c179e\"],[0.4444444444444444,\"#bd3786\"],[0.5555555555555556,\"#d8576b\"],[0.6666666666666666,\"#ed7953\"],[0.7777777777777778,\"#fb9f3a\"],[0.8888888888888888,\"#fdca26\"],[1.0,\"#f0f921\"]],\"type\":\"contour\"}],\"contourcarpet\":[{\"colorbar\":{\"outlinewidth\":0,\"ticks\":\"\"},\"type\":\"contourcarpet\"}],\"heatmap\":[{\"colorbar\":{\"outlinewidth\":0,\"ticks\":\"\"},\"colorscale\":[[0.0,\"#0d0887\"],[0.1111111111111111,\"#46039f\"],[0.2222222222222222,\"#7201a8\"],[0.3333333333333333,\"#9c179e\"],[0.4444444444444444,\"#bd3786\"],[0.5555555555555556,\"#d8576b\"],[0.6666666666666666,\"#ed7953\"],[0.7777777777777778,\"#fb9f3a\"],[0.8888888888888888,\"#fdca26\"],[1.0,\"#f0f921\"]],\"type\":\"heatmap\"}],\"heatmapgl\":[{\"colorbar\":{\"outlinewidth\":0,\"ticks\":\"\"},\"colorscale\":[[0.0,\"#0d0887\"],[0.1111111111111111,\"#46039f\"],[0.2222222222222222,\"#7201a8\"],[0.3333333333333333,\"#9c179e\"],[0.4444444444444444,\"#bd3786\"],[0.5555555555555556,\"#d8576b\"],[0.6666666666666666,\"#ed7953\"],[0.7777777777777778,\"#fb9f3a\"],[0.8888888888888888,\"#fdca26\"],[1.0,\"#f0f921\"]],\"type\":\"heatmapgl\"}],\"histogram\":[{\"marker\":{\"pattern\":{\"fillmode\":\"overlay\",\"size\":10,\"solidity\":0.2}},\"type\":\"histogram\"}],\"histogram2d\":[{\"colorbar\":{\"outlinewidth\":0,\"ticks\":\"\"},\"colorscale\":[[0.0,\"#0d0887\"],[0.1111111111111111,\"#46039f\"],[0.2222222222222222,\"#7201a8\"],[0.3333333333333333,\"#9c179e\"],[0.4444444444444444,\"#bd3786\"],[0.5555555555555556,\"#d8576b\"],[0.6666666666666666,\"#ed7953\"],[0.7777777777777778,\"#fb9f3a\"],[0.8888888888888888,\"#fdca26\"],[1.0,\"#f0f921\"]],\"type\":\"histogram2d\"}],\"histogram2dcontour\":[{\"colorbar\":{\"outlinewidth\":0,\"ticks\":\"\"},\"colorscale\":[[0.0,\"#0d0887\"],[0.1111111111111111,\"#46039f\"],[0.2222222222222222,\"#7201a8\"],[0.3333333333333333,\"#9c179e\"],[0.4444444444444444,\"#bd3786\"],[0.5555555555555556,\"#d8576b\"],[0.6666666666666666,\"#ed7953\"],[0.7777777777777778,\"#fb9f3a\"],[0.8888888888888888,\"#fdca26\"],[1.0,\"#f0f921\"]],\"type\":\"histogram2dcontour\"}],\"mesh3d\":[{\"colorbar\":{\"outlinewidth\":0,\"ticks\":\"\"},\"type\":\"mesh3d\"}],\"parcoords\":[{\"line\":{\"colorbar\":{\"outlinewidth\":0,\"ticks\":\"\"}},\"type\":\"parcoords\"}],\"pie\":[{\"automargin\":true,\"type\":\"pie\"}],\"scatter\":[{\"marker\":{\"colorbar\":{\"outlinewidth\":0,\"ticks\":\"\"}},\"type\":\"scatter\"}],\"scatter3d\":[{\"line\":{\"colorbar\":{\"outlinewidth\":0,\"ticks\":\"\"}},\"marker\":{\"colorbar\":{\"outlinewidth\":0,\"ticks\":\"\"}},\"type\":\"scatter3d\"}],\"scattercarpet\":[{\"marker\":{\"colorbar\":{\"outlinewidth\":0,\"ticks\":\"\"}},\"type\":\"scattercarpet\"}],\"scattergeo\":[{\"marker\":{\"colorbar\":{\"outlinewidth\":0,\"ticks\":\"\"}},\"type\":\"scattergeo\"}],\"scattergl\":[{\"marker\":{\"colorbar\":{\"outlinewidth\":0,\"ticks\":\"\"}},\"type\":\"scattergl\"}],\"scattermapbox\":[{\"marker\":{\"colorbar\":{\"outlinewidth\":0,\"ticks\":\"\"}},\"type\":\"scattermapbox\"}],\"scatterpolar\":[{\"marker\":{\"colorbar\":{\"outlinewidth\":0,\"ticks\":\"\"}},\"type\":\"scatterpolar\"}],\"scatterpolargl\":[{\"marker\":{\"colorbar\":{\"outlinewidth\":0,\"ticks\":\"\"}},\"type\":\"scatterpolargl\"}],\"scatterternary\":[{\"marker\":{\"colorbar\":{\"outlinewidth\":0,\"ticks\":\"\"}},\"type\":\"scatterternary\"}],\"surface\":[{\"colorbar\":{\"outlinewidth\":0,\"ticks\":\"\"},\"colorscale\":[[0.0,\"#0d0887\"],[0.1111111111111111,\"#46039f\"],[0.2222222222222222,\"#7201a8\"],[0.3333333333333333,\"#9c179e\"],[0.4444444444444444,\"#bd3786\"],[0.5555555555555556,\"#d8576b\"],[0.6666666666666666,\"#ed7953\"],[0.7777777777777778,\"#fb9f3a\"],[0.8888888888888888,\"#fdca26\"],[1.0,\"#f0f921\"]],\"type\":\"surface\"}],\"table\":[{\"cells\":{\"fill\":{\"color\":\"#EBF0F8\"},\"line\":{\"color\":\"white\"}},\"header\":{\"fill\":{\"color\":\"#C8D4E3\"},\"line\":{\"color\":\"white\"}},\"type\":\"table\"}]},\"layout\":{\"annotationdefaults\":{\"arrowcolor\":\"#2a3f5f\",\"arrowhead\":0,\"arrowwidth\":1},\"autotypenumbers\":\"strict\",\"coloraxis\":{\"colorbar\":{\"outlinewidth\":0,\"ticks\":\"\"}},\"colorscale\":{\"diverging\":[[0,\"#8e0152\"],[0.1,\"#c51b7d\"],[0.2,\"#de77ae\"],[0.3,\"#f1b6da\"],[0.4,\"#fde0ef\"],[0.5,\"#f7f7f7\"],[0.6,\"#e6f5d0\"],[0.7,\"#b8e186\"],[0.8,\"#7fbc41\"],[0.9,\"#4d9221\"],[1,\"#276419\"]],\"sequential\":[[0.0,\"#0d0887\"],[0.1111111111111111,\"#46039f\"],[0.2222222222222222,\"#7201a8\"],[0.3333333333333333,\"#9c179e\"],[0.4444444444444444,\"#bd3786\"],[0.5555555555555556,\"#d8576b\"],[0.6666666666666666,\"#ed7953\"],[0.7777777777777778,\"#fb9f3a\"],[0.8888888888888888,\"#fdca26\"],[1.0,\"#f0f921\"]],\"sequentialminus\":[[0.0,\"#0d0887\"],[0.1111111111111111,\"#46039f\"],[0.2222222222222222,\"#7201a8\"],[0.3333333333333333,\"#9c179e\"],[0.4444444444444444,\"#bd3786\"],[0.5555555555555556,\"#d8576b\"],[0.6666666666666666,\"#ed7953\"],[0.7777777777777778,\"#fb9f3a\"],[0.8888888888888888,\"#fdca26\"],[1.0,\"#f0f921\"]]},\"colorway\":[\"#636efa\",\"#EF553B\",\"#00cc96\",\"#ab63fa\",\"#FFA15A\",\"#19d3f3\",\"#FF6692\",\"#B6E880\",\"#FF97FF\",\"#FECB52\"],\"font\":{\"color\":\"#2a3f5f\"},\"geo\":{\"bgcolor\":\"white\",\"lakecolor\":\"white\",\"landcolor\":\"#E5ECF6\",\"showlakes\":true,\"showland\":true,\"subunitcolor\":\"white\"},\"hoverlabel\":{\"align\":\"left\"},\"hovermode\":\"closest\",\"mapbox\":{\"style\":\"light\"},\"paper_bgcolor\":\"white\",\"plot_bgcolor\":\"#E5ECF6\",\"polar\":{\"angularaxis\":{\"gridcolor\":\"white\",\"linecolor\":\"white\",\"ticks\":\"\"},\"bgcolor\":\"#E5ECF6\",\"radialaxis\":{\"gridcolor\":\"white\",\"linecolor\":\"white\",\"ticks\":\"\"}},\"scene\":{\"xaxis\":{\"backgroundcolor\":\"#E5ECF6\",\"gridcolor\":\"white\",\"gridwidth\":2,\"linecolor\":\"white\",\"showbackground\":true,\"ticks\":\"\",\"zerolinecolor\":\"white\"},\"yaxis\":{\"backgroundcolor\":\"#E5ECF6\",\"gridcolor\":\"white\",\"gridwidth\":2,\"linecolor\":\"white\",\"showbackground\":true,\"ticks\":\"\",\"zerolinecolor\":\"white\"},\"zaxis\":{\"backgroundcolor\":\"#E5ECF6\",\"gridcolor\":\"white\",\"gridwidth\":2,\"linecolor\":\"white\",\"showbackground\":true,\"ticks\":\"\",\"zerolinecolor\":\"white\"}},\"shapedefaults\":{\"line\":{\"color\":\"#2a3f5f\"}},\"ternary\":{\"aaxis\":{\"gridcolor\":\"white\",\"linecolor\":\"white\",\"ticks\":\"\"},\"baxis\":{\"gridcolor\":\"white\",\"linecolor\":\"white\",\"ticks\":\"\"},\"bgcolor\":\"#E5ECF6\",\"caxis\":{\"gridcolor\":\"white\",\"linecolor\":\"white\",\"ticks\":\"\"}},\"title\":{\"x\":0.05},\"xaxis\":{\"automargin\":true,\"gridcolor\":\"white\",\"linecolor\":\"white\",\"ticks\":\"\",\"title\":{\"standoff\":15},\"zerolinecolor\":\"white\",\"zerolinewidth\":2},\"yaxis\":{\"automargin\":true,\"gridcolor\":\"white\",\"linecolor\":\"white\",\"ticks\":\"\",\"title\":{\"standoff\":15},\"zerolinecolor\":\"white\",\"zerolinewidth\":2}}},\"polar\":{\"domain\":{\"x\":[0.0,1.0],\"y\":[0.0,1.0]},\"angularaxis\":{\"direction\":\"clockwise\",\"rotation\":90}},\"legend\":{\"tracegroupgap\":0},\"margin\":{\"t\":60}},                        {\"responsive\": true}                    ).then(function(){\n",
       "                            \n",
       "var gd = document.getElementById('43c21892-4ebb-4dcf-b69f-d4280dac94e4');\n",
       "var x = new MutationObserver(function (mutations, observer) {{\n",
       "        var display = window.getComputedStyle(gd).display;\n",
       "        if (!display || display === 'none') {{\n",
       "            console.log([gd, 'removed!']);\n",
       "            Plotly.purge(gd);\n",
       "            observer.disconnect();\n",
       "        }}\n",
       "}});\n",
       "\n",
       "// Listen for the removal of the full notebook cells\n",
       "var notebookContainer = gd.closest('#notebook-container');\n",
       "if (notebookContainer) {{\n",
       "    x.observe(notebookContainer, {childList: true});\n",
       "}}\n",
       "\n",
       "// Listen for the clearing of the current output cell\n",
       "var outputEl = gd.closest('.output');\n",
       "if (outputEl) {{\n",
       "    x.observe(outputEl, {childList: true});\n",
       "}}\n",
       "\n",
       "                        })                };                });            </script>        </div>"
      ]
     },
     "metadata": {},
     "output_type": "display_data"
    }
   ],
   "source": [
    "#Income Vs Number of Children\n",
    "fig = px.line_polar(demo_data, r='income', theta='nbr_children', line_close=True)\n",
    "fig.show()"
   ]
  },
  {
   "cell_type": "code",
   "execution_count": 568,
   "metadata": {},
   "outputs": [
    {
     "data": {
      "application/vnd.plotly.v1+json": {
       "config": {
        "plotlyServerURL": "https://plot.ly"
       },
       "data": [
        {
         "hovertemplate": "income=%{r}<br>marital_status=%{theta}<extra></extra>",
         "legendgroup": "",
         "line": {
          "color": "#636efa",
          "dash": "solid"
         },
         "marker": {
          "symbol": "circle"
         },
         "mode": "lines",
         "name": "",
         "r": [
          26150,
          6605,
          18548,
          47668,
          44554,
          15684,
          0,
          1929,
          39942,
          9622,
          25829,
          0,
          17622,
          8877,
          23351,
          0,
          10516,
          0,
          6354,
          21015,
          26505,
          3158,
          66930,
          19494,
          19334,
          6493,
          3171,
          8976,
          30664,
          21751,
          24326,
          76087,
          56597,
          36330,
          39991,
          24344,
          0,
          21663,
          13148,
          22690,
          10025,
          43317,
          24545,
          18036,
          10244,
          8011,
          24450,
          7571,
          17099,
          47083,
          0,
          0,
          60104,
          19823,
          24476,
          24368,
          34473,
          6300,
          51608,
          7335,
          29064,
          0,
          15246,
          17242,
          144157,
          27885,
          27492,
          5788,
          0,
          10933,
          15724,
          15993,
          4435,
          12396,
          9129,
          7431,
          16957,
          7633,
          0,
          1982,
          81509,
          25180,
          35502,
          0,
          23108,
          18350,
          12885,
          39704,
          55061,
          49258,
          7751,
          0,
          0,
          24534,
          0,
          31910,
          0,
          22001,
          14711,
          57194,
          28867,
          15530,
          20855,
          31040,
          8810,
          23206,
          57723,
          3994,
          90248,
          9351,
          8038,
          1039,
          7495,
          34080,
          14877,
          2925,
          84335,
          11935,
          83295,
          43900,
          68933,
          16422,
          24275,
          30676,
          0,
          12823,
          6356,
          13811,
          5488,
          0,
          27649,
          11944,
          2769,
          17559,
          12202,
          18144,
          34797,
          13295,
          0,
          56708,
          79057,
          75121,
          12258,
          2644,
          28864,
          0,
          3618,
          4391,
          38010,
          44288,
          5808,
          49731,
          2807,
          95585,
          15795,
          4626,
          10151,
          4604,
          55678,
          40898,
          39291,
          86744,
          3419,
          29363,
          36675,
          73785,
          11004,
          11375,
          9849,
          19789,
          21198,
          36873,
          9614,
          5022,
          29995,
          6105,
          30500,
          69432,
          12621,
          30224,
          18785,
          0,
          44472,
          0,
          57612,
          22437,
          15077,
          9916,
          12722,
          22758,
          29579,
          17612,
          18597,
          16865,
          14891,
          10430,
          0,
          7777,
          27814,
          41650,
          18891,
          37471,
          0,
          0,
          28402,
          27303,
          13515,
          29335,
          5940,
          6195,
          13750,
          13113,
          84120,
          41069,
          3400,
          19282,
          5772,
          49435,
          9146,
          19639,
          32739,
          34855,
          12485,
          12403,
          0,
          32551,
          3240,
          2715,
          45629,
          6144,
          0,
          3339,
          0,
          12106,
          0,
          0,
          61885,
          31054,
          23973,
          23843,
          3551,
          12728,
          4508,
          18760,
          36237,
          49623,
          129196,
          39703,
          19300,
          27258,
          25681,
          26598,
          11812,
          30068,
          17165,
          12690,
          35508,
          8381,
          17584,
          10919,
          12973,
          7968,
          28058,
          29241,
          0,
          0,
          19686,
          0,
          43315,
          19987,
          40252,
          0,
          5505,
          0,
          18449,
          26763,
          22680,
          20840,
          10608,
          27155,
          0,
          15301,
          9379,
          26364,
          17912,
          0,
          20889,
          18040,
          60242,
          0,
          0,
          36259,
          56384,
          20358,
          76376,
          0,
          2517,
          18390,
          8201,
          11725,
          30265,
          12310,
          22322,
          4300,
          15576,
          17750,
          18183,
          19840,
          29838,
          27269,
          77727,
          0,
          8301,
          10818,
          23085,
          12449,
          11918,
          41876,
          40671,
          9480,
          39250,
          35237,
          29403,
          0,
          36923,
          33010,
          0,
          82612,
          0,
          26936,
          31297,
          48479,
          3093,
          20745,
          33060,
          45464,
          17052,
          12033,
          20562,
          101177,
          9099,
          16579,
          14780,
          0,
          0,
          34394,
          12560,
          12599,
          37186,
          44758,
          0,
          41261,
          46884,
          7083,
          0,
          13352,
          22995,
          5456,
          8681,
          0,
          22783,
          9602,
          20684,
          25426,
          6618,
          13124,
          0,
          8575,
          0,
          26583,
          30674,
          8038,
          0,
          29120,
          57882,
          49631,
          12994,
          6355,
          0,
          17804,
          20179,
          54647,
          5918,
          0,
          0,
          12456,
          8257,
          30217,
          50704,
          21909,
          59542,
          10701,
          24131,
          15746,
          11029,
          0,
          30413,
          0,
          41317,
          11074,
          19863,
          37364,
          32700,
          43872,
          13137,
          7914,
          12988,
          2442,
          0,
          38736,
          45195,
          13497,
          8799,
          7735,
          33706,
          12436,
          33113,
          76891,
          5981,
          111004,
          31220,
          12072,
          127848,
          26008,
          8262,
          10053,
          23896,
          42532,
          72194,
          21646,
          17412,
          0,
          15399,
          12560,
          9271,
          18387,
          36586,
          9999,
          0,
          0,
          32065,
          20702,
          19088,
          9005,
          9495,
          5787,
          28093,
          59047,
          9738,
          7169,
          8961,
          57224,
          43737,
          49553,
          2772,
          56296,
          0,
          11244,
          14357,
          19019,
          30165,
          24090,
          0,
          22369,
          13241,
          77322,
          77893,
          31387,
          7642,
          0,
          28204,
          19645,
          11821,
          1591,
          0,
          21657,
          0,
          0,
          14141,
          90592,
          0,
          0,
          18176,
          3371,
          98566,
          30163,
          31732,
          27635,
          21384,
          65347,
          102286,
          30276,
          25827,
          4184,
          52542,
          63532,
          15554,
          6228,
          56266,
          7302,
          19041,
          6809,
          50890,
          0,
          11410,
          0,
          8345,
          22362,
          32728,
          4424,
          31496,
          39382,
          1565,
          17773,
          33905,
          29030,
          20691,
          58377,
          30989,
          22025,
          43582,
          13317,
          6909,
          26886,
          23883,
          93060,
          37180,
          17110,
          25973,
          10234,
          37438,
          29536,
          0,
          29040,
          3303,
          14769,
          0,
          35117,
          13087,
          16238,
          8048,
          44196,
          11946,
          0,
          9050,
          17401,
          68039,
          0,
          11600,
          19639,
          0,
          38917,
          19649,
          0,
          6479,
          12307,
          14011,
          0,
          26112,
          43381,
          16168,
          8282,
          0,
          7534,
          43408,
          0,
          3726,
          4366,
          8997,
          24815,
          11613,
          49437,
          6132,
          0,
          0,
          58217,
          11041,
          4187,
          32152,
          18806,
          28975,
          11485,
          39832,
          8120,
          13901,
          86055,
          25869,
          9307,
          19891,
          54734,
          7467,
          29570,
          22721,
          23476,
          0,
          94123,
          4804,
          6576,
          0,
          56088,
          29417,
          0,
          31013,
          26848,
          39754,
          0,
          7008,
          44071,
          20184,
          0,
          5779,
          20870,
          43691,
          2701,
          7701,
          19319,
          7826,
          0,
          13781,
          0,
          0,
          50980,
          26548,
          46712,
          44307,
          20926,
          27946,
          15895,
          58749,
          16718,
          15744,
          5848,
          0,
          26138,
          7154,
          11982,
          10250,
          31379,
          6700,
          142274,
          2858,
          0,
          14959,
          7617,
          41064,
          43710,
          34791,
          42031,
          7230,
          30015,
          6390,
          69205,
          18377,
          44592,
          28518,
          18466,
          40795,
          5781,
          84184,
          36761,
          1814,
          7353,
          15432,
          21746,
          16276,
          40798,
          4859,
          0,
          21460,
          43715,
          2684,
          24300,
          44307,
          0,
          57642,
          7005,
          13058,
          36464,
          8005,
          9848,
          8259,
          0,
          8423,
          47267,
          0,
          16986,
          36603,
          23294,
          44742,
          0,
          18663,
          65024,
          24843,
          75890,
          8088,
          17174,
          31641,
          4247,
          14458,
          46870,
          10800,
          12072,
          12664,
          20218,
          27239,
          38803,
          6108,
          49863,
          5920,
          0,
          23731,
          62234,
          52903,
          55888,
          2620,
          12158,
          83366,
          24368,
          0,
          24115,
          32581,
          0,
          0,
          54713,
          36614,
          46461,
          15139,
          2466,
          16319,
          24744,
          18920,
          2314,
          43829,
          9802,
          0,
          4431,
          29521,
          36605,
          13269,
          15864,
          2289,
          0,
          14795,
          26387,
          61300,
          15100,
          17875,
          26150
         ],
         "showlegend": false,
         "subplot": "polar",
         "theta": [
          2,
          2,
          1,
          1,
          4,
          2,
          1,
          2,
          4,
          2,
          1,
          1,
          2,
          1,
          2,
          1,
          4,
          1,
          2,
          1,
          2,
          2,
          2,
          1,
          4,
          2,
          2,
          2,
          2,
          2,
          2,
          2,
          2,
          2,
          1,
          2,
          1,
          2,
          1,
          1,
          2,
          2,
          2,
          2,
          1,
          2,
          2,
          4,
          3,
          2,
          1,
          1,
          2,
          2,
          1,
          1,
          2,
          1,
          1,
          2,
          2,
          1,
          1,
          1,
          2,
          1,
          1,
          2,
          1,
          1,
          1,
          2,
          2,
          2,
          2,
          2,
          2,
          2,
          1,
          1,
          2,
          3,
          1,
          1,
          2,
          2,
          2,
          2,
          1,
          2,
          4,
          1,
          1,
          1,
          1,
          1,
          1,
          1,
          2,
          4,
          2,
          2,
          2,
          2,
          2,
          3,
          4,
          2,
          4,
          1,
          1,
          2,
          2,
          1,
          2,
          4,
          4,
          2,
          4,
          2,
          3,
          2,
          3,
          4,
          1,
          1,
          1,
          3,
          2,
          1,
          2,
          2,
          1,
          2,
          2,
          1,
          1,
          2,
          1,
          1,
          3,
          4,
          2,
          2,
          4,
          1,
          2,
          4,
          2,
          2,
          1,
          2,
          2,
          2,
          2,
          3,
          4,
          2,
          2,
          2,
          4,
          2,
          1,
          4,
          2,
          4,
          2,
          2,
          2,
          1,
          2,
          2,
          2,
          2,
          2,
          2,
          2,
          2,
          4,
          2,
          1,
          1,
          1,
          1,
          2,
          2,
          2,
          2,
          1,
          2,
          1,
          4,
          1,
          1,
          2,
          1,
          1,
          1,
          2,
          3,
          3,
          2,
          1,
          1,
          2,
          3,
          4,
          2,
          2,
          4,
          1,
          1,
          2,
          1,
          1,
          4,
          1,
          2,
          4,
          3,
          1,
          4,
          4,
          2,
          1,
          2,
          1,
          2,
          3,
          2,
          1,
          1,
          1,
          1,
          1,
          1,
          2,
          2,
          1,
          2,
          2,
          1,
          1,
          1,
          1,
          4,
          3,
          1,
          2,
          2,
          2,
          2,
          4,
          2,
          2,
          2,
          2,
          2,
          4,
          2,
          2,
          2,
          4,
          2,
          1,
          1,
          2,
          1,
          3,
          3,
          3,
          1,
          1,
          1,
          2,
          2,
          1,
          2,
          2,
          2,
          1,
          2,
          2,
          2,
          2,
          1,
          3,
          2,
          2,
          1,
          1,
          2,
          4,
          1,
          2,
          1,
          1,
          2,
          1,
          1,
          1,
          1,
          2,
          1,
          1,
          2,
          2,
          4,
          2,
          2,
          2,
          1,
          1,
          2,
          1,
          2,
          1,
          1,
          3,
          2,
          1,
          2,
          4,
          1,
          3,
          2,
          1,
          2,
          1,
          1,
          2,
          2,
          2,
          2,
          1,
          2,
          1,
          2,
          2,
          2,
          1,
          2,
          4,
          1,
          1,
          2,
          2,
          1,
          1,
          2,
          1,
          2,
          2,
          2,
          1,
          1,
          1,
          4,
          2,
          1,
          1,
          2,
          1,
          2,
          1,
          2,
          1,
          2,
          1,
          2,
          2,
          2,
          1,
          3,
          1,
          2,
          4,
          2,
          1,
          2,
          2,
          1,
          2,
          1,
          1,
          2,
          2,
          1,
          2,
          2,
          1,
          3,
          2,
          2,
          1,
          1,
          2,
          1,
          2,
          2,
          1,
          4,
          4,
          2,
          2,
          2,
          4,
          1,
          1,
          4,
          2,
          2,
          2,
          2,
          2,
          1,
          2,
          1,
          2,
          1,
          1,
          2,
          2,
          4,
          2,
          1,
          2,
          2,
          1,
          1,
          3,
          1,
          2,
          2,
          2,
          1,
          1,
          2,
          1,
          1,
          2,
          3,
          2,
          2,
          3,
          1,
          2,
          1,
          2,
          1,
          4,
          2,
          2,
          2,
          4,
          2,
          1,
          2,
          2,
          4,
          2,
          2,
          1,
          1,
          1,
          2,
          1,
          1,
          2,
          1,
          1,
          2,
          2,
          1,
          1,
          1,
          1,
          1,
          1,
          2,
          1,
          1,
          4,
          1,
          3,
          2,
          2,
          4,
          2,
          2,
          3,
          1,
          2,
          2,
          4,
          1,
          2,
          2,
          3,
          1,
          2,
          1,
          2,
          1,
          2,
          1,
          1,
          2,
          3,
          1,
          3,
          3,
          2,
          2,
          2,
          1,
          1,
          4,
          1,
          2,
          2,
          1,
          3,
          2,
          2,
          2,
          2,
          1,
          2,
          1,
          2,
          2,
          1,
          2,
          3,
          2,
          1,
          2,
          2,
          4,
          1,
          2,
          4,
          1,
          2,
          1,
          1,
          1,
          1,
          2,
          1,
          2,
          2,
          1,
          2,
          2,
          3,
          1,
          2,
          1,
          1,
          2,
          1,
          2,
          2,
          1,
          2,
          2,
          2,
          2,
          2,
          2,
          1,
          1,
          1,
          2,
          2,
          1,
          2,
          1,
          2,
          2,
          1,
          4,
          2,
          3,
          4,
          1,
          4,
          2,
          1,
          1,
          2,
          1,
          1,
          2,
          2,
          1,
          1,
          1,
          4,
          1,
          1,
          2,
          2,
          1,
          4,
          2,
          1,
          1,
          2,
          2,
          2,
          2,
          2,
          2,
          1,
          1,
          2,
          1,
          1,
          2,
          4,
          3,
          2,
          4,
          1,
          2,
          2,
          2,
          2,
          1,
          1,
          2,
          2,
          1,
          1,
          2,
          1,
          3,
          4,
          1,
          1,
          2,
          2,
          3,
          2,
          1,
          2,
          2,
          2,
          2,
          2,
          2,
          3,
          3,
          2,
          1,
          1,
          2,
          1,
          1,
          1,
          4,
          4,
          2,
          4,
          1,
          2,
          2,
          1,
          1,
          2,
          1,
          2,
          3,
          2,
          1,
          3,
          2,
          4,
          1,
          2,
          4,
          1,
          1,
          2,
          2,
          2,
          1,
          2,
          2,
          2,
          3,
          1,
          2,
          2,
          2,
          2,
          2,
          2,
          2,
          4,
          2,
          1,
          2,
          1,
          2,
          3,
          1,
          2,
          2,
          3,
          3,
          1,
          4,
          1,
          2,
          1,
          2,
          2,
          1,
          1,
          2,
          4,
          2,
          2,
          1,
          2,
          1,
          1,
          2,
          1,
          3,
          1,
          3,
          1,
          4,
          2,
          1,
          2,
          1,
          4,
          2,
          2,
          2,
          1,
          2
         ],
         "type": "scatterpolar"
        }
       ],
       "layout": {
        "autosize": true,
        "legend": {
         "tracegroupgap": 0
        },
        "margin": {
         "t": 60
        },
        "polar": {
         "angularaxis": {
          "direction": "clockwise",
          "rotation": 90,
          "type": "linear"
         },
         "domain": {
          "x": [
           0,
           1
          ],
          "y": [
           0,
           1
          ]
         },
         "radialaxis": {
          "autorange": true,
          "range": [
           0,
           144157
          ],
          "type": "linear"
         }
        },
        "template": {
         "data": {
          "bar": [
           {
            "error_x": {
             "color": "#2a3f5f"
            },
            "error_y": {
             "color": "#2a3f5f"
            },
            "marker": {
             "line": {
              "color": "#E5ECF6",
              "width": 0.5
             },
             "pattern": {
              "fillmode": "overlay",
              "size": 10,
              "solidity": 0.2
             }
            },
            "type": "bar"
           }
          ],
          "barpolar": [
           {
            "marker": {
             "line": {
              "color": "#E5ECF6",
              "width": 0.5
             },
             "pattern": {
              "fillmode": "overlay",
              "size": 10,
              "solidity": 0.2
             }
            },
            "type": "barpolar"
           }
          ],
          "carpet": [
           {
            "aaxis": {
             "endlinecolor": "#2a3f5f",
             "gridcolor": "white",
             "linecolor": "white",
             "minorgridcolor": "white",
             "startlinecolor": "#2a3f5f"
            },
            "baxis": {
             "endlinecolor": "#2a3f5f",
             "gridcolor": "white",
             "linecolor": "white",
             "minorgridcolor": "white",
             "startlinecolor": "#2a3f5f"
            },
            "type": "carpet"
           }
          ],
          "choropleth": [
           {
            "colorbar": {
             "outlinewidth": 0,
             "ticks": ""
            },
            "type": "choropleth"
           }
          ],
          "contour": [
           {
            "colorbar": {
             "outlinewidth": 0,
             "ticks": ""
            },
            "colorscale": [
             [
              0,
              "#0d0887"
             ],
             [
              0.1111111111111111,
              "#46039f"
             ],
             [
              0.2222222222222222,
              "#7201a8"
             ],
             [
              0.3333333333333333,
              "#9c179e"
             ],
             [
              0.4444444444444444,
              "#bd3786"
             ],
             [
              0.5555555555555556,
              "#d8576b"
             ],
             [
              0.6666666666666666,
              "#ed7953"
             ],
             [
              0.7777777777777778,
              "#fb9f3a"
             ],
             [
              0.8888888888888888,
              "#fdca26"
             ],
             [
              1,
              "#f0f921"
             ]
            ],
            "type": "contour"
           }
          ],
          "contourcarpet": [
           {
            "colorbar": {
             "outlinewidth": 0,
             "ticks": ""
            },
            "type": "contourcarpet"
           }
          ],
          "heatmap": [
           {
            "colorbar": {
             "outlinewidth": 0,
             "ticks": ""
            },
            "colorscale": [
             [
              0,
              "#0d0887"
             ],
             [
              0.1111111111111111,
              "#46039f"
             ],
             [
              0.2222222222222222,
              "#7201a8"
             ],
             [
              0.3333333333333333,
              "#9c179e"
             ],
             [
              0.4444444444444444,
              "#bd3786"
             ],
             [
              0.5555555555555556,
              "#d8576b"
             ],
             [
              0.6666666666666666,
              "#ed7953"
             ],
             [
              0.7777777777777778,
              "#fb9f3a"
             ],
             [
              0.8888888888888888,
              "#fdca26"
             ],
             [
              1,
              "#f0f921"
             ]
            ],
            "type": "heatmap"
           }
          ],
          "heatmapgl": [
           {
            "colorbar": {
             "outlinewidth": 0,
             "ticks": ""
            },
            "colorscale": [
             [
              0,
              "#0d0887"
             ],
             [
              0.1111111111111111,
              "#46039f"
             ],
             [
              0.2222222222222222,
              "#7201a8"
             ],
             [
              0.3333333333333333,
              "#9c179e"
             ],
             [
              0.4444444444444444,
              "#bd3786"
             ],
             [
              0.5555555555555556,
              "#d8576b"
             ],
             [
              0.6666666666666666,
              "#ed7953"
             ],
             [
              0.7777777777777778,
              "#fb9f3a"
             ],
             [
              0.8888888888888888,
              "#fdca26"
             ],
             [
              1,
              "#f0f921"
             ]
            ],
            "type": "heatmapgl"
           }
          ],
          "histogram": [
           {
            "marker": {
             "pattern": {
              "fillmode": "overlay",
              "size": 10,
              "solidity": 0.2
             }
            },
            "type": "histogram"
           }
          ],
          "histogram2d": [
           {
            "colorbar": {
             "outlinewidth": 0,
             "ticks": ""
            },
            "colorscale": [
             [
              0,
              "#0d0887"
             ],
             [
              0.1111111111111111,
              "#46039f"
             ],
             [
              0.2222222222222222,
              "#7201a8"
             ],
             [
              0.3333333333333333,
              "#9c179e"
             ],
             [
              0.4444444444444444,
              "#bd3786"
             ],
             [
              0.5555555555555556,
              "#d8576b"
             ],
             [
              0.6666666666666666,
              "#ed7953"
             ],
             [
              0.7777777777777778,
              "#fb9f3a"
             ],
             [
              0.8888888888888888,
              "#fdca26"
             ],
             [
              1,
              "#f0f921"
             ]
            ],
            "type": "histogram2d"
           }
          ],
          "histogram2dcontour": [
           {
            "colorbar": {
             "outlinewidth": 0,
             "ticks": ""
            },
            "colorscale": [
             [
              0,
              "#0d0887"
             ],
             [
              0.1111111111111111,
              "#46039f"
             ],
             [
              0.2222222222222222,
              "#7201a8"
             ],
             [
              0.3333333333333333,
              "#9c179e"
             ],
             [
              0.4444444444444444,
              "#bd3786"
             ],
             [
              0.5555555555555556,
              "#d8576b"
             ],
             [
              0.6666666666666666,
              "#ed7953"
             ],
             [
              0.7777777777777778,
              "#fb9f3a"
             ],
             [
              0.8888888888888888,
              "#fdca26"
             ],
             [
              1,
              "#f0f921"
             ]
            ],
            "type": "histogram2dcontour"
           }
          ],
          "mesh3d": [
           {
            "colorbar": {
             "outlinewidth": 0,
             "ticks": ""
            },
            "type": "mesh3d"
           }
          ],
          "parcoords": [
           {
            "line": {
             "colorbar": {
              "outlinewidth": 0,
              "ticks": ""
             }
            },
            "type": "parcoords"
           }
          ],
          "pie": [
           {
            "automargin": true,
            "type": "pie"
           }
          ],
          "scatter": [
           {
            "marker": {
             "colorbar": {
              "outlinewidth": 0,
              "ticks": ""
             }
            },
            "type": "scatter"
           }
          ],
          "scatter3d": [
           {
            "line": {
             "colorbar": {
              "outlinewidth": 0,
              "ticks": ""
             }
            },
            "marker": {
             "colorbar": {
              "outlinewidth": 0,
              "ticks": ""
             }
            },
            "type": "scatter3d"
           }
          ],
          "scattercarpet": [
           {
            "marker": {
             "colorbar": {
              "outlinewidth": 0,
              "ticks": ""
             }
            },
            "type": "scattercarpet"
           }
          ],
          "scattergeo": [
           {
            "marker": {
             "colorbar": {
              "outlinewidth": 0,
              "ticks": ""
             }
            },
            "type": "scattergeo"
           }
          ],
          "scattergl": [
           {
            "marker": {
             "colorbar": {
              "outlinewidth": 0,
              "ticks": ""
             }
            },
            "type": "scattergl"
           }
          ],
          "scattermapbox": [
           {
            "marker": {
             "colorbar": {
              "outlinewidth": 0,
              "ticks": ""
             }
            },
            "type": "scattermapbox"
           }
          ],
          "scatterpolar": [
           {
            "marker": {
             "colorbar": {
              "outlinewidth": 0,
              "ticks": ""
             }
            },
            "type": "scatterpolar"
           }
          ],
          "scatterpolargl": [
           {
            "marker": {
             "colorbar": {
              "outlinewidth": 0,
              "ticks": ""
             }
            },
            "type": "scatterpolargl"
           }
          ],
          "scatterternary": [
           {
            "marker": {
             "colorbar": {
              "outlinewidth": 0,
              "ticks": ""
             }
            },
            "type": "scatterternary"
           }
          ],
          "surface": [
           {
            "colorbar": {
             "outlinewidth": 0,
             "ticks": ""
            },
            "colorscale": [
             [
              0,
              "#0d0887"
             ],
             [
              0.1111111111111111,
              "#46039f"
             ],
             [
              0.2222222222222222,
              "#7201a8"
             ],
             [
              0.3333333333333333,
              "#9c179e"
             ],
             [
              0.4444444444444444,
              "#bd3786"
             ],
             [
              0.5555555555555556,
              "#d8576b"
             ],
             [
              0.6666666666666666,
              "#ed7953"
             ],
             [
              0.7777777777777778,
              "#fb9f3a"
             ],
             [
              0.8888888888888888,
              "#fdca26"
             ],
             [
              1,
              "#f0f921"
             ]
            ],
            "type": "surface"
           }
          ],
          "table": [
           {
            "cells": {
             "fill": {
              "color": "#EBF0F8"
             },
             "line": {
              "color": "white"
             }
            },
            "header": {
             "fill": {
              "color": "#C8D4E3"
             },
             "line": {
              "color": "white"
             }
            },
            "type": "table"
           }
          ]
         },
         "layout": {
          "annotationdefaults": {
           "arrowcolor": "#2a3f5f",
           "arrowhead": 0,
           "arrowwidth": 1
          },
          "autotypenumbers": "strict",
          "coloraxis": {
           "colorbar": {
            "outlinewidth": 0,
            "ticks": ""
           }
          },
          "colorscale": {
           "diverging": [
            [
             0,
             "#8e0152"
            ],
            [
             0.1,
             "#c51b7d"
            ],
            [
             0.2,
             "#de77ae"
            ],
            [
             0.3,
             "#f1b6da"
            ],
            [
             0.4,
             "#fde0ef"
            ],
            [
             0.5,
             "#f7f7f7"
            ],
            [
             0.6,
             "#e6f5d0"
            ],
            [
             0.7,
             "#b8e186"
            ],
            [
             0.8,
             "#7fbc41"
            ],
            [
             0.9,
             "#4d9221"
            ],
            [
             1,
             "#276419"
            ]
           ],
           "sequential": [
            [
             0,
             "#0d0887"
            ],
            [
             0.1111111111111111,
             "#46039f"
            ],
            [
             0.2222222222222222,
             "#7201a8"
            ],
            [
             0.3333333333333333,
             "#9c179e"
            ],
            [
             0.4444444444444444,
             "#bd3786"
            ],
            [
             0.5555555555555556,
             "#d8576b"
            ],
            [
             0.6666666666666666,
             "#ed7953"
            ],
            [
             0.7777777777777778,
             "#fb9f3a"
            ],
            [
             0.8888888888888888,
             "#fdca26"
            ],
            [
             1,
             "#f0f921"
            ]
           ],
           "sequentialminus": [
            [
             0,
             "#0d0887"
            ],
            [
             0.1111111111111111,
             "#46039f"
            ],
            [
             0.2222222222222222,
             "#7201a8"
            ],
            [
             0.3333333333333333,
             "#9c179e"
            ],
            [
             0.4444444444444444,
             "#bd3786"
            ],
            [
             0.5555555555555556,
             "#d8576b"
            ],
            [
             0.6666666666666666,
             "#ed7953"
            ],
            [
             0.7777777777777778,
             "#fb9f3a"
            ],
            [
             0.8888888888888888,
             "#fdca26"
            ],
            [
             1,
             "#f0f921"
            ]
           ]
          },
          "colorway": [
           "#636efa",
           "#EF553B",
           "#00cc96",
           "#ab63fa",
           "#FFA15A",
           "#19d3f3",
           "#FF6692",
           "#B6E880",
           "#FF97FF",
           "#FECB52"
          ],
          "font": {
           "color": "#2a3f5f"
          },
          "geo": {
           "bgcolor": "white",
           "lakecolor": "white",
           "landcolor": "#E5ECF6",
           "showlakes": true,
           "showland": true,
           "subunitcolor": "white"
          },
          "hoverlabel": {
           "align": "left"
          },
          "hovermode": "closest",
          "mapbox": {
           "style": "light"
          },
          "paper_bgcolor": "white",
          "plot_bgcolor": "#E5ECF6",
          "polar": {
           "angularaxis": {
            "gridcolor": "white",
            "linecolor": "white",
            "ticks": ""
           },
           "bgcolor": "#E5ECF6",
           "radialaxis": {
            "gridcolor": "white",
            "linecolor": "white",
            "ticks": ""
           }
          },
          "scene": {
           "xaxis": {
            "backgroundcolor": "#E5ECF6",
            "gridcolor": "white",
            "gridwidth": 2,
            "linecolor": "white",
            "showbackground": true,
            "ticks": "",
            "zerolinecolor": "white"
           },
           "yaxis": {
            "backgroundcolor": "#E5ECF6",
            "gridcolor": "white",
            "gridwidth": 2,
            "linecolor": "white",
            "showbackground": true,
            "ticks": "",
            "zerolinecolor": "white"
           },
           "zaxis": {
            "backgroundcolor": "#E5ECF6",
            "gridcolor": "white",
            "gridwidth": 2,
            "linecolor": "white",
            "showbackground": true,
            "ticks": "",
            "zerolinecolor": "white"
           }
          },
          "shapedefaults": {
           "line": {
            "color": "#2a3f5f"
           }
          },
          "ternary": {
           "aaxis": {
            "gridcolor": "white",
            "linecolor": "white",
            "ticks": ""
           },
           "baxis": {
            "gridcolor": "white",
            "linecolor": "white",
            "ticks": ""
           },
           "bgcolor": "#E5ECF6",
           "caxis": {
            "gridcolor": "white",
            "linecolor": "white",
            "ticks": ""
           }
          },
          "title": {
           "x": 0.05
          },
          "xaxis": {
           "automargin": true,
           "gridcolor": "white",
           "linecolor": "white",
           "ticks": "",
           "title": {
            "standoff": 15
           },
           "zerolinecolor": "white",
           "zerolinewidth": 2
          },
          "yaxis": {
           "automargin": true,
           "gridcolor": "white",
           "linecolor": "white",
           "ticks": "",
           "title": {
            "standoff": 15
           },
           "zerolinecolor": "white",
           "zerolinewidth": 2
          }
         }
        }
       }
      },
      "image/png": "[encoded data removed]",
      "text/html": [
       "<div>                            <div id=\"5c87324c-0bcb-43b7-b749-2730001cb0f9\" class=\"plotly-graph-div\" style=\"height:525px; width:100%;\"></div>            <script type=\"text/javascript\">                require([\"plotly\"], function(Plotly) {                    window.PLOTLYENV=window.PLOTLYENV || {};                                    if (document.getElementById(\"5c87324c-0bcb-43b7-b749-2730001cb0f9\")) {                    Plotly.newPlot(                        \"5c87324c-0bcb-43b7-b749-2730001cb0f9\",                        [{\"hovertemplate\":\"income=%{r}<br>marital_status=%{theta}<extra></extra>\",\"legendgroup\":\"\",\"line\":{\"color\":\"#636efa\",\"dash\":\"solid\"},\"marker\":{\"symbol\":\"circle\"},\"mode\":\"lines\",\"name\":\"\",\"r\":[26150,6605,18548,47668,44554,15684,0,1929,39942,9622,25829,0,17622,8877,23351,0,10516,0,6354,21015,26505,3158,66930,19494,19334,6493,3171,8976,30664,21751,24326,76087,56597,36330,39991,24344,0,21663,13148,22690,10025,43317,24545,18036,10244,8011,24450,7571,17099,47083,0,0,60104,19823,24476,24368,34473,6300,51608,7335,29064,0,15246,17242,144157,27885,27492,5788,0,10933,15724,15993,4435,12396,9129,7431,16957,7633,0,1982,81509,25180,35502,0,23108,18350,12885,39704,55061,49258,7751,0,0,24534,0,31910,0,22001,14711,57194,28867,15530,20855,31040,8810,23206,57723,3994,90248,9351,8038,1039,7495,34080,14877,2925,84335,11935,83295,43900,68933,16422,24275,30676,0,12823,6356,13811,5488,0,27649,11944,2769,17559,12202,18144,34797,13295,0,56708,79057,75121,12258,2644,28864,0,3618,4391,38010,44288,5808,49731,2807,95585,15795,4626,10151,4604,55678,40898,39291,86744,3419,29363,36675,73785,11004,11375,9849,19789,21198,36873,9614,5022,29995,6105,30500,69432,12621,30224,18785,0,44472,0,57612,22437,15077,9916,12722,22758,29579,17612,18597,16865,14891,10430,0,7777,27814,41650,18891,37471,0,0,28402,27303,13515,29335,5940,6195,13750,13113,84120,41069,3400,19282,5772,49435,9146,19639,32739,34855,12485,12403,0,32551,3240,2715,45629,6144,0,3339,0,12106,0,0,61885,31054,23973,23843,3551,12728,4508,18760,36237,49623,129196,39703,19300,27258,25681,26598,11812,30068,17165,12690,35508,8381,17584,10919,12973,7968,28058,29241,0,0,19686,0,43315,19987,40252,0,5505,0,18449,26763,22680,20840,10608,27155,0,15301,9379,26364,17912,0,20889,18040,60242,0,0,36259,56384,20358,76376,0,2517,18390,8201,11725,30265,12310,22322,4300,15576,17750,18183,19840,29838,27269,77727,0,8301,10818,23085,12449,11918,41876,40671,9480,39250,35237,29403,0,36923,33010,0,82612,0,26936,31297,48479,3093,20745,33060,45464,17052,12033,20562,101177,9099,16579,14780,0,0,34394,12560,12599,37186,44758,0,41261,46884,7083,0,13352,22995,5456,8681,0,22783,9602,20684,25426,6618,13124,0,8575,0,26583,30674,8038,0,29120,57882,49631,12994,6355,0,17804,20179,54647,5918,0,0,12456,8257,30217,50704,21909,59542,10701,24131,15746,11029,0,30413,0,41317,11074,19863,37364,32700,43872,13137,7914,12988,2442,0,38736,45195,13497,8799,7735,33706,12436,33113,76891,5981,111004,31220,12072,127848,26008,8262,10053,23896,42532,72194,21646,17412,0,15399,12560,9271,18387,36586,9999,0,0,32065,20702,19088,9005,9495,5787,28093,59047,9738,7169,8961,57224,43737,49553,2772,56296,0,11244,14357,19019,30165,24090,0,22369,13241,77322,77893,31387,7642,0,28204,19645,11821,1591,0,21657,0,0,14141,90592,0,0,18176,3371,98566,30163,31732,27635,21384,65347,102286,30276,25827,4184,52542,63532,15554,6228,56266,7302,19041,6809,50890,0,11410,0,8345,22362,32728,4424,31496,39382,1565,17773,33905,29030,20691,58377,30989,22025,43582,13317,6909,26886,23883,93060,37180,17110,25973,10234,37438,29536,0,29040,3303,14769,0,35117,13087,16238,8048,44196,11946,0,9050,17401,68039,0,11600,19639,0,38917,19649,0,6479,12307,14011,0,26112,43381,16168,8282,0,7534,43408,0,3726,4366,8997,24815,11613,49437,6132,0,0,58217,11041,4187,32152,18806,28975,11485,39832,8120,13901,86055,25869,9307,19891,54734,7467,29570,22721,23476,0,94123,4804,6576,0,56088,29417,0,31013,26848,39754,0,7008,44071,20184,0,5779,20870,43691,2701,7701,19319,7826,0,13781,0,0,50980,26548,46712,44307,20926,27946,15895,58749,16718,15744,5848,0,26138,7154,11982,10250,31379,6700,142274,2858,0,14959,7617,41064,43710,34791,42031,7230,30015,6390,69205,18377,44592,28518,18466,40795,5781,84184,36761,1814,7353,15432,21746,16276,40798,4859,0,21460,43715,2684,24300,44307,0,57642,7005,13058,36464,8005,9848,8259,0,8423,47267,0,16986,36603,23294,44742,0,18663,65024,24843,75890,8088,17174,31641,4247,14458,46870,10800,12072,12664,20218,27239,38803,6108,49863,5920,0,23731,62234,52903,55888,2620,12158,83366,24368,0,24115,32581,0,0,54713,36614,46461,15139,2466,16319,24744,18920,2314,43829,9802,0,4431,29521,36605,13269,15864,2289,0,14795,26387,61300,15100,17875,26150],\"showlegend\":false,\"subplot\":\"polar\",\"theta\":[2,2,1,1,4,2,1,2,4,2,1,1,2,1,2,1,4,1,2,1,2,2,2,1,4,2,2,2,2,2,2,2,2,2,1,2,1,2,1,1,2,2,2,2,1,2,2,4,3,2,1,1,2,2,1,1,2,1,1,2,2,1,1,1,2,1,1,2,1,1,1,2,2,2,2,2,2,2,1,1,2,3,1,1,2,2,2,2,1,2,4,1,1,1,1,1,1,1,2,4,2,2,2,2,2,3,4,2,4,1,1,2,2,1,2,4,4,2,4,2,3,2,3,4,1,1,1,3,2,1,2,2,1,2,2,1,1,2,1,1,3,4,2,2,4,1,2,4,2,2,1,2,2,2,2,3,4,2,2,2,4,2,1,4,2,4,2,2,2,1,2,2,2,2,2,2,2,2,4,2,1,1,1,1,2,2,2,2,1,2,1,4,1,1,2,1,1,1,2,3,3,2,1,1,2,3,4,2,2,4,1,1,2,1,1,4,1,2,4,3,1,4,4,2,1,2,1,2,3,2,1,1,1,1,1,1,2,2,1,2,2,1,1,1,1,4,3,1,2,2,2,2,4,2,2,2,2,2,4,2,2,2,4,2,1,1,2,1,3,3,3,1,1,1,2,2,1,2,2,2,1,2,2,2,2,1,3,2,2,1,1,2,4,1,2,1,1,2,1,1,1,1,2,1,1,2,2,4,2,2,2,1,1,2,1,2,1,1,3,2,1,2,4,1,3,2,1,2,1,1,2,2,2,2,1,2,1,2,2,2,1,2,4,1,1,2,2,1,1,2,1,2,2,2,1,1,1,4,2,1,1,2,1,2,1,2,1,2,1,2,2,2,1,3,1,2,4,2,1,2,2,1,2,1,1,2,2,1,2,2,1,3,2,2,1,1,2,1,2,2,1,4,4,2,2,2,4,1,1,4,2,2,2,2,2,1,2,1,2,1,1,2,2,4,2,1,2,2,1,1,3,1,2,2,2,1,1,2,1,1,2,3,2,2,3,1,2,1,2,1,4,2,2,2,4,2,1,2,2,4,2,2,1,1,1,2,1,1,2,1,1,2,2,1,1,1,1,1,1,2,1,1,4,1,3,2,2,4,2,2,3,1,2,2,4,1,2,2,3,1,2,1,2,1,2,1,1,2,3,1,3,3,2,2,2,1,1,4,1,2,2,1,3,2,2,2,2,1,2,1,2,2,1,2,3,2,1,2,2,4,1,2,4,1,2,1,1,1,1,2,1,2,2,1,2,2,3,1,2,1,1,2,1,2,2,1,2,2,2,2,2,2,1,1,1,2,2,1,2,1,2,2,1,4,2,3,4,1,4,2,1,1,2,1,1,2,2,1,1,1,4,1,1,2,2,1,4,2,1,1,2,2,2,2,2,2,1,1,2,1,1,2,4,3,2,4,1,2,2,2,2,1,1,2,2,1,1,2,1,3,4,1,1,2,2,3,2,1,2,2,2,2,2,2,3,3,2,1,1,2,1,1,1,4,4,2,4,1,2,2,1,1,2,1,2,3,2,1,3,2,4,1,2,4,1,1,2,2,2,1,2,2,2,3,1,2,2,2,2,2,2,2,4,2,1,2,1,2,3,1,2,2,3,3,1,4,1,2,1,2,2,1,1,2,4,2,2,1,2,1,1,2,1,3,1,3,1,4,2,1,2,1,4,2,2,2,1,2],\"type\":\"scatterpolar\"}],                        {\"template\":{\"data\":{\"bar\":[{\"error_x\":{\"color\":\"#2a3f5f\"},\"error_y\":{\"color\":\"#2a3f5f\"},\"marker\":{\"line\":{\"color\":\"#E5ECF6\",\"width\":0.5},\"pattern\":{\"fillmode\":\"overlay\",\"size\":10,\"solidity\":0.2}},\"type\":\"bar\"}],\"barpolar\":[{\"marker\":{\"line\":{\"color\":\"#E5ECF6\",\"width\":0.5},\"pattern\":{\"fillmode\":\"overlay\",\"size\":10,\"solidity\":0.2}},\"type\":\"barpolar\"}],\"carpet\":[{\"aaxis\":{\"endlinecolor\":\"#2a3f5f\",\"gridcolor\":\"white\",\"linecolor\":\"white\",\"minorgridcolor\":\"white\",\"startlinecolor\":\"#2a3f5f\"},\"baxis\":{\"endlinecolor\":\"#2a3f5f\",\"gridcolor\":\"white\",\"linecolor\":\"white\",\"minorgridcolor\":\"white\",\"startlinecolor\":\"#2a3f5f\"},\"type\":\"carpet\"}],\"choropleth\":[{\"colorbar\":{\"outlinewidth\":0,\"ticks\":\"\"},\"type\":\"choropleth\"}],\"contour\":[{\"colorbar\":{\"outlinewidth\":0,\"ticks\":\"\"},\"colorscale\":[[0.0,\"#0d0887\"],[0.1111111111111111,\"#46039f\"],[0.2222222222222222,\"#7201a8\"],[0.3333333333333333,\"#9c179e\"],[0.4444444444444444,\"#bd3786\"],[0.5555555555555556,\"#d8576b\"],[0.6666666666666666,\"#ed7953\"],[0.7777777777777778,\"#fb9f3a\"],[0.8888888888888888,\"#fdca26\"],[1.0,\"#f0f921\"]],\"type\":\"contour\"}],\"contourcarpet\":[{\"colorbar\":{\"outlinewidth\":0,\"ticks\":\"\"},\"type\":\"contourcarpet\"}],\"heatmap\":[{\"colorbar\":{\"outlinewidth\":0,\"ticks\":\"\"},\"colorscale\":[[0.0,\"#0d0887\"],[0.1111111111111111,\"#46039f\"],[0.2222222222222222,\"#7201a8\"],[0.3333333333333333,\"#9c179e\"],[0.4444444444444444,\"#bd3786\"],[0.5555555555555556,\"#d8576b\"],[0.6666666666666666,\"#ed7953\"],[0.7777777777777778,\"#fb9f3a\"],[0.8888888888888888,\"#fdca26\"],[1.0,\"#f0f921\"]],\"type\":\"heatmap\"}],\"heatmapgl\":[{\"colorbar\":{\"outlinewidth\":0,\"ticks\":\"\"},\"colorscale\":[[0.0,\"#0d0887\"],[0.1111111111111111,\"#46039f\"],[0.2222222222222222,\"#7201a8\"],[0.3333333333333333,\"#9c179e\"],[0.4444444444444444,\"#bd3786\"],[0.5555555555555556,\"#d8576b\"],[0.6666666666666666,\"#ed7953\"],[0.7777777777777778,\"#fb9f3a\"],[0.8888888888888888,\"#fdca26\"],[1.0,\"#f0f921\"]],\"type\":\"heatmapgl\"}],\"histogram\":[{\"marker\":{\"pattern\":{\"fillmode\":\"overlay\",\"size\":10,\"solidity\":0.2}},\"type\":\"histogram\"}],\"histogram2d\":[{\"colorbar\":{\"outlinewidth\":0,\"ticks\":\"\"},\"colorscale\":[[0.0,\"#0d0887\"],[0.1111111111111111,\"#46039f\"],[0.2222222222222222,\"#7201a8\"],[0.3333333333333333,\"#9c179e\"],[0.4444444444444444,\"#bd3786\"],[0.5555555555555556,\"#d8576b\"],[0.6666666666666666,\"#ed7953\"],[0.7777777777777778,\"#fb9f3a\"],[0.8888888888888888,\"#fdca26\"],[1.0,\"#f0f921\"]],\"type\":\"histogram2d\"}],\"histogram2dcontour\":[{\"colorbar\":{\"outlinewidth\":0,\"ticks\":\"\"},\"colorscale\":[[0.0,\"#0d0887\"],[0.1111111111111111,\"#46039f\"],[0.2222222222222222,\"#7201a8\"],[0.3333333333333333,\"#9c179e\"],[0.4444444444444444,\"#bd3786\"],[0.5555555555555556,\"#d8576b\"],[0.6666666666666666,\"#ed7953\"],[0.7777777777777778,\"#fb9f3a\"],[0.8888888888888888,\"#fdca26\"],[1.0,\"#f0f921\"]],\"type\":\"histogram2dcontour\"}],\"mesh3d\":[{\"colorbar\":{\"outlinewidth\":0,\"ticks\":\"\"},\"type\":\"mesh3d\"}],\"parcoords\":[{\"line\":{\"colorbar\":{\"outlinewidth\":0,\"ticks\":\"\"}},\"type\":\"parcoords\"}],\"pie\":[{\"automargin\":true,\"type\":\"pie\"}],\"scatter\":[{\"marker\":{\"colorbar\":{\"outlinewidth\":0,\"ticks\":\"\"}},\"type\":\"scatter\"}],\"scatter3d\":[{\"line\":{\"colorbar\":{\"outlinewidth\":0,\"ticks\":\"\"}},\"marker\":{\"colorbar\":{\"outlinewidth\":0,\"ticks\":\"\"}},\"type\":\"scatter3d\"}],\"scattercarpet\":[{\"marker\":{\"colorbar\":{\"outlinewidth\":0,\"ticks\":\"\"}},\"type\":\"scattercarpet\"}],\"scattergeo\":[{\"marker\":{\"colorbar\":{\"outlinewidth\":0,\"ticks\":\"\"}},\"type\":\"scattergeo\"}],\"scattergl\":[{\"marker\":{\"colorbar\":{\"outlinewidth\":0,\"ticks\":\"\"}},\"type\":\"scattergl\"}],\"scattermapbox\":[{\"marker\":{\"colorbar\":{\"outlinewidth\":0,\"ticks\":\"\"}},\"type\":\"scattermapbox\"}],\"scatterpolar\":[{\"marker\":{\"colorbar\":{\"outlinewidth\":0,\"ticks\":\"\"}},\"type\":\"scatterpolar\"}],\"scatterpolargl\":[{\"marker\":{\"colorbar\":{\"outlinewidth\":0,\"ticks\":\"\"}},\"type\":\"scatterpolargl\"}],\"scatterternary\":[{\"marker\":{\"colorbar\":{\"outlinewidth\":0,\"ticks\":\"\"}},\"type\":\"scatterternary\"}],\"surface\":[{\"colorbar\":{\"outlinewidth\":0,\"ticks\":\"\"},\"colorscale\":[[0.0,\"#0d0887\"],[0.1111111111111111,\"#46039f\"],[0.2222222222222222,\"#7201a8\"],[0.3333333333333333,\"#9c179e\"],[0.4444444444444444,\"#bd3786\"],[0.5555555555555556,\"#d8576b\"],[0.6666666666666666,\"#ed7953\"],[0.7777777777777778,\"#fb9f3a\"],[0.8888888888888888,\"#fdca26\"],[1.0,\"#f0f921\"]],\"type\":\"surface\"}],\"table\":[{\"cells\":{\"fill\":{\"color\":\"#EBF0F8\"},\"line\":{\"color\":\"white\"}},\"header\":{\"fill\":{\"color\":\"#C8D4E3\"},\"line\":{\"color\":\"white\"}},\"type\":\"table\"}]},\"layout\":{\"annotationdefaults\":{\"arrowcolor\":\"#2a3f5f\",\"arrowhead\":0,\"arrowwidth\":1},\"autotypenumbers\":\"strict\",\"coloraxis\":{\"colorbar\":{\"outlinewidth\":0,\"ticks\":\"\"}},\"colorscale\":{\"diverging\":[[0,\"#8e0152\"],[0.1,\"#c51b7d\"],[0.2,\"#de77ae\"],[0.3,\"#f1b6da\"],[0.4,\"#fde0ef\"],[0.5,\"#f7f7f7\"],[0.6,\"#e6f5d0\"],[0.7,\"#b8e186\"],[0.8,\"#7fbc41\"],[0.9,\"#4d9221\"],[1,\"#276419\"]],\"sequential\":[[0.0,\"#0d0887\"],[0.1111111111111111,\"#46039f\"],[0.2222222222222222,\"#7201a8\"],[0.3333333333333333,\"#9c179e\"],[0.4444444444444444,\"#bd3786\"],[0.5555555555555556,\"#d8576b\"],[0.6666666666666666,\"#ed7953\"],[0.7777777777777778,\"#fb9f3a\"],[0.8888888888888888,\"#fdca26\"],[1.0,\"#f0f921\"]],\"sequentialminus\":[[0.0,\"#0d0887\"],[0.1111111111111111,\"#46039f\"],[0.2222222222222222,\"#7201a8\"],[0.3333333333333333,\"#9c179e\"],[0.4444444444444444,\"#bd3786\"],[0.5555555555555556,\"#d8576b\"],[0.6666666666666666,\"#ed7953\"],[0.7777777777777778,\"#fb9f3a\"],[0.8888888888888888,\"#fdca26\"],[1.0,\"#f0f921\"]]},\"colorway\":[\"#636efa\",\"#EF553B\",\"#00cc96\",\"#ab63fa\",\"#FFA15A\",\"#19d3f3\",\"#FF6692\",\"#B6E880\",\"#FF97FF\",\"#FECB52\"],\"font\":{\"color\":\"#2a3f5f\"},\"geo\":{\"bgcolor\":\"white\",\"lakecolor\":\"white\",\"landcolor\":\"#E5ECF6\",\"showlakes\":true,\"showland\":true,\"subunitcolor\":\"white\"},\"hoverlabel\":{\"align\":\"left\"},\"hovermode\":\"closest\",\"mapbox\":{\"style\":\"light\"},\"paper_bgcolor\":\"white\",\"plot_bgcolor\":\"#E5ECF6\",\"polar\":{\"angularaxis\":{\"gridcolor\":\"white\",\"linecolor\":\"white\",\"ticks\":\"\"},\"bgcolor\":\"#E5ECF6\",\"radialaxis\":{\"gridcolor\":\"white\",\"linecolor\":\"white\",\"ticks\":\"\"}},\"scene\":{\"xaxis\":{\"backgroundcolor\":\"#E5ECF6\",\"gridcolor\":\"white\",\"gridwidth\":2,\"linecolor\":\"white\",\"showbackground\":true,\"ticks\":\"\",\"zerolinecolor\":\"white\"},\"yaxis\":{\"backgroundcolor\":\"#E5ECF6\",\"gridcolor\":\"white\",\"gridwidth\":2,\"linecolor\":\"white\",\"showbackground\":true,\"ticks\":\"\",\"zerolinecolor\":\"white\"},\"zaxis\":{\"backgroundcolor\":\"#E5ECF6\",\"gridcolor\":\"white\",\"gridwidth\":2,\"linecolor\":\"white\",\"showbackground\":true,\"ticks\":\"\",\"zerolinecolor\":\"white\"}},\"shapedefaults\":{\"line\":{\"color\":\"#2a3f5f\"}},\"ternary\":{\"aaxis\":{\"gridcolor\":\"white\",\"linecolor\":\"white\",\"ticks\":\"\"},\"baxis\":{\"gridcolor\":\"white\",\"linecolor\":\"white\",\"ticks\":\"\"},\"bgcolor\":\"#E5ECF6\",\"caxis\":{\"gridcolor\":\"white\",\"linecolor\":\"white\",\"ticks\":\"\"}},\"title\":{\"x\":0.05},\"xaxis\":{\"automargin\":true,\"gridcolor\":\"white\",\"linecolor\":\"white\",\"ticks\":\"\",\"title\":{\"standoff\":15},\"zerolinecolor\":\"white\",\"zerolinewidth\":2},\"yaxis\":{\"automargin\":true,\"gridcolor\":\"white\",\"linecolor\":\"white\",\"ticks\":\"\",\"title\":{\"standoff\":15},\"zerolinecolor\":\"white\",\"zerolinewidth\":2}}},\"polar\":{\"domain\":{\"x\":[0.0,1.0],\"y\":[0.0,1.0]},\"angularaxis\":{\"direction\":\"clockwise\",\"rotation\":90}},\"legend\":{\"tracegroupgap\":0},\"margin\":{\"t\":60}},                        {\"responsive\": true}                    ).then(function(){\n",
       "                            \n",
       "var gd = document.getElementById('5c87324c-0bcb-43b7-b749-2730001cb0f9');\n",
       "var x = new MutationObserver(function (mutations, observer) {{\n",
       "        var display = window.getComputedStyle(gd).display;\n",
       "        if (!display || display === 'none') {{\n",
       "            console.log([gd, 'removed!']);\n",
       "            Plotly.purge(gd);\n",
       "            observer.disconnect();\n",
       "        }}\n",
       "}});\n",
       "\n",
       "// Listen for the removal of the full notebook cells\n",
       "var notebookContainer = gd.closest('#notebook-container');\n",
       "if (notebookContainer) {{\n",
       "    x.observe(notebookContainer, {childList: true});\n",
       "}}\n",
       "\n",
       "// Listen for the clearing of the current output cell\n",
       "var outputEl = gd.closest('.output');\n",
       "if (outputEl) {{\n",
       "    x.observe(outputEl, {childList: true});\n",
       "}}\n",
       "\n",
       "                        })                };                });            </script>        </div>"
      ]
     },
     "metadata": {},
     "output_type": "display_data"
    }
   ],
   "source": [
    "#Income Vs Martial status (1,2,3,4)\n",
    "fig = px.line_polar(demo_data, r='income', theta='marital_status', line_close=True)\n",
    "fig.show()"
   ]
  },
  {
   "cell_type": "code",
   "execution_count": 569,
   "metadata": {},
   "outputs": [
    {
     "data": {
      "application/vnd.plotly.v1+json": {
       "config": {
        "plotlyServerURL": "https://plot.ly"
       },
       "data": [
        {
         "hovertemplate": "income=%{r}<br>gender_val=%{theta}<extra></extra>",
         "legendgroup": "",
         "line": {
          "color": "#636efa",
          "dash": "solid"
         },
         "marker": {
          "symbol": "circle"
         },
         "mode": "lines",
         "name": "",
         "r": [
          26150,
          6605,
          18548,
          47668,
          44554,
          15684,
          0,
          1929,
          39942,
          9622,
          25829,
          0,
          17622,
          8877,
          23351,
          0,
          10516,
          0,
          6354,
          21015,
          26505,
          3158,
          66930,
          19494,
          19334,
          6493,
          3171,
          8976,
          30664,
          21751,
          24326,
          76087,
          56597,
          36330,
          39991,
          24344,
          0,
          21663,
          13148,
          22690,
          10025,
          43317,
          24545,
          18036,
          10244,
          8011,
          24450,
          7571,
          17099,
          47083,
          0,
          0,
          60104,
          19823,
          24476,
          24368,
          34473,
          6300,
          51608,
          7335,
          29064,
          0,
          15246,
          17242,
          144157,
          27885,
          27492,
          5788,
          0,
          10933,
          15724,
          15993,
          4435,
          12396,
          9129,
          7431,
          16957,
          7633,
          0,
          1982,
          81509,
          25180,
          35502,
          0,
          23108,
          18350,
          12885,
          39704,
          55061,
          49258,
          7751,
          0,
          0,
          24534,
          0,
          31910,
          0,
          22001,
          14711,
          57194,
          28867,
          15530,
          20855,
          31040,
          8810,
          23206,
          57723,
          3994,
          90248,
          9351,
          8038,
          1039,
          7495,
          34080,
          14877,
          2925,
          84335,
          11935,
          83295,
          43900,
          68933,
          16422,
          24275,
          30676,
          0,
          12823,
          6356,
          13811,
          5488,
          0,
          27649,
          11944,
          2769,
          17559,
          12202,
          18144,
          34797,
          13295,
          0,
          56708,
          79057,
          75121,
          12258,
          2644,
          28864,
          0,
          3618,
          4391,
          38010,
          44288,
          5808,
          49731,
          2807,
          95585,
          15795,
          4626,
          10151,
          4604,
          55678,
          40898,
          39291,
          86744,
          3419,
          29363,
          36675,
          73785,
          11004,
          11375,
          9849,
          19789,
          21198,
          36873,
          9614,
          5022,
          29995,
          6105,
          30500,
          69432,
          12621,
          30224,
          18785,
          0,
          44472,
          0,
          57612,
          22437,
          15077,
          9916,
          12722,
          22758,
          29579,
          17612,
          18597,
          16865,
          14891,
          10430,
          0,
          7777,
          27814,
          41650,
          18891,
          37471,
          0,
          0,
          28402,
          27303,
          13515,
          29335,
          5940,
          6195,
          13750,
          13113,
          84120,
          41069,
          3400,
          19282,
          5772,
          49435,
          9146,
          19639,
          32739,
          34855,
          12485,
          12403,
          0,
          32551,
          3240,
          2715,
          45629,
          6144,
          0,
          3339,
          0,
          12106,
          0,
          0,
          61885,
          31054,
          23973,
          23843,
          3551,
          12728,
          4508,
          18760,
          36237,
          49623,
          129196,
          39703,
          19300,
          27258,
          25681,
          26598,
          11812,
          30068,
          17165,
          12690,
          35508,
          8381,
          17584,
          10919,
          12973,
          7968,
          28058,
          29241,
          0,
          0,
          19686,
          0,
          43315,
          19987,
          40252,
          0,
          5505,
          0,
          18449,
          26763,
          22680,
          20840,
          10608,
          27155,
          0,
          15301,
          9379,
          26364,
          17912,
          0,
          20889,
          18040,
          60242,
          0,
          0,
          36259,
          56384,
          20358,
          76376,
          0,
          2517,
          18390,
          8201,
          11725,
          30265,
          12310,
          22322,
          4300,
          15576,
          17750,
          18183,
          19840,
          29838,
          27269,
          77727,
          0,
          8301,
          10818,
          23085,
          12449,
          11918,
          41876,
          40671,
          9480,
          39250,
          35237,
          29403,
          0,
          36923,
          33010,
          0,
          82612,
          0,
          26936,
          31297,
          48479,
          3093,
          20745,
          33060,
          45464,
          17052,
          12033,
          20562,
          101177,
          9099,
          16579,
          14780,
          0,
          0,
          34394,
          12560,
          12599,
          37186,
          44758,
          0,
          41261,
          46884,
          7083,
          0,
          13352,
          22995,
          5456,
          8681,
          0,
          22783,
          9602,
          20684,
          25426,
          6618,
          13124,
          0,
          8575,
          0,
          26583,
          30674,
          8038,
          0,
          29120,
          57882,
          49631,
          12994,
          6355,
          0,
          17804,
          20179,
          54647,
          5918,
          0,
          0,
          12456,
          8257,
          30217,
          50704,
          21909,
          59542,
          10701,
          24131,
          15746,
          11029,
          0,
          30413,
          0,
          41317,
          11074,
          19863,
          37364,
          32700,
          43872,
          13137,
          7914,
          12988,
          2442,
          0,
          38736,
          45195,
          13497,
          8799,
          7735,
          33706,
          12436,
          33113,
          76891,
          5981,
          111004,
          31220,
          12072,
          127848,
          26008,
          8262,
          10053,
          23896,
          42532,
          72194,
          21646,
          17412,
          0,
          15399,
          12560,
          9271,
          18387,
          36586,
          9999,
          0,
          0,
          32065,
          20702,
          19088,
          9005,
          9495,
          5787,
          28093,
          59047,
          9738,
          7169,
          8961,
          57224,
          43737,
          49553,
          2772,
          56296,
          0,
          11244,
          14357,
          19019,
          30165,
          24090,
          0,
          22369,
          13241,
          77322,
          77893,
          31387,
          7642,
          0,
          28204,
          19645,
          11821,
          1591,
          0,
          21657,
          0,
          0,
          14141,
          90592,
          0,
          0,
          18176,
          3371,
          98566,
          30163,
          31732,
          27635,
          21384,
          65347,
          102286,
          30276,
          25827,
          4184,
          52542,
          63532,
          15554,
          6228,
          56266,
          7302,
          19041,
          6809,
          50890,
          0,
          11410,
          0,
          8345,
          22362,
          32728,
          4424,
          31496,
          39382,
          1565,
          17773,
          33905,
          29030,
          20691,
          58377,
          30989,
          22025,
          43582,
          13317,
          6909,
          26886,
          23883,
          93060,
          37180,
          17110,
          25973,
          10234,
          37438,
          29536,
          0,
          29040,
          3303,
          14769,
          0,
          35117,
          13087,
          16238,
          8048,
          44196,
          11946,
          0,
          9050,
          17401,
          68039,
          0,
          11600,
          19639,
          0,
          38917,
          19649,
          0,
          6479,
          12307,
          14011,
          0,
          26112,
          43381,
          16168,
          8282,
          0,
          7534,
          43408,
          0,
          3726,
          4366,
          8997,
          24815,
          11613,
          49437,
          6132,
          0,
          0,
          58217,
          11041,
          4187,
          32152,
          18806,
          28975,
          11485,
          39832,
          8120,
          13901,
          86055,
          25869,
          9307,
          19891,
          54734,
          7467,
          29570,
          22721,
          23476,
          0,
          94123,
          4804,
          6576,
          0,
          56088,
          29417,
          0,
          31013,
          26848,
          39754,
          0,
          7008,
          44071,
          20184,
          0,
          5779,
          20870,
          43691,
          2701,
          7701,
          19319,
          7826,
          0,
          13781,
          0,
          0,
          50980,
          26548,
          46712,
          44307,
          20926,
          27946,
          15895,
          58749,
          16718,
          15744,
          5848,
          0,
          26138,
          7154,
          11982,
          10250,
          31379,
          6700,
          142274,
          2858,
          0,
          14959,
          7617,
          41064,
          43710,
          34791,
          42031,
          7230,
          30015,
          6390,
          69205,
          18377,
          44592,
          28518,
          18466,
          40795,
          5781,
          84184,
          36761,
          1814,
          7353,
          15432,
          21746,
          16276,
          40798,
          4859,
          0,
          21460,
          43715,
          2684,
          24300,
          44307,
          0,
          57642,
          7005,
          13058,
          36464,
          8005,
          9848,
          8259,
          0,
          8423,
          47267,
          0,
          16986,
          36603,
          23294,
          44742,
          0,
          18663,
          65024,
          24843,
          75890,
          8088,
          17174,
          31641,
          4247,
          14458,
          46870,
          10800,
          12072,
          12664,
          20218,
          27239,
          38803,
          6108,
          49863,
          5920,
          0,
          23731,
          62234,
          52903,
          55888,
          2620,
          12158,
          83366,
          24368,
          0,
          24115,
          32581,
          0,
          0,
          54713,
          36614,
          46461,
          15139,
          2466,
          16319,
          24744,
          18920,
          2314,
          43829,
          9802,
          0,
          4431,
          29521,
          36605,
          13269,
          15864,
          2289,
          0,
          14795,
          26387,
          61300,
          15100,
          17875,
          26150
         ],
         "showlegend": false,
         "subplot": "polar",
         "theta": [
          1,
          1,
          2,
          2,
          2,
          2,
          1,
          2,
          2,
          1,
          2,
          1,
          1,
          2,
          2,
          1,
          1,
          1,
          1,
          1,
          2,
          1,
          2,
          2,
          2,
          2,
          2,
          2,
          2,
          1,
          2,
          1,
          2,
          1,
          2,
          2,
          1,
          2,
          1,
          2,
          2,
          2,
          2,
          2,
          2,
          2,
          1,
          2,
          2,
          2,
          1,
          1,
          1,
          1,
          2,
          2,
          1,
          2,
          1,
          1,
          1,
          2,
          1,
          2,
          1,
          2,
          2,
          2,
          2,
          2,
          2,
          2,
          2,
          2,
          1,
          2,
          2,
          2,
          2,
          1,
          2,
          2,
          2,
          2,
          2,
          2,
          2,
          2,
          1,
          2,
          2,
          2,
          2,
          2,
          2,
          1,
          2,
          2,
          1,
          1,
          2,
          1,
          2,
          2,
          2,
          1,
          1,
          1,
          1,
          2,
          2,
          1,
          1,
          2,
          2,
          2,
          2,
          2,
          1,
          2,
          1,
          1,
          2,
          1,
          1,
          2,
          2,
          2,
          2,
          2,
          1,
          1,
          2,
          2,
          1,
          2,
          1,
          2,
          1,
          1,
          1,
          2,
          2,
          1,
          1,
          2,
          2,
          2,
          1,
          2,
          2,
          2,
          2,
          1,
          1,
          2,
          1,
          2,
          1,
          1,
          2,
          1,
          2,
          2,
          1,
          1,
          2,
          1,
          2,
          1,
          2,
          2,
          2,
          1,
          1,
          2,
          2,
          2,
          2,
          1,
          1,
          2,
          2,
          2,
          1,
          1,
          2,
          2,
          2,
          2,
          1,
          2,
          1,
          2,
          1,
          2,
          2,
          2,
          2,
          1,
          1,
          2,
          1,
          2,
          1,
          2,
          1,
          2,
          2,
          2,
          1,
          2,
          1,
          1,
          2,
          1,
          1,
          1,
          1,
          2,
          2,
          1,
          1,
          1,
          1,
          1,
          1,
          1,
          2,
          2,
          2,
          2,
          1,
          1,
          2,
          1,
          2,
          1,
          2,
          2,
          2,
          1,
          2,
          2,
          1,
          2,
          1,
          2,
          1,
          2,
          1,
          1,
          1,
          1,
          1,
          1,
          2,
          2,
          1,
          1,
          1,
          1,
          2,
          2,
          2,
          2,
          2,
          2,
          1,
          2,
          2,
          2,
          2,
          1,
          1,
          2,
          1,
          1,
          2,
          1,
          2,
          1,
          2,
          1,
          2,
          1,
          2,
          2,
          2,
          2,
          2,
          2,
          1,
          2,
          1,
          2,
          1,
          2,
          1,
          1,
          2,
          2,
          1,
          2,
          2,
          2,
          2,
          2,
          2,
          1,
          2,
          1,
          1,
          2,
          2,
          1,
          2,
          2,
          1,
          1,
          2,
          1,
          1,
          1,
          2,
          2,
          2,
          1,
          1,
          2,
          1,
          1,
          1,
          1,
          1,
          2,
          2,
          1,
          2,
          2,
          1,
          1,
          2,
          2,
          1,
          2,
          2,
          1,
          1,
          2,
          2,
          1,
          1,
          2,
          1,
          2,
          2,
          1,
          2,
          1,
          2,
          1,
          1,
          2,
          2,
          2,
          2,
          2,
          2,
          2,
          2,
          2,
          1,
          1,
          2,
          2,
          2,
          1,
          1,
          1,
          2,
          1,
          1,
          2,
          1,
          1,
          2,
          2,
          1,
          1,
          1,
          2,
          2,
          1,
          1,
          2,
          1,
          2,
          1,
          2,
          2,
          2,
          2,
          2,
          2,
          2,
          2,
          2,
          1,
          1,
          1,
          2,
          2,
          2,
          1,
          1,
          1,
          2,
          2,
          1,
          1,
          1,
          1,
          2,
          1,
          2,
          1,
          1,
          1,
          2,
          2,
          2,
          1,
          1,
          1,
          1,
          2,
          1,
          1,
          2,
          1,
          2,
          2,
          2,
          2,
          1,
          1,
          1,
          2,
          2,
          1,
          1,
          1,
          2,
          2,
          1,
          1,
          2,
          2,
          2,
          1,
          1,
          2,
          2,
          2,
          1,
          1,
          2,
          2,
          2,
          2,
          1,
          1,
          1,
          2,
          2,
          1,
          1,
          1,
          1,
          1,
          2,
          2,
          2,
          2,
          1,
          1,
          2,
          2,
          2,
          2,
          2,
          2,
          2,
          1,
          2,
          1,
          2,
          1,
          2,
          1,
          2,
          1,
          2,
          1,
          1,
          2,
          1,
          1,
          1,
          2,
          1,
          2,
          2,
          1,
          1,
          1,
          2,
          2,
          2,
          2,
          2,
          2,
          2,
          1,
          1,
          1,
          2,
          1,
          2,
          1,
          2,
          1,
          1,
          2,
          2,
          2,
          2,
          1,
          1,
          1,
          2,
          2,
          2,
          2,
          1,
          1,
          1,
          1,
          2,
          2,
          2,
          1,
          2,
          2,
          1,
          2,
          1,
          1,
          1,
          1,
          2,
          2,
          2,
          2,
          2,
          2,
          2,
          1,
          1,
          2,
          2,
          1,
          1,
          1,
          2,
          2,
          2,
          2,
          1,
          1,
          2,
          1,
          2,
          2,
          1,
          2,
          2,
          1,
          1,
          2,
          2,
          2,
          1,
          1,
          1,
          1,
          1,
          2,
          1,
          1,
          2,
          1,
          2,
          1,
          2,
          2,
          2,
          2,
          2,
          2,
          2,
          1,
          2,
          1,
          1,
          1,
          2,
          2,
          2,
          2,
          1,
          2,
          2,
          1,
          1,
          2,
          2,
          2,
          2,
          2,
          2,
          1,
          2,
          1,
          2,
          1,
          2,
          1,
          1,
          1,
          1,
          1,
          1,
          2,
          2,
          2,
          2,
          1,
          1,
          1,
          1,
          2,
          1,
          1,
          1,
          2,
          2,
          1,
          1,
          2,
          1,
          2,
          2,
          2,
          1,
          2,
          1,
          2,
          2,
          2,
          1,
          1,
          2,
          1,
          2,
          2,
          1,
          2,
          2,
          1,
          1,
          2,
          1,
          1,
          2,
          1,
          2,
          2,
          2,
          1,
          2,
          1,
          1,
          1,
          1,
          2,
          2,
          2,
          1,
          2,
          2,
          2,
          2,
          1,
          1,
          1,
          1,
          2,
          1,
          1,
          2,
          2,
          2,
          1,
          2,
          2,
          2,
          1,
          2,
          2,
          2,
          1,
          2,
          1,
          1,
          1,
          1,
          2,
          2,
          2,
          2,
          2,
          2,
          2,
          1,
          2,
          2,
          1,
          2,
          2,
          2,
          2,
          1,
          1,
          2,
          2,
          1
         ],
         "type": "scatterpolar"
        }
       ],
       "layout": {
        "autosize": true,
        "legend": {
         "tracegroupgap": 0
        },
        "margin": {
         "t": 60
        },
        "polar": {
         "angularaxis": {
          "direction": "clockwise",
          "rotation": 90,
          "type": "linear"
         },
         "domain": {
          "x": [
           0,
           1
          ],
          "y": [
           0,
           1
          ]
         },
         "radialaxis": {
          "autorange": true,
          "range": [
           0,
           144157
          ],
          "type": "linear"
         }
        },
        "template": {
         "data": {
          "bar": [
           {
            "error_x": {
             "color": "#2a3f5f"
            },
            "error_y": {
             "color": "#2a3f5f"
            },
            "marker": {
             "line": {
              "color": "#E5ECF6",
              "width": 0.5
             },
             "pattern": {
              "fillmode": "overlay",
              "size": 10,
              "solidity": 0.2
             }
            },
            "type": "bar"
           }
          ],
          "barpolar": [
           {
            "marker": {
             "line": {
              "color": "#E5ECF6",
              "width": 0.5
             },
             "pattern": {
              "fillmode": "overlay",
              "size": 10,
              "solidity": 0.2
             }
            },
            "type": "barpolar"
           }
          ],
          "carpet": [
           {
            "aaxis": {
             "endlinecolor": "#2a3f5f",
             "gridcolor": "white",
             "linecolor": "white",
             "minorgridcolor": "white",
             "startlinecolor": "#2a3f5f"
            },
            "baxis": {
             "endlinecolor": "#2a3f5f",
             "gridcolor": "white",
             "linecolor": "white",
             "minorgridcolor": "white",
             "startlinecolor": "#2a3f5f"
            },
            "type": "carpet"
           }
          ],
          "choropleth": [
           {
            "colorbar": {
             "outlinewidth": 0,
             "ticks": ""
            },
            "type": "choropleth"
           }
          ],
          "contour": [
           {
            "colorbar": {
             "outlinewidth": 0,
             "ticks": ""
            },
            "colorscale": [
             [
              0,
              "#0d0887"
             ],
             [
              0.1111111111111111,
              "#46039f"
             ],
             [
              0.2222222222222222,
              "#7201a8"
             ],
             [
              0.3333333333333333,
              "#9c179e"
             ],
             [
              0.4444444444444444,
              "#bd3786"
             ],
             [
              0.5555555555555556,
              "#d8576b"
             ],
             [
              0.6666666666666666,
              "#ed7953"
             ],
             [
              0.7777777777777778,
              "#fb9f3a"
             ],
             [
              0.8888888888888888,
              "#fdca26"
             ],
             [
              1,
              "#f0f921"
             ]
            ],
            "type": "contour"
           }
          ],
          "contourcarpet": [
           {
            "colorbar": {
             "outlinewidth": 0,
             "ticks": ""
            },
            "type": "contourcarpet"
           }
          ],
          "heatmap": [
           {
            "colorbar": {
             "outlinewidth": 0,
             "ticks": ""
            },
            "colorscale": [
             [
              0,
              "#0d0887"
             ],
             [
              0.1111111111111111,
              "#46039f"
             ],
             [
              0.2222222222222222,
              "#7201a8"
             ],
             [
              0.3333333333333333,
              "#9c179e"
             ],
             [
              0.4444444444444444,
              "#bd3786"
             ],
             [
              0.5555555555555556,
              "#d8576b"
             ],
             [
              0.6666666666666666,
              "#ed7953"
             ],
             [
              0.7777777777777778,
              "#fb9f3a"
             ],
             [
              0.8888888888888888,
              "#fdca26"
             ],
             [
              1,
              "#f0f921"
             ]
            ],
            "type": "heatmap"
           }
          ],
          "heatmapgl": [
           {
            "colorbar": {
             "outlinewidth": 0,
             "ticks": ""
            },
            "colorscale": [
             [
              0,
              "#0d0887"
             ],
             [
              0.1111111111111111,
              "#46039f"
             ],
             [
              0.2222222222222222,
              "#7201a8"
             ],
             [
              0.3333333333333333,
              "#9c179e"
             ],
             [
              0.4444444444444444,
              "#bd3786"
             ],
             [
              0.5555555555555556,
              "#d8576b"
             ],
             [
              0.6666666666666666,
              "#ed7953"
             ],
             [
              0.7777777777777778,
              "#fb9f3a"
             ],
             [
              0.8888888888888888,
              "#fdca26"
             ],
             [
              1,
              "#f0f921"
             ]
            ],
            "type": "heatmapgl"
           }
          ],
          "histogram": [
           {
            "marker": {
             "pattern": {
              "fillmode": "overlay",
              "size": 10,
              "solidity": 0.2
             }
            },
            "type": "histogram"
           }
          ],
          "histogram2d": [
           {
            "colorbar": {
             "outlinewidth": 0,
             "ticks": ""
            },
            "colorscale": [
             [
              0,
              "#0d0887"
             ],
             [
              0.1111111111111111,
              "#46039f"
             ],
             [
              0.2222222222222222,
              "#7201a8"
             ],
             [
              0.3333333333333333,
              "#9c179e"
             ],
             [
              0.4444444444444444,
              "#bd3786"
             ],
             [
              0.5555555555555556,
              "#d8576b"
             ],
             [
              0.6666666666666666,
              "#ed7953"
             ],
             [
              0.7777777777777778,
              "#fb9f3a"
             ],
             [
              0.8888888888888888,
              "#fdca26"
             ],
             [
              1,
              "#f0f921"
             ]
            ],
            "type": "histogram2d"
           }
          ],
          "histogram2dcontour": [
           {
            "colorbar": {
             "outlinewidth": 0,
             "ticks": ""
            },
            "colorscale": [
             [
              0,
              "#0d0887"
             ],
             [
              0.1111111111111111,
              "#46039f"
             ],
             [
              0.2222222222222222,
              "#7201a8"
             ],
             [
              0.3333333333333333,
              "#9c179e"
             ],
             [
              0.4444444444444444,
              "#bd3786"
             ],
             [
              0.5555555555555556,
              "#d8576b"
             ],
             [
              0.6666666666666666,
              "#ed7953"
             ],
             [
              0.7777777777777778,
              "#fb9f3a"
             ],
             [
              0.8888888888888888,
              "#fdca26"
             ],
             [
              1,
              "#f0f921"
             ]
            ],
            "type": "histogram2dcontour"
           }
          ],
          "mesh3d": [
           {
            "colorbar": {
             "outlinewidth": 0,
             "ticks": ""
            },
            "type": "mesh3d"
           }
          ],
          "parcoords": [
           {
            "line": {
             "colorbar": {
              "outlinewidth": 0,
              "ticks": ""
             }
            },
            "type": "parcoords"
           }
          ],
          "pie": [
           {
            "automargin": true,
            "type": "pie"
           }
          ],
          "scatter": [
           {
            "marker": {
             "colorbar": {
              "outlinewidth": 0,
              "ticks": ""
             }
            },
            "type": "scatter"
           }
          ],
          "scatter3d": [
           {
            "line": {
             "colorbar": {
              "outlinewidth": 0,
              "ticks": ""
             }
            },
            "marker": {
             "colorbar": {
              "outlinewidth": 0,
              "ticks": ""
             }
            },
            "type": "scatter3d"
           }
          ],
          "scattercarpet": [
           {
            "marker": {
             "colorbar": {
              "outlinewidth": 0,
              "ticks": ""
             }
            },
            "type": "scattercarpet"
           }
          ],
          "scattergeo": [
           {
            "marker": {
             "colorbar": {
              "outlinewidth": 0,
              "ticks": ""
             }
            },
            "type": "scattergeo"
           }
          ],
          "scattergl": [
           {
            "marker": {
             "colorbar": {
              "outlinewidth": 0,
              "ticks": ""
             }
            },
            "type": "scattergl"
           }
          ],
          "scattermapbox": [
           {
            "marker": {
             "colorbar": {
              "outlinewidth": 0,
              "ticks": ""
             }
            },
            "type": "scattermapbox"
           }
          ],
          "scatterpolar": [
           {
            "marker": {
             "colorbar": {
              "outlinewidth": 0,
              "ticks": ""
             }
            },
            "type": "scatterpolar"
           }
          ],
          "scatterpolargl": [
           {
            "marker": {
             "colorbar": {
              "outlinewidth": 0,
              "ticks": ""
             }
            },
            "type": "scatterpolargl"
           }
          ],
          "scatterternary": [
           {
            "marker": {
             "colorbar": {
              "outlinewidth": 0,
              "ticks": ""
             }
            },
            "type": "scatterternary"
           }
          ],
          "surface": [
           {
            "colorbar": {
             "outlinewidth": 0,
             "ticks": ""
            },
            "colorscale": [
             [
              0,
              "#0d0887"
             ],
             [
              0.1111111111111111,
              "#46039f"
             ],
             [
              0.2222222222222222,
              "#7201a8"
             ],
             [
              0.3333333333333333,
              "#9c179e"
             ],
             [
              0.4444444444444444,
              "#bd3786"
             ],
             [
              0.5555555555555556,
              "#d8576b"
             ],
             [
              0.6666666666666666,
              "#ed7953"
             ],
             [
              0.7777777777777778,
              "#fb9f3a"
             ],
             [
              0.8888888888888888,
              "#fdca26"
             ],
             [
              1,
              "#f0f921"
             ]
            ],
            "type": "surface"
           }
          ],
          "table": [
           {
            "cells": {
             "fill": {
              "color": "#EBF0F8"
             },
             "line": {
              "color": "white"
             }
            },
            "header": {
             "fill": {
              "color": "#C8D4E3"
             },
             "line": {
              "color": "white"
             }
            },
            "type": "table"
           }
          ]
         },
         "layout": {
          "annotationdefaults": {
           "arrowcolor": "#2a3f5f",
           "arrowhead": 0,
           "arrowwidth": 1
          },
          "autotypenumbers": "strict",
          "coloraxis": {
           "colorbar": {
            "outlinewidth": 0,
            "ticks": ""
           }
          },
          "colorscale": {
           "diverging": [
            [
             0,
             "#8e0152"
            ],
            [
             0.1,
             "#c51b7d"
            ],
            [
             0.2,
             "#de77ae"
            ],
            [
             0.3,
             "#f1b6da"
            ],
            [
             0.4,
             "#fde0ef"
            ],
            [
             0.5,
             "#f7f7f7"
            ],
            [
             0.6,
             "#e6f5d0"
            ],
            [
             0.7,
             "#b8e186"
            ],
            [
             0.8,
             "#7fbc41"
            ],
            [
             0.9,
             "#4d9221"
            ],
            [
             1,
             "#276419"
            ]
           ],
           "sequential": [
            [
             0,
             "#0d0887"
            ],
            [
             0.1111111111111111,
             "#46039f"
            ],
            [
             0.2222222222222222,
             "#7201a8"
            ],
            [
             0.3333333333333333,
             "#9c179e"
            ],
            [
             0.4444444444444444,
             "#bd3786"
            ],
            [
             0.5555555555555556,
             "#d8576b"
            ],
            [
             0.6666666666666666,
             "#ed7953"
            ],
            [
             0.7777777777777778,
             "#fb9f3a"
            ],
            [
             0.8888888888888888,
             "#fdca26"
            ],
            [
             1,
             "#f0f921"
            ]
           ],
           "sequentialminus": [
            [
             0,
             "#0d0887"
            ],
            [
             0.1111111111111111,
             "#46039f"
            ],
            [
             0.2222222222222222,
             "#7201a8"
            ],
            [
             0.3333333333333333,
             "#9c179e"
            ],
            [
             0.4444444444444444,
             "#bd3786"
            ],
            [
             0.5555555555555556,
             "#d8576b"
            ],
            [
             0.6666666666666666,
             "#ed7953"
            ],
            [
             0.7777777777777778,
             "#fb9f3a"
            ],
            [
             0.8888888888888888,
             "#fdca26"
            ],
            [
             1,
             "#f0f921"
            ]
           ]
          },
          "colorway": [
           "#636efa",
           "#EF553B",
           "#00cc96",
           "#ab63fa",
           "#FFA15A",
           "#19d3f3",
           "#FF6692",
           "#B6E880",
           "#FF97FF",
           "#FECB52"
          ],
          "font": {
           "color": "#2a3f5f"
          },
          "geo": {
           "bgcolor": "white",
           "lakecolor": "white",
           "landcolor": "#E5ECF6",
           "showlakes": true,
           "showland": true,
           "subunitcolor": "white"
          },
          "hoverlabel": {
           "align": "left"
          },
          "hovermode": "closest",
          "mapbox": {
           "style": "light"
          },
          "paper_bgcolor": "white",
          "plot_bgcolor": "#E5ECF6",
          "polar": {
           "angularaxis": {
            "gridcolor": "white",
            "linecolor": "white",
            "ticks": ""
           },
           "bgcolor": "#E5ECF6",
           "radialaxis": {
            "gridcolor": "white",
            "linecolor": "white",
            "ticks": ""
           }
          },
          "scene": {
           "xaxis": {
            "backgroundcolor": "#E5ECF6",
            "gridcolor": "white",
            "gridwidth": 2,
            "linecolor": "white",
            "showbackground": true,
            "ticks": "",
            "zerolinecolor": "white"
           },
           "yaxis": {
            "backgroundcolor": "#E5ECF6",
            "gridcolor": "white",
            "gridwidth": 2,
            "linecolor": "white",
            "showbackground": true,
            "ticks": "",
            "zerolinecolor": "white"
           },
           "zaxis": {
            "backgroundcolor": "#E5ECF6",
            "gridcolor": "white",
            "gridwidth": 2,
            "linecolor": "white",
            "showbackground": true,
            "ticks": "",
            "zerolinecolor": "white"
           }
          },
          "shapedefaults": {
           "line": {
            "color": "#2a3f5f"
           }
          },
          "ternary": {
           "aaxis": {
            "gridcolor": "white",
            "linecolor": "white",
            "ticks": ""
           },
           "baxis": {
            "gridcolor": "white",
            "linecolor": "white",
            "ticks": ""
           },
           "bgcolor": "#E5ECF6",
           "caxis": {
            "gridcolor": "white",
            "linecolor": "white",
            "ticks": ""
           }
          },
          "title": {
           "x": 0.05
          },
          "xaxis": {
           "automargin": true,
           "gridcolor": "white",
           "linecolor": "white",
           "ticks": "",
           "title": {
            "standoff": 15
           },
           "zerolinecolor": "white",
           "zerolinewidth": 2
          },
          "yaxis": {
           "automargin": true,
           "gridcolor": "white",
           "linecolor": "white",
           "ticks": "",
           "title": {
            "standoff": 15
           },
           "zerolinecolor": "white",
           "zerolinewidth": 2
          }
         }
        }
       }
      },
      "image/png": "[encoded data removed]",
      "text/html": [
       "<div>                            <div id=\"729370a1-082a-46d1-b91d-9d1cea8dd59e\" class=\"plotly-graph-div\" style=\"height:525px; width:100%;\"></div>            <script type=\"text/javascript\">                require([\"plotly\"], function(Plotly) {                    window.PLOTLYENV=window.PLOTLYENV || {};                                    if (document.getElementById(\"729370a1-082a-46d1-b91d-9d1cea8dd59e\")) {                    Plotly.newPlot(                        \"729370a1-082a-46d1-b91d-9d1cea8dd59e\",                        [{\"hovertemplate\":\"income=%{r}<br>gender_val=%{theta}<extra></extra>\",\"legendgroup\":\"\",\"line\":{\"color\":\"#636efa\",\"dash\":\"solid\"},\"marker\":{\"symbol\":\"circle\"},\"mode\":\"lines\",\"name\":\"\",\"r\":[26150,6605,18548,47668,44554,15684,0,1929,39942,9622,25829,0,17622,8877,23351,0,10516,0,6354,21015,26505,3158,66930,19494,19334,6493,3171,8976,30664,21751,24326,76087,56597,36330,39991,24344,0,21663,13148,22690,10025,43317,24545,18036,10244,8011,24450,7571,17099,47083,0,0,60104,19823,24476,24368,34473,6300,51608,7335,29064,0,15246,17242,144157,27885,27492,5788,0,10933,15724,15993,4435,12396,9129,7431,16957,7633,0,1982,81509,25180,35502,0,23108,18350,12885,39704,55061,49258,7751,0,0,24534,0,31910,0,22001,14711,57194,28867,15530,20855,31040,8810,23206,57723,3994,90248,9351,8038,1039,7495,34080,14877,2925,84335,11935,83295,43900,68933,16422,24275,30676,0,12823,6356,13811,5488,0,27649,11944,2769,17559,12202,18144,34797,13295,0,56708,79057,75121,12258,2644,28864,0,3618,4391,38010,44288,5808,49731,2807,95585,15795,4626,10151,4604,55678,40898,39291,86744,3419,29363,36675,73785,11004,11375,9849,19789,21198,36873,9614,5022,29995,6105,30500,69432,12621,30224,18785,0,44472,0,57612,22437,15077,9916,12722,22758,29579,17612,18597,16865,14891,10430,0,7777,27814,41650,18891,37471,0,0,28402,27303,13515,29335,5940,6195,13750,13113,84120,41069,3400,19282,5772,49435,9146,19639,32739,34855,12485,12403,0,32551,3240,2715,45629,6144,0,3339,0,12106,0,0,61885,31054,23973,23843,3551,12728,4508,18760,36237,49623,129196,39703,19300,27258,25681,26598,11812,30068,17165,12690,35508,8381,17584,10919,12973,7968,28058,29241,0,0,19686,0,43315,19987,40252,0,5505,0,18449,26763,22680,20840,10608,27155,0,15301,9379,26364,17912,0,20889,18040,60242,0,0,36259,56384,20358,76376,0,2517,18390,8201,11725,30265,12310,22322,4300,15576,17750,18183,19840,29838,27269,77727,0,8301,10818,23085,12449,11918,41876,40671,9480,39250,35237,29403,0,36923,33010,0,82612,0,26936,31297,48479,3093,20745,33060,45464,17052,12033,20562,101177,9099,16579,14780,0,0,34394,12560,12599,37186,44758,0,41261,46884,7083,0,13352,22995,5456,8681,0,22783,9602,20684,25426,6618,13124,0,8575,0,26583,30674,8038,0,29120,57882,49631,12994,6355,0,17804,20179,54647,5918,0,0,12456,8257,30217,50704,21909,59542,10701,24131,15746,11029,0,30413,0,41317,11074,19863,37364,32700,43872,13137,7914,12988,2442,0,38736,45195,13497,8799,7735,33706,12436,33113,76891,5981,111004,31220,12072,127848,26008,8262,10053,23896,42532,72194,21646,17412,0,15399,12560,9271,18387,36586,9999,0,0,32065,20702,19088,9005,9495,5787,28093,59047,9738,7169,8961,57224,43737,49553,2772,56296,0,11244,14357,19019,30165,24090,0,22369,13241,77322,77893,31387,7642,0,28204,19645,11821,1591,0,21657,0,0,14141,90592,0,0,18176,3371,98566,30163,31732,27635,21384,65347,102286,30276,25827,4184,52542,63532,15554,6228,56266,7302,19041,6809,50890,0,11410,0,8345,22362,32728,4424,31496,39382,1565,17773,33905,29030,20691,58377,30989,22025,43582,13317,6909,26886,23883,93060,37180,17110,25973,10234,37438,29536,0,29040,3303,14769,0,35117,13087,16238,8048,44196,11946,0,9050,17401,68039,0,11600,19639,0,38917,19649,0,6479,12307,14011,0,26112,43381,16168,8282,0,7534,43408,0,3726,4366,8997,24815,11613,49437,6132,0,0,58217,11041,4187,32152,18806,28975,11485,39832,8120,13901,86055,25869,9307,19891,54734,7467,29570,22721,23476,0,94123,4804,6576,0,56088,29417,0,31013,26848,39754,0,7008,44071,20184,0,5779,20870,43691,2701,7701,19319,7826,0,13781,0,0,50980,26548,46712,44307,20926,27946,15895,58749,16718,15744,5848,0,26138,7154,11982,10250,31379,6700,142274,2858,0,14959,7617,41064,43710,34791,42031,7230,30015,6390,69205,18377,44592,28518,18466,40795,5781,84184,36761,1814,7353,15432,21746,16276,40798,4859,0,21460,43715,2684,24300,44307,0,57642,7005,13058,36464,8005,9848,8259,0,8423,47267,0,16986,36603,23294,44742,0,18663,65024,24843,75890,8088,17174,31641,4247,14458,46870,10800,12072,12664,20218,27239,38803,6108,49863,5920,0,23731,62234,52903,55888,2620,12158,83366,24368,0,24115,32581,0,0,54713,36614,46461,15139,2466,16319,24744,18920,2314,43829,9802,0,4431,29521,36605,13269,15864,2289,0,14795,26387,61300,15100,17875,26150],\"showlegend\":false,\"subplot\":\"polar\",\"theta\":[1,1,2,2,2,2,1,2,2,1,2,1,1,2,2,1,1,1,1,1,2,1,2,2,2,2,2,2,2,1,2,1,2,1,2,2,1,2,1,2,2,2,2,2,2,2,1,2,2,2,1,1,1,1,2,2,1,2,1,1,1,2,1,2,1,2,2,2,2,2,2,2,2,2,1,2,2,2,2,1,2,2,2,2,2,2,2,2,1,2,2,2,2,2,2,1,2,2,1,1,2,1,2,2,2,1,1,1,1,2,2,1,1,2,2,2,2,2,1,2,1,1,2,1,1,2,2,2,2,2,1,1,2,2,1,2,1,2,1,1,1,2,2,1,1,2,2,2,1,2,2,2,2,1,1,2,1,2,1,1,2,1,2,2,1,1,2,1,2,1,2,2,2,1,1,2,2,2,2,1,1,2,2,2,1,1,2,2,2,2,1,2,1,2,1,2,2,2,2,1,1,2,1,2,1,2,1,2,2,2,1,2,1,1,2,1,1,1,1,2,2,1,1,1,1,1,1,1,2,2,2,2,1,1,2,1,2,1,2,2,2,1,2,2,1,2,1,2,1,2,1,1,1,1,1,1,2,2,1,1,1,1,2,2,2,2,2,2,1,2,2,2,2,1,1,2,1,1,2,1,2,1,2,1,2,1,2,2,2,2,2,2,1,2,1,2,1,2,1,1,2,2,1,2,2,2,2,2,2,1,2,1,1,2,2,1,2,2,1,1,2,1,1,1,2,2,2,1,1,2,1,1,1,1,1,2,2,1,2,2,1,1,2,2,1,2,2,1,1,2,2,1,1,2,1,2,2,1,2,1,2,1,1,2,2,2,2,2,2,2,2,2,1,1,2,2,2,1,1,1,2,1,1,2,1,1,2,2,1,1,1,2,2,1,1,2,1,2,1,2,2,2,2,2,2,2,2,2,1,1,1,2,2,2,1,1,1,2,2,1,1,1,1,2,1,2,1,1,1,2,2,2,1,1,1,1,2,1,1,2,1,2,2,2,2,1,1,1,2,2,1,1,1,2,2,1,1,2,2,2,1,1,2,2,2,1,1,2,2,2,2,1,1,1,2,2,1,1,1,1,1,2,2,2,2,1,1,2,2,2,2,2,2,2,1,2,1,2,1,2,1,2,1,2,1,1,2,1,1,1,2,1,2,2,1,1,1,2,2,2,2,2,2,2,1,1,1,2,1,2,1,2,1,1,2,2,2,2,1,1,1,2,2,2,2,1,1,1,1,2,2,2,1,2,2,1,2,1,1,1,1,2,2,2,2,2,2,2,1,1,2,2,1,1,1,2,2,2,2,1,1,2,1,2,2,1,2,2,1,1,2,2,2,1,1,1,1,1,2,1,1,2,1,2,1,2,2,2,2,2,2,2,1,2,1,1,1,2,2,2,2,1,2,2,1,1,2,2,2,2,2,2,1,2,1,2,1,2,1,1,1,1,1,1,2,2,2,2,1,1,1,1,2,1,1,1,2,2,1,1,2,1,2,2,2,1,2,1,2,2,2,1,1,2,1,2,2,1,2,2,1,1,2,1,1,2,1,2,2,2,1,2,1,1,1,1,2,2,2,1,2,2,2,2,1,1,1,1,2,1,1,2,2,2,1,2,2,2,1,2,2,2,1,2,1,1,1,1,2,2,2,2,2,2,2,1,2,2,1,2,2,2,2,1,1,2,2,1],\"type\":\"scatterpolar\"}],                        {\"template\":{\"data\":{\"bar\":[{\"error_x\":{\"color\":\"#2a3f5f\"},\"error_y\":{\"color\":\"#2a3f5f\"},\"marker\":{\"line\":{\"color\":\"#E5ECF6\",\"width\":0.5},\"pattern\":{\"fillmode\":\"overlay\",\"size\":10,\"solidity\":0.2}},\"type\":\"bar\"}],\"barpolar\":[{\"marker\":{\"line\":{\"color\":\"#E5ECF6\",\"width\":0.5},\"pattern\":{\"fillmode\":\"overlay\",\"size\":10,\"solidity\":0.2}},\"type\":\"barpolar\"}],\"carpet\":[{\"aaxis\":{\"endlinecolor\":\"#2a3f5f\",\"gridcolor\":\"white\",\"linecolor\":\"white\",\"minorgridcolor\":\"white\",\"startlinecolor\":\"#2a3f5f\"},\"baxis\":{\"endlinecolor\":\"#2a3f5f\",\"gridcolor\":\"white\",\"linecolor\":\"white\",\"minorgridcolor\":\"white\",\"startlinecolor\":\"#2a3f5f\"},\"type\":\"carpet\"}],\"choropleth\":[{\"colorbar\":{\"outlinewidth\":0,\"ticks\":\"\"},\"type\":\"choropleth\"}],\"contour\":[{\"colorbar\":{\"outlinewidth\":0,\"ticks\":\"\"},\"colorscale\":[[0.0,\"#0d0887\"],[0.1111111111111111,\"#46039f\"],[0.2222222222222222,\"#7201a8\"],[0.3333333333333333,\"#9c179e\"],[0.4444444444444444,\"#bd3786\"],[0.5555555555555556,\"#d8576b\"],[0.6666666666666666,\"#ed7953\"],[0.7777777777777778,\"#fb9f3a\"],[0.8888888888888888,\"#fdca26\"],[1.0,\"#f0f921\"]],\"type\":\"contour\"}],\"contourcarpet\":[{\"colorbar\":{\"outlinewidth\":0,\"ticks\":\"\"},\"type\":\"contourcarpet\"}],\"heatmap\":[{\"colorbar\":{\"outlinewidth\":0,\"ticks\":\"\"},\"colorscale\":[[0.0,\"#0d0887\"],[0.1111111111111111,\"#46039f\"],[0.2222222222222222,\"#7201a8\"],[0.3333333333333333,\"#9c179e\"],[0.4444444444444444,\"#bd3786\"],[0.5555555555555556,\"#d8576b\"],[0.6666666666666666,\"#ed7953\"],[0.7777777777777778,\"#fb9f3a\"],[0.8888888888888888,\"#fdca26\"],[1.0,\"#f0f921\"]],\"type\":\"heatmap\"}],\"heatmapgl\":[{\"colorbar\":{\"outlinewidth\":0,\"ticks\":\"\"},\"colorscale\":[[0.0,\"#0d0887\"],[0.1111111111111111,\"#46039f\"],[0.2222222222222222,\"#7201a8\"],[0.3333333333333333,\"#9c179e\"],[0.4444444444444444,\"#bd3786\"],[0.5555555555555556,\"#d8576b\"],[0.6666666666666666,\"#ed7953\"],[0.7777777777777778,\"#fb9f3a\"],[0.8888888888888888,\"#fdca26\"],[1.0,\"#f0f921\"]],\"type\":\"heatmapgl\"}],\"histogram\":[{\"marker\":{\"pattern\":{\"fillmode\":\"overlay\",\"size\":10,\"solidity\":0.2}},\"type\":\"histogram\"}],\"histogram2d\":[{\"colorbar\":{\"outlinewidth\":0,\"ticks\":\"\"},\"colorscale\":[[0.0,\"#0d0887\"],[0.1111111111111111,\"#46039f\"],[0.2222222222222222,\"#7201a8\"],[0.3333333333333333,\"#9c179e\"],[0.4444444444444444,\"#bd3786\"],[0.5555555555555556,\"#d8576b\"],[0.6666666666666666,\"#ed7953\"],[0.7777777777777778,\"#fb9f3a\"],[0.8888888888888888,\"#fdca26\"],[1.0,\"#f0f921\"]],\"type\":\"histogram2d\"}],\"histogram2dcontour\":[{\"colorbar\":{\"outlinewidth\":0,\"ticks\":\"\"},\"colorscale\":[[0.0,\"#0d0887\"],[0.1111111111111111,\"#46039f\"],[0.2222222222222222,\"#7201a8\"],[0.3333333333333333,\"#9c179e\"],[0.4444444444444444,\"#bd3786\"],[0.5555555555555556,\"#d8576b\"],[0.6666666666666666,\"#ed7953\"],[0.7777777777777778,\"#fb9f3a\"],[0.8888888888888888,\"#fdca26\"],[1.0,\"#f0f921\"]],\"type\":\"histogram2dcontour\"}],\"mesh3d\":[{\"colorbar\":{\"outlinewidth\":0,\"ticks\":\"\"},\"type\":\"mesh3d\"}],\"parcoords\":[{\"line\":{\"colorbar\":{\"outlinewidth\":0,\"ticks\":\"\"}},\"type\":\"parcoords\"}],\"pie\":[{\"automargin\":true,\"type\":\"pie\"}],\"scatter\":[{\"marker\":{\"colorbar\":{\"outlinewidth\":0,\"ticks\":\"\"}},\"type\":\"scatter\"}],\"scatter3d\":[{\"line\":{\"colorbar\":{\"outlinewidth\":0,\"ticks\":\"\"}},\"marker\":{\"colorbar\":{\"outlinewidth\":0,\"ticks\":\"\"}},\"type\":\"scatter3d\"}],\"scattercarpet\":[{\"marker\":{\"colorbar\":{\"outlinewidth\":0,\"ticks\":\"\"}},\"type\":\"scattercarpet\"}],\"scattergeo\":[{\"marker\":{\"colorbar\":{\"outlinewidth\":0,\"ticks\":\"\"}},\"type\":\"scattergeo\"}],\"scattergl\":[{\"marker\":{\"colorbar\":{\"outlinewidth\":0,\"ticks\":\"\"}},\"type\":\"scattergl\"}],\"scattermapbox\":[{\"marker\":{\"colorbar\":{\"outlinewidth\":0,\"ticks\":\"\"}},\"type\":\"scattermapbox\"}],\"scatterpolar\":[{\"marker\":{\"colorbar\":{\"outlinewidth\":0,\"ticks\":\"\"}},\"type\":\"scatterpolar\"}],\"scatterpolargl\":[{\"marker\":{\"colorbar\":{\"outlinewidth\":0,\"ticks\":\"\"}},\"type\":\"scatterpolargl\"}],\"scatterternary\":[{\"marker\":{\"colorbar\":{\"outlinewidth\":0,\"ticks\":\"\"}},\"type\":\"scatterternary\"}],\"surface\":[{\"colorbar\":{\"outlinewidth\":0,\"ticks\":\"\"},\"colorscale\":[[0.0,\"#0d0887\"],[0.1111111111111111,\"#46039f\"],[0.2222222222222222,\"#7201a8\"],[0.3333333333333333,\"#9c179e\"],[0.4444444444444444,\"#bd3786\"],[0.5555555555555556,\"#d8576b\"],[0.6666666666666666,\"#ed7953\"],[0.7777777777777778,\"#fb9f3a\"],[0.8888888888888888,\"#fdca26\"],[1.0,\"#f0f921\"]],\"type\":\"surface\"}],\"table\":[{\"cells\":{\"fill\":{\"color\":\"#EBF0F8\"},\"line\":{\"color\":\"white\"}},\"header\":{\"fill\":{\"color\":\"#C8D4E3\"},\"line\":{\"color\":\"white\"}},\"type\":\"table\"}]},\"layout\":{\"annotationdefaults\":{\"arrowcolor\":\"#2a3f5f\",\"arrowhead\":0,\"arrowwidth\":1},\"autotypenumbers\":\"strict\",\"coloraxis\":{\"colorbar\":{\"outlinewidth\":0,\"ticks\":\"\"}},\"colorscale\":{\"diverging\":[[0,\"#8e0152\"],[0.1,\"#c51b7d\"],[0.2,\"#de77ae\"],[0.3,\"#f1b6da\"],[0.4,\"#fde0ef\"],[0.5,\"#f7f7f7\"],[0.6,\"#e6f5d0\"],[0.7,\"#b8e186\"],[0.8,\"#7fbc41\"],[0.9,\"#4d9221\"],[1,\"#276419\"]],\"sequential\":[[0.0,\"#0d0887\"],[0.1111111111111111,\"#46039f\"],[0.2222222222222222,\"#7201a8\"],[0.3333333333333333,\"#9c179e\"],[0.4444444444444444,\"#bd3786\"],[0.5555555555555556,\"#d8576b\"],[0.6666666666666666,\"#ed7953\"],[0.7777777777777778,\"#fb9f3a\"],[0.8888888888888888,\"#fdca26\"],[1.0,\"#f0f921\"]],\"sequentialminus\":[[0.0,\"#0d0887\"],[0.1111111111111111,\"#46039f\"],[0.2222222222222222,\"#7201a8\"],[0.3333333333333333,\"#9c179e\"],[0.4444444444444444,\"#bd3786\"],[0.5555555555555556,\"#d8576b\"],[0.6666666666666666,\"#ed7953\"],[0.7777777777777778,\"#fb9f3a\"],[0.8888888888888888,\"#fdca26\"],[1.0,\"#f0f921\"]]},\"colorway\":[\"#636efa\",\"#EF553B\",\"#00cc96\",\"#ab63fa\",\"#FFA15A\",\"#19d3f3\",\"#FF6692\",\"#B6E880\",\"#FF97FF\",\"#FECB52\"],\"font\":{\"color\":\"#2a3f5f\"},\"geo\":{\"bgcolor\":\"white\",\"lakecolor\":\"white\",\"landcolor\":\"#E5ECF6\",\"showlakes\":true,\"showland\":true,\"subunitcolor\":\"white\"},\"hoverlabel\":{\"align\":\"left\"},\"hovermode\":\"closest\",\"mapbox\":{\"style\":\"light\"},\"paper_bgcolor\":\"white\",\"plot_bgcolor\":\"#E5ECF6\",\"polar\":{\"angularaxis\":{\"gridcolor\":\"white\",\"linecolor\":\"white\",\"ticks\":\"\"},\"bgcolor\":\"#E5ECF6\",\"radialaxis\":{\"gridcolor\":\"white\",\"linecolor\":\"white\",\"ticks\":\"\"}},\"scene\":{\"xaxis\":{\"backgroundcolor\":\"#E5ECF6\",\"gridcolor\":\"white\",\"gridwidth\":2,\"linecolor\":\"white\",\"showbackground\":true,\"ticks\":\"\",\"zerolinecolor\":\"white\"},\"yaxis\":{\"backgroundcolor\":\"#E5ECF6\",\"gridcolor\":\"white\",\"gridwidth\":2,\"linecolor\":\"white\",\"showbackground\":true,\"ticks\":\"\",\"zerolinecolor\":\"white\"},\"zaxis\":{\"backgroundcolor\":\"#E5ECF6\",\"gridcolor\":\"white\",\"gridwidth\":2,\"linecolor\":\"white\",\"showbackground\":true,\"ticks\":\"\",\"zerolinecolor\":\"white\"}},\"shapedefaults\":{\"line\":{\"color\":\"#2a3f5f\"}},\"ternary\":{\"aaxis\":{\"gridcolor\":\"white\",\"linecolor\":\"white\",\"ticks\":\"\"},\"baxis\":{\"gridcolor\":\"white\",\"linecolor\":\"white\",\"ticks\":\"\"},\"bgcolor\":\"#E5ECF6\",\"caxis\":{\"gridcolor\":\"white\",\"linecolor\":\"white\",\"ticks\":\"\"}},\"title\":{\"x\":0.05},\"xaxis\":{\"automargin\":true,\"gridcolor\":\"white\",\"linecolor\":\"white\",\"ticks\":\"\",\"title\":{\"standoff\":15},\"zerolinecolor\":\"white\",\"zerolinewidth\":2},\"yaxis\":{\"automargin\":true,\"gridcolor\":\"white\",\"linecolor\":\"white\",\"ticks\":\"\",\"title\":{\"standoff\":15},\"zerolinecolor\":\"white\",\"zerolinewidth\":2}}},\"polar\":{\"domain\":{\"x\":[0.0,1.0],\"y\":[0.0,1.0]},\"angularaxis\":{\"direction\":\"clockwise\",\"rotation\":90}},\"legend\":{\"tracegroupgap\":0},\"margin\":{\"t\":60}},                        {\"responsive\": true}                    ).then(function(){\n",
       "                            \n",
       "var gd = document.getElementById('729370a1-082a-46d1-b91d-9d1cea8dd59e');\n",
       "var x = new MutationObserver(function (mutations, observer) {{\n",
       "        var display = window.getComputedStyle(gd).display;\n",
       "        if (!display || display === 'none') {{\n",
       "            console.log([gd, 'removed!']);\n",
       "            Plotly.purge(gd);\n",
       "            observer.disconnect();\n",
       "        }}\n",
       "}});\n",
       "\n",
       "// Listen for the removal of the full notebook cells\n",
       "var notebookContainer = gd.closest('#notebook-container');\n",
       "if (notebookContainer) {{\n",
       "    x.observe(notebookContainer, {childList: true});\n",
       "}}\n",
       "\n",
       "// Listen for the clearing of the current output cell\n",
       "var outputEl = gd.closest('.output');\n",
       "if (outputEl) {{\n",
       "    x.observe(outputEl, {childList: true});\n",
       "}}\n",
       "\n",
       "                        })                };                });            </script>        </div>"
      ]
     },
     "metadata": {},
     "output_type": "display_data"
    }
   ],
   "source": [
    "#Income Vs Gender val (1,2)\n",
    "fig = px.line_polar(demo_data, r='income', theta='gender_val', line_close=True)\n",
    "fig.show()"
   ]
  },
  {
   "cell_type": "code",
   "execution_count": 570,
   "metadata": {},
   "outputs": [
    {
     "data": {
      "application/vnd.plotly.v1+json": {
       "config": {
        "plotlyServerURL": "https://plot.ly"
       },
       "data": [
        {
         "hovertemplate": "income=%{r}<br>state_code_val=%{theta}<extra></extra>",
         "legendgroup": "",
         "line": {
          "color": "#636efa",
          "dash": "solid"
         },
         "marker": {
          "symbol": "circle"
         },
         "mode": "lines",
         "name": "",
         "r": [
          26150,
          6605,
          18548,
          47668,
          44554,
          15684,
          0,
          1929,
          39942,
          9622,
          25829,
          0,
          17622,
          8877,
          23351,
          0,
          10516,
          0,
          6354,
          21015,
          26505,
          3158,
          66930,
          19494,
          19334,
          6493,
          3171,
          8976,
          30664,
          21751,
          24326,
          76087,
          56597,
          36330,
          39991,
          24344,
          0,
          21663,
          13148,
          22690,
          10025,
          43317,
          24545,
          18036,
          10244,
          8011,
          24450,
          7571,
          17099,
          47083,
          0,
          0,
          60104,
          19823,
          24476,
          24368,
          34473,
          6300,
          51608,
          7335,
          29064,
          0,
          15246,
          17242,
          144157,
          27885,
          27492,
          5788,
          0,
          10933,
          15724,
          15993,
          4435,
          12396,
          9129,
          7431,
          16957,
          7633,
          0,
          1982,
          81509,
          25180,
          35502,
          0,
          23108,
          18350,
          12885,
          39704,
          55061,
          49258,
          7751,
          0,
          0,
          24534,
          0,
          31910,
          0,
          22001,
          14711,
          57194,
          28867,
          15530,
          20855,
          31040,
          8810,
          23206,
          57723,
          3994,
          90248,
          9351,
          8038,
          1039,
          7495,
          34080,
          14877,
          2925,
          84335,
          11935,
          83295,
          43900,
          68933,
          16422,
          24275,
          30676,
          0,
          12823,
          6356,
          13811,
          5488,
          0,
          27649,
          11944,
          2769,
          17559,
          12202,
          18144,
          34797,
          13295,
          0,
          56708,
          79057,
          75121,
          12258,
          2644,
          28864,
          0,
          3618,
          4391,
          38010,
          44288,
          5808,
          49731,
          2807,
          95585,
          15795,
          4626,
          10151,
          4604,
          55678,
          40898,
          39291,
          86744,
          3419,
          29363,
          36675,
          73785,
          11004,
          11375,
          9849,
          19789,
          21198,
          36873,
          9614,
          5022,
          29995,
          6105,
          30500,
          69432,
          12621,
          30224,
          18785,
          0,
          44472,
          0,
          57612,
          22437,
          15077,
          9916,
          12722,
          22758,
          29579,
          17612,
          18597,
          16865,
          14891,
          10430,
          0,
          7777,
          27814,
          41650,
          18891,
          37471,
          0,
          0,
          28402,
          27303,
          13515,
          29335,
          5940,
          6195,
          13750,
          13113,
          84120,
          41069,
          3400,
          19282,
          5772,
          49435,
          9146,
          19639,
          32739,
          34855,
          12485,
          12403,
          0,
          32551,
          3240,
          2715,
          45629,
          6144,
          0,
          3339,
          0,
          12106,
          0,
          0,
          61885,
          31054,
          23973,
          23843,
          3551,
          12728,
          4508,
          18760,
          36237,
          49623,
          129196,
          39703,
          19300,
          27258,
          25681,
          26598,
          11812,
          30068,
          17165,
          12690,
          35508,
          8381,
          17584,
          10919,
          12973,
          7968,
          28058,
          29241,
          0,
          0,
          19686,
          0,
          43315,
          19987,
          40252,
          0,
          5505,
          0,
          18449,
          26763,
          22680,
          20840,
          10608,
          27155,
          0,
          15301,
          9379,
          26364,
          17912,
          0,
          20889,
          18040,
          60242,
          0,
          0,
          36259,
          56384,
          20358,
          76376,
          0,
          2517,
          18390,
          8201,
          11725,
          30265,
          12310,
          22322,
          4300,
          15576,
          17750,
          18183,
          19840,
          29838,
          27269,
          77727,
          0,
          8301,
          10818,
          23085,
          12449,
          11918,
          41876,
          40671,
          9480,
          39250,
          35237,
          29403,
          0,
          36923,
          33010,
          0,
          82612,
          0,
          26936,
          31297,
          48479,
          3093,
          20745,
          33060,
          45464,
          17052,
          12033,
          20562,
          101177,
          9099,
          16579,
          14780,
          0,
          0,
          34394,
          12560,
          12599,
          37186,
          44758,
          0,
          41261,
          46884,
          7083,
          0,
          13352,
          22995,
          5456,
          8681,
          0,
          22783,
          9602,
          20684,
          25426,
          6618,
          13124,
          0,
          8575,
          0,
          26583,
          30674,
          8038,
          0,
          29120,
          57882,
          49631,
          12994,
          6355,
          0,
          17804,
          20179,
          54647,
          5918,
          0,
          0,
          12456,
          8257,
          30217,
          50704,
          21909,
          59542,
          10701,
          24131,
          15746,
          11029,
          0,
          30413,
          0,
          41317,
          11074,
          19863,
          37364,
          32700,
          43872,
          13137,
          7914,
          12988,
          2442,
          0,
          38736,
          45195,
          13497,
          8799,
          7735,
          33706,
          12436,
          33113,
          76891,
          5981,
          111004,
          31220,
          12072,
          127848,
          26008,
          8262,
          10053,
          23896,
          42532,
          72194,
          21646,
          17412,
          0,
          15399,
          12560,
          9271,
          18387,
          36586,
          9999,
          0,
          0,
          32065,
          20702,
          19088,
          9005,
          9495,
          5787,
          28093,
          59047,
          9738,
          7169,
          8961,
          57224,
          43737,
          49553,
          2772,
          56296,
          0,
          11244,
          14357,
          19019,
          30165,
          24090,
          0,
          22369,
          13241,
          77322,
          77893,
          31387,
          7642,
          0,
          28204,
          19645,
          11821,
          1591,
          0,
          21657,
          0,
          0,
          14141,
          90592,
          0,
          0,
          18176,
          3371,
          98566,
          30163,
          31732,
          27635,
          21384,
          65347,
          102286,
          30276,
          25827,
          4184,
          52542,
          63532,
          15554,
          6228,
          56266,
          7302,
          19041,
          6809,
          50890,
          0,
          11410,
          0,
          8345,
          22362,
          32728,
          4424,
          31496,
          39382,
          1565,
          17773,
          33905,
          29030,
          20691,
          58377,
          30989,
          22025,
          43582,
          13317,
          6909,
          26886,
          23883,
          93060,
          37180,
          17110,
          25973,
          10234,
          37438,
          29536,
          0,
          29040,
          3303,
          14769,
          0,
          35117,
          13087,
          16238,
          8048,
          44196,
          11946,
          0,
          9050,
          17401,
          68039,
          0,
          11600,
          19639,
          0,
          38917,
          19649,
          0,
          6479,
          12307,
          14011,
          0,
          26112,
          43381,
          16168,
          8282,
          0,
          7534,
          43408,
          0,
          3726,
          4366,
          8997,
          24815,
          11613,
          49437,
          6132,
          0,
          0,
          58217,
          11041,
          4187,
          32152,
          18806,
          28975,
          11485,
          39832,
          8120,
          13901,
          86055,
          25869,
          9307,
          19891,
          54734,
          7467,
          29570,
          22721,
          23476,
          0,
          94123,
          4804,
          6576,
          0,
          56088,
          29417,
          0,
          31013,
          26848,
          39754,
          0,
          7008,
          44071,
          20184,
          0,
          5779,
          20870,
          43691,
          2701,
          7701,
          19319,
          7826,
          0,
          13781,
          0,
          0,
          50980,
          26548,
          46712,
          44307,
          20926,
          27946,
          15895,
          58749,
          16718,
          15744,
          5848,
          0,
          26138,
          7154,
          11982,
          10250,
          31379,
          6700,
          142274,
          2858,
          0,
          14959,
          7617,
          41064,
          43710,
          34791,
          42031,
          7230,
          30015,
          6390,
          69205,
          18377,
          44592,
          28518,
          18466,
          40795,
          5781,
          84184,
          36761,
          1814,
          7353,
          15432,
          21746,
          16276,
          40798,
          4859,
          0,
          21460,
          43715,
          2684,
          24300,
          44307,
          0,
          57642,
          7005,
          13058,
          36464,
          8005,
          9848,
          8259,
          0,
          8423,
          47267,
          0,
          16986,
          36603,
          23294,
          44742,
          0,
          18663,
          65024,
          24843,
          75890,
          8088,
          17174,
          31641,
          4247,
          14458,
          46870,
          10800,
          12072,
          12664,
          20218,
          27239,
          38803,
          6108,
          49863,
          5920,
          0,
          23731,
          62234,
          52903,
          55888,
          2620,
          12158,
          83366,
          24368,
          0,
          24115,
          32581,
          0,
          0,
          54713,
          36614,
          46461,
          15139,
          2466,
          16319,
          24744,
          18920,
          2314,
          43829,
          9802,
          0,
          4431,
          29521,
          36605,
          13269,
          15864,
          2289,
          0,
          14795,
          26387,
          61300,
          15100,
          17875,
          26150
         ],
         "showlegend": false,
         "subplot": "polar",
         "theta": [
          23,
          3,
          3,
          3,
          24,
          9,
          3,
          8,
          8,
          8,
          5,
          30,
          3,
          3,
          28,
          27,
          3,
          25,
          32,
          3,
          21,
          24,
          10,
          24,
          9,
          24,
          3,
          24,
          3,
          4,
          33,
          3,
          16,
          19,
          2,
          9,
          27,
          8,
          25,
          24,
          24,
          3,
          3,
          24,
          17,
          28,
          32,
          29,
          3,
          24,
          24,
          3,
          3,
          27,
          31,
          24,
          33,
          9,
          30,
          3,
          24,
          3,
          24,
          28,
          30,
          3,
          3,
          30,
          27,
          28,
          3,
          6,
          24,
          24,
          4,
          27,
          29,
          32,
          3,
          3,
          24,
          10,
          3,
          3,
          17,
          3,
          9,
          3,
          15,
          24,
          30,
          3,
          18,
          2,
          3,
          24,
          9,
          29,
          9,
          3,
          30,
          3,
          24,
          32,
          13,
          3,
          24,
          24,
          24,
          2,
          15,
          17,
          30,
          30,
          9,
          3,
          3,
          12,
          30,
          24,
          18,
          18,
          18,
          3,
          26,
          26,
          24,
          19,
          3,
          30,
          3,
          27,
          3,
          3,
          29,
          12,
          3,
          3,
          30,
          30,
          29,
          9,
          3,
          30,
          3,
          3,
          33,
          2,
          25,
          3,
          9,
          9,
          17,
          4,
          25,
          24,
          3,
          24,
          18,
          24,
          9,
          31,
          25,
          3,
          3,
          3,
          33,
          30,
          24,
          12,
          3,
          33,
          24,
          30,
          30,
          29,
          30,
          3,
          24,
          3,
          17,
          3,
          3,
          25,
          9,
          30,
          15,
          25,
          3,
          3,
          3,
          24,
          3,
          17,
          26,
          24,
          3,
          3,
          30,
          14,
          10,
          15,
          30,
          28,
          33,
          14,
          33,
          3,
          12,
          3,
          9,
          9,
          2,
          24,
          26,
          3,
          30,
          6,
          6,
          3,
          16,
          30,
          7,
          9,
          30,
          3,
          3,
          28,
          16,
          30,
          31,
          3,
          11,
          30,
          24,
          3,
          3,
          17,
          8,
          9,
          3,
          6,
          20,
          24,
          14,
          30,
          9,
          21,
          3,
          3,
          26,
          3,
          26,
          30,
          30,
          2,
          30,
          21,
          30,
          9,
          24,
          24,
          24,
          30,
          9,
          24,
          25,
          3,
          15,
          11,
          30,
          24,
          20,
          25,
          25,
          24,
          6,
          5,
          17,
          24,
          24,
          18,
          24,
          10,
          32,
          8,
          3,
          24,
          3,
          27,
          30,
          14,
          9,
          5,
          16,
          9,
          24,
          6,
          9,
          24,
          3,
          3,
          2,
          3,
          3,
          24,
          3,
          25,
          7,
          29,
          20,
          22,
          10,
          24,
          20,
          9,
          12,
          12,
          9,
          27,
          24,
          2,
          3,
          30,
          12,
          18,
          21,
          9,
          6,
          25,
          10,
          24,
          10,
          30,
          3,
          10,
          24,
          26,
          22,
          3,
          1,
          29,
          3,
          26,
          23,
          30,
          4,
          14,
          22,
          24,
          24,
          24,
          2,
          3,
          9,
          25,
          24,
          3,
          1,
          8,
          13,
          8,
          3,
          8,
          12,
          2,
          28,
          30,
          3,
          3,
          32,
          3,
          21,
          3,
          28,
          21,
          3,
          24,
          9,
          24,
          19,
          30,
          3,
          3,
          3,
          9,
          28,
          30,
          3,
          8,
          24,
          30,
          23,
          3,
          22,
          24,
          24,
          3,
          3,
          27,
          32,
          25,
          30,
          3,
          30,
          24,
          32,
          33,
          3,
          6,
          28,
          4,
          26,
          3,
          21,
          3,
          10,
          28,
          3,
          6,
          20,
          24,
          3,
          27,
          33,
          4,
          27,
          4,
          30,
          3,
          29,
          10,
          24,
          24,
          5,
          3,
          2,
          24,
          3,
          3,
          24,
          16,
          3,
          3,
          15,
          3,
          9,
          30,
          33,
          2,
          23,
          30,
          3,
          28,
          21,
          9,
          9,
          17,
          9,
          28,
          6,
          12,
          27,
          16,
          24,
          24,
          24,
          3,
          4,
          3,
          3,
          3,
          3,
          3,
          3,
          30,
          30,
          18,
          18,
          3,
          18,
          3,
          2,
          24,
          9,
          3,
          3,
          18,
          3,
          3,
          9,
          3,
          29,
          30,
          3,
          3,
          30,
          24,
          27,
          11,
          3,
          2,
          24,
          3,
          33,
          3,
          3,
          9,
          24,
          4,
          3,
          9,
          30,
          18,
          17,
          30,
          24,
          3,
          24,
          27,
          18,
          9,
          24,
          3,
          33,
          33,
          24,
          30,
          3,
          3,
          24,
          3,
          6,
          3,
          2,
          3,
          30,
          4,
          18,
          12,
          3,
          24,
          29,
          15,
          25,
          28,
          6,
          14,
          9,
          30,
          17,
          3,
          24,
          9,
          25,
          29,
          2,
          3,
          29,
          28,
          30,
          3,
          3,
          28,
          26,
          24,
          2,
          30,
          30,
          25,
          3,
          20,
          25,
          3,
          30,
          17,
          30,
          31,
          30,
          9,
          30,
          10,
          9,
          24,
          24,
          28,
          25,
          3,
          13,
          3,
          30,
          30,
          9,
          30,
          16,
          9,
          15,
          22,
          24,
          20,
          26,
          10,
          20,
          30,
          3,
          3,
          3,
          9,
          6,
          14,
          33,
          3,
          3,
          9,
          12,
          30,
          9,
          30,
          2,
          3,
          26,
          9,
          24,
          3,
          30,
          24,
          3,
          5,
          31,
          24,
          24,
          6,
          9,
          18,
          25,
          29,
          5,
          10,
          24,
          30,
          3,
          27,
          24,
          14,
          3,
          24,
          26,
          3,
          17,
          6,
          21,
          30,
          30,
          3,
          2,
          26,
          24,
          28,
          30,
          24,
          16,
          25,
          3,
          3,
          9,
          24,
          3,
          24,
          2,
          9,
          9,
          24,
          3,
          8,
          20,
          30,
          30,
          30,
          3,
          27,
          4,
          2,
          25,
          24,
          30,
          21,
          24,
          9,
          9,
          12,
          32,
          25,
          24,
          3,
          33,
          3,
          30,
          16,
          10,
          3,
          10,
          29,
          9,
          29,
          3,
          24,
          22,
          30,
          29,
          24,
          2,
          24,
          30,
          29,
          28,
          3,
          24,
          21,
          24,
          30,
          2,
          8,
          9,
          2,
          6,
          30,
          1,
          10,
          30,
          3,
          18,
          26,
          12,
          18,
          28,
          28,
          24,
          26,
          21,
          3,
          30,
          8,
          3,
          24,
          22,
          1,
          3,
          23
         ],
         "type": "scatterpolar"
        }
       ],
       "layout": {
        "autosize": true,
        "legend": {
         "tracegroupgap": 0
        },
        "margin": {
         "t": 60
        },
        "polar": {
         "angularaxis": {
          "direction": "clockwise",
          "rotation": 90,
          "type": "linear"
         },
         "domain": {
          "x": [
           0,
           1
          ],
          "y": [
           0,
           1
          ]
         },
         "radialaxis": {
          "autorange": true,
          "range": [
           0,
           144157
          ],
          "type": "linear"
         }
        },
        "template": {
         "data": {
          "bar": [
           {
            "error_x": {
             "color": "#2a3f5f"
            },
            "error_y": {
             "color": "#2a3f5f"
            },
            "marker": {
             "line": {
              "color": "#E5ECF6",
              "width": 0.5
             },
             "pattern": {
              "fillmode": "overlay",
              "size": 10,
              "solidity": 0.2
             }
            },
            "type": "bar"
           }
          ],
          "barpolar": [
           {
            "marker": {
             "line": {
              "color": "#E5ECF6",
              "width": 0.5
             },
             "pattern": {
              "fillmode": "overlay",
              "size": 10,
              "solidity": 0.2
             }
            },
            "type": "barpolar"
           }
          ],
          "carpet": [
           {
            "aaxis": {
             "endlinecolor": "#2a3f5f",
             "gridcolor": "white",
             "linecolor": "white",
             "minorgridcolor": "white",
             "startlinecolor": "#2a3f5f"
            },
            "baxis": {
             "endlinecolor": "#2a3f5f",
             "gridcolor": "white",
             "linecolor": "white",
             "minorgridcolor": "white",
             "startlinecolor": "#2a3f5f"
            },
            "type": "carpet"
           }
          ],
          "choropleth": [
           {
            "colorbar": {
             "outlinewidth": 0,
             "ticks": ""
            },
            "type": "choropleth"
           }
          ],
          "contour": [
           {
            "colorbar": {
             "outlinewidth": 0,
             "ticks": ""
            },
            "colorscale": [
             [
              0,
              "#0d0887"
             ],
             [
              0.1111111111111111,
              "#46039f"
             ],
             [
              0.2222222222222222,
              "#7201a8"
             ],
             [
              0.3333333333333333,
              "#9c179e"
             ],
             [
              0.4444444444444444,
              "#bd3786"
             ],
             [
              0.5555555555555556,
              "#d8576b"
             ],
             [
              0.6666666666666666,
              "#ed7953"
             ],
             [
              0.7777777777777778,
              "#fb9f3a"
             ],
             [
              0.8888888888888888,
              "#fdca26"
             ],
             [
              1,
              "#f0f921"
             ]
            ],
            "type": "contour"
           }
          ],
          "contourcarpet": [
           {
            "colorbar": {
             "outlinewidth": 0,
             "ticks": ""
            },
            "type": "contourcarpet"
           }
          ],
          "heatmap": [
           {
            "colorbar": {
             "outlinewidth": 0,
             "ticks": ""
            },
            "colorscale": [
             [
              0,
              "#0d0887"
             ],
             [
              0.1111111111111111,
              "#46039f"
             ],
             [
              0.2222222222222222,
              "#7201a8"
             ],
             [
              0.3333333333333333,
              "#9c179e"
             ],
             [
              0.4444444444444444,
              "#bd3786"
             ],
             [
              0.5555555555555556,
              "#d8576b"
             ],
             [
              0.6666666666666666,
              "#ed7953"
             ],
             [
              0.7777777777777778,
              "#fb9f3a"
             ],
             [
              0.8888888888888888,
              "#fdca26"
             ],
             [
              1,
              "#f0f921"
             ]
            ],
            "type": "heatmap"
           }
          ],
          "heatmapgl": [
           {
            "colorbar": {
             "outlinewidth": 0,
             "ticks": ""
            },
            "colorscale": [
             [
              0,
              "#0d0887"
             ],
             [
              0.1111111111111111,
              "#46039f"
             ],
             [
              0.2222222222222222,
              "#7201a8"
             ],
             [
              0.3333333333333333,
              "#9c179e"
             ],
             [
              0.4444444444444444,
              "#bd3786"
             ],
             [
              0.5555555555555556,
              "#d8576b"
             ],
             [
              0.6666666666666666,
              "#ed7953"
             ],
             [
              0.7777777777777778,
              "#fb9f3a"
             ],
             [
              0.8888888888888888,
              "#fdca26"
             ],
             [
              1,
              "#f0f921"
             ]
            ],
            "type": "heatmapgl"
           }
          ],
          "histogram": [
           {
            "marker": {
             "pattern": {
              "fillmode": "overlay",
              "size": 10,
              "solidity": 0.2
             }
            },
            "type": "histogram"
           }
          ],
          "histogram2d": [
           {
            "colorbar": {
             "outlinewidth": 0,
             "ticks": ""
            },
            "colorscale": [
             [
              0,
              "#0d0887"
             ],
             [
              0.1111111111111111,
              "#46039f"
             ],
             [
              0.2222222222222222,
              "#7201a8"
             ],
             [
              0.3333333333333333,
              "#9c179e"
             ],
             [
              0.4444444444444444,
              "#bd3786"
             ],
             [
              0.5555555555555556,
              "#d8576b"
             ],
             [
              0.6666666666666666,
              "#ed7953"
             ],
             [
              0.7777777777777778,
              "#fb9f3a"
             ],
             [
              0.8888888888888888,
              "#fdca26"
             ],
             [
              1,
              "#f0f921"
             ]
            ],
            "type": "histogram2d"
           }
          ],
          "histogram2dcontour": [
           {
            "colorbar": {
             "outlinewidth": 0,
             "ticks": ""
            },
            "colorscale": [
             [
              0,
              "#0d0887"
             ],
             [
              0.1111111111111111,
              "#46039f"
             ],
             [
              0.2222222222222222,
              "#7201a8"
             ],
             [
              0.3333333333333333,
              "#9c179e"
             ],
             [
              0.4444444444444444,
              "#bd3786"
             ],
             [
              0.5555555555555556,
              "#d8576b"
             ],
             [
              0.6666666666666666,
              "#ed7953"
             ],
             [
              0.7777777777777778,
              "#fb9f3a"
             ],
             [
              0.8888888888888888,
              "#fdca26"
             ],
             [
              1,
              "#f0f921"
             ]
            ],
            "type": "histogram2dcontour"
           }
          ],
          "mesh3d": [
           {
            "colorbar": {
             "outlinewidth": 0,
             "ticks": ""
            },
            "type": "mesh3d"
           }
          ],
          "parcoords": [
           {
            "line": {
             "colorbar": {
              "outlinewidth": 0,
              "ticks": ""
             }
            },
            "type": "parcoords"
           }
          ],
          "pie": [
           {
            "automargin": true,
            "type": "pie"
           }
          ],
          "scatter": [
           {
            "marker": {
             "colorbar": {
              "outlinewidth": 0,
              "ticks": ""
             }
            },
            "type": "scatter"
           }
          ],
          "scatter3d": [
           {
            "line": {
             "colorbar": {
              "outlinewidth": 0,
              "ticks": ""
             }
            },
            "marker": {
             "colorbar": {
              "outlinewidth": 0,
              "ticks": ""
             }
            },
            "type": "scatter3d"
           }
          ],
          "scattercarpet": [
           {
            "marker": {
             "colorbar": {
              "outlinewidth": 0,
              "ticks": ""
             }
            },
            "type": "scattercarpet"
           }
          ],
          "scattergeo": [
           {
            "marker": {
             "colorbar": {
              "outlinewidth": 0,
              "ticks": ""
             }
            },
            "type": "scattergeo"
           }
          ],
          "scattergl": [
           {
            "marker": {
             "colorbar": {
              "outlinewidth": 0,
              "ticks": ""
             }
            },
            "type": "scattergl"
           }
          ],
          "scattermapbox": [
           {
            "marker": {
             "colorbar": {
              "outlinewidth": 0,
              "ticks": ""
             }
            },
            "type": "scattermapbox"
           }
          ],
          "scatterpolar": [
           {
            "marker": {
             "colorbar": {
              "outlinewidth": 0,
              "ticks": ""
             }
            },
            "type": "scatterpolar"
           }
          ],
          "scatterpolargl": [
           {
            "marker": {
             "colorbar": {
              "outlinewidth": 0,
              "ticks": ""
             }
            },
            "type": "scatterpolargl"
           }
          ],
          "scatterternary": [
           {
            "marker": {
             "colorbar": {
              "outlinewidth": 0,
              "ticks": ""
             }
            },
            "type": "scatterternary"
           }
          ],
          "surface": [
           {
            "colorbar": {
             "outlinewidth": 0,
             "ticks": ""
            },
            "colorscale": [
             [
              0,
              "#0d0887"
             ],
             [
              0.1111111111111111,
              "#46039f"
             ],
             [
              0.2222222222222222,
              "#7201a8"
             ],
             [
              0.3333333333333333,
              "#9c179e"
             ],
             [
              0.4444444444444444,
              "#bd3786"
             ],
             [
              0.5555555555555556,
              "#d8576b"
             ],
             [
              0.6666666666666666,
              "#ed7953"
             ],
             [
              0.7777777777777778,
              "#fb9f3a"
             ],
             [
              0.8888888888888888,
              "#fdca26"
             ],
             [
              1,
              "#f0f921"
             ]
            ],
            "type": "surface"
           }
          ],
          "table": [
           {
            "cells": {
             "fill": {
              "color": "#EBF0F8"
             },
             "line": {
              "color": "white"
             }
            },
            "header": {
             "fill": {
              "color": "#C8D4E3"
             },
             "line": {
              "color": "white"
             }
            },
            "type": "table"
           }
          ]
         },
         "layout": {
          "annotationdefaults": {
           "arrowcolor": "#2a3f5f",
           "arrowhead": 0,
           "arrowwidth": 1
          },
          "autotypenumbers": "strict",
          "coloraxis": {
           "colorbar": {
            "outlinewidth": 0,
            "ticks": ""
           }
          },
          "colorscale": {
           "diverging": [
            [
             0,
             "#8e0152"
            ],
            [
             0.1,
             "#c51b7d"
            ],
            [
             0.2,
             "#de77ae"
            ],
            [
             0.3,
             "#f1b6da"
            ],
            [
             0.4,
             "#fde0ef"
            ],
            [
             0.5,
             "#f7f7f7"
            ],
            [
             0.6,
             "#e6f5d0"
            ],
            [
             0.7,
             "#b8e186"
            ],
            [
             0.8,
             "#7fbc41"
            ],
            [
             0.9,
             "#4d9221"
            ],
            [
             1,
             "#276419"
            ]
           ],
           "sequential": [
            [
             0,
             "#0d0887"
            ],
            [
             0.1111111111111111,
             "#46039f"
            ],
            [
             0.2222222222222222,
             "#7201a8"
            ],
            [
             0.3333333333333333,
             "#9c179e"
            ],
            [
             0.4444444444444444,
             "#bd3786"
            ],
            [
             0.5555555555555556,
             "#d8576b"
            ],
            [
             0.6666666666666666,
             "#ed7953"
            ],
            [
             0.7777777777777778,
             "#fb9f3a"
            ],
            [
             0.8888888888888888,
             "#fdca26"
            ],
            [
             1,
             "#f0f921"
            ]
           ],
           "sequentialminus": [
            [
             0,
             "#0d0887"
            ],
            [
             0.1111111111111111,
             "#46039f"
            ],
            [
             0.2222222222222222,
             "#7201a8"
            ],
            [
             0.3333333333333333,
             "#9c179e"
            ],
            [
             0.4444444444444444,
             "#bd3786"
            ],
            [
             0.5555555555555556,
             "#d8576b"
            ],
            [
             0.6666666666666666,
             "#ed7953"
            ],
            [
             0.7777777777777778,
             "#fb9f3a"
            ],
            [
             0.8888888888888888,
             "#fdca26"
            ],
            [
             1,
             "#f0f921"
            ]
           ]
          },
          "colorway": [
           "#636efa",
           "#EF553B",
           "#00cc96",
           "#ab63fa",
           "#FFA15A",
           "#19d3f3",
           "#FF6692",
           "#B6E880",
           "#FF97FF",
           "#FECB52"
          ],
          "font": {
           "color": "#2a3f5f"
          },
          "geo": {
           "bgcolor": "white",
           "lakecolor": "white",
           "landcolor": "#E5ECF6",
           "showlakes": true,
           "showland": true,
           "subunitcolor": "white"
          },
          "hoverlabel": {
           "align": "left"
          },
          "hovermode": "closest",
          "mapbox": {
           "style": "light"
          },
          "paper_bgcolor": "white",
          "plot_bgcolor": "#E5ECF6",
          "polar": {
           "angularaxis": {
            "gridcolor": "white",
            "linecolor": "white",
            "ticks": ""
           },
           "bgcolor": "#E5ECF6",
           "radialaxis": {
            "gridcolor": "white",
            "linecolor": "white",
            "ticks": ""
           }
          },
          "scene": {
           "xaxis": {
            "backgroundcolor": "#E5ECF6",
            "gridcolor": "white",
            "gridwidth": 2,
            "linecolor": "white",
            "showbackground": true,
            "ticks": "",
            "zerolinecolor": "white"
           },
           "yaxis": {
            "backgroundcolor": "#E5ECF6",
            "gridcolor": "white",
            "gridwidth": 2,
            "linecolor": "white",
            "showbackground": true,
            "ticks": "",
            "zerolinecolor": "white"
           },
           "zaxis": {
            "backgroundcolor": "#E5ECF6",
            "gridcolor": "white",
            "gridwidth": 2,
            "linecolor": "white",
            "showbackground": true,
            "ticks": "",
            "zerolinecolor": "white"
           }
          },
          "shapedefaults": {
           "line": {
            "color": "#2a3f5f"
           }
          },
          "ternary": {
           "aaxis": {
            "gridcolor": "white",
            "linecolor": "white",
            "ticks": ""
           },
           "baxis": {
            "gridcolor": "white",
            "linecolor": "white",
            "ticks": ""
           },
           "bgcolor": "#E5ECF6",
           "caxis": {
            "gridcolor": "white",
            "linecolor": "white",
            "ticks": ""
           }
          },
          "title": {
           "x": 0.05
          },
          "xaxis": {
           "automargin": true,
           "gridcolor": "white",
           "linecolor": "white",
           "ticks": "",
           "title": {
            "standoff": 15
           },
           "zerolinecolor": "white",
           "zerolinewidth": 2
          },
          "yaxis": {
           "automargin": true,
           "gridcolor": "white",
           "linecolor": "white",
           "ticks": "",
           "title": {
            "standoff": 15
           },
           "zerolinecolor": "white",
           "zerolinewidth": 2
          }
         }
        }
       }
      },
      "image/png": "[encoded data removed]",
      "text/html": [
       "<div>                            <div id=\"9cab19e6-d093-409e-b698-74f932fe68ac\" class=\"plotly-graph-div\" style=\"height:525px; width:100%;\"></div>            <script type=\"text/javascript\">                require([\"plotly\"], function(Plotly) {                    window.PLOTLYENV=window.PLOTLYENV || {};                                    if (document.getElementById(\"9cab19e6-d093-409e-b698-74f932fe68ac\")) {                    Plotly.newPlot(                        \"9cab19e6-d093-409e-b698-74f932fe68ac\",                        [{\"hovertemplate\":\"income=%{r}<br>state_code_val=%{theta}<extra></extra>\",\"legendgroup\":\"\",\"line\":{\"color\":\"#636efa\",\"dash\":\"solid\"},\"marker\":{\"symbol\":\"circle\"},\"mode\":\"lines\",\"name\":\"\",\"r\":[26150,6605,18548,47668,44554,15684,0,1929,39942,9622,25829,0,17622,8877,23351,0,10516,0,6354,21015,26505,3158,66930,19494,19334,6493,3171,8976,30664,21751,24326,76087,56597,36330,39991,24344,0,21663,13148,22690,10025,43317,24545,18036,10244,8011,24450,7571,17099,47083,0,0,60104,19823,24476,24368,34473,6300,51608,7335,29064,0,15246,17242,144157,27885,27492,5788,0,10933,15724,15993,4435,12396,9129,7431,16957,7633,0,1982,81509,25180,35502,0,23108,18350,12885,39704,55061,49258,7751,0,0,24534,0,31910,0,22001,14711,57194,28867,15530,20855,31040,8810,23206,57723,3994,90248,9351,8038,1039,7495,34080,14877,2925,84335,11935,83295,43900,68933,16422,24275,30676,0,12823,6356,13811,5488,0,27649,11944,2769,17559,12202,18144,34797,13295,0,56708,79057,75121,12258,2644,28864,0,3618,4391,38010,44288,5808,49731,2807,95585,15795,4626,10151,4604,55678,40898,39291,86744,3419,29363,36675,73785,11004,11375,9849,19789,21198,36873,9614,5022,29995,6105,30500,69432,12621,30224,18785,0,44472,0,57612,22437,15077,9916,12722,22758,29579,17612,18597,16865,14891,10430,0,7777,27814,41650,18891,37471,0,0,28402,27303,13515,29335,5940,6195,13750,13113,84120,41069,3400,19282,5772,49435,9146,19639,32739,34855,12485,12403,0,32551,3240,2715,45629,6144,0,3339,0,12106,0,0,61885,31054,23973,23843,3551,12728,4508,18760,36237,49623,129196,39703,19300,27258,25681,26598,11812,30068,17165,12690,35508,8381,17584,10919,12973,7968,28058,29241,0,0,19686,0,43315,19987,40252,0,5505,0,18449,26763,22680,20840,10608,27155,0,15301,9379,26364,17912,0,20889,18040,60242,0,0,36259,56384,20358,76376,0,2517,18390,8201,11725,30265,12310,22322,4300,15576,17750,18183,19840,29838,27269,77727,0,8301,10818,23085,12449,11918,41876,40671,9480,39250,35237,29403,0,36923,33010,0,82612,0,26936,31297,48479,3093,20745,33060,45464,17052,12033,20562,101177,9099,16579,14780,0,0,34394,12560,12599,37186,44758,0,41261,46884,7083,0,13352,22995,5456,8681,0,22783,9602,20684,25426,6618,13124,0,8575,0,26583,30674,8038,0,29120,57882,49631,12994,6355,0,17804,20179,54647,5918,0,0,12456,8257,30217,50704,21909,59542,10701,24131,15746,11029,0,30413,0,41317,11074,19863,37364,32700,43872,13137,7914,12988,2442,0,38736,45195,13497,8799,7735,33706,12436,33113,76891,5981,111004,31220,12072,127848,26008,8262,10053,23896,42532,72194,21646,17412,0,15399,12560,9271,18387,36586,9999,0,0,32065,20702,19088,9005,9495,5787,28093,59047,9738,7169,8961,57224,43737,49553,2772,56296,0,11244,14357,19019,30165,24090,0,22369,13241,77322,77893,31387,7642,0,28204,19645,11821,1591,0,21657,0,0,14141,90592,0,0,18176,3371,98566,30163,31732,27635,21384,65347,102286,30276,25827,4184,52542,63532,15554,6228,56266,7302,19041,6809,50890,0,11410,0,8345,22362,32728,4424,31496,39382,1565,17773,33905,29030,20691,58377,30989,22025,43582,13317,6909,26886,23883,93060,37180,17110,25973,10234,37438,29536,0,29040,3303,14769,0,35117,13087,16238,8048,44196,11946,0,9050,17401,68039,0,11600,19639,0,38917,19649,0,6479,12307,14011,0,26112,43381,16168,8282,0,7534,43408,0,3726,4366,8997,24815,11613,49437,6132,0,0,58217,11041,4187,32152,18806,28975,11485,39832,8120,13901,86055,25869,9307,19891,54734,7467,29570,22721,23476,0,94123,4804,6576,0,56088,29417,0,31013,26848,39754,0,7008,44071,20184,0,5779,20870,43691,2701,7701,19319,7826,0,13781,0,0,50980,26548,46712,44307,20926,27946,15895,58749,16718,15744,5848,0,26138,7154,11982,10250,31379,6700,142274,2858,0,14959,7617,41064,43710,34791,42031,7230,30015,6390,69205,18377,44592,28518,18466,40795,5781,84184,36761,1814,7353,15432,21746,16276,40798,4859,0,21460,43715,2684,24300,44307,0,57642,7005,13058,36464,8005,9848,8259,0,8423,47267,0,16986,36603,23294,44742,0,18663,65024,24843,75890,8088,17174,31641,4247,14458,46870,10800,12072,12664,20218,27239,38803,6108,49863,5920,0,23731,62234,52903,55888,2620,12158,83366,24368,0,24115,32581,0,0,54713,36614,46461,15139,2466,16319,24744,18920,2314,43829,9802,0,4431,29521,36605,13269,15864,2289,0,14795,26387,61300,15100,17875,26150],\"showlegend\":false,\"subplot\":\"polar\",\"theta\":[23,3,3,3,24,9,3,8,8,8,5,30,3,3,28,27,3,25,32,3,21,24,10,24,9,24,3,24,3,4,33,3,16,19,2,9,27,8,25,24,24,3,3,24,17,28,32,29,3,24,24,3,3,27,31,24,33,9,30,3,24,3,24,28,30,3,3,30,27,28,3,6,24,24,4,27,29,32,3,3,24,10,3,3,17,3,9,3,15,24,30,3,18,2,3,24,9,29,9,3,30,3,24,32,13,3,24,24,24,2,15,17,30,30,9,3,3,12,30,24,18,18,18,3,26,26,24,19,3,30,3,27,3,3,29,12,3,3,30,30,29,9,3,30,3,3,33,2,25,3,9,9,17,4,25,24,3,24,18,24,9,31,25,3,3,3,33,30,24,12,3,33,24,30,30,29,30,3,24,3,17,3,3,25,9,30,15,25,3,3,3,24,3,17,26,24,3,3,30,14,10,15,30,28,33,14,33,3,12,3,9,9,2,24,26,3,30,6,6,3,16,30,7,9,30,3,3,28,16,30,31,3,11,30,24,3,3,17,8,9,3,6,20,24,14,30,9,21,3,3,26,3,26,30,30,2,30,21,30,9,24,24,24,30,9,24,25,3,15,11,30,24,20,25,25,24,6,5,17,24,24,18,24,10,32,8,3,24,3,27,30,14,9,5,16,9,24,6,9,24,3,3,2,3,3,24,3,25,7,29,20,22,10,24,20,9,12,12,9,27,24,2,3,30,12,18,21,9,6,25,10,24,10,30,3,10,24,26,22,3,1,29,3,26,23,30,4,14,22,24,24,24,2,3,9,25,24,3,1,8,13,8,3,8,12,2,28,30,3,3,32,3,21,3,28,21,3,24,9,24,19,30,3,3,3,9,28,30,3,8,24,30,23,3,22,24,24,3,3,27,32,25,30,3,30,24,32,33,3,6,28,4,26,3,21,3,10,28,3,6,20,24,3,27,33,4,27,4,30,3,29,10,24,24,5,3,2,24,3,3,24,16,3,3,15,3,9,30,33,2,23,30,3,28,21,9,9,17,9,28,6,12,27,16,24,24,24,3,4,3,3,3,3,3,3,30,30,18,18,3,18,3,2,24,9,3,3,18,3,3,9,3,29,30,3,3,30,24,27,11,3,2,24,3,33,3,3,9,24,4,3,9,30,18,17,30,24,3,24,27,18,9,24,3,33,33,24,30,3,3,24,3,6,3,2,3,30,4,18,12,3,24,29,15,25,28,6,14,9,30,17,3,24,9,25,29,2,3,29,28,30,3,3,28,26,24,2,30,30,25,3,20,25,3,30,17,30,31,30,9,30,10,9,24,24,28,25,3,13,3,30,30,9,30,16,9,15,22,24,20,26,10,20,30,3,3,3,9,6,14,33,3,3,9,12,30,9,30,2,3,26,9,24,3,30,24,3,5,31,24,24,6,9,18,25,29,5,10,24,30,3,27,24,14,3,24,26,3,17,6,21,30,30,3,2,26,24,28,30,24,16,25,3,3,9,24,3,24,2,9,9,24,3,8,20,30,30,30,3,27,4,2,25,24,30,21,24,9,9,12,32,25,24,3,33,3,30,16,10,3,10,29,9,29,3,24,22,30,29,24,2,24,30,29,28,3,24,21,24,30,2,8,9,2,6,30,1,10,30,3,18,26,12,18,28,28,24,26,21,3,30,8,3,24,22,1,3,23],\"type\":\"scatterpolar\"}],                        {\"template\":{\"data\":{\"bar\":[{\"error_x\":{\"color\":\"#2a3f5f\"},\"error_y\":{\"color\":\"#2a3f5f\"},\"marker\":{\"line\":{\"color\":\"#E5ECF6\",\"width\":0.5},\"pattern\":{\"fillmode\":\"overlay\",\"size\":10,\"solidity\":0.2}},\"type\":\"bar\"}],\"barpolar\":[{\"marker\":{\"line\":{\"color\":\"#E5ECF6\",\"width\":0.5},\"pattern\":{\"fillmode\":\"overlay\",\"size\":10,\"solidity\":0.2}},\"type\":\"barpolar\"}],\"carpet\":[{\"aaxis\":{\"endlinecolor\":\"#2a3f5f\",\"gridcolor\":\"white\",\"linecolor\":\"white\",\"minorgridcolor\":\"white\",\"startlinecolor\":\"#2a3f5f\"},\"baxis\":{\"endlinecolor\":\"#2a3f5f\",\"gridcolor\":\"white\",\"linecolor\":\"white\",\"minorgridcolor\":\"white\",\"startlinecolor\":\"#2a3f5f\"},\"type\":\"carpet\"}],\"choropleth\":[{\"colorbar\":{\"outlinewidth\":0,\"ticks\":\"\"},\"type\":\"choropleth\"}],\"contour\":[{\"colorbar\":{\"outlinewidth\":0,\"ticks\":\"\"},\"colorscale\":[[0.0,\"#0d0887\"],[0.1111111111111111,\"#46039f\"],[0.2222222222222222,\"#7201a8\"],[0.3333333333333333,\"#9c179e\"],[0.4444444444444444,\"#bd3786\"],[0.5555555555555556,\"#d8576b\"],[0.6666666666666666,\"#ed7953\"],[0.7777777777777778,\"#fb9f3a\"],[0.8888888888888888,\"#fdca26\"],[1.0,\"#f0f921\"]],\"type\":\"contour\"}],\"contourcarpet\":[{\"colorbar\":{\"outlinewidth\":0,\"ticks\":\"\"},\"type\":\"contourcarpet\"}],\"heatmap\":[{\"colorbar\":{\"outlinewidth\":0,\"ticks\":\"\"},\"colorscale\":[[0.0,\"#0d0887\"],[0.1111111111111111,\"#46039f\"],[0.2222222222222222,\"#7201a8\"],[0.3333333333333333,\"#9c179e\"],[0.4444444444444444,\"#bd3786\"],[0.5555555555555556,\"#d8576b\"],[0.6666666666666666,\"#ed7953\"],[0.7777777777777778,\"#fb9f3a\"],[0.8888888888888888,\"#fdca26\"],[1.0,\"#f0f921\"]],\"type\":\"heatmap\"}],\"heatmapgl\":[{\"colorbar\":{\"outlinewidth\":0,\"ticks\":\"\"},\"colorscale\":[[0.0,\"#0d0887\"],[0.1111111111111111,\"#46039f\"],[0.2222222222222222,\"#7201a8\"],[0.3333333333333333,\"#9c179e\"],[0.4444444444444444,\"#bd3786\"],[0.5555555555555556,\"#d8576b\"],[0.6666666666666666,\"#ed7953\"],[0.7777777777777778,\"#fb9f3a\"],[0.8888888888888888,\"#fdca26\"],[1.0,\"#f0f921\"]],\"type\":\"heatmapgl\"}],\"histogram\":[{\"marker\":{\"pattern\":{\"fillmode\":\"overlay\",\"size\":10,\"solidity\":0.2}},\"type\":\"histogram\"}],\"histogram2d\":[{\"colorbar\":{\"outlinewidth\":0,\"ticks\":\"\"},\"colorscale\":[[0.0,\"#0d0887\"],[0.1111111111111111,\"#46039f\"],[0.2222222222222222,\"#7201a8\"],[0.3333333333333333,\"#9c179e\"],[0.4444444444444444,\"#bd3786\"],[0.5555555555555556,\"#d8576b\"],[0.6666666666666666,\"#ed7953\"],[0.7777777777777778,\"#fb9f3a\"],[0.8888888888888888,\"#fdca26\"],[1.0,\"#f0f921\"]],\"type\":\"histogram2d\"}],\"histogram2dcontour\":[{\"colorbar\":{\"outlinewidth\":0,\"ticks\":\"\"},\"colorscale\":[[0.0,\"#0d0887\"],[0.1111111111111111,\"#46039f\"],[0.2222222222222222,\"#7201a8\"],[0.3333333333333333,\"#9c179e\"],[0.4444444444444444,\"#bd3786\"],[0.5555555555555556,\"#d8576b\"],[0.6666666666666666,\"#ed7953\"],[0.7777777777777778,\"#fb9f3a\"],[0.8888888888888888,\"#fdca26\"],[1.0,\"#f0f921\"]],\"type\":\"histogram2dcontour\"}],\"mesh3d\":[{\"colorbar\":{\"outlinewidth\":0,\"ticks\":\"\"},\"type\":\"mesh3d\"}],\"parcoords\":[{\"line\":{\"colorbar\":{\"outlinewidth\":0,\"ticks\":\"\"}},\"type\":\"parcoords\"}],\"pie\":[{\"automargin\":true,\"type\":\"pie\"}],\"scatter\":[{\"marker\":{\"colorbar\":{\"outlinewidth\":0,\"ticks\":\"\"}},\"type\":\"scatter\"}],\"scatter3d\":[{\"line\":{\"colorbar\":{\"outlinewidth\":0,\"ticks\":\"\"}},\"marker\":{\"colorbar\":{\"outlinewidth\":0,\"ticks\":\"\"}},\"type\":\"scatter3d\"}],\"scattercarpet\":[{\"marker\":{\"colorbar\":{\"outlinewidth\":0,\"ticks\":\"\"}},\"type\":\"scattercarpet\"}],\"scattergeo\":[{\"marker\":{\"colorbar\":{\"outlinewidth\":0,\"ticks\":\"\"}},\"type\":\"scattergeo\"}],\"scattergl\":[{\"marker\":{\"colorbar\":{\"outlinewidth\":0,\"ticks\":\"\"}},\"type\":\"scattergl\"}],\"scattermapbox\":[{\"marker\":{\"colorbar\":{\"outlinewidth\":0,\"ticks\":\"\"}},\"type\":\"scattermapbox\"}],\"scatterpolar\":[{\"marker\":{\"colorbar\":{\"outlinewidth\":0,\"ticks\":\"\"}},\"type\":\"scatterpolar\"}],\"scatterpolargl\":[{\"marker\":{\"colorbar\":{\"outlinewidth\":0,\"ticks\":\"\"}},\"type\":\"scatterpolargl\"}],\"scatterternary\":[{\"marker\":{\"colorbar\":{\"outlinewidth\":0,\"ticks\":\"\"}},\"type\":\"scatterternary\"}],\"surface\":[{\"colorbar\":{\"outlinewidth\":0,\"ticks\":\"\"},\"colorscale\":[[0.0,\"#0d0887\"],[0.1111111111111111,\"#46039f\"],[0.2222222222222222,\"#7201a8\"],[0.3333333333333333,\"#9c179e\"],[0.4444444444444444,\"#bd3786\"],[0.5555555555555556,\"#d8576b\"],[0.6666666666666666,\"#ed7953\"],[0.7777777777777778,\"#fb9f3a\"],[0.8888888888888888,\"#fdca26\"],[1.0,\"#f0f921\"]],\"type\":\"surface\"}],\"table\":[{\"cells\":{\"fill\":{\"color\":\"#EBF0F8\"},\"line\":{\"color\":\"white\"}},\"header\":{\"fill\":{\"color\":\"#C8D4E3\"},\"line\":{\"color\":\"white\"}},\"type\":\"table\"}]},\"layout\":{\"annotationdefaults\":{\"arrowcolor\":\"#2a3f5f\",\"arrowhead\":0,\"arrowwidth\":1},\"autotypenumbers\":\"strict\",\"coloraxis\":{\"colorbar\":{\"outlinewidth\":0,\"ticks\":\"\"}},\"colorscale\":{\"diverging\":[[0,\"#8e0152\"],[0.1,\"#c51b7d\"],[0.2,\"#de77ae\"],[0.3,\"#f1b6da\"],[0.4,\"#fde0ef\"],[0.5,\"#f7f7f7\"],[0.6,\"#e6f5d0\"],[0.7,\"#b8e186\"],[0.8,\"#7fbc41\"],[0.9,\"#4d9221\"],[1,\"#276419\"]],\"sequential\":[[0.0,\"#0d0887\"],[0.1111111111111111,\"#46039f\"],[0.2222222222222222,\"#7201a8\"],[0.3333333333333333,\"#9c179e\"],[0.4444444444444444,\"#bd3786\"],[0.5555555555555556,\"#d8576b\"],[0.6666666666666666,\"#ed7953\"],[0.7777777777777778,\"#fb9f3a\"],[0.8888888888888888,\"#fdca26\"],[1.0,\"#f0f921\"]],\"sequentialminus\":[[0.0,\"#0d0887\"],[0.1111111111111111,\"#46039f\"],[0.2222222222222222,\"#7201a8\"],[0.3333333333333333,\"#9c179e\"],[0.4444444444444444,\"#bd3786\"],[0.5555555555555556,\"#d8576b\"],[0.6666666666666666,\"#ed7953\"],[0.7777777777777778,\"#fb9f3a\"],[0.8888888888888888,\"#fdca26\"],[1.0,\"#f0f921\"]]},\"colorway\":[\"#636efa\",\"#EF553B\",\"#00cc96\",\"#ab63fa\",\"#FFA15A\",\"#19d3f3\",\"#FF6692\",\"#B6E880\",\"#FF97FF\",\"#FECB52\"],\"font\":{\"color\":\"#2a3f5f\"},\"geo\":{\"bgcolor\":\"white\",\"lakecolor\":\"white\",\"landcolor\":\"#E5ECF6\",\"showlakes\":true,\"showland\":true,\"subunitcolor\":\"white\"},\"hoverlabel\":{\"align\":\"left\"},\"hovermode\":\"closest\",\"mapbox\":{\"style\":\"light\"},\"paper_bgcolor\":\"white\",\"plot_bgcolor\":\"#E5ECF6\",\"polar\":{\"angularaxis\":{\"gridcolor\":\"white\",\"linecolor\":\"white\",\"ticks\":\"\"},\"bgcolor\":\"#E5ECF6\",\"radialaxis\":{\"gridcolor\":\"white\",\"linecolor\":\"white\",\"ticks\":\"\"}},\"scene\":{\"xaxis\":{\"backgroundcolor\":\"#E5ECF6\",\"gridcolor\":\"white\",\"gridwidth\":2,\"linecolor\":\"white\",\"showbackground\":true,\"ticks\":\"\",\"zerolinecolor\":\"white\"},\"yaxis\":{\"backgroundcolor\":\"#E5ECF6\",\"gridcolor\":\"white\",\"gridwidth\":2,\"linecolor\":\"white\",\"showbackground\":true,\"ticks\":\"\",\"zerolinecolor\":\"white\"},\"zaxis\":{\"backgroundcolor\":\"#E5ECF6\",\"gridcolor\":\"white\",\"gridwidth\":2,\"linecolor\":\"white\",\"showbackground\":true,\"ticks\":\"\",\"zerolinecolor\":\"white\"}},\"shapedefaults\":{\"line\":{\"color\":\"#2a3f5f\"}},\"ternary\":{\"aaxis\":{\"gridcolor\":\"white\",\"linecolor\":\"white\",\"ticks\":\"\"},\"baxis\":{\"gridcolor\":\"white\",\"linecolor\":\"white\",\"ticks\":\"\"},\"bgcolor\":\"#E5ECF6\",\"caxis\":{\"gridcolor\":\"white\",\"linecolor\":\"white\",\"ticks\":\"\"}},\"title\":{\"x\":0.05},\"xaxis\":{\"automargin\":true,\"gridcolor\":\"white\",\"linecolor\":\"white\",\"ticks\":\"\",\"title\":{\"standoff\":15},\"zerolinecolor\":\"white\",\"zerolinewidth\":2},\"yaxis\":{\"automargin\":true,\"gridcolor\":\"white\",\"linecolor\":\"white\",\"ticks\":\"\",\"title\":{\"standoff\":15},\"zerolinecolor\":\"white\",\"zerolinewidth\":2}}},\"polar\":{\"domain\":{\"x\":[0.0,1.0],\"y\":[0.0,1.0]},\"angularaxis\":{\"direction\":\"clockwise\",\"rotation\":90}},\"legend\":{\"tracegroupgap\":0},\"margin\":{\"t\":60}},                        {\"responsive\": true}                    ).then(function(){\n",
       "                            \n",
       "var gd = document.getElementById('9cab19e6-d093-409e-b698-74f932fe68ac');\n",
       "var x = new MutationObserver(function (mutations, observer) {{\n",
       "        var display = window.getComputedStyle(gd).display;\n",
       "        if (!display || display === 'none') {{\n",
       "            console.log([gd, 'removed!']);\n",
       "            Plotly.purge(gd);\n",
       "            observer.disconnect();\n",
       "        }}\n",
       "}});\n",
       "\n",
       "// Listen for the removal of the full notebook cells\n",
       "var notebookContainer = gd.closest('#notebook-container');\n",
       "if (notebookContainer) {{\n",
       "    x.observe(notebookContainer, {childList: true});\n",
       "}}\n",
       "\n",
       "// Listen for the clearing of the current output cell\n",
       "var outputEl = gd.closest('.output');\n",
       "if (outputEl) {{\n",
       "    x.observe(outputEl, {childList: true});\n",
       "}}\n",
       "\n",
       "                        })                };                });            </script>        </div>"
      ]
     },
     "metadata": {},
     "output_type": "display_data"
    }
   ],
   "source": [
    "#Income Vs State Domicile\n",
    "fig = px.line_polar(demo_data, r='income', theta='state_code_val', line_close=True)\n",
    "fig.show()"
   ]
  },
  {
   "cell_type": "markdown",
   "metadata": {},
   "source": [
    "#### Income and Age Example ####"
   ]
  },
  {
   "cell_type": "code",
   "execution_count": 571,
   "metadata": {},
   "outputs": [],
   "source": [
    "def plot_clusters_simple(df_column):\n",
    "    plt.scatter(df_column.iloc[:,0], df_column.iloc[:,1], c= kmeans.labels_.astype(float), s=50, alpha=0.5)\n",
    "    plt.scatter(centroids[:, 0], centroids[:, 1], c='red', s=50, marker='*')\n",
    "    plt.xlabel('Income($)')\n",
    "    plt.ylabel('Age')\n",
    "    plt.show()"
   ]
  },
  {
   "cell_type": "code",
   "execution_count": 572,
   "metadata": {},
   "outputs": [],
   "source": [
    "#Income and Age Example\n",
    "demo_kmean = demo_data[['income','age']]\n",
    "#Scale Data\n",
    "ss = StandardScaler()\n",
    "scaled_df = ss.fit_transform(demo_kmean)\n",
    "#Scaling PCA Componenent\n",
    "pca = PCA(n_components=2)\n",
    "X_pca = pca.fit_transform(demo_kmean)\n",
    "components = pca.components_\n",
    "kmeans = KMeans(n_clusters=3).fit(demo_kmean)\n",
    "k_labels = kmeans.labels_\n",
    "centroids = kmeans.cluster_centers_"
   ]
  },
  {
   "cell_type": "code",
   "execution_count": 573,
   "metadata": {},
   "outputs": [
    {
     "data": {
      "image/png": "[encoded data removed]",
      "text/plain": [
       "<Figure size 864x432 with 1 Axes>"
      ]
     },
     "metadata": {
      "needs_background": "light"
     },
     "output_type": "display_data"
    }
   ],
   "source": [
    "#Income and Age Plot\n",
    "plot_clusters(X_pca, k_labels, plt_cluster_centers=True)"
   ]
  },
  {
   "cell_type": "code",
   "execution_count": 574,
   "metadata": {},
   "outputs": [
    {
     "data": {
      "image/png": "[encoded data removed]",
      "text/plain": [
       "<Figure size 864x432 with 1 Axes>"
      ]
     },
     "metadata": {
      "needs_background": "light"
     },
     "output_type": "display_data"
    }
   ],
   "source": [
    "#Income and Age Example\n",
    "kmeans = KMeans(n_clusters=4).fit(demo_kmean)\n",
    "centroids = kmeans.cluster_centers_\n",
    "plot_clusters_simple(demo_kmean)"
   ]
  },
  {
   "cell_type": "code",
   "execution_count": 575,
   "metadata": {},
   "outputs": [
    {
     "data": {
      "text/plain": [
       "count       747.000000\n",
       "mean      22728.281124\n",
       "std       22207.221405\n",
       "min           0.000000\n",
       "25%        7118.500000\n",
       "50%       17242.000000\n",
       "75%       31338.000000\n",
       "max      144157.000000\n",
       "Name: income, dtype: float64"
      ]
     },
     "execution_count": 575,
     "metadata": {},
     "output_type": "execute_result"
    }
   ],
   "source": [
    "demo_data['income'].describe()"
   ]
  },
  {
   "cell_type": "code",
   "execution_count": 576,
   "metadata": {},
   "outputs": [
    {
     "data": {
      "text/plain": [
       "count    747.000000\n",
       "mean      42.479250\n",
       "std       19.114879\n",
       "min       13.000000\n",
       "25%       28.000000\n",
       "50%       42.000000\n",
       "75%       56.000000\n",
       "max       89.000000\n",
       "Name: age, dtype: float64"
      ]
     },
     "execution_count": 576,
     "metadata": {},
     "output_type": "execute_result"
    }
   ],
   "source": [
    "demo_data['age'].describe()"
   ]
  },
  {
   "cell_type": "code",
   "execution_count": 577,
   "metadata": {},
   "outputs": [
    {
     "data": {
      "application/vnd.plotly.v1+json": {
       "config": {
        "plotlyServerURL": "https://plot.ly"
       },
       "data": [
        {
         "hovertemplate": "income=%{r}<br>age=%{theta}<extra></extra>",
         "legendgroup": "",
         "line": {
          "color": "#636efa",
          "dash": "solid"
         },
         "marker": {
          "symbol": "circle"
         },
         "mode": "lines",
         "name": "",
         "r": [
          26150,
          6605,
          18548,
          47668,
          44554,
          15684,
          0,
          1929,
          39942,
          9622,
          25829,
          0,
          17622,
          8877,
          23351,
          0,
          10516,
          0,
          6354,
          21015,
          26505,
          3158,
          66930,
          19494,
          19334,
          6493,
          3171,
          8976,
          30664,
          21751,
          24326,
          76087,
          56597,
          36330,
          39991,
          24344,
          0,
          21663,
          13148,
          22690,
          10025,
          43317,
          24545,
          18036,
          10244,
          8011,
          24450,
          7571,
          17099,
          47083,
          0,
          0,
          60104,
          19823,
          24476,
          24368,
          34473,
          6300,
          51608,
          7335,
          29064,
          0,
          15246,
          17242,
          144157,
          27885,
          27492,
          5788,
          0,
          10933,
          15724,
          15993,
          4435,
          12396,
          9129,
          7431,
          16957,
          7633,
          0,
          1982,
          81509,
          25180,
          35502,
          0,
          23108,
          18350,
          12885,
          39704,
          55061,
          49258,
          7751,
          0,
          0,
          24534,
          0,
          31910,
          0,
          22001,
          14711,
          57194,
          28867,
          15530,
          20855,
          31040,
          8810,
          23206,
          57723,
          3994,
          90248,
          9351,
          8038,
          1039,
          7495,
          34080,
          14877,
          2925,
          84335,
          11935,
          83295,
          43900,
          68933,
          16422,
          24275,
          30676,
          0,
          12823,
          6356,
          13811,
          5488,
          0,
          27649,
          11944,
          2769,
          17559,
          12202,
          18144,
          34797,
          13295,
          0,
          56708,
          79057,
          75121,
          12258,
          2644,
          28864,
          0,
          3618,
          4391,
          38010,
          44288,
          5808,
          49731,
          2807,
          95585,
          15795,
          4626,
          10151,
          4604,
          55678,
          40898,
          39291,
          86744,
          3419,
          29363,
          36675,
          73785,
          11004,
          11375,
          9849,
          19789,
          21198,
          36873,
          9614,
          5022,
          29995,
          6105,
          30500,
          69432,
          12621,
          30224,
          18785,
          0,
          44472,
          0,
          57612,
          22437,
          15077,
          9916,
          12722,
          22758,
          29579,
          17612,
          18597,
          16865,
          14891,
          10430,
          0,
          7777,
          27814,
          41650,
          18891,
          37471,
          0,
          0,
          28402,
          27303,
          13515,
          29335,
          5940,
          6195,
          13750,
          13113,
          84120,
          41069,
          3400,
          19282,
          5772,
          49435,
          9146,
          19639,
          32739,
          34855,
          12485,
          12403,
          0,
          32551,
          3240,
          2715,
          45629,
          6144,
          0,
          3339,
          0,
          12106,
          0,
          0,
          61885,
          31054,
          23973,
          23843,
          3551,
          12728,
          4508,
          18760,
          36237,
          49623,
          129196,
          39703,
          19300,
          27258,
          25681,
          26598,
          11812,
          30068,
          17165,
          12690,
          35508,
          8381,
          17584,
          10919,
          12973,
          7968,
          28058,
          29241,
          0,
          0,
          19686,
          0,
          43315,
          19987,
          40252,
          0,
          5505,
          0,
          18449,
          26763,
          22680,
          20840,
          10608,
          27155,
          0,
          15301,
          9379,
          26364,
          17912,
          0,
          20889,
          18040,
          60242,
          0,
          0,
          36259,
          56384,
          20358,
          76376,
          0,
          2517,
          18390,
          8201,
          11725,
          30265,
          12310,
          22322,
          4300,
          15576,
          17750,
          18183,
          19840,
          29838,
          27269,
          77727,
          0,
          8301,
          10818,
          23085,
          12449,
          11918,
          41876,
          40671,
          9480,
          39250,
          35237,
          29403,
          0,
          36923,
          33010,
          0,
          82612,
          0,
          26936,
          31297,
          48479,
          3093,
          20745,
          33060,
          45464,
          17052,
          12033,
          20562,
          101177,
          9099,
          16579,
          14780,
          0,
          0,
          34394,
          12560,
          12599,
          37186,
          44758,
          0,
          41261,
          46884,
          7083,
          0,
          13352,
          22995,
          5456,
          8681,
          0,
          22783,
          9602,
          20684,
          25426,
          6618,
          13124,
          0,
          8575,
          0,
          26583,
          30674,
          8038,
          0,
          29120,
          57882,
          49631,
          12994,
          6355,
          0,
          17804,
          20179,
          54647,
          5918,
          0,
          0,
          12456,
          8257,
          30217,
          50704,
          21909,
          59542,
          10701,
          24131,
          15746,
          11029,
          0,
          30413,
          0,
          41317,
          11074,
          19863,
          37364,
          32700,
          43872,
          13137,
          7914,
          12988,
          2442,
          0,
          38736,
          45195,
          13497,
          8799,
          7735,
          33706,
          12436,
          33113,
          76891,
          5981,
          111004,
          31220,
          12072,
          127848,
          26008,
          8262,
          10053,
          23896,
          42532,
          72194,
          21646,
          17412,
          0,
          15399,
          12560,
          9271,
          18387,
          36586,
          9999,
          0,
          0,
          32065,
          20702,
          19088,
          9005,
          9495,
          5787,
          28093,
          59047,
          9738,
          7169,
          8961,
          57224,
          43737,
          49553,
          2772,
          56296,
          0,
          11244,
          14357,
          19019,
          30165,
          24090,
          0,
          22369,
          13241,
          77322,
          77893,
          31387,
          7642,
          0,
          28204,
          19645,
          11821,
          1591,
          0,
          21657,
          0,
          0,
          14141,
          90592,
          0,
          0,
          18176,
          3371,
          98566,
          30163,
          31732,
          27635,
          21384,
          65347,
          102286,
          30276,
          25827,
          4184,
          52542,
          63532,
          15554,
          6228,
          56266,
          7302,
          19041,
          6809,
          50890,
          0,
          11410,
          0,
          8345,
          22362,
          32728,
          4424,
          31496,
          39382,
          1565,
          17773,
          33905,
          29030,
          20691,
          58377,
          30989,
          22025,
          43582,
          13317,
          6909,
          26886,
          23883,
          93060,
          37180,
          17110,
          25973,
          10234,
          37438,
          29536,
          0,
          29040,
          3303,
          14769,
          0,
          35117,
          13087,
          16238,
          8048,
          44196,
          11946,
          0,
          9050,
          17401,
          68039,
          0,
          11600,
          19639,
          0,
          38917,
          19649,
          0,
          6479,
          12307,
          14011,
          0,
          26112,
          43381,
          16168,
          8282,
          0,
          7534,
          43408,
          0,
          3726,
          4366,
          8997,
          24815,
          11613,
          49437,
          6132,
          0,
          0,
          58217,
          11041,
          4187,
          32152,
          18806,
          28975,
          11485,
          39832,
          8120,
          13901,
          86055,
          25869,
          9307,
          19891,
          54734,
          7467,
          29570,
          22721,
          23476,
          0,
          94123,
          4804,
          6576,
          0,
          56088,
          29417,
          0,
          31013,
          26848,
          39754,
          0,
          7008,
          44071,
          20184,
          0,
          5779,
          20870,
          43691,
          2701,
          7701,
          19319,
          7826,
          0,
          13781,
          0,
          0,
          50980,
          26548,
          46712,
          44307,
          20926,
          27946,
          15895,
          58749,
          16718,
          15744,
          5848,
          0,
          26138,
          7154,
          11982,
          10250,
          31379,
          6700,
          142274,
          2858,
          0,
          14959,
          7617,
          41064,
          43710,
          34791,
          42031,
          7230,
          30015,
          6390,
          69205,
          18377,
          44592,
          28518,
          18466,
          40795,
          5781,
          84184,
          36761,
          1814,
          7353,
          15432,
          21746,
          16276,
          40798,
          4859,
          0,
          21460,
          43715,
          2684,
          24300,
          44307,
          0,
          57642,
          7005,
          13058,
          36464,
          8005,
          9848,
          8259,
          0,
          8423,
          47267,
          0,
          16986,
          36603,
          23294,
          44742,
          0,
          18663,
          65024,
          24843,
          75890,
          8088,
          17174,
          31641,
          4247,
          14458,
          46870,
          10800,
          12072,
          12664,
          20218,
          27239,
          38803,
          6108,
          49863,
          5920,
          0,
          23731,
          62234,
          52903,
          55888,
          2620,
          12158,
          83366,
          24368,
          0,
          24115,
          32581,
          0,
          0,
          54713,
          36614,
          46461,
          15139,
          2466,
          16319,
          24744,
          18920,
          2314,
          43829,
          9802,
          0,
          4431,
          29521,
          36605,
          13269,
          15864,
          2289,
          0,
          14795,
          26387,
          61300,
          15100,
          17875,
          26150
         ],
         "showlegend": false,
         "subplot": "polar",
         "theta": [
          46,
          71,
          38,
          54,
          59,
          53,
          16,
          79,
          41,
          46,
          29,
          15,
          44,
          26,
          51,
          15,
          41,
          17,
          66,
          18,
          50,
          80,
          58,
          46,
          42,
          74,
          22,
          28,
          56,
          64,
          60,
          52,
          31,
          46,
          40,
          32,
          15,
          54,
          48,
          25,
          35,
          30,
          52,
          36,
          52,
          82,
          44,
          23,
          47,
          43,
          13,
          13,
          56,
          55,
          46,
          63,
          52,
          77,
          39,
          28,
          35,
          15,
          29,
          60,
          58,
          34,
          49,
          35,
          15,
          18,
          41,
          30,
          65,
          60,
          66,
          37,
          34,
          53,
          14,
          28,
          41,
          56,
          42,
          15,
          69,
          38,
          61,
          53,
          30,
          49,
          41,
          13,
          15,
          40,
          16,
          44,
          17,
          44,
          73,
          31,
          77,
          57,
          36,
          60,
          35,
          64,
          57,
          87,
          55,
          46,
          22,
          79,
          88,
          49,
          33,
          29,
          43,
          60,
          58,
          36,
          52,
          32,
          55,
          46,
          14,
          66,
          18,
          50,
          33,
          16,
          58,
          40,
          18,
          51,
          79,
          28,
          69,
          38,
          15,
          40,
          57,
          58,
          39,
          23,
          59,
          15,
          89,
          66,
          60,
          34,
          19,
          62,
          54,
          53,
          63,
          78,
          34,
          65,
          43,
          39,
          58,
          57,
          28,
          36,
          36,
          43,
          72,
          26,
          60,
          39,
          50,
          59,
          65,
          84,
          31,
          26,
          57,
          58,
          66,
          73,
          28,
          14,
          47,
          16,
          58,
          64,
          74,
          33,
          49,
          30,
          43,
          30,
          19,
          19,
          43,
          26,
          14,
          18,
          24,
          30,
          69,
          55,
          13,
          17,
          74,
          59,
          23,
          50,
          28,
          75,
          19,
          19,
          57,
          57,
          18,
          40,
          18,
          44,
          80,
          36,
          59,
          40,
          24,
          31,
          16,
          47,
          64,
          61,
          44,
          22,
          16,
          20,
          15,
          19,
          17,
          15,
          52,
          55,
          45,
          59,
          27,
          35,
          69,
          48,
          41,
          55,
          55,
          38,
          57,
          69,
          56,
          57,
          32,
          69,
          38,
          55,
          56,
          44,
          64,
          73,
          50,
          68,
          32,
          58,
          15,
          13,
          64,
          15,
          33,
          45,
          40,
          16,
          18,
          15,
          39,
          31,
          64,
          42,
          63,
          22,
          17,
          69,
          69,
          41,
          32,
          14,
          23,
          27,
          41,
          15,
          13,
          45,
          35,
          42,
          56,
          17,
          83,
          38,
          18,
          30,
          34,
          40,
          50,
          24,
          46,
          56,
          33,
          50,
          36,
          68,
          57,
          17,
          82,
          28,
          27,
          32,
          19,
          37,
          30,
          42,
          57,
          55,
          36,
          16,
          53,
          55,
          16,
          56,
          14,
          64,
          40,
          46,
          82,
          46,
          41,
          57,
          41,
          85,
          50,
          50,
          28,
          35,
          88,
          15,
          13,
          54,
          31,
          37,
          36,
          53,
          17,
          34,
          36,
          77,
          16,
          48,
          21,
          63,
          68,
          13,
          25,
          79,
          44,
          46,
          39,
          66,
          17,
          52,
          15,
          23,
          64,
          80,
          15,
          36,
          39,
          54,
          26,
          77,
          15,
          21,
          49,
          48,
          29,
          17,
          16,
          31,
          29,
          46,
          55,
          51,
          57,
          76,
          47,
          30,
          46,
          15,
          37,
          13,
          54,
          52,
          48,
          52,
          53,
          41,
          72,
          81,
          37,
          19,
          16,
          48,
          59,
          61,
          27,
          53,
          56,
          29,
          55,
          42,
          74,
          52,
          34,
          67,
          54,
          34,
          60,
          42,
          34,
          39,
          32,
          49,
          33,
          17,
          60,
          46,
          28,
          18,
          51,
          44,
          13,
          15,
          48,
          30,
          52,
          26,
          25,
          18,
          69,
          55,
          56,
          39,
          86,
          35,
          66,
          53,
          22,
          38,
          16,
          72,
          77,
          70,
          37,
          67,
          14,
          32,
          18,
          36,
          35,
          42,
          66,
          14,
          40,
          39,
          29,
          25,
          13,
          49,
          17,
          14,
          18,
          50,
          17,
          15,
          68,
          19,
          43,
          38,
          35,
          40,
          58,
          58,
          56,
          45,
          75,
          27,
          35,
          46,
          73,
          84,
          44,
          19,
          38,
          60,
          33,
          15,
          82,
          16,
          19,
          63,
          53,
          18,
          25,
          24,
          82,
          37,
          52,
          44,
          44,
          49,
          45,
          44,
          42,
          19,
          54,
          34,
          75,
          50,
          65,
          68,
          57,
          18,
          62,
          43,
          14,
          32,
          61,
          31,
          16,
          57,
          22,
          33,
          26,
          30,
          60,
          17,
          65,
          18,
          48,
          17,
          18,
          25,
          17,
          51,
          66,
          17,
          65,
          29,
          29,
          15,
          36,
          48,
          49,
          73,
          16,
          61,
          40,
          13,
          71,
          61,
          23,
          32,
          39,
          47,
          21,
          14,
          14,
          55,
          83,
          19,
          32,
          19,
          54,
          70,
          58,
          65,
          76,
          50,
          54,
          41,
          70,
          50,
          41,
          49,
          53,
          19,
          14,
          51,
          74,
          45,
          16,
          46,
          33,
          14,
          31,
          67,
          57,
          15,
          40,
          39,
          41,
          15,
          79,
          48,
          68,
          70,
          25,
          24,
          18,
          15,
          50,
          13,
          16,
          51,
          46,
          47,
          53,
          70,
          39,
          46,
          50,
          23,
          50,
          83,
          15,
          65,
          65,
          33,
          69,
          41,
          23,
          54,
          83,
          13,
          21,
          43,
          55,
          31,
          52,
          32,
          62,
          30,
          41,
          53,
          36,
          43,
          31,
          31,
          66,
          80,
          37,
          55,
          18,
          19,
          62,
          30,
          40,
          36,
          29,
          14,
          53,
          33,
          26,
          47,
          33,
          15,
          59,
          77,
          27,
          32,
          33,
          42,
          29,
          15,
          38,
          54,
          16,
          40,
          65,
          51,
          31,
          17,
          39,
          43,
          61,
          40,
          84,
          81,
          47,
          55,
          49,
          59,
          89,
          69,
          55,
          34,
          57,
          41,
          19,
          55,
          66,
          17,
          22,
          30,
          40,
          35,
          22,
          35,
          46,
          33,
          15,
          48,
          33,
          13,
          17,
          55,
          38,
          52,
          63,
          62,
          50,
          30,
          51,
          88,
          43,
          66,
          17,
          62,
          48,
          40,
          50,
          66,
          34,
          15,
          36,
          56,
          50,
          37,
          18,
          46
         ],
         "type": "scatterpolar"
        }
       ],
       "layout": {
        "autosize": true,
        "legend": {
         "tracegroupgap": 0
        },
        "margin": {
         "t": 60
        },
        "polar": {
         "angularaxis": {
          "direction": "clockwise",
          "rotation": 90,
          "type": "linear"
         },
         "domain": {
          "x": [
           0,
           1
          ],
          "y": [
           0,
           1
          ]
         },
         "radialaxis": {
          "autorange": true,
          "range": [
           0,
           144157
          ],
          "type": "linear"
         }
        },
        "template": {
         "data": {
          "bar": [
           {
            "error_x": {
             "color": "#2a3f5f"
            },
            "error_y": {
             "color": "#2a3f5f"
            },
            "marker": {
             "line": {
              "color": "#E5ECF6",
              "width": 0.5
             },
             "pattern": {
              "fillmode": "overlay",
              "size": 10,
              "solidity": 0.2
             }
            },
            "type": "bar"
           }
          ],
          "barpolar": [
           {
            "marker": {
             "line": {
              "color": "#E5ECF6",
              "width": 0.5
             },
             "pattern": {
              "fillmode": "overlay",
              "size": 10,
              "solidity": 0.2
             }
            },
            "type": "barpolar"
           }
          ],
          "carpet": [
           {
            "aaxis": {
             "endlinecolor": "#2a3f5f",
             "gridcolor": "white",
             "linecolor": "white",
             "minorgridcolor": "white",
             "startlinecolor": "#2a3f5f"
            },
            "baxis": {
             "endlinecolor": "#2a3f5f",
             "gridcolor": "white",
             "linecolor": "white",
             "minorgridcolor": "white",
             "startlinecolor": "#2a3f5f"
            },
            "type": "carpet"
           }
          ],
          "choropleth": [
           {
            "colorbar": {
             "outlinewidth": 0,
             "ticks": ""
            },
            "type": "choropleth"
           }
          ],
          "contour": [
           {
            "colorbar": {
             "outlinewidth": 0,
             "ticks": ""
            },
            "colorscale": [
             [
              0,
              "#0d0887"
             ],
             [
              0.1111111111111111,
              "#46039f"
             ],
             [
              0.2222222222222222,
              "#7201a8"
             ],
             [
              0.3333333333333333,
              "#9c179e"
             ],
             [
              0.4444444444444444,
              "#bd3786"
             ],
             [
              0.5555555555555556,
              "#d8576b"
             ],
             [
              0.6666666666666666,
              "#ed7953"
             ],
             [
              0.7777777777777778,
              "#fb9f3a"
             ],
             [
              0.8888888888888888,
              "#fdca26"
             ],
             [
              1,
              "#f0f921"
             ]
            ],
            "type": "contour"
           }
          ],
          "contourcarpet": [
           {
            "colorbar": {
             "outlinewidth": 0,
             "ticks": ""
            },
            "type": "contourcarpet"
           }
          ],
          "heatmap": [
           {
            "colorbar": {
             "outlinewidth": 0,
             "ticks": ""
            },
            "colorscale": [
             [
              0,
              "#0d0887"
             ],
             [
              0.1111111111111111,
              "#46039f"
             ],
             [
              0.2222222222222222,
              "#7201a8"
             ],
             [
              0.3333333333333333,
              "#9c179e"
             ],
             [
              0.4444444444444444,
              "#bd3786"
             ],
             [
              0.5555555555555556,
              "#d8576b"
             ],
             [
              0.6666666666666666,
              "#ed7953"
             ],
             [
              0.7777777777777778,
              "#fb9f3a"
             ],
             [
              0.8888888888888888,
              "#fdca26"
             ],
             [
              1,
              "#f0f921"
             ]
            ],
            "type": "heatmap"
           }
          ],
          "heatmapgl": [
           {
            "colorbar": {
             "outlinewidth": 0,
             "ticks": ""
            },
            "colorscale": [
             [
              0,
              "#0d0887"
             ],
             [
              0.1111111111111111,
              "#46039f"
             ],
             [
              0.2222222222222222,
              "#7201a8"
             ],
             [
              0.3333333333333333,
              "#9c179e"
             ],
             [
              0.4444444444444444,
              "#bd3786"
             ],
             [
              0.5555555555555556,
              "#d8576b"
             ],
             [
              0.6666666666666666,
              "#ed7953"
             ],
             [
              0.7777777777777778,
              "#fb9f3a"
             ],
             [
              0.8888888888888888,
              "#fdca26"
             ],
             [
              1,
              "#f0f921"
             ]
            ],
            "type": "heatmapgl"
           }
          ],
          "histogram": [
           {
            "marker": {
             "pattern": {
              "fillmode": "overlay",
              "size": 10,
              "solidity": 0.2
             }
            },
            "type": "histogram"
           }
          ],
          "histogram2d": [
           {
            "colorbar": {
             "outlinewidth": 0,
             "ticks": ""
            },
            "colorscale": [
             [
              0,
              "#0d0887"
             ],
             [
              0.1111111111111111,
              "#46039f"
             ],
             [
              0.2222222222222222,
              "#7201a8"
             ],
             [
              0.3333333333333333,
              "#9c179e"
             ],
             [
              0.4444444444444444,
              "#bd3786"
             ],
             [
              0.5555555555555556,
              "#d8576b"
             ],
             [
              0.6666666666666666,
              "#ed7953"
             ],
             [
              0.7777777777777778,
              "#fb9f3a"
             ],
             [
              0.8888888888888888,
              "#fdca26"
             ],
             [
              1,
              "#f0f921"
             ]
            ],
            "type": "histogram2d"
           }
          ],
          "histogram2dcontour": [
           {
            "colorbar": {
             "outlinewidth": 0,
             "ticks": ""
            },
            "colorscale": [
             [
              0,
              "#0d0887"
             ],
             [
              0.1111111111111111,
              "#46039f"
             ],
             [
              0.2222222222222222,
              "#7201a8"
             ],
             [
              0.3333333333333333,
              "#9c179e"
             ],
             [
              0.4444444444444444,
              "#bd3786"
             ],
             [
              0.5555555555555556,
              "#d8576b"
             ],
             [
              0.6666666666666666,
              "#ed7953"
             ],
             [
              0.7777777777777778,
              "#fb9f3a"
             ],
             [
              0.8888888888888888,
              "#fdca26"
             ],
             [
              1,
              "#f0f921"
             ]
            ],
            "type": "histogram2dcontour"
           }
          ],
          "mesh3d": [
           {
            "colorbar": {
             "outlinewidth": 0,
             "ticks": ""
            },
            "type": "mesh3d"
           }
          ],
          "parcoords": [
           {
            "line": {
             "colorbar": {
              "outlinewidth": 0,
              "ticks": ""
             }
            },
            "type": "parcoords"
           }
          ],
          "pie": [
           {
            "automargin": true,
            "type": "pie"
           }
          ],
          "scatter": [
           {
            "marker": {
             "colorbar": {
              "outlinewidth": 0,
              "ticks": ""
             }
            },
            "type": "scatter"
           }
          ],
          "scatter3d": [
           {
            "line": {
             "colorbar": {
              "outlinewidth": 0,
              "ticks": ""
             }
            },
            "marker": {
             "colorbar": {
              "outlinewidth": 0,
              "ticks": ""
             }
            },
            "type": "scatter3d"
           }
          ],
          "scattercarpet": [
           {
            "marker": {
             "colorbar": {
              "outlinewidth": 0,
              "ticks": ""
             }
            },
            "type": "scattercarpet"
           }
          ],
          "scattergeo": [
           {
            "marker": {
             "colorbar": {
              "outlinewidth": 0,
              "ticks": ""
             }
            },
            "type": "scattergeo"
           }
          ],
          "scattergl": [
           {
            "marker": {
             "colorbar": {
              "outlinewidth": 0,
              "ticks": ""
             }
            },
            "type": "scattergl"
           }
          ],
          "scattermapbox": [
           {
            "marker": {
             "colorbar": {
              "outlinewidth": 0,
              "ticks": ""
             }
            },
            "type": "scattermapbox"
           }
          ],
          "scatterpolar": [
           {
            "marker": {
             "colorbar": {
              "outlinewidth": 0,
              "ticks": ""
             }
            },
            "type": "scatterpolar"
           }
          ],
          "scatterpolargl": [
           {
            "marker": {
             "colorbar": {
              "outlinewidth": 0,
              "ticks": ""
             }
            },
            "type": "scatterpolargl"
           }
          ],
          "scatterternary": [
           {
            "marker": {
             "colorbar": {
              "outlinewidth": 0,
              "ticks": ""
             }
            },
            "type": "scatterternary"
           }
          ],
          "surface": [
           {
            "colorbar": {
             "outlinewidth": 0,
             "ticks": ""
            },
            "colorscale": [
             [
              0,
              "#0d0887"
             ],
             [
              0.1111111111111111,
              "#46039f"
             ],
             [
              0.2222222222222222,
              "#7201a8"
             ],
             [
              0.3333333333333333,
              "#9c179e"
             ],
             [
              0.4444444444444444,
              "#bd3786"
             ],
             [
              0.5555555555555556,
              "#d8576b"
             ],
             [
              0.6666666666666666,
              "#ed7953"
             ],
             [
              0.7777777777777778,
              "#fb9f3a"
             ],
             [
              0.8888888888888888,
              "#fdca26"
             ],
             [
              1,
              "#f0f921"
             ]
            ],
            "type": "surface"
           }
          ],
          "table": [
           {
            "cells": {
             "fill": {
              "color": "#EBF0F8"
             },
             "line": {
              "color": "white"
             }
            },
            "header": {
             "fill": {
              "color": "#C8D4E3"
             },
             "line": {
              "color": "white"
             }
            },
            "type": "table"
           }
          ]
         },
         "layout": {
          "annotationdefaults": {
           "arrowcolor": "#2a3f5f",
           "arrowhead": 0,
           "arrowwidth": 1
          },
          "autotypenumbers": "strict",
          "coloraxis": {
           "colorbar": {
            "outlinewidth": 0,
            "ticks": ""
           }
          },
          "colorscale": {
           "diverging": [
            [
             0,
             "#8e0152"
            ],
            [
             0.1,
             "#c51b7d"
            ],
            [
             0.2,
             "#de77ae"
            ],
            [
             0.3,
             "#f1b6da"
            ],
            [
             0.4,
             "#fde0ef"
            ],
            [
             0.5,
             "#f7f7f7"
            ],
            [
             0.6,
             "#e6f5d0"
            ],
            [
             0.7,
             "#b8e186"
            ],
            [
             0.8,
             "#7fbc41"
            ],
            [
             0.9,
             "#4d9221"
            ],
            [
             1,
             "#276419"
            ]
           ],
           "sequential": [
            [
             0,
             "#0d0887"
            ],
            [
             0.1111111111111111,
             "#46039f"
            ],
            [
             0.2222222222222222,
             "#7201a8"
            ],
            [
             0.3333333333333333,
             "#9c179e"
            ],
            [
             0.4444444444444444,
             "#bd3786"
            ],
            [
             0.5555555555555556,
             "#d8576b"
            ],
            [
             0.6666666666666666,
             "#ed7953"
            ],
            [
             0.7777777777777778,
             "#fb9f3a"
            ],
            [
             0.8888888888888888,
             "#fdca26"
            ],
            [
             1,
             "#f0f921"
            ]
           ],
           "sequentialminus": [
            [
             0,
             "#0d0887"
            ],
            [
             0.1111111111111111,
             "#46039f"
            ],
            [
             0.2222222222222222,
             "#7201a8"
            ],
            [
             0.3333333333333333,
             "#9c179e"
            ],
            [
             0.4444444444444444,
             "#bd3786"
            ],
            [
             0.5555555555555556,
             "#d8576b"
            ],
            [
             0.6666666666666666,
             "#ed7953"
            ],
            [
             0.7777777777777778,
             "#fb9f3a"
            ],
            [
             0.8888888888888888,
             "#fdca26"
            ],
            [
             1,
             "#f0f921"
            ]
           ]
          },
          "colorway": [
           "#636efa",
           "#EF553B",
           "#00cc96",
           "#ab63fa",
           "#FFA15A",
           "#19d3f3",
           "#FF6692",
           "#B6E880",
           "#FF97FF",
           "#FECB52"
          ],
          "font": {
           "color": "#2a3f5f"
          },
          "geo": {
           "bgcolor": "white",
           "lakecolor": "white",
           "landcolor": "#E5ECF6",
           "showlakes": true,
           "showland": true,
           "subunitcolor": "white"
          },
          "hoverlabel": {
           "align": "left"
          },
          "hovermode": "closest",
          "mapbox": {
           "style": "light"
          },
          "paper_bgcolor": "white",
          "plot_bgcolor": "#E5ECF6",
          "polar": {
           "angularaxis": {
            "gridcolor": "white",
            "linecolor": "white",
            "ticks": ""
           },
           "bgcolor": "#E5ECF6",
           "radialaxis": {
            "gridcolor": "white",
            "linecolor": "white",
            "ticks": ""
           }
          },
          "scene": {
           "xaxis": {
            "backgroundcolor": "#E5ECF6",
            "gridcolor": "white",
            "gridwidth": 2,
            "linecolor": "white",
            "showbackground": true,
            "ticks": "",
            "zerolinecolor": "white"
           },
           "yaxis": {
            "backgroundcolor": "#E5ECF6",
            "gridcolor": "white",
            "gridwidth": 2,
            "linecolor": "white",
            "showbackground": true,
            "ticks": "",
            "zerolinecolor": "white"
           },
           "zaxis": {
            "backgroundcolor": "#E5ECF6",
            "gridcolor": "white",
            "gridwidth": 2,
            "linecolor": "white",
            "showbackground": true,
            "ticks": "",
            "zerolinecolor": "white"
           }
          },
          "shapedefaults": {
           "line": {
            "color": "#2a3f5f"
           }
          },
          "ternary": {
           "aaxis": {
            "gridcolor": "white",
            "linecolor": "white",
            "ticks": ""
           },
           "baxis": {
            "gridcolor": "white",
            "linecolor": "white",
            "ticks": ""
           },
           "bgcolor": "#E5ECF6",
           "caxis": {
            "gridcolor": "white",
            "linecolor": "white",
            "ticks": ""
           }
          },
          "title": {
           "x": 0.05
          },
          "xaxis": {
           "automargin": true,
           "gridcolor": "white",
           "linecolor": "white",
           "ticks": "",
           "title": {
            "standoff": 15
           },
           "zerolinecolor": "white",
           "zerolinewidth": 2
          },
          "yaxis": {
           "automargin": true,
           "gridcolor": "white",
           "linecolor": "white",
           "ticks": "",
           "title": {
            "standoff": 15
           },
           "zerolinecolor": "white",
           "zerolinewidth": 2
          }
         }
        }
       }
      },
      "image/png": "[encoded data removed]",
      "text/html": [
       "<div>                            <div id=\"7f41e7f8-082d-42b9-b7a6-deeb958a1bfd\" class=\"plotly-graph-div\" style=\"height:525px; width:100%;\"></div>            <script type=\"text/javascript\">                require([\"plotly\"], function(Plotly) {                    window.PLOTLYENV=window.PLOTLYENV || {};                                    if (document.getElementById(\"7f41e7f8-082d-42b9-b7a6-deeb958a1bfd\")) {                    Plotly.newPlot(                        \"7f41e7f8-082d-42b9-b7a6-deeb958a1bfd\",                        [{\"hovertemplate\":\"income=%{r}<br>age=%{theta}<extra></extra>\",\"legendgroup\":\"\",\"line\":{\"color\":\"#636efa\",\"dash\":\"solid\"},\"marker\":{\"symbol\":\"circle\"},\"mode\":\"lines\",\"name\":\"\",\"r\":[26150,6605,18548,47668,44554,15684,0,1929,39942,9622,25829,0,17622,8877,23351,0,10516,0,6354,21015,26505,3158,66930,19494,19334,6493,3171,8976,30664,21751,24326,76087,56597,36330,39991,24344,0,21663,13148,22690,10025,43317,24545,18036,10244,8011,24450,7571,17099,47083,0,0,60104,19823,24476,24368,34473,6300,51608,7335,29064,0,15246,17242,144157,27885,27492,5788,0,10933,15724,15993,4435,12396,9129,7431,16957,7633,0,1982,81509,25180,35502,0,23108,18350,12885,39704,55061,49258,7751,0,0,24534,0,31910,0,22001,14711,57194,28867,15530,20855,31040,8810,23206,57723,3994,90248,9351,8038,1039,7495,34080,14877,2925,84335,11935,83295,43900,68933,16422,24275,30676,0,12823,6356,13811,5488,0,27649,11944,2769,17559,12202,18144,34797,13295,0,56708,79057,75121,12258,2644,28864,0,3618,4391,38010,44288,5808,49731,2807,95585,15795,4626,10151,4604,55678,40898,39291,86744,3419,29363,36675,73785,11004,11375,9849,19789,21198,36873,9614,5022,29995,6105,30500,69432,12621,30224,18785,0,44472,0,57612,22437,15077,9916,12722,22758,29579,17612,18597,16865,14891,10430,0,7777,27814,41650,18891,37471,0,0,28402,27303,13515,29335,5940,6195,13750,13113,84120,41069,3400,19282,5772,49435,9146,19639,32739,34855,12485,12403,0,32551,3240,2715,45629,6144,0,3339,0,12106,0,0,61885,31054,23973,23843,3551,12728,4508,18760,36237,49623,129196,39703,19300,27258,25681,26598,11812,30068,17165,12690,35508,8381,17584,10919,12973,7968,28058,29241,0,0,19686,0,43315,19987,40252,0,5505,0,18449,26763,22680,20840,10608,27155,0,15301,9379,26364,17912,0,20889,18040,60242,0,0,36259,56384,20358,76376,0,2517,18390,8201,11725,30265,12310,22322,4300,15576,17750,18183,19840,29838,27269,77727,0,8301,10818,23085,12449,11918,41876,40671,9480,39250,35237,29403,0,36923,33010,0,82612,0,26936,31297,48479,3093,20745,33060,45464,17052,12033,20562,101177,9099,16579,14780,0,0,34394,12560,12599,37186,44758,0,41261,46884,7083,0,13352,22995,5456,8681,0,22783,9602,20684,25426,6618,13124,0,8575,0,26583,30674,8038,0,29120,57882,49631,12994,6355,0,17804,20179,54647,5918,0,0,12456,8257,30217,50704,21909,59542,10701,24131,15746,11029,0,30413,0,41317,11074,19863,37364,32700,43872,13137,7914,12988,2442,0,38736,45195,13497,8799,7735,33706,12436,33113,76891,5981,111004,31220,12072,127848,26008,8262,10053,23896,42532,72194,21646,17412,0,15399,12560,9271,18387,36586,9999,0,0,32065,20702,19088,9005,9495,5787,28093,59047,9738,7169,8961,57224,43737,49553,2772,56296,0,11244,14357,19019,30165,24090,0,22369,13241,77322,77893,31387,7642,0,28204,19645,11821,1591,0,21657,0,0,14141,90592,0,0,18176,3371,98566,30163,31732,27635,21384,65347,102286,30276,25827,4184,52542,63532,15554,6228,56266,7302,19041,6809,50890,0,11410,0,8345,22362,32728,4424,31496,39382,1565,17773,33905,29030,20691,58377,30989,22025,43582,13317,6909,26886,23883,93060,37180,17110,25973,10234,37438,29536,0,29040,3303,14769,0,35117,13087,16238,8048,44196,11946,0,9050,17401,68039,0,11600,19639,0,38917,19649,0,6479,12307,14011,0,26112,43381,16168,8282,0,7534,43408,0,3726,4366,8997,24815,11613,49437,6132,0,0,58217,11041,4187,32152,18806,28975,11485,39832,8120,13901,86055,25869,9307,19891,54734,7467,29570,22721,23476,0,94123,4804,6576,0,56088,29417,0,31013,26848,39754,0,7008,44071,20184,0,5779,20870,43691,2701,7701,19319,7826,0,13781,0,0,50980,26548,46712,44307,20926,27946,15895,58749,16718,15744,5848,0,26138,7154,11982,10250,31379,6700,142274,2858,0,14959,7617,41064,43710,34791,42031,7230,30015,6390,69205,18377,44592,28518,18466,40795,5781,84184,36761,1814,7353,15432,21746,16276,40798,4859,0,21460,43715,2684,24300,44307,0,57642,7005,13058,36464,8005,9848,8259,0,8423,47267,0,16986,36603,23294,44742,0,18663,65024,24843,75890,8088,17174,31641,4247,14458,46870,10800,12072,12664,20218,27239,38803,6108,49863,5920,0,23731,62234,52903,55888,2620,12158,83366,24368,0,24115,32581,0,0,54713,36614,46461,15139,2466,16319,24744,18920,2314,43829,9802,0,4431,29521,36605,13269,15864,2289,0,14795,26387,61300,15100,17875,26150],\"showlegend\":false,\"subplot\":\"polar\",\"theta\":[46,71,38,54,59,53,16,79,41,46,29,15,44,26,51,15,41,17,66,18,50,80,58,46,42,74,22,28,56,64,60,52,31,46,40,32,15,54,48,25,35,30,52,36,52,82,44,23,47,43,13,13,56,55,46,63,52,77,39,28,35,15,29,60,58,34,49,35,15,18,41,30,65,60,66,37,34,53,14,28,41,56,42,15,69,38,61,53,30,49,41,13,15,40,16,44,17,44,73,31,77,57,36,60,35,64,57,87,55,46,22,79,88,49,33,29,43,60,58,36,52,32,55,46,14,66,18,50,33,16,58,40,18,51,79,28,69,38,15,40,57,58,39,23,59,15,89,66,60,34,19,62,54,53,63,78,34,65,43,39,58,57,28,36,36,43,72,26,60,39,50,59,65,84,31,26,57,58,66,73,28,14,47,16,58,64,74,33,49,30,43,30,19,19,43,26,14,18,24,30,69,55,13,17,74,59,23,50,28,75,19,19,57,57,18,40,18,44,80,36,59,40,24,31,16,47,64,61,44,22,16,20,15,19,17,15,52,55,45,59,27,35,69,48,41,55,55,38,57,69,56,57,32,69,38,55,56,44,64,73,50,68,32,58,15,13,64,15,33,45,40,16,18,15,39,31,64,42,63,22,17,69,69,41,32,14,23,27,41,15,13,45,35,42,56,17,83,38,18,30,34,40,50,24,46,56,33,50,36,68,57,17,82,28,27,32,19,37,30,42,57,55,36,16,53,55,16,56,14,64,40,46,82,46,41,57,41,85,50,50,28,35,88,15,13,54,31,37,36,53,17,34,36,77,16,48,21,63,68,13,25,79,44,46,39,66,17,52,15,23,64,80,15,36,39,54,26,77,15,21,49,48,29,17,16,31,29,46,55,51,57,76,47,30,46,15,37,13,54,52,48,52,53,41,72,81,37,19,16,48,59,61,27,53,56,29,55,42,74,52,34,67,54,34,60,42,34,39,32,49,33,17,60,46,28,18,51,44,13,15,48,30,52,26,25,18,69,55,56,39,86,35,66,53,22,38,16,72,77,70,37,67,14,32,18,36,35,42,66,14,40,39,29,25,13,49,17,14,18,50,17,15,68,19,43,38,35,40,58,58,56,45,75,27,35,46,73,84,44,19,38,60,33,15,82,16,19,63,53,18,25,24,82,37,52,44,44,49,45,44,42,19,54,34,75,50,65,68,57,18,62,43,14,32,61,31,16,57,22,33,26,30,60,17,65,18,48,17,18,25,17,51,66,17,65,29,29,15,36,48,49,73,16,61,40,13,71,61,23,32,39,47,21,14,14,55,83,19,32,19,54,70,58,65,76,50,54,41,70,50,41,49,53,19,14,51,74,45,16,46,33,14,31,67,57,15,40,39,41,15,79,48,68,70,25,24,18,15,50,13,16,51,46,47,53,70,39,46,50,23,50,83,15,65,65,33,69,41,23,54,83,13,21,43,55,31,52,32,62,30,41,53,36,43,31,31,66,80,37,55,18,19,62,30,40,36,29,14,53,33,26,47,33,15,59,77,27,32,33,42,29,15,38,54,16,40,65,51,31,17,39,43,61,40,84,81,47,55,49,59,89,69,55,34,57,41,19,55,66,17,22,30,40,35,22,35,46,33,15,48,33,13,17,55,38,52,63,62,50,30,51,88,43,66,17,62,48,40,50,66,34,15,36,56,50,37,18,46],\"type\":\"scatterpolar\"}],                        {\"template\":{\"data\":{\"bar\":[{\"error_x\":{\"color\":\"#2a3f5f\"},\"error_y\":{\"color\":\"#2a3f5f\"},\"marker\":{\"line\":{\"color\":\"#E5ECF6\",\"width\":0.5},\"pattern\":{\"fillmode\":\"overlay\",\"size\":10,\"solidity\":0.2}},\"type\":\"bar\"}],\"barpolar\":[{\"marker\":{\"line\":{\"color\":\"#E5ECF6\",\"width\":0.5},\"pattern\":{\"fillmode\":\"overlay\",\"size\":10,\"solidity\":0.2}},\"type\":\"barpolar\"}],\"carpet\":[{\"aaxis\":{\"endlinecolor\":\"#2a3f5f\",\"gridcolor\":\"white\",\"linecolor\":\"white\",\"minorgridcolor\":\"white\",\"startlinecolor\":\"#2a3f5f\"},\"baxis\":{\"endlinecolor\":\"#2a3f5f\",\"gridcolor\":\"white\",\"linecolor\":\"white\",\"minorgridcolor\":\"white\",\"startlinecolor\":\"#2a3f5f\"},\"type\":\"carpet\"}],\"choropleth\":[{\"colorbar\":{\"outlinewidth\":0,\"ticks\":\"\"},\"type\":\"choropleth\"}],\"contour\":[{\"colorbar\":{\"outlinewidth\":0,\"ticks\":\"\"},\"colorscale\":[[0.0,\"#0d0887\"],[0.1111111111111111,\"#46039f\"],[0.2222222222222222,\"#7201a8\"],[0.3333333333333333,\"#9c179e\"],[0.4444444444444444,\"#bd3786\"],[0.5555555555555556,\"#d8576b\"],[0.6666666666666666,\"#ed7953\"],[0.7777777777777778,\"#fb9f3a\"],[0.8888888888888888,\"#fdca26\"],[1.0,\"#f0f921\"]],\"type\":\"contour\"}],\"contourcarpet\":[{\"colorbar\":{\"outlinewidth\":0,\"ticks\":\"\"},\"type\":\"contourcarpet\"}],\"heatmap\":[{\"colorbar\":{\"outlinewidth\":0,\"ticks\":\"\"},\"colorscale\":[[0.0,\"#0d0887\"],[0.1111111111111111,\"#46039f\"],[0.2222222222222222,\"#7201a8\"],[0.3333333333333333,\"#9c179e\"],[0.4444444444444444,\"#bd3786\"],[0.5555555555555556,\"#d8576b\"],[0.6666666666666666,\"#ed7953\"],[0.7777777777777778,\"#fb9f3a\"],[0.8888888888888888,\"#fdca26\"],[1.0,\"#f0f921\"]],\"type\":\"heatmap\"}],\"heatmapgl\":[{\"colorbar\":{\"outlinewidth\":0,\"ticks\":\"\"},\"colorscale\":[[0.0,\"#0d0887\"],[0.1111111111111111,\"#46039f\"],[0.2222222222222222,\"#7201a8\"],[0.3333333333333333,\"#9c179e\"],[0.4444444444444444,\"#bd3786\"],[0.5555555555555556,\"#d8576b\"],[0.6666666666666666,\"#ed7953\"],[0.7777777777777778,\"#fb9f3a\"],[0.8888888888888888,\"#fdca26\"],[1.0,\"#f0f921\"]],\"type\":\"heatmapgl\"}],\"histogram\":[{\"marker\":{\"pattern\":{\"fillmode\":\"overlay\",\"size\":10,\"solidity\":0.2}},\"type\":\"histogram\"}],\"histogram2d\":[{\"colorbar\":{\"outlinewidth\":0,\"ticks\":\"\"},\"colorscale\":[[0.0,\"#0d0887\"],[0.1111111111111111,\"#46039f\"],[0.2222222222222222,\"#7201a8\"],[0.3333333333333333,\"#9c179e\"],[0.4444444444444444,\"#bd3786\"],[0.5555555555555556,\"#d8576b\"],[0.6666666666666666,\"#ed7953\"],[0.7777777777777778,\"#fb9f3a\"],[0.8888888888888888,\"#fdca26\"],[1.0,\"#f0f921\"]],\"type\":\"histogram2d\"}],\"histogram2dcontour\":[{\"colorbar\":{\"outlinewidth\":0,\"ticks\":\"\"},\"colorscale\":[[0.0,\"#0d0887\"],[0.1111111111111111,\"#46039f\"],[0.2222222222222222,\"#7201a8\"],[0.3333333333333333,\"#9c179e\"],[0.4444444444444444,\"#bd3786\"],[0.5555555555555556,\"#d8576b\"],[0.6666666666666666,\"#ed7953\"],[0.7777777777777778,\"#fb9f3a\"],[0.8888888888888888,\"#fdca26\"],[1.0,\"#f0f921\"]],\"type\":\"histogram2dcontour\"}],\"mesh3d\":[{\"colorbar\":{\"outlinewidth\":0,\"ticks\":\"\"},\"type\":\"mesh3d\"}],\"parcoords\":[{\"line\":{\"colorbar\":{\"outlinewidth\":0,\"ticks\":\"\"}},\"type\":\"parcoords\"}],\"pie\":[{\"automargin\":true,\"type\":\"pie\"}],\"scatter\":[{\"marker\":{\"colorbar\":{\"outlinewidth\":0,\"ticks\":\"\"}},\"type\":\"scatter\"}],\"scatter3d\":[{\"line\":{\"colorbar\":{\"outlinewidth\":0,\"ticks\":\"\"}},\"marker\":{\"colorbar\":{\"outlinewidth\":0,\"ticks\":\"\"}},\"type\":\"scatter3d\"}],\"scattercarpet\":[{\"marker\":{\"colorbar\":{\"outlinewidth\":0,\"ticks\":\"\"}},\"type\":\"scattercarpet\"}],\"scattergeo\":[{\"marker\":{\"colorbar\":{\"outlinewidth\":0,\"ticks\":\"\"}},\"type\":\"scattergeo\"}],\"scattergl\":[{\"marker\":{\"colorbar\":{\"outlinewidth\":0,\"ticks\":\"\"}},\"type\":\"scattergl\"}],\"scattermapbox\":[{\"marker\":{\"colorbar\":{\"outlinewidth\":0,\"ticks\":\"\"}},\"type\":\"scattermapbox\"}],\"scatterpolar\":[{\"marker\":{\"colorbar\":{\"outlinewidth\":0,\"ticks\":\"\"}},\"type\":\"scatterpolar\"}],\"scatterpolargl\":[{\"marker\":{\"colorbar\":{\"outlinewidth\":0,\"ticks\":\"\"}},\"type\":\"scatterpolargl\"}],\"scatterternary\":[{\"marker\":{\"colorbar\":{\"outlinewidth\":0,\"ticks\":\"\"}},\"type\":\"scatterternary\"}],\"surface\":[{\"colorbar\":{\"outlinewidth\":0,\"ticks\":\"\"},\"colorscale\":[[0.0,\"#0d0887\"],[0.1111111111111111,\"#46039f\"],[0.2222222222222222,\"#7201a8\"],[0.3333333333333333,\"#9c179e\"],[0.4444444444444444,\"#bd3786\"],[0.5555555555555556,\"#d8576b\"],[0.6666666666666666,\"#ed7953\"],[0.7777777777777778,\"#fb9f3a\"],[0.8888888888888888,\"#fdca26\"],[1.0,\"#f0f921\"]],\"type\":\"surface\"}],\"table\":[{\"cells\":{\"fill\":{\"color\":\"#EBF0F8\"},\"line\":{\"color\":\"white\"}},\"header\":{\"fill\":{\"color\":\"#C8D4E3\"},\"line\":{\"color\":\"white\"}},\"type\":\"table\"}]},\"layout\":{\"annotationdefaults\":{\"arrowcolor\":\"#2a3f5f\",\"arrowhead\":0,\"arrowwidth\":1},\"autotypenumbers\":\"strict\",\"coloraxis\":{\"colorbar\":{\"outlinewidth\":0,\"ticks\":\"\"}},\"colorscale\":{\"diverging\":[[0,\"#8e0152\"],[0.1,\"#c51b7d\"],[0.2,\"#de77ae\"],[0.3,\"#f1b6da\"],[0.4,\"#fde0ef\"],[0.5,\"#f7f7f7\"],[0.6,\"#e6f5d0\"],[0.7,\"#b8e186\"],[0.8,\"#7fbc41\"],[0.9,\"#4d9221\"],[1,\"#276419\"]],\"sequential\":[[0.0,\"#0d0887\"],[0.1111111111111111,\"#46039f\"],[0.2222222222222222,\"#7201a8\"],[0.3333333333333333,\"#9c179e\"],[0.4444444444444444,\"#bd3786\"],[0.5555555555555556,\"#d8576b\"],[0.6666666666666666,\"#ed7953\"],[0.7777777777777778,\"#fb9f3a\"],[0.8888888888888888,\"#fdca26\"],[1.0,\"#f0f921\"]],\"sequentialminus\":[[0.0,\"#0d0887\"],[0.1111111111111111,\"#46039f\"],[0.2222222222222222,\"#7201a8\"],[0.3333333333333333,\"#9c179e\"],[0.4444444444444444,\"#bd3786\"],[0.5555555555555556,\"#d8576b\"],[0.6666666666666666,\"#ed7953\"],[0.7777777777777778,\"#fb9f3a\"],[0.8888888888888888,\"#fdca26\"],[1.0,\"#f0f921\"]]},\"colorway\":[\"#636efa\",\"#EF553B\",\"#00cc96\",\"#ab63fa\",\"#FFA15A\",\"#19d3f3\",\"#FF6692\",\"#B6E880\",\"#FF97FF\",\"#FECB52\"],\"font\":{\"color\":\"#2a3f5f\"},\"geo\":{\"bgcolor\":\"white\",\"lakecolor\":\"white\",\"landcolor\":\"#E5ECF6\",\"showlakes\":true,\"showland\":true,\"subunitcolor\":\"white\"},\"hoverlabel\":{\"align\":\"left\"},\"hovermode\":\"closest\",\"mapbox\":{\"style\":\"light\"},\"paper_bgcolor\":\"white\",\"plot_bgcolor\":\"#E5ECF6\",\"polar\":{\"angularaxis\":{\"gridcolor\":\"white\",\"linecolor\":\"white\",\"ticks\":\"\"},\"bgcolor\":\"#E5ECF6\",\"radialaxis\":{\"gridcolor\":\"white\",\"linecolor\":\"white\",\"ticks\":\"\"}},\"scene\":{\"xaxis\":{\"backgroundcolor\":\"#E5ECF6\",\"gridcolor\":\"white\",\"gridwidth\":2,\"linecolor\":\"white\",\"showbackground\":true,\"ticks\":\"\",\"zerolinecolor\":\"white\"},\"yaxis\":{\"backgroundcolor\":\"#E5ECF6\",\"gridcolor\":\"white\",\"gridwidth\":2,\"linecolor\":\"white\",\"showbackground\":true,\"ticks\":\"\",\"zerolinecolor\":\"white\"},\"zaxis\":{\"backgroundcolor\":\"#E5ECF6\",\"gridcolor\":\"white\",\"gridwidth\":2,\"linecolor\":\"white\",\"showbackground\":true,\"ticks\":\"\",\"zerolinecolor\":\"white\"}},\"shapedefaults\":{\"line\":{\"color\":\"#2a3f5f\"}},\"ternary\":{\"aaxis\":{\"gridcolor\":\"white\",\"linecolor\":\"white\",\"ticks\":\"\"},\"baxis\":{\"gridcolor\":\"white\",\"linecolor\":\"white\",\"ticks\":\"\"},\"bgcolor\":\"#E5ECF6\",\"caxis\":{\"gridcolor\":\"white\",\"linecolor\":\"white\",\"ticks\":\"\"}},\"title\":{\"x\":0.05},\"xaxis\":{\"automargin\":true,\"gridcolor\":\"white\",\"linecolor\":\"white\",\"ticks\":\"\",\"title\":{\"standoff\":15},\"zerolinecolor\":\"white\",\"zerolinewidth\":2},\"yaxis\":{\"automargin\":true,\"gridcolor\":\"white\",\"linecolor\":\"white\",\"ticks\":\"\",\"title\":{\"standoff\":15},\"zerolinecolor\":\"white\",\"zerolinewidth\":2}}},\"polar\":{\"domain\":{\"x\":[0.0,1.0],\"y\":[0.0,1.0]},\"angularaxis\":{\"direction\":\"clockwise\",\"rotation\":90}},\"legend\":{\"tracegroupgap\":0},\"margin\":{\"t\":60}},                        {\"responsive\": true}                    ).then(function(){\n",
       "                            \n",
       "var gd = document.getElementById('7f41e7f8-082d-42b9-b7a6-deeb958a1bfd');\n",
       "var x = new MutationObserver(function (mutations, observer) {{\n",
       "        var display = window.getComputedStyle(gd).display;\n",
       "        if (!display || display === 'none') {{\n",
       "            console.log([gd, 'removed!']);\n",
       "            Plotly.purge(gd);\n",
       "            observer.disconnect();\n",
       "        }}\n",
       "}});\n",
       "\n",
       "// Listen for the removal of the full notebook cells\n",
       "var notebookContainer = gd.closest('#notebook-container');\n",
       "if (notebookContainer) {{\n",
       "    x.observe(notebookContainer, {childList: true});\n",
       "}}\n",
       "\n",
       "// Listen for the clearing of the current output cell\n",
       "var outputEl = gd.closest('.output');\n",
       "if (outputEl) {{\n",
       "    x.observe(outputEl, {childList: true});\n",
       "}}\n",
       "\n",
       "                        })                };                });            </script>        </div>"
      ]
     },
     "metadata": {},
     "output_type": "display_data"
    }
   ],
   "source": [
    "fig = px.line_polar(demo_kmean, r='income', theta='age', line_close=True)\n",
    "fig.show()"
   ]
  }
 ],
 "metadata": {
  "kernelspec": {
   "display_name": "Python 3 (ipykernel)",
   "language": "python",
   "name": "python3"
  },
  "language_info": {
   "codemirror_mode": {
    "name": "ipython",
    "version": 3
   },
   "file_extension": ".py",
   "mimetype": "text/x-python",
   "name": "python",
   "nbconvert_exporter": "python",
   "pygments_lexer": "ipython3",
   "version": "3.8.12"
  }
 },
 "nbformat": 4,
 "nbformat_minor": 4
}
